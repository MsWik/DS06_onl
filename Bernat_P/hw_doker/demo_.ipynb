{
 "cells": [
  {
   "cell_type": "code",
   "execution_count": 69,
   "metadata": {},
   "outputs": [
    {
     "name": "stdout",
     "output_type": "stream",
     "text": [
      "{\n",
      "  \"prediction\": 501706.407824793\n",
      "}\n",
      "\n"
     ]
    }
   ],
   "source": [
    "import requests\n",
    "import time\n",
    "\n",
    "def test_server(input_data):\n",
    "    # URL сервера, на который мы отправляем POST запрос\n",
    "    url = 'http://localhost:5000/predict'\n",
    "    \n",
    "    # Отправка POST запроса с JSON данными\n",
    "    response = requests.post(url, json=input_data)\n",
    "    \n",
    "    \n",
    "    # Возвращаем текстовый ответ от сервера\n",
    "    return response.text\n",
    "\n",
    "# Пример использования функции\n",
    "input_data = {\n",
    "  'Store' : df['Store'].tolist()[1],\n",
    "  'Holiday_Flag' : df['Holiday_Flag'].tolist()[1],\n",
    "  'Temperature' : df['Temperature'].tolist()[1],\n",
    "  'Fuel_Price' : df['Fuel_Price'].tolist()[1],\n",
    "  'CPI' : df['CPI'].tolist()[1],\n",
    "  'Unemployment' : df['Unemployment'].tolist()[1],\n",
    "  'day_of_week' : df['day_of_week'].tolist()[1],\n",
    "  'month' : df['month'].tolist()[1]\n",
    "} # данные, которые мы хотим отправить на сервер\n",
    "\n",
    "response_text = test_server(input_data)\n",
    "print(response_text)"
   ]
  }
 ],
 "metadata": {
  "kernelspec": {
   "display_name": "base",
   "language": "python",
   "name": "python3"
  },
  "language_info": {
   "codemirror_mode": {
    "name": "ipython",
    "version": 3
   },
   "file_extension": ".py",
   "mimetype": "text/x-python",
   "name": "python",
   "nbconvert_exporter": "python",
   "pygments_lexer": "ipython3",
   "version": "3.11.5"
  }
 },
 "nbformat": 4,
 "nbformat_minor": 2
}
