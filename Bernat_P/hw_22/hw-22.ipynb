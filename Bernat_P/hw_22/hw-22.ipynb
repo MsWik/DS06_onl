{
 "cells": [
  {
   "cell_type": "code",
   "execution_count": 85,
   "metadata": {},
   "outputs": [],
   "source": [
    "import pyspark"
   ]
  },
  {
   "cell_type": "code",
   "execution_count": 86,
   "metadata": {},
   "outputs": [],
   "source": [
    "from pyspark.ml.feature import  StringIndexer"
   ]
  },
  {
   "cell_type": "code",
   "execution_count": 87,
   "metadata": {},
   "outputs": [],
   "source": [
    "from pyspark import SparkContext\n",
    "from pyspark.sql import SparkSession\n",
    "from pyspark import SparkConf\n",
    "from pyspark.sql.functions import desc\n",
    "from pyspark.sql.functions import *\n",
    "from pyspark.sql.functions import max as sparkMax\n",
    "from pyspark.sql.functions import col, lit\n",
    "from pyspark.sql.types import StringType\n",
    "import pyspark.sql.functions as F"
   ]
  },
  {
   "cell_type": "code",
   "execution_count": 88,
   "metadata": {},
   "outputs": [],
   "source": [
    "mySpark = SparkSession.builder.getOrCreate()\n",
    "spark = SparkSession(mySpark)"
   ]
  },
  {
   "cell_type": "code",
   "execution_count": 89,
   "metadata": {},
   "outputs": [
    {
     "data": {
      "text/html": [
       "\n",
       "            <div>\n",
       "                <p><b>SparkSession - in-memory</b></p>\n",
       "                \n",
       "        <div>\n",
       "            <p><b>SparkContext</b></p>\n",
       "\n",
       "            <p><a href=\"http://host.docker.internal:4040\">Spark UI</a></p>\n",
       "\n",
       "            <dl>\n",
       "              <dt>Version</dt>\n",
       "                <dd><code>v3.5.0</code></dd>\n",
       "              <dt>Master</dt>\n",
       "                <dd><code>local[*]</code></dd>\n",
       "              <dt>AppName</dt>\n",
       "                <dd><code>pyspark-shell</code></dd>\n",
       "            </dl>\n",
       "        </div>\n",
       "        \n",
       "            </div>\n",
       "        "
      ],
      "text/plain": [
       "<pyspark.sql.session.SparkSession at 0x22748f23790>"
      ]
     },
     "execution_count": 89,
     "metadata": {},
     "output_type": "execute_result"
    }
   ],
   "source": [
    "SparkSession \\\n",
    "  .builder \\\n",
    "  .master(\"local[*]\")\\\n",
    "  .appName(\"Pyspark\") \\\n",
    "  .config(\"spark.memory.fraction\", 0.8) \\\n",
    "  .config(\"spark.executor.memory\", \"8g\") \\\n",
    "  .config(\"spark.driver.memory\", \"8g\")\\\n",
    "  .config(\"spark.sql.shuffle.partitions\" , \"800\") \\\n",
    "  .config(\"spark.memory.offHeap.enabled\",'true')\\\n",
    "  .config(\"spark.memory.offHeap.size\",\"8g\")\\\n",
    "  .getOrCreate()"
   ]
  },
  {
   "cell_type": "code",
   "execution_count": 90,
   "metadata": {},
   "outputs": [],
   "source": [
    "file = \"C:/Users/pavel/data/hw_22/titanic_train.csv\""
   ]
  },
  {
   "cell_type": "code",
   "execution_count": 91,
   "metadata": {},
   "outputs": [],
   "source": [
    "data = spark.read.csv(file,header=True,inferSchema=True)"
   ]
  },
  {
   "cell_type": "code",
   "execution_count": 92,
   "metadata": {},
   "outputs": [
    {
     "name": "stdout",
     "output_type": "stream",
     "text": [
      "root\n",
      " |-- PassengerId: integer (nullable = true)\n",
      " |-- Survived: integer (nullable = true)\n",
      " |-- Pclass: integer (nullable = true)\n",
      " |-- Name: string (nullable = true)\n",
      " |-- Sex: string (nullable = true)\n",
      " |-- Age: double (nullable = true)\n",
      " |-- SibSp: integer (nullable = true)\n",
      " |-- Parch: integer (nullable = true)\n",
      " |-- Ticket: string (nullable = true)\n",
      " |-- Fare: double (nullable = true)\n",
      " |-- Cabin: string (nullable = true)\n",
      " |-- Embarked: string (nullable = true)\n",
      "\n"
     ]
    }
   ],
   "source": [
    "data.printSchema()"
   ]
  },
  {
   "cell_type": "code",
   "execution_count": 93,
   "metadata": {},
   "outputs": [
    {
     "name": "stdout",
     "output_type": "stream",
     "text": [
      "+-----------+--------+------+--------------------+------+----+-----+-----+----------------+-------+-----+--------+\n",
      "|PassengerId|Survived|Pclass|                Name|   Sex| Age|SibSp|Parch|          Ticket|   Fare|Cabin|Embarked|\n",
      "+-----------+--------+------+--------------------+------+----+-----+-----+----------------+-------+-----+--------+\n",
      "|          1|       0|     3|Braund, Mr. Owen ...|  male|22.0|    1|    0|       A/5 21171|   7.25| NULL|       S|\n",
      "|          2|       1|     1|Cumings, Mrs. Joh...|female|38.0|    1|    0|        PC 17599|71.2833|  C85|       C|\n",
      "|          3|       1|     3|Heikkinen, Miss. ...|female|26.0|    0|    0|STON/O2. 3101282|  7.925| NULL|       S|\n",
      "|          4|       1|     1|Futrelle, Mrs. Ja...|female|35.0|    1|    0|          113803|   53.1| C123|       S|\n",
      "|          5|       0|     3|Allen, Mr. Willia...|  male|35.0|    0|    0|          373450|   8.05| NULL|       S|\n",
      "|          6|       0|     3|    Moran, Mr. James|  male|NULL|    0|    0|          330877| 8.4583| NULL|       Q|\n",
      "|          7|       0|     1|McCarthy, Mr. Tim...|  male|54.0|    0|    0|           17463|51.8625|  E46|       S|\n",
      "|          8|       0|     3|Palsson, Master. ...|  male| 2.0|    3|    1|          349909| 21.075| NULL|       S|\n",
      "|          9|       1|     3|Johnson, Mrs. Osc...|female|27.0|    0|    2|          347742|11.1333| NULL|       S|\n",
      "|         10|       1|     2|Nasser, Mrs. Nich...|female|14.0|    1|    0|          237736|30.0708| NULL|       C|\n",
      "|         11|       1|     3|Sandstrom, Miss. ...|female| 4.0|    1|    1|         PP 9549|   16.7|   G6|       S|\n",
      "|         12|       1|     1|Bonnell, Miss. El...|female|58.0|    0|    0|          113783|  26.55| C103|       S|\n",
      "|         13|       0|     3|Saundercock, Mr. ...|  male|20.0|    0|    0|       A/5. 2151|   8.05| NULL|       S|\n",
      "|         14|       0|     3|Andersson, Mr. An...|  male|39.0|    1|    5|          347082| 31.275| NULL|       S|\n",
      "|         15|       0|     3|Vestrom, Miss. Hu...|female|14.0|    0|    0|          350406| 7.8542| NULL|       S|\n",
      "|         16|       1|     2|Hewlett, Mrs. (Ma...|female|55.0|    0|    0|          248706|   16.0| NULL|       S|\n",
      "|         17|       0|     3|Rice, Master. Eugene|  male| 2.0|    4|    1|          382652| 29.125| NULL|       Q|\n",
      "|         18|       1|     2|Williams, Mr. Cha...|  male|NULL|    0|    0|          244373|   13.0| NULL|       S|\n",
      "|         19|       0|     3|Vander Planke, Mr...|female|31.0|    1|    0|          345763|   18.0| NULL|       S|\n",
      "|         20|       1|     3|Masselmani, Mrs. ...|female|NULL|    0|    0|            2649|  7.225| NULL|       C|\n",
      "+-----------+--------+------+--------------------+------+----+-----+-----+----------------+-------+-----+--------+\n",
      "only showing top 20 rows\n",
      "\n"
     ]
    }
   ],
   "source": [
    "data.show()"
   ]
  },
  {
   "cell_type": "code",
   "execution_count": 94,
   "metadata": {},
   "outputs": [],
   "source": [
    "data = data.drop('Name','Ticket')"
   ]
  },
  {
   "cell_type": "code",
   "execution_count": 95,
   "metadata": {},
   "outputs": [],
   "source": [
    "data = data.withColumn('Fare',round('Fare'))"
   ]
  },
  {
   "cell_type": "code",
   "execution_count": 96,
   "metadata": {},
   "outputs": [
    {
     "name": "stdout",
     "output_type": "stream",
     "text": [
      "+-----------+--------+------+------+----+-----+-----+----+-----+--------+\n",
      "|PassengerId|Survived|Pclass|   Sex| Age|SibSp|Parch|Fare|Cabin|Embarked|\n",
      "+-----------+--------+------+------+----+-----+-----+----+-----+--------+\n",
      "|          1|       0|     3|  male|22.0|    1|    0| 7.0| NULL|       S|\n",
      "|          2|       1|     1|female|38.0|    1|    0|71.0|  C85|       C|\n",
      "|          3|       1|     3|female|26.0|    0|    0| 8.0| NULL|       S|\n",
      "|          4|       1|     1|female|35.0|    1|    0|53.0| C123|       S|\n",
      "|          5|       0|     3|  male|35.0|    0|    0| 8.0| NULL|       S|\n",
      "+-----------+--------+------+------+----+-----+-----+----+-----+--------+\n",
      "only showing top 5 rows\n",
      "\n"
     ]
    }
   ],
   "source": [
    "data.show(5)"
   ]
  },
  {
   "cell_type": "code",
   "execution_count": 97,
   "metadata": {},
   "outputs": [
    {
     "name": "stdout",
     "output_type": "stream",
     "text": [
      "+-----------+--------+------+---+---+-----+-----+----+-----+--------+\n",
      "|PassengerId|Survived|Pclass|Sex|Age|SibSp|Parch|Fare|Cabin|Embarked|\n",
      "+-----------+--------+------+---+---+-----+-----+----+-----+--------+\n",
      "|          0|       0|     0|  0|177|    0|    0|   0|  687|       2|\n",
      "+-----------+--------+------+---+---+-----+-----+----+-----+--------+\n",
      "\n"
     ]
    }
   ],
   "source": [
    "null_counts = data.agg(*[sum(col(c).isNull().cast(\"int\")).alias(c) for c in data.columns])\n",
    "\n",
    "null_counts.show()"
   ]
  },
  {
   "cell_type": "code",
   "execution_count": 98,
   "metadata": {},
   "outputs": [
    {
     "name": "stdout",
     "output_type": "stream",
     "text": [
      "+----+\n",
      "| Age|\n",
      "+----+\n",
      "|22.0|\n",
      "|38.0|\n",
      "|26.0|\n",
      "|35.0|\n",
      "|35.0|\n",
      "|NULL|\n",
      "|54.0|\n",
      "| 2.0|\n",
      "|27.0|\n",
      "|14.0|\n",
      "| 4.0|\n",
      "|58.0|\n",
      "|20.0|\n",
      "|39.0|\n",
      "|14.0|\n",
      "|55.0|\n",
      "| 2.0|\n",
      "|NULL|\n",
      "|31.0|\n",
      "|NULL|\n",
      "+----+\n",
      "only showing top 20 rows\n",
      "\n"
     ]
    }
   ],
   "source": [
    "data.select('Age').show()"
   ]
  },
  {
   "cell_type": "code",
   "execution_count": 99,
   "metadata": {},
   "outputs": [
    {
     "name": "stdout",
     "output_type": "stream",
     "text": [
      "+-------+------------------+\n",
      "|summary|               Age|\n",
      "+-------+------------------+\n",
      "|  count|               714|\n",
      "|   mean| 29.69911764705882|\n",
      "| stddev|14.526497332334035|\n",
      "|    min|              0.42|\n",
      "|    max|              80.0|\n",
      "+-------+------------------+\n",
      "\n"
     ]
    }
   ],
   "source": [
    "data.select('Age').describe().show()"
   ]
  },
  {
   "cell_type": "code",
   "execution_count": 100,
   "metadata": {},
   "outputs": [],
   "source": [
    "data = data.fillna(29,subset=['Age'])"
   ]
  },
  {
   "cell_type": "code",
   "execution_count": 101,
   "metadata": {},
   "outputs": [],
   "source": [
    "count_embark = data.groupby('Embarked').count()"
   ]
  },
  {
   "cell_type": "code",
   "execution_count": 102,
   "metadata": {},
   "outputs": [
    {
     "name": "stdout",
     "output_type": "stream",
     "text": [
      "+--------+-----+\n",
      "|Embarked|count|\n",
      "+--------+-----+\n",
      "|    NULL|    2|\n",
      "|       S|  644|\n",
      "|       C|  168|\n",
      "|       Q|   77|\n",
      "+--------+-----+\n",
      "\n"
     ]
    }
   ],
   "source": [
    "count_embark.show()"
   ]
  },
  {
   "cell_type": "code",
   "execution_count": 103,
   "metadata": {},
   "outputs": [],
   "source": [
    "data = data.fillna(\"S\",subset=['Embarked'])"
   ]
  },
  {
   "cell_type": "code",
   "execution_count": 104,
   "metadata": {},
   "outputs": [
    {
     "name": "stdout",
     "output_type": "stream",
     "text": [
      "+--------+-----+\n",
      "|Embarked|count|\n",
      "+--------+-----+\n",
      "|       S|  646|\n",
      "|       C|  168|\n",
      "|       Q|   77|\n",
      "+--------+-----+\n",
      "\n"
     ]
    }
   ],
   "source": [
    "count_embark = data.groupby('Embarked').count()\n",
    "count_embark.show()"
   ]
  },
  {
   "cell_type": "code",
   "execution_count": 105,
   "metadata": {},
   "outputs": [
    {
     "name": "stdout",
     "output_type": "stream",
     "text": [
      "+-----+-----+\n",
      "| Fare|count|\n",
      "+-----+-----+\n",
      "|147.0|    2|\n",
      "| 67.0|    2|\n",
      "| 69.0|    2|\n",
      "|  7.0|   65|\n",
      "| 29.0|    9|\n",
      "| 18.0|    5|\n",
      "|120.0|    4|\n",
      "| 25.0|    4|\n",
      "| 77.0|    5|\n",
      "| 50.0|    5|\n",
      "| 83.0|    5|\n",
      "| 11.0|   30|\n",
      "| 58.0|    2|\n",
      "| 21.0|   15|\n",
      "| 63.0|    1|\n",
      "|111.0|    4|\n",
      "| 22.0|    4|\n",
      "| 82.0|    3|\n",
      "| 74.0|    5|\n",
      "| 19.0|    9|\n",
      "+-----+-----+\n",
      "only showing top 20 rows\n",
      "\n"
     ]
    }
   ],
   "source": [
    "count_fare = data.groupby('Fare').count()\n",
    "count_fare.show()"
   ]
  },
  {
   "cell_type": "code",
   "execution_count": 106,
   "metadata": {},
   "outputs": [],
   "source": [
    "def age_group(age):\n",
    "    if age < 18:\n",
    "        return '<18'\n",
    "    elif 18 <= age <= 60:\n",
    "        return '18-60'\n",
    "    else:\n",
    "        return '60+'"
   ]
  },
  {
   "cell_type": "code",
   "execution_count": 107,
   "metadata": {},
   "outputs": [],
   "source": [
    "def fare_group(fare):\n",
    "    if fare < 8:\n",
    "        return '<8'\n",
    "    elif 8 <= fare <= 14:\n",
    "        return '8-14'\n",
    "    elif 14 <= fare <= 31:\n",
    "        return '14-31'\n",
    "    else:\n",
    "        return '31+'"
   ]
  },
  {
   "cell_type": "code",
   "execution_count": 108,
   "metadata": {},
   "outputs": [],
   "source": [
    "age_group_udf = udf(age_group, StringType())"
   ]
  },
  {
   "cell_type": "code",
   "execution_count": 109,
   "metadata": {},
   "outputs": [],
   "source": [
    "fare_group_udf = udf(fare_group, StringType())"
   ]
  },
  {
   "cell_type": "code",
   "execution_count": 110,
   "metadata": {},
   "outputs": [],
   "source": [
    "data = data.withColumn(\"AgeGroup\", age_group_udf(col(\"Age\")))"
   ]
  },
  {
   "cell_type": "code",
   "execution_count": 111,
   "metadata": {},
   "outputs": [],
   "source": [
    "data = data.withColumn(\"FareGroup\", fare_group_udf(col(\"Fare\")))"
   ]
  },
  {
   "cell_type": "code",
   "execution_count": 112,
   "metadata": {},
   "outputs": [
    {
     "name": "stdout",
     "output_type": "stream",
     "text": [
      "+-----------+--------+------+------+----+-----+-----+----+-----+--------+--------+---------+\n",
      "|PassengerId|Survived|Pclass|   Sex| Age|SibSp|Parch|Fare|Cabin|Embarked|AgeGroup|FareGroup|\n",
      "+-----------+--------+------+------+----+-----+-----+----+-----+--------+--------+---------+\n",
      "|          1|       0|     3|  male|22.0|    1|    0| 7.0| NULL|       S|   18-60|       <8|\n",
      "|          2|       1|     1|female|38.0|    1|    0|71.0|  C85|       C|   18-60|      31+|\n",
      "|          3|       1|     3|female|26.0|    0|    0| 8.0| NULL|       S|   18-60|     8-14|\n",
      "|          4|       1|     1|female|35.0|    1|    0|53.0| C123|       S|   18-60|      31+|\n",
      "|          5|       0|     3|  male|35.0|    0|    0| 8.0| NULL|       S|   18-60|     8-14|\n",
      "|          6|       0|     3|  male|29.0|    0|    0| 8.0| NULL|       Q|   18-60|     8-14|\n",
      "|          7|       0|     1|  male|54.0|    0|    0|52.0|  E46|       S|   18-60|      31+|\n",
      "|          8|       0|     3|  male| 2.0|    3|    1|21.0| NULL|       S|     <18|    14-31|\n",
      "|          9|       1|     3|female|27.0|    0|    2|11.0| NULL|       S|   18-60|     8-14|\n",
      "|         10|       1|     2|female|14.0|    1|    0|30.0| NULL|       C|     <18|    14-31|\n",
      "|         11|       1|     3|female| 4.0|    1|    1|17.0|   G6|       S|     <18|    14-31|\n",
      "|         12|       1|     1|female|58.0|    0|    0|27.0| C103|       S|   18-60|    14-31|\n",
      "|         13|       0|     3|  male|20.0|    0|    0| 8.0| NULL|       S|   18-60|     8-14|\n",
      "|         14|       0|     3|  male|39.0|    1|    5|31.0| NULL|       S|   18-60|    14-31|\n",
      "|         15|       0|     3|female|14.0|    0|    0| 8.0| NULL|       S|     <18|     8-14|\n",
      "|         16|       1|     2|female|55.0|    0|    0|16.0| NULL|       S|   18-60|    14-31|\n",
      "|         17|       0|     3|  male| 2.0|    4|    1|29.0| NULL|       Q|     <18|    14-31|\n",
      "|         18|       1|     2|  male|29.0|    0|    0|13.0| NULL|       S|   18-60|     8-14|\n",
      "|         19|       0|     3|female|31.0|    1|    0|18.0| NULL|       S|   18-60|    14-31|\n",
      "|         20|       1|     3|female|29.0|    0|    0| 7.0| NULL|       C|   18-60|       <8|\n",
      "+-----------+--------+------+------+----+-----+-----+----+-----+--------+--------+---------+\n",
      "only showing top 20 rows\n",
      "\n"
     ]
    }
   ],
   "source": [
    "data.show(20)"
   ]
  },
  {
   "cell_type": "code",
   "execution_count": 113,
   "metadata": {},
   "outputs": [],
   "source": [
    "data = data.withColumn(\"Cabin\", split(col(\"Cabin\"), \"\").getItem(0))"
   ]
  },
  {
   "cell_type": "code",
   "execution_count": 114,
   "metadata": {},
   "outputs": [
    {
     "name": "stdout",
     "output_type": "stream",
     "text": [
      "+-----+-----+\n",
      "|Cabin|count|\n",
      "+-----+-----+\n",
      "|    F|   13|\n",
      "| NULL|  687|\n",
      "|    T|    1|\n",
      "|    A|   15|\n",
      "|    B|   47|\n",
      "|    C|   59|\n",
      "|    E|   32|\n",
      "|    D|   33|\n",
      "|    G|    4|\n",
      "+-----+-----+\n",
      "\n"
     ]
    }
   ],
   "source": [
    "count_Cabin = data.groupby('Cabin').count()\n",
    "count_Cabin.show()"
   ]
  },
  {
   "cell_type": "code",
   "execution_count": 115,
   "metadata": {},
   "outputs": [],
   "source": [
    "cabin_mot_null = data.dropna()"
   ]
  },
  {
   "cell_type": "code",
   "execution_count": 116,
   "metadata": {},
   "outputs": [
    {
     "name": "stdout",
     "output_type": "stream",
     "text": [
      "+-----------+--------+------+------+----+-----+-----+-----+-----+--------+--------+---------+\n",
      "|PassengerId|Survived|Pclass|   Sex| Age|SibSp|Parch| Fare|Cabin|Embarked|AgeGroup|FareGroup|\n",
      "+-----------+--------+------+------+----+-----+-----+-----+-----+--------+--------+---------+\n",
      "|          2|       1|     1|female|38.0|    1|    0| 71.0|    C|       C|   18-60|      31+|\n",
      "|          4|       1|     1|female|35.0|    1|    0| 53.0|    C|       S|   18-60|      31+|\n",
      "|          7|       0|     1|  male|54.0|    0|    0| 52.0|    E|       S|   18-60|      31+|\n",
      "|         11|       1|     3|female| 4.0|    1|    1| 17.0|    G|       S|     <18|    14-31|\n",
      "|         12|       1|     1|female|58.0|    0|    0| 27.0|    C|       S|   18-60|    14-31|\n",
      "|         22|       1|     2|  male|34.0|    0|    0| 13.0|    D|       S|   18-60|     8-14|\n",
      "|         24|       1|     1|  male|28.0|    0|    0| 36.0|    A|       S|   18-60|      31+|\n",
      "|         28|       0|     1|  male|19.0|    3|    2|263.0|    C|       S|   18-60|      31+|\n",
      "|         32|       1|     1|female|29.0|    1|    0|147.0|    B|       C|   18-60|      31+|\n",
      "|         53|       1|     1|female|49.0|    1|    0| 77.0|    D|       C|   18-60|      31+|\n",
      "|         55|       0|     1|  male|65.0|    0|    1| 62.0|    B|       C|     60+|      31+|\n",
      "|         56|       1|     1|  male|29.0|    0|    0| 36.0|    C|       S|   18-60|      31+|\n",
      "|         62|       1|     1|female|38.0|    0|    0| 80.0|    B|       S|   18-60|      31+|\n",
      "|         63|       0|     1|  male|45.0|    1|    0| 83.0|    C|       S|   18-60|      31+|\n",
      "|         67|       1|     2|female|29.0|    0|    0| 11.0|    F|       S|   18-60|     8-14|\n",
      "|         76|       0|     3|  male|25.0|    0|    0|  8.0|    F|       S|   18-60|     8-14|\n",
      "|         89|       1|     1|female|23.0|    3|    2|263.0|    C|       S|   18-60|      31+|\n",
      "|         93|       0|     1|  male|46.0|    1|    0| 61.0|    E|       S|   18-60|      31+|\n",
      "|         97|       0|     1|  male|71.0|    0|    0| 35.0|    A|       C|     60+|      31+|\n",
      "|         98|       1|     1|  male|23.0|    0|    1| 63.0|    D|       C|   18-60|      31+|\n",
      "+-----------+--------+------+------+----+-----+-----+-----+-----+--------+--------+---------+\n",
      "only showing top 20 rows\n",
      "\n"
     ]
    }
   ],
   "source": [
    "cabin_mot_null.show()"
   ]
  },
  {
   "cell_type": "code",
   "execution_count": 117,
   "metadata": {},
   "outputs": [
    {
     "name": "stdout",
     "output_type": "stream",
     "text": [
      "+-----+-----+\n",
      "|Cabin|count|\n",
      "+-----+-----+\n",
      "|    F|   13|\n",
      "|    T|    1|\n",
      "|    A|   15|\n",
      "|    B|   47|\n",
      "|    C|   59|\n",
      "|    E|   32|\n",
      "|    D|   33|\n",
      "|    G|    4|\n",
      "+-----+-----+\n",
      "\n"
     ]
    }
   ],
   "source": [
    "count_Cabin_ = cabin_mot_null.groupby('Cabin').count()\n",
    "count_Cabin_.show()"
   ]
  },
  {
   "cell_type": "code",
   "execution_count": 118,
   "metadata": {},
   "outputs": [
    {
     "name": "stdout",
     "output_type": "stream",
     "text": [
      "+---------+-----+\n",
      "|FareGroup|count|\n",
      "+---------+-----+\n",
      "|       <8|    4|\n",
      "|      31+|  139|\n",
      "|     8-14|   20|\n",
      "|    14-31|   41|\n",
      "+---------+-----+\n",
      "\n"
     ]
    }
   ],
   "source": [
    "count_Cabin_ = cabin_mot_null.groupby('FareGroup').count()\n",
    "count_Cabin_.show()"
   ]
  },
  {
   "cell_type": "code",
   "execution_count": 119,
   "metadata": {},
   "outputs": [
    {
     "name": "stdout",
     "output_type": "stream",
     "text": [
      "+-----+------------------+\n",
      "|Cabin|         avg(Fare)|\n",
      "+-----+------------------+\n",
      "|    F|18.846153846153847|\n",
      "|    T|              36.0|\n",
      "|    A|39.733333333333334|\n",
      "|    B|113.57446808510639|\n",
      "|    C|100.27118644067797|\n",
      "|    E|          46.09375|\n",
      "|    D| 57.21212121212121|\n",
      "|    G|              13.5|\n",
      "+-----+------------------+\n",
      "\n"
     ]
    }
   ],
   "source": [
    "cabin_mot_null.groupby('Cabin').mean('Fare').show()"
   ]
  },
  {
   "cell_type": "code",
   "execution_count": 120,
   "metadata": {},
   "outputs": [],
   "source": [
    "grouped_df = cabin_mot_null.groupBy('Cabin', 'FareGroup').count()"
   ]
  },
  {
   "cell_type": "code",
   "execution_count": 121,
   "metadata": {},
   "outputs": [
    {
     "name": "stdout",
     "output_type": "stream",
     "text": [
      "+-----+---------+-----+\n",
      "|Cabin|FareGroup|count|\n",
      "+-----+---------+-----+\n",
      "|    A|    14-31|    4|\n",
      "|    B|    14-31|    5|\n",
      "|    C|    14-31|   13|\n",
      "|    D|    14-31|    5|\n",
      "|    E|    14-31|    8|\n",
      "|    F|    14-31|    4|\n",
      "|    G|    14-31|    2|\n",
      "|    A|      31+|   10|\n",
      "|    B|      31+|   39|\n",
      "|    C|      31+|   46|\n",
      "|    D|      31+|   24|\n",
      "|    E|      31+|   17|\n",
      "|    F|      31+|    2|\n",
      "|    T|      31+|    1|\n",
      "|    D|     8-14|    4|\n",
      "|    E|     8-14|    7|\n",
      "|    F|     8-14|    7|\n",
      "|    G|     8-14|    2|\n",
      "|    A|       <8|    1|\n",
      "|    B|       <8|    3|\n",
      "+-----+---------+-----+\n",
      "\n"
     ]
    }
   ],
   "source": [
    "grouped_df.orderBy(['FareGroup','Cabin']).show()"
   ]
  },
  {
   "cell_type": "code",
   "execution_count": 122,
   "metadata": {},
   "outputs": [],
   "source": [
    "data = data.fillna(value='C', subset=['Cabin']).\\\n",
    "    withColumn('Cabin', when(col('FareGroup') == '<8', 'D')\n",
    "    .when(col('FareGroup') == '8-14', 'F')\n",
    "    .when(col('FareGroup') == '14-31', 'E')\n",
    "    .otherwise(col('Cabin')))"
   ]
  },
  {
   "cell_type": "code",
   "execution_count": 123,
   "metadata": {},
   "outputs": [
    {
     "name": "stdout",
     "output_type": "stream",
     "text": [
      "+-----+---------+-----+\n",
      "|Cabin|FareGroup|count|\n",
      "+-----+---------+-----+\n",
      "|    A|      31+|   10|\n",
      "|    E|      31+|   17|\n",
      "|    F|      31+|    2|\n",
      "|    D|      31+|   24|\n",
      "|    B|      31+|   39|\n",
      "|    F|     8-14|  363|\n",
      "|    T|      31+|    1|\n",
      "|    E|    14-31|  230|\n",
      "|    D|       <8|   87|\n",
      "|    C|      31+|  118|\n",
      "+-----+---------+-----+\n",
      "\n"
     ]
    }
   ],
   "source": [
    "data.groupBy('Cabin','FareGroup').count().show()"
   ]
  },
  {
   "cell_type": "code",
   "execution_count": 128,
   "metadata": {},
   "outputs": [
    {
     "name": "stdout",
     "output_type": "stream",
     "text": [
      "+-----------+--------+------+------+----+-----+-----+----+-----+--------+--------+---------+\n",
      "|PassengerId|Survived|Pclass|   Sex| Age|SibSp|Parch|Fare|Cabin|Embarked|AgeGroup|FareGroup|\n",
      "+-----------+--------+------+------+----+-----+-----+----+-----+--------+--------+---------+\n",
      "|          1|       0|     3|  male|22.0|    1|    0| 7.0|    D|       S|   18-60|       <8|\n",
      "|          2|       1|     1|female|38.0|    1|    0|71.0|    C|       C|   18-60|      31+|\n",
      "|          3|       1|     3|female|26.0|    0|    0| 8.0|    F|       S|   18-60|     8-14|\n",
      "|          4|       1|     1|female|35.0|    1|    0|53.0|    C|       S|   18-60|      31+|\n",
      "|          5|       0|     3|  male|35.0|    0|    0| 8.0|    F|       S|   18-60|     8-14|\n",
      "+-----------+--------+------+------+----+-----+-----+----+-----+--------+--------+---------+\n",
      "only showing top 5 rows\n",
      "\n"
     ]
    }
   ],
   "source": [
    "data.show(5)"
   ]
  },
  {
   "cell_type": "code",
   "execution_count": 131,
   "metadata": {},
   "outputs": [],
   "source": [
    "categorical_cols = ['Sex', 'Cabin', 'Embarked', 'AgeGroup', 'FareGroup']"
   ]
  },
  {
   "cell_type": "code",
   "execution_count": 133,
   "metadata": {},
   "outputs": [
    {
     "name": "stdout",
     "output_type": "stream",
     "text": [
      "+-----------+--------+------+------+----+-----+-----+----+-----+--------+--------+---------+------+--------+-----------+-----------+------------+--------------------+\n",
      "|PassengerId|Survived|Pclass|   Sex| Age|SibSp|Parch|Fare|Cabin|Embarked|AgeGroup|FareGroup|Sex_in|Cabin_in|Embarked_in|AgeGroup_in|FareGroup_in|            features|\n",
      "+-----------+--------+------+------+----+-----+-----+----+-----+--------+--------+---------+------+--------+-----------+-----------+------------+--------------------+\n",
      "|          1|       0|     3|  male|22.0|    1|    0| 7.0|    D|       S|   18-60|       <8|   0.0|     3.0|        0.0|        0.0|         3.0| (5,[1,4],[3.0,3.0])|\n",
      "|          2|       1|     1|female|38.0|    1|    0|71.0|    C|       C|   18-60|      31+|   1.0|     2.0|        1.0|        0.0|         2.0|[1.0,2.0,1.0,0.0,...|\n",
      "|          3|       1|     3|female|26.0|    0|    0| 8.0|    F|       S|   18-60|     8-14|   1.0|     0.0|        0.0|        0.0|         0.0|       (5,[0],[1.0])|\n",
      "|          4|       1|     1|female|35.0|    1|    0|53.0|    C|       S|   18-60|      31+|   1.0|     2.0|        0.0|        0.0|         2.0|[1.0,2.0,0.0,0.0,...|\n",
      "|          5|       0|     3|  male|35.0|    0|    0| 8.0|    F|       S|   18-60|     8-14|   0.0|     0.0|        0.0|        0.0|         0.0|           (5,[],[])|\n",
      "|          6|       0|     3|  male|29.0|    0|    0| 8.0|    F|       Q|   18-60|     8-14|   0.0|     0.0|        2.0|        0.0|         0.0|       (5,[2],[2.0])|\n",
      "|          7|       0|     1|  male|54.0|    0|    0|52.0|    E|       S|   18-60|      31+|   0.0|     1.0|        0.0|        0.0|         2.0| (5,[1,4],[1.0,2.0])|\n",
      "|          8|       0|     3|  male| 2.0|    3|    1|21.0|    E|       S|     <18|    14-31|   0.0|     1.0|        0.0|        1.0|         1.0|[0.0,1.0,0.0,1.0,...|\n",
      "|          9|       1|     3|female|27.0|    0|    2|11.0|    F|       S|   18-60|     8-14|   1.0|     0.0|        0.0|        0.0|         0.0|       (5,[0],[1.0])|\n",
      "|         10|       1|     2|female|14.0|    1|    0|30.0|    E|       C|     <18|    14-31|   1.0|     1.0|        1.0|        1.0|         1.0|[1.0,1.0,1.0,1.0,...|\n",
      "|         11|       1|     3|female| 4.0|    1|    1|17.0|    E|       S|     <18|    14-31|   1.0|     1.0|        0.0|        1.0|         1.0|[1.0,1.0,0.0,1.0,...|\n",
      "|         12|       1|     1|female|58.0|    0|    0|27.0|    E|       S|   18-60|    14-31|   1.0|     1.0|        0.0|        0.0|         1.0|[1.0,1.0,0.0,0.0,...|\n",
      "|         13|       0|     3|  male|20.0|    0|    0| 8.0|    F|       S|   18-60|     8-14|   0.0|     0.0|        0.0|        0.0|         0.0|           (5,[],[])|\n",
      "|         14|       0|     3|  male|39.0|    1|    5|31.0|    E|       S|   18-60|    14-31|   0.0|     1.0|        0.0|        0.0|         1.0| (5,[1,4],[1.0,1.0])|\n",
      "|         15|       0|     3|female|14.0|    0|    0| 8.0|    F|       S|     <18|     8-14|   1.0|     0.0|        0.0|        1.0|         0.0| (5,[0,3],[1.0,1.0])|\n",
      "|         16|       1|     2|female|55.0|    0|    0|16.0|    E|       S|   18-60|    14-31|   1.0|     1.0|        0.0|        0.0|         1.0|[1.0,1.0,0.0,0.0,...|\n",
      "|         17|       0|     3|  male| 2.0|    4|    1|29.0|    E|       Q|     <18|    14-31|   0.0|     1.0|        2.0|        1.0|         1.0|[0.0,1.0,2.0,1.0,...|\n",
      "|         18|       1|     2|  male|29.0|    0|    0|13.0|    F|       S|   18-60|     8-14|   0.0|     0.0|        0.0|        0.0|         0.0|           (5,[],[])|\n",
      "|         19|       0|     3|female|31.0|    1|    0|18.0|    E|       S|   18-60|    14-31|   1.0|     1.0|        0.0|        0.0|         1.0|[1.0,1.0,0.0,0.0,...|\n",
      "|         20|       1|     3|female|29.0|    0|    0| 7.0|    D|       C|   18-60|       <8|   1.0|     3.0|        1.0|        0.0|         3.0|[1.0,3.0,1.0,0.0,...|\n",
      "+-----------+--------+------+------+----+-----+-----+----+-----+--------+--------+---------+------+--------+-----------+-----------+------------+--------------------+\n",
      "only showing top 20 rows\n",
      "\n"
     ]
    }
   ],
   "source": [
    "from pyspark.ml.feature import StringIndexer, VectorAssembler\n",
    "from pyspark.ml import Pipeline\n",
    "string_indexers = [StringIndexer(inputCol=col, outputCol=f\"{col}_in\") for col in categorical_cols]\n",
    "\n",
    "# Создаем объект StringIndexer для каждой категориальной колонки\n",
    "string_indexers = [StringIndexer(inputCol=col, outputCol=f\"{col}_in\") for col in categorical_cols]\n",
    "\n",
    "# Создаем объект VectorAssembler для объединения всех категориальных колонок в один вектор\n",
    "assembler = VectorAssembler(inputCols=[f\"{col}_in\" for col in categorical_cols], outputCol=\"features\")\n",
    "\n",
    "# Объединяем StringIndexers и VectorAssembler в одну последовательность\n",
    "indexer_and_assembler = string_indexers + [assembler]\n",
    "\n",
    "# Обучаем последовательность на данных\n",
    "model = Pipeline(stages=indexer_and_assembler).fit(data)\n",
    "\n",
    "# Применяем последовательность преобразований для преобразования категориальных столбцов в числовые\n",
    "indexed_data = model.transform(data)\n",
    "\n",
    "# Выводим результат\n",
    "indexed_data.show()"
   ]
  },
  {
   "cell_type": "code",
   "execution_count": 134,
   "metadata": {},
   "outputs": [],
   "source": [
    "from pyspark.ml.classification import RandomForestClassifier"
   ]
  },
  {
   "cell_type": "code",
   "execution_count": 137,
   "metadata": {},
   "outputs": [],
   "source": [
    "(trainingData, testData) = indexed_data.randomSplit([0.7, 0.3])"
   ]
  },
  {
   "cell_type": "code",
   "execution_count": 139,
   "metadata": {},
   "outputs": [
    {
     "name": "stdout",
     "output_type": "stream",
     "text": [
      "+-----------+--------+------+------+----+-----+-----+----+-----+--------+--------+---------+------+--------+-----------+-----------+------------+--------------------+\n",
      "|PassengerId|Survived|Pclass|   Sex| Age|SibSp|Parch|Fare|Cabin|Embarked|AgeGroup|FareGroup|Sex_in|Cabin_in|Embarked_in|AgeGroup_in|FareGroup_in|            features|\n",
      "+-----------+--------+------+------+----+-----+-----+----+-----+--------+--------+---------+------+--------+-----------+-----------+------------+--------------------+\n",
      "|          3|       1|     3|female|26.0|    0|    0| 8.0|    F|       S|   18-60|     8-14|   1.0|     0.0|        0.0|        0.0|         0.0|       (5,[0],[1.0])|\n",
      "|          5|       0|     3|  male|35.0|    0|    0| 8.0|    F|       S|   18-60|     8-14|   0.0|     0.0|        0.0|        0.0|         0.0|           (5,[],[])|\n",
      "|          7|       0|     1|  male|54.0|    0|    0|52.0|    E|       S|   18-60|      31+|   0.0|     1.0|        0.0|        0.0|         2.0| (5,[1,4],[1.0,2.0])|\n",
      "|          8|       0|     3|  male| 2.0|    3|    1|21.0|    E|       S|     <18|    14-31|   0.0|     1.0|        0.0|        1.0|         1.0|[0.0,1.0,0.0,1.0,...|\n",
      "|         12|       1|     1|female|58.0|    0|    0|27.0|    E|       S|   18-60|    14-31|   1.0|     1.0|        0.0|        0.0|         1.0|[1.0,1.0,0.0,0.0,...|\n",
      "+-----------+--------+------+------+----+-----+-----+----+-----+--------+--------+---------+------+--------+-----------+-----------+------------+--------------------+\n",
      "only showing top 5 rows\n",
      "\n"
     ]
    }
   ],
   "source": [
    "trainingData.show(5)"
   ]
  },
  {
   "cell_type": "code",
   "execution_count": 140,
   "metadata": {},
   "outputs": [],
   "source": [
    "rf = RandomForestClassifier(labelCol=\"Survived\", featuresCol=\"features\", numTrees=10)"
   ]
  },
  {
   "cell_type": "code",
   "execution_count": 141,
   "metadata": {},
   "outputs": [],
   "source": [
    "rfModel = rf.fit(trainingData)\n"
   ]
  },
  {
   "cell_type": "code",
   "execution_count": 142,
   "metadata": {},
   "outputs": [],
   "source": [
    "predictions = rfModel.transform(testData)\n"
   ]
  },
  {
   "cell_type": "code",
   "execution_count": 146,
   "metadata": {},
   "outputs": [
    {
     "name": "stdout",
     "output_type": "stream",
     "text": [
      "+-----------+--------+------+------+----+-----+-----+----+-----+--------+--------+---------+------+--------+-----------+-----------+------------+--------------------+--------------------+--------------------+----------+\n",
      "|PassengerId|Survived|Pclass|   Sex| Age|SibSp|Parch|Fare|Cabin|Embarked|AgeGroup|FareGroup|Sex_in|Cabin_in|Embarked_in|AgeGroup_in|FareGroup_in|            features|       rawPrediction|         probability|prediction|\n",
      "+-----------+--------+------+------+----+-----+-----+----+-----+--------+--------+---------+------+--------+-----------+-----------+------------+--------------------+--------------------+--------------------+----------+\n",
      "|          1|       0|     3|  male|22.0|    1|    0| 7.0|    D|       S|   18-60|       <8|   0.0|     3.0|        0.0|        0.0|         3.0| (5,[1,4],[3.0,3.0])|[8.90466001958896...|[0.89046600195889...|       0.0|\n",
      "|          2|       1|     1|female|38.0|    1|    0|71.0|    C|       C|   18-60|      31+|   1.0|     2.0|        1.0|        0.0|         2.0|[1.0,2.0,1.0,0.0,...|[0.87511224630045...|[0.08751122463004...|       1.0|\n",
      "|          4|       1|     1|female|35.0|    1|    0|53.0|    C|       S|   18-60|      31+|   1.0|     2.0|        0.0|        0.0|         2.0|[1.0,2.0,0.0,0.0,...|[1.78777647769062...|[0.17877764776906...|       1.0|\n",
      "|          6|       0|     3|  male|29.0|    0|    0| 8.0|    F|       Q|   18-60|     8-14|   0.0|     0.0|        2.0|        0.0|         0.0|       (5,[2],[2.0])|[8.52320676551244...|[0.85232067655124...|       0.0|\n",
      "|          9|       1|     3|female|27.0|    0|    2|11.0|    F|       S|   18-60|     8-14|   1.0|     0.0|        0.0|        0.0|         0.0|       (5,[0],[1.0])|[3.40330949736645...|[0.34033094973664...|       1.0|\n",
      "+-----------+--------+------+------+----+-----+-----+----+-----+--------+--------+---------+------+--------+-----------+-----------+------------+--------------------+--------------------+--------------------+----------+\n",
      "only showing top 5 rows\n",
      "\n"
     ]
    }
   ],
   "source": [
    "predictions.show(5)"
   ]
  },
  {
   "cell_type": "code",
   "execution_count": 149,
   "metadata": {},
   "outputs": [
    {
     "name": "stdout",
     "output_type": "stream",
     "text": [
      "0.8363221016561964\n"
     ]
    }
   ],
   "source": [
    "from pyspark.ml.evaluation import BinaryClassificationEvaluator\n",
    "\n",
    "evaluator = BinaryClassificationEvaluator(labelCol=\"Survived\", rawPredictionCol=\"rawPrediction\", metricName=\"areaUnderROC\")\n",
    "\n",
    "areaUnderROC = evaluator.evaluate(predictions)\n",
    "print(areaUnderROC)\n"
   ]
  }
 ],
 "metadata": {
  "kernelspec": {
   "display_name": "pyspark",
   "language": "python",
   "name": "python3"
  },
  "language_info": {
   "codemirror_mode": {
    "name": "ipython",
    "version": 3
   },
   "file_extension": ".py",
   "mimetype": "text/x-python",
   "name": "python",
   "nbconvert_exporter": "python",
   "pygments_lexer": "ipython3",
   "version": "3.11.7"
  }
 },
 "nbformat": 4,
 "nbformat_minor": 2
}
