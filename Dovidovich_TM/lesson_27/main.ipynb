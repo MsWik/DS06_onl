{
 "cells": [
  {
   "cell_type": "code",
   "execution_count": 9,
   "metadata": {},
   "outputs": [],
   "source": [
    "import matplotlib.pyplot as plt\n",
    "import numpy as np\n",
    "from PIL import Image\n",
    "import os\n",
    "from tqdm import tqdm\n",
    "from sklearn.model_selection import train_test_split"
   ]
  },
  {
   "cell_type": "code",
   "execution_count": 10,
   "metadata": {},
   "outputs": [],
   "source": [
    "categories = {\n",
    "    \"buildings\": 0,\n",
    "    \"forest\": 1,\n",
    "    \"glacier\": 2,\n",
    "    \"mountain\": 3,\n",
    "    \"sea\": 4,\n",
    "    \"street\": 5,\n",
    "}"
   ]
  },
  {
   "cell_type": "code",
   "execution_count": 11,
   "metadata": {},
   "outputs": [
    {
     "name": "stderr",
     "output_type": "stream",
     "text": [
      "Чтение buildings:   0%|          | 0/2191 [00:00<?, ?it/s]"
     ]
    },
    {
     "name": "stderr",
     "output_type": "stream",
     "text": [
      "Чтение buildings: 100%|██████████| 2191/2191 [00:01<00:00, 1774.29it/s]\n",
      "Чтение forest: 100%|██████████| 2271/2271 [00:01<00:00, 1730.33it/s]\n",
      "Чтение glacier: 100%|██████████| 2404/2404 [00:01<00:00, 2024.98it/s]\n",
      "Чтение mountain: 100%|██████████| 2512/2512 [00:01<00:00, 2088.50it/s]\n",
      "Чтение sea: 100%|██████████| 2274/2274 [00:01<00:00, 2002.27it/s]\n",
      "Чтение street: 100%|██████████| 2382/2382 [00:01<00:00, 1732.11it/s]\n"
     ]
    }
   ],
   "source": [
    "x_train = []\n",
    "y_train = []\n",
    "for key, index in zip(categories.keys(),categories.values()):\n",
    "    for filename in tqdm(os.listdir(f\"seg_train/{key}\"), desc=f'Чтение {key}'):\n",
    "        image = Image.open(f\"seg_train/{key}/{filename}\")\n",
    "        x_train.append(np.array(image.resize((150,150))))\n",
    "        y_train.append(index)"
   ]
  },
  {
   "cell_type": "code",
   "execution_count": 12,
   "metadata": {},
   "outputs": [
    {
     "name": "stderr",
     "output_type": "stream",
     "text": [
      "Чтение buildings: 100%|██████████| 437/437 [00:00<00:00, 1686.66it/s]\n",
      "Чтение forest: 100%|██████████| 474/474 [00:00<00:00, 1695.57it/s]\n",
      "Чтение glacier: 100%|██████████| 553/553 [00:00<00:00, 1563.12it/s]\n",
      "Чтение mountain: 100%|██████████| 525/525 [00:00<00:00, 1748.18it/s]\n",
      "Чтение sea: 100%|██████████| 510/510 [00:00<00:00, 1772.96it/s]\n",
      "Чтение street: 100%|██████████| 501/501 [00:00<00:00, 1796.02it/s]\n"
     ]
    }
   ],
   "source": [
    "x_test = []\n",
    "y_test = []\n",
    "for key, index in zip(categories.keys(),categories.values()):\n",
    "    for filename in tqdm(os.listdir(f\"seg_test/{key}\"), desc=f'Чтение {key}'):\n",
    "        image = Image.open(f\"seg_test/{key}/{filename}\")\n",
    "        x_test.append(np.array(image.resize((150,150))))\n",
    "        y_test.append(index)"
   ]
  },
  {
   "cell_type": "code",
   "execution_count": 13,
   "metadata": {},
   "outputs": [],
   "source": [
    "x_train, x_val, y_train, y_val = train_test_split(x_train, y_train, test_size=0.2)"
   ]
  },
  {
   "cell_type": "code",
   "execution_count": 14,
   "metadata": {},
   "outputs": [],
   "source": [
    "x_train = np.array(x_train)\n",
    "y_train = np.array(y_train)\n",
    "x_test = np.array(x_test)\n",
    "y_test = np.array(y_test)\n",
    "x_val = np.array(x_val)\n",
    "y_val = np.array(y_val)"
   ]
  },
  {
   "cell_type": "code",
   "execution_count": 19,
   "metadata": {},
   "outputs": [],
   "source": [
    "np.save(\"x_train\", x_train)\n",
    "np.save(\"y_train\", y_train)\n",
    "np.save(\"x_test\", x_test)\n",
    "np.save(\"y_test\", y_test)\n",
    "np.save(\"x_val\", x_val)\n",
    "np.save(\"y_val\", y_val)"
   ]
  },
  {
   "cell_type": "code",
   "execution_count": 18,
   "metadata": {},
   "outputs": [
    {
     "data": {
      "text/plain": [
       "<BarContainer object of 6 artists>"
      ]
     },
     "execution_count": 18,
     "metadata": {},
     "output_type": "execute_result"
    },
    {
     "data": {
      "image/png": "[encoded data removed]",
      "text/plain": [
       "<Figure size 640x480 with 1 Axes>"
      ]
     },
     "metadata": {},
     "output_type": "display_data"
    }
   ],
   "source": [
    "plt.bar(categories.values(), np.unique(y_train, return_counts=True)[1])"
   ]
  },
  {
   "cell_type": "code",
   "execution_count": 8,
   "metadata": {},
   "outputs": [
    {
     "data": {
      "text/plain": [
       "<BarContainer object of 6 artists>"
      ]
     },
     "execution_count": 8,
     "metadata": {},
     "output_type": "execute_result"
    },
    {
     "data": {
      "image/png": "[encoded data removed]",
      "text/plain": [
       "<Figure size 640x480 with 1 Axes>"
      ]
     },
     "metadata": {},
     "output_type": "display_data"
    }
   ],
   "source": [
    "plt.bar(categories.values(), np.unique(y_test, return_counts=True)[1])"
   ]
  },
  {
   "cell_type": "code",
   "execution_count": 20,
   "metadata": {},
   "outputs": [],
   "source": [
    "import tensorflow as tf"
   ]
  },
  {
   "cell_type": "code",
   "execution_count": 21,
   "metadata": {},
   "outputs": [],
   "source": [
    "model: tf.keras.models.Model = tf.keras.models.load_model('model_without_f1')"
   ]
  },
  {
   "cell_type": "code",
   "execution_count": 22,
   "metadata": {},
   "outputs": [
    {
     "name": "stdout",
     "output_type": "stream",
     "text": [
      "94/94 [==============================] - 23s 238ms/step - loss: 0.9125 - categorical_accuracy: 0.7903\n"
     ]
    },
    {
     "data": {
      "text/plain": [
       "[0.9125416874885559, 0.7903333306312561]"
      ]
     },
     "execution_count": 22,
     "metadata": {},
     "output_type": "execute_result"
    }
   ],
   "source": [
    "model.evaluate(x_test, tf.one_hot(y_test, depth=6))"
   ]
  },
  {
   "cell_type": "code",
   "execution_count": 23,
   "metadata": {},
   "outputs": [
    {
     "name": "stdout",
     "output_type": "stream",
     "text": [
      "94/94 [==============================] - 23s 237ms/step\n"
     ]
    }
   ],
   "source": [
    "y_pred = model.predict(x_test)"
   ]
  },
  {
   "cell_type": "code",
   "execution_count": 24,
   "metadata": {},
   "outputs": [],
   "source": [
    "from sklearn.metrics import f1_score"
   ]
  },
  {
   "cell_type": "code",
   "execution_count": 31,
   "metadata": {},
   "outputs": [
    {
     "data": {
      "text/plain": [
       "0.7827079838002063"
      ]
     },
     "execution_count": 31,
     "metadata": {},
     "output_type": "execute_result"
    }
   ],
   "source": [
    "f1_score(y_test, np.argmax(y_pred, axis=1), average='macro')"
   ]
  },
  {
   "cell_type": "code",
   "execution_count": 36,
   "metadata": {},
   "outputs": [
    {
     "name": "stdout",
     "output_type": "stream",
     "text": [
      "94/94 [==============================] - 40s 413ms/step - loss: 0.9590 - categorical_accuracy: 0.7833 - f1_score: 0.7862\n"
     ]
    },
    {
     "data": {
      "text/plain": [
       "[0.9590420722961426, 0.7833333611488342, 0.7861979007720947]"
      ]
     },
     "execution_count": 36,
     "metadata": {},
     "output_type": "execute_result"
    }
   ],
   "source": [
    "model: tf.keras.models.Model = tf.keras.models.load_model('model')\n",
    "model.evaluate(x_test, tf.one_hot(y_test, depth=6))"
   ]
  },
  {
   "cell_type": "markdown",
   "metadata": {},
   "source": [
    "Датасет: https://www.kaggle.com/datasets/puneet6060/intel-image-classification/discussion\n",
    "\n",
    "Картинки имели различный размер, поэтому делал resize(150,150). Надо ли делать еще какую-то предобработку - не знаю. По сути проблема заключалась лишь в различном размере картинок.\n",
    "\n",
    "Архитектуру нейронки я спер с resnet34(попытался точнее - 'model', есть еще 'model_without_f1' - это модель с архитектурой половины resnet34 т.к. из-за обьема нейронки мне не хватало памяти на большой батч, поэтому я обучил их две). Из колбеков чекпоинты и ранняя остановка. Инициализация весов(без смещения) he_normal, т.к. использую LeakyReLU. Из механик для борьбы с переобучением использую L2 регуляризацию. Так же, всвязи с дисбалансом классов, был создан словарь с весами для меток. Я пробовал использовать LayerNormalization вместо BatchNormalization, но модель обучалась в раза 4-5 дольше, поэтому все же оставил батч нормализацию(как я правильно понял, LayerNormalization используется при небольших размерах батчей, т.к. при попытке обучения с размером батча даже 32 я получал ошибку CUDA error: out of memory. Tensorflow не мог найти память у меня на видяхе. Оказалось, что это уже тензорфлоу чет отваливался). Открыл для себя, что в F1Score, чтобы он правильно работал для многоклассовой классификации, надо ставить аргумент `average = macro`, т.к. он считался, но когда срабатывал колбек на чекпоинт я получал ошибку.\n",
    "\n",
    "Это просто скриншонтик обучения: https://prnt.sc/AaK93Cu4fXQi"
   ]
  }
 ],
 "metadata": {
  "kernelspec": {
   "display_name": "Python 3",
   "language": "python",
   "name": "python3"
  },
  "language_info": {
   "codemirror_mode": {
    "name": "ipython",
    "version": 3
   },
   "file_extension": ".py",
   "mimetype": "text/x-python",
   "name": "python",
   "nbconvert_exporter": "python",
   "pygments_lexer": "ipython3",
   "version": "3.11.5"
  }
 },
 "nbformat": 4,
 "nbformat_minor": 2
}
