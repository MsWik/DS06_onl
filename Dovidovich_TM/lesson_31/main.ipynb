{
 "cells": [
  {
   "cell_type": "code",
   "execution_count": 30,
   "metadata": {},
   "outputs": [],
   "source": [
    "from langchain.document_loaders import HuggingFaceDatasetLoader\n",
    "from langchain.text_splitter import RecursiveCharacterTextSplitter\n",
    "from langchain.vectorstores import FAISS\n",
    "from langchain.embeddings import HuggingFaceEmbeddings\n",
    "from langchain.prompts import PromptTemplate\n",
    "from langchain.chains import LLMChain\n",
    "from transformers import AutoTokenizer\n",
    "from langchain import HuggingFacePipeline\n",
    "from langchain.chains import RetrievalQA\n",
    "from huggingface_hub import notebook_login"
   ]
  },
  {
   "cell_type": "code",
   "execution_count": 2,
   "metadata": {},
   "outputs": [
    {
     "data": {
      "application/vnd.jupyter.widget-view+json": {
       "model_id": "18a25386ab374f24ab43784c373e5e0c",
       "version_major": 2,
       "version_minor": 0
      },
      "text/plain": [
       "VBox(children=(HTML(value='<center> <img\\nsrc=https://huggingface.co/front/assets/huggingface_logo-noborder.sv…"
      ]
     },
     "metadata": {},
     "output_type": "display_data"
    }
   ],
   "source": [
    "notebook_login()"
   ]
  },
  {
   "cell_type": "code",
   "execution_count": 4,
   "metadata": {},
   "outputs": [],
   "source": [
    "qa_datase_name = \"databricks/databricks-dolly-15k\"\n",
    "loader = HuggingFaceDatasetLoader(qa_datase_name, \"context\")\n",
    "data = loader.load()"
   ]
  },
  {
   "cell_type": "code",
   "execution_count": 5,
   "metadata": {},
   "outputs": [
    {
     "data": {
      "text/plain": [
       "Document(page_content='\"Virgin Australia, the trading name of Virgin Australia Airlines Pty Ltd, is an Australian-based airline. It is the largest airline by fleet size to use the Virgin brand. It commenced services on 31 August 2000 as Virgin Blue, with two aircraft on a single route. It suddenly found itself as a major airline in Australia\\'s domestic market after the collapse of Ansett Australia in September 2001. The airline has since grown to directly serve 32 cities in Australia, from hubs in Brisbane, Melbourne and Sydney.\"', metadata={'instruction': 'When did Virgin Australia start operating?', 'response': 'Virgin Australia commenced services on 31 August 2000 as Virgin Blue, with two aircraft on a single route.', 'category': 'closed_qa'})"
      ]
     },
     "execution_count": 5,
     "metadata": {},
     "output_type": "execute_result"
    }
   ],
   "source": [
    "data[0]"
   ]
  },
  {
   "cell_type": "code",
   "execution_count": 6,
   "metadata": {},
   "outputs": [],
   "source": [
    "text_splitter = RecursiveCharacterTextSplitter(chunk_size = 1000, chunk_overlap = 150)"
   ]
  },
  {
   "cell_type": "code",
   "execution_count": 7,
   "metadata": {},
   "outputs": [],
   "source": [
    "docs = text_splitter.split_documents(data)"
   ]
  },
  {
   "cell_type": "code",
   "execution_count": 8,
   "metadata": {},
   "outputs": [
    {
     "data": {
      "text/plain": [
       "Document(page_content='\"Virgin Australia, the trading name of Virgin Australia Airlines Pty Ltd, is an Australian-based airline. It is the largest airline by fleet size to use the Virgin brand. It commenced services on 31 August 2000 as Virgin Blue, with two aircraft on a single route. It suddenly found itself as a major airline in Australia\\'s domestic market after the collapse of Ansett Australia in September 2001. The airline has since grown to directly serve 32 cities in Australia, from hubs in Brisbane, Melbourne and Sydney.\"', metadata={'instruction': 'When did Virgin Australia start operating?', 'response': 'Virgin Australia commenced services on 31 August 2000 as Virgin Blue, with two aircraft on a single route.', 'category': 'closed_qa'})"
      ]
     },
     "execution_count": 8,
     "metadata": {},
     "output_type": "execute_result"
    }
   ],
   "source": [
    "docs[0]"
   ]
  },
  {
   "cell_type": "code",
   "execution_count": 9,
   "metadata": {},
   "outputs": [],
   "source": [
    "model_path = \"sentence-transformers/all-MiniLM-l6-v2\""
   ]
  },
  {
   "cell_type": "code",
   "execution_count": 10,
   "metadata": {},
   "outputs": [],
   "source": [
    "embeddings = HuggingFaceEmbeddings(\n",
    "    model_name = model_path,\n",
    "    model_kwargs = {'device': 'cpu'},\n",
    "    encode_kwargs = {'normalize_embeddings': False}\n",
    ")"
   ]
  },
  {
   "cell_type": "code",
   "execution_count": 11,
   "metadata": {},
   "outputs": [
    {
     "data": {
      "text/plain": [
       "[0.07155241072177887, 0.0684802308678627, 0.006603313609957695]"
      ]
     },
     "execution_count": 11,
     "metadata": {},
     "output_type": "execute_result"
    }
   ],
   "source": [
    "text = \"This is a test sentence\"\n",
    "query_result = embeddings.embed_query(text)\n",
    "query_result[:3]"
   ]
  },
  {
   "cell_type": "code",
   "execution_count": 17,
   "metadata": {},
   "outputs": [],
   "source": [
    "db = FAISS.from_documents(docs, embeddings)"
   ]
  },
  {
   "cell_type": "code",
   "execution_count": 20,
   "metadata": {},
   "outputs": [],
   "source": [
    "db.save_local(\"faiss_index\")"
   ]
  },
  {
   "cell_type": "code",
   "execution_count": 12,
   "metadata": {},
   "outputs": [],
   "source": [
    "db = FAISS.load_local(\"faiss_index\", embeddings, allow_dangerous_deserialization=True)"
   ]
  },
  {
   "cell_type": "code",
   "execution_count": 13,
   "metadata": {},
   "outputs": [
    {
     "name": "stdout",
     "output_type": "stream",
     "text": [
      "\"Thomas Jefferson (April 13, 1743 \\u2013 July 4, 1826) was an American statesman, diplomat, lawyer, architect, philosopher, and Founding Father who served as the third president of the United States from 1801 to 1809. Among the Committee of Five charged by the Second Continental Congress with authoring the Declaration of Independence, Jefferson was the Declaration's primary author. Following the American Revolutionary War and prior to becoming the nation's third president in 1801, Jefferson was the first United States secretary of state under George Washington and then the nation's second vice president under John Adams.\"\n"
     ]
    }
   ],
   "source": [
    "question = \"Who is Thomas Jefferson?\"\n",
    "searchDocs = db.similarity_search(question)\n",
    "print(searchDocs[0].page_content)"
   ]
  },
  {
   "cell_type": "code",
   "execution_count": 14,
   "metadata": {},
   "outputs": [],
   "source": [
    "model_name = \"TinyLlama/TinyLlama-1.1B-Chat-v1.0\""
   ]
  },
  {
   "cell_type": "code",
   "execution_count": 15,
   "metadata": {},
   "outputs": [
    {
     "data": {
      "application/vnd.jupyter.widget-view+json": {
       "model_id": "cce6ef078fff4a47a9f19f84fcd63ed3",
       "version_major": 2,
       "version_minor": 0
      },
      "text/plain": [
       "tokenizer_config.json:   0%|          | 0.00/1.29k [00:00<?, ?B/s]"
      ]
     },
     "metadata": {},
     "output_type": "display_data"
    },
    {
     "data": {
      "application/vnd.jupyter.widget-view+json": {
       "model_id": "fd30dd67e3c14b47a0c9d1738122d78f",
       "version_major": 2,
       "version_minor": 0
      },
      "text/plain": [
       "tokenizer.model:   0%|          | 0.00/500k [00:00<?, ?B/s]"
      ]
     },
     "metadata": {},
     "output_type": "display_data"
    },
    {
     "data": {
      "application/vnd.jupyter.widget-view+json": {
       "model_id": "f58c9e5c1ccf4af99de79d91715ceeb5",
       "version_major": 2,
       "version_minor": 0
      },
      "text/plain": [
       "tokenizer.json:   0%|          | 0.00/1.84M [00:00<?, ?B/s]"
      ]
     },
     "metadata": {},
     "output_type": "display_data"
    },
    {
     "data": {
      "application/vnd.jupyter.widget-view+json": {
       "model_id": "a0894b3fd2444d22b6bddc53ac5a093e",
       "version_major": 2,
       "version_minor": 0
      },
      "text/plain": [
       "special_tokens_map.json:   0%|          | 0.00/551 [00:00<?, ?B/s]"
      ]
     },
     "metadata": {},
     "output_type": "display_data"
    }
   ],
   "source": [
    "tokenizer = AutoTokenizer.from_pretrained(model_name, padding=True, truncation=True, max_length=512)"
   ]
  },
  {
   "cell_type": "code",
   "execution_count": 16,
   "metadata": {},
   "outputs": [
    {
     "data": {
      "application/vnd.jupyter.widget-view+json": {
       "model_id": "4a0d913599eb4f7fa2e5485a27bccf7b",
       "version_major": 2,
       "version_minor": 0
      },
      "text/plain": [
       "config.json:   0%|          | 0.00/608 [00:00<?, ?B/s]"
      ]
     },
     "metadata": {},
     "output_type": "display_data"
    },
    {
     "data": {
      "application/vnd.jupyter.widget-view+json": {
       "model_id": "a918669a0ee34cbc9f461f7102219faf",
       "version_major": 2,
       "version_minor": 0
      },
      "text/plain": [
       "model.safetensors:   0%|          | 0.00/2.20G [00:00<?, ?B/s]"
      ]
     },
     "metadata": {},
     "output_type": "display_data"
    },
    {
     "data": {
      "application/vnd.jupyter.widget-view+json": {
       "model_id": "6935d2af0111439395465e04433c5556",
       "version_major": 2,
       "version_minor": 0
      },
      "text/plain": [
       "generation_config.json:   0%|          | 0.00/124 [00:00<?, ?B/s]"
      ]
     },
     "metadata": {},
     "output_type": "display_data"
    }
   ],
   "source": [
    "llm = HuggingFacePipeline.from_model_id(\n",
    "    model_id=model_name,\n",
    "    task=\"text-generation\",\n",
    "    pipeline_kwargs={\"temperature\": 0.7, \"max_new_tokens\": 512},\n",
    "    device=0\n",
    ")"
   ]
  },
  {
   "cell_type": "code",
   "execution_count": 17,
   "metadata": {},
   "outputs": [
    {
     "name": "stderr",
     "output_type": "stream",
     "text": [
      "c:\\Users\\HAWK\\AppData\\Local\\Programs\\Python\\Python311\\Lib\\site-packages\\transformers\\generation\\configuration_utils.py:492: UserWarning: `do_sample` is set to `False`. However, `temperature` is set to `0.7` -- this flag is only used in sample-based generation modes. You should set `do_sample=True` or unset `temperature`.\n",
      "  warnings.warn(\n",
      "c:\\Users\\HAWK\\AppData\\Local\\Programs\\Python\\Python311\\Lib\\site-packages\\transformers\\models\\llama\\modeling_llama.py:671: UserWarning: 1Torch was not compiled with flash attention. (Triggered internally at ..\\aten\\src\\ATen\\native\\transformers\\cuda\\sdp_utils.cpp:263.)\n",
      "  attn_output = torch.nn.functional.scaled_dot_product_attention(\n"
     ]
    },
    {
     "data": {
      "text/plain": [
       "\"Chinese energy sector.\\n\\n2. China's Belt and Road Initiative (BRI): China's BRI is a massive infrastructure development project that aims to connect Asia, Europe, and Africa through a network of roads, railways, ports, and other infrastructure projects. The BRI has been criticized for its lack of transparency and its potential to exacerbate debt traps for developing countries.\\n\\n3. China's trade policies: China's trade policies have been criticized for their protectionist nature and their potential to harm global trade and economic growth. Some argue that China's trade policies have led to a trade imbalance and have contributed to global economic imbalances.\\n\\n4. China's environmental policies: China's environmental policies have been criticized for their lack of transparency and their potential to harm the environment. Some argue that China's environmental policies have led to pollution and have contributed to global environmental challenges.\\n\\n5. China's human rights record: China's human rights record has been criticized for its lack of freedom of expression, its treatment of minority groups, and its treatment of political dissidents. Some argue that China's human rights record has contributed to global human rights challenges.\\n\\nThese criticisms have led to a growing sense of skepticism and mistrust towards China's economic and political influence in the world. Some countries have taken steps to distance themselves from China's economic and political influence, while others have continued to engage with China on a variety of issues.\""
      ]
     },
     "execution_count": 17,
     "metadata": {},
     "output_type": "execute_result"
    }
   ],
   "source": [
    "llm.invoke(\"Chinese energy\")"
   ]
  },
  {
   "cell_type": "code",
   "execution_count": 18,
   "metadata": {},
   "outputs": [],
   "source": [
    "retriever = db.as_retriever()"
   ]
  },
  {
   "cell_type": "code",
   "execution_count": 67,
   "metadata": {},
   "outputs": [],
   "source": [
    "prompt_template = \"\"\"\n",
    "Use the following pieces of context to answer the question at the end.\n",
    "If you don't know the answer, just say that you don't know, don't try to make up an answer. \n",
    "Keep the answer as concise as possible. \n",
    "{context}\n",
    "Question: {question}\n",
    "Helpful Answer:\"\"\"\n",
    "\n",
    "prompt = PromptTemplate(template=prompt_template, input_variables=['context', 'question'])"
   ]
  },
  {
   "cell_type": "code",
   "execution_count": 68,
   "metadata": {},
   "outputs": [],
   "source": [
    "qa_llm = RetrievalQA.from_chain_type(\n",
    "    llm=llm,\n",
    "    chain_type='stuff',\n",
    "    retriever=retriever,\n",
    "    chain_type_kwargs={'prompt':prompt}\n",
    ")"
   ]
  },
  {
   "cell_type": "code",
   "execution_count": 76,
   "metadata": {},
   "outputs": [
    {
     "name": "stderr",
     "output_type": "stream",
     "text": [
      "c:\\Users\\HAWK\\AppData\\Local\\Programs\\Python\\Python311\\Lib\\site-packages\\transformers\\generation\\configuration_utils.py:492: UserWarning: `do_sample` is set to `False`. However, `temperature` is set to `0.7` -- this flag is only used in sample-based generation modes. You should set `do_sample=True` or unset `temperature`.\n",
      "  warnings.warn(\n"
     ]
    },
    {
     "name": "stdout",
     "output_type": "stream",
     "text": [
      "\n",
      "Use the following pieces of context to answer the question at the end.\n",
      "If you don't know the answer, just say that you don't know, don't try to make up an answer. \n",
      "Keep the answer as concise as possible. \n",
      "\"The Sun Belt has seen substantial population growth since post-World War II from an influx of people seeking a warm and sunny climate, a surge in retiring baby boomers, and growing economic opportunities. The advent of air conditioning created more comfortable summer conditions and allowed more manufacturing and industry to locate in the Sun Belt. Since much of the construction in the Sun Belt is new or recent, housing styles and design are often modern and open. Recreational opportunities in the Sun Belt are often not tied strictly to one season, and many tourist and resort cities, such as Fort Lauderdale, Gulf Shores, Houston, Las Vegas, Los Angeles, Miami, Myrtle Beach, New Orleans, Orlando, Palm Springs, Phoenix, San Antonio, San Diego, Tampa, and Tucson support a tourist industry all year.\\nThe traditional explanations for the growth are increasing productivity in the South and West and increasing demand for Sunbelt amenities, especially its pleasant weather. Job decline in the\n",
      "\n",
      "high from 2007.\\n\\nOn August 26, 2014, the index closed above 2,000 for the first time.\\n\\nOn March 2, 2015, the index reached an all-time closing high, while the Nasdaq Composite closed above 5,000 for the first time since 2000.\\n\\nAfter the 2015\\u20132016 Chinese stock market turbulence, a period of over a year with no new record highs ended on July 11, 2016, with the index closing at 2,137.16.\\n\\nIn June 2017, the index posted the largest weekly rise since the 2016 United States presidential election.\\n\\nFor the full year 2017, the index was up 19.4%, its best year since 2013. On September 25, 2017, the index closed above 2,500 for the first time.\\n\\nThe index rose sharply in January 2018, extending one of its longest monthly winning streaks, only to fall 4% in February 2018 during a month of extremely high volatility, including a day in which the VIX doubled. It was the first monthly decline in 11 months. In the third quarter of 2018, the index posted its best quarter since 2013.\n",
      "\n",
      "\"Energy production is 80% fossil, half of which is produced by China, the United States and the Arab states of the Persian Gulf. The Gulf States and Russia export most of their production, largely to the European Union and China, where not enough energy is produced to satisfy demand. Energy production is increasing 1 to 2% per year, except for solar and wind energy which averaged 20% per year in the 2010s.\"\n",
      "\n",
      "power to become the \\\"paramount leader\\\" in the country during the 1990s. Urged by Deng Xiaoping's southern tour in 1992, Jiang officially introduced the term \\\"socialist market economy\\\" in his speech during the 14th CCP National Congress held later that year, which accelerated \\\"opening up and reform\\\".\\n\\nUnder Jiang's leadership, China experienced substantial economic growth with the continuation of market reforms. The returning of Hong Kong from the United Kingdom in 1997 and of Macau from Portugal in 1999, and entry into the World Trade Organisation in 2001, were landmark moments of his era. China also witnessed improved relations with the outside world, while the Communist Party maintained its tight control over the state. Jiang faced criticism over human rights abuses, including the crackdown on the Falun Gong movement. His contributions to party doctrine, known as the \\\"Three Represents\\\", were written into the CCP constitution in 2002. Jiang gradually vacated his official\n",
      "Question: What is the latest trend for solar investments in China?\n",
      "Helpful Answer: The latest trend for solar investments in China is the government's push for renewable energy, which has led to a surge in investment in the sector. The country has set a target of generating 100 GW of solar power by 2020, and the government has provided subsidies and tax breaks to encourage investment in the sector. In 2018, China's solar capacity grew by 11.5 GW, making it the world's largest solar market. The country is also investing in wind power, with a target of generating 100 GW of wind power by 2020. The government has also introduced policies to promote the use of energy-efficient technologies and to encourage the development of smart grids.\n"
     ]
    }
   ],
   "source": [
    "question = \"What is the latest trend for solar investments in China?\"\n",
    "result = qa_llm.run({\"query\":question})\n",
    "print(result)"
   ]
  },
  {
   "cell_type": "code",
   "execution_count": 75,
   "metadata": {},
   "outputs": [
    {
     "data": {
      "text/plain": [
       "\"Helpful Answer: The latest trend for solar investments in China is the government's push for renewable energy, which has led to a surge in investment in the sector. The country has set a target of generating 100 GW of solar power by 2020, and the government has provided subsidies and tax breaks to encourage investment in the sector. In 2018, China's solar capacity grew by 11.5 GW, making it the world's largest solar market. The country is also investing in wind power, with a target of generating 100 GW of wind power by 2020. The government has also introduced policies to promote the use of energy-efficient technologies and to encourage the development of smart grids.\""
      ]
     },
     "execution_count": 75,
     "metadata": {},
     "output_type": "execute_result"
    }
   ],
   "source": [
    "# call\n",
    "result['result'][3682:]"
   ]
  },
  {
   "cell_type": "code",
   "execution_count": 78,
   "metadata": {},
   "outputs": [
    {
     "data": {
      "text/plain": [
       "\"Helpful Answer: The latest trend for solar investments in China is the government's push for renewable energy, which has led to a surge in investment in the sector. The country has set a target of generating 100 GW of solar power by 2020, and the government has provided subsidies and tax breaks to encourage investment in the sector. In 2018, China's solar capacity grew by 11.5 GW, making it the world's largest solar market. The country is also investing in wind power, with a target of generating 100 GW of wind power by 2020. The government has also introduced policies to promote the use of energy-efficient technologies and to encourage the development of smart grids.\""
      ]
     },
     "execution_count": 78,
     "metadata": {},
     "output_type": "execute_result"
    }
   ],
   "source": [
    "# run function\n",
    "result[result.index('Helpful Answer'):]"
   ]
  },
  {
   "cell_type": "code",
   "execution_count": 87,
   "metadata": {},
   "outputs": [
    {
     "name": "stderr",
     "output_type": "stream",
     "text": [
      "c:\\Users\\HAWK\\AppData\\Local\\Programs\\Python\\Python311\\Lib\\site-packages\\transformers\\generation\\configuration_utils.py:492: UserWarning: `do_sample` is set to `False`. However, `temperature` is set to `0.7` -- this flag is only used in sample-based generation modes. You should set `do_sample=True` or unset `temperature`.\n",
      "  warnings.warn(\n"
     ]
    },
    {
     "data": {
      "text/plain": [
       "\"\\nYou are a helpful specialist. Answer the question below.\\nKeep the answer as concise as possible.\\n{'question: What is the latest trend for solar investments in China?'}\\n{'answer: The latest trend for solar investments in China is the government's push for renewable energy, which has led to a surge in investment in the sector. According to a report by BloombergNEF, China's solar capacity grew by 33% in 2020, with the government's target of 100 GW of installed capacity by 2025 set to be met. The report also noted that the country's solar investment is expected to reach $100 billion by 2025.'}\""
      ]
     },
     "execution_count": 87,
     "metadata": {},
     "output_type": "execute_result"
    }
   ],
   "source": [
    "system_prompt = \"\"\"\n",
    "You are a helpful specialist. Answer the question below.\n",
    "Keep the answer as concise as possible.\n",
    "\"\"\"\n",
    "question = \"What is the latest trend for solar investments in China?\"\n",
    "\n",
    "query = f\"question: {question}\"\n",
    "prompt = PromptTemplate.from_template(system_prompt+\"{content}\")\n",
    "model_chain = LLMChain(llm=llm, prompt=prompt)\n",
    "result = model_chain.run({query})\n",
    "result"
   ]
  },
  {
   "cell_type": "code",
   "execution_count": 88,
   "metadata": {},
   "outputs": [
    {
     "name": "stdout",
     "output_type": "stream",
     "text": [
      "\n",
      "You are a helpful specialist. Answer the question below.\n",
      "Keep the answer as concise as possible.\n",
      "{'question: What is the latest trend for solar investments in China?'}\n",
      "{'answer: The latest trend for solar investments in China is the government's push for renewable energy, which has led to a surge in investment in the sector. According to a report by BloombergNEF, China's solar capacity grew by 33% in 2020, with the government's target of 100 GW of installed capacity by 2025 set to be met. The report also noted that the country's solar investment is expected to reach $100 billion by 2025.'}\n"
     ]
    }
   ],
   "source": [
    "print(result)"
   ]
  },
  {
   "cell_type": "code",
   "execution_count": 92,
   "metadata": {},
   "outputs": [
    {
     "data": {
      "text/plain": [
       "\"The latest trend for solar investments in China is the government's push for renewable energy, which has led to a surge in investment in the sector. According to a report by BloombergNEF, China's solar capacity grew by 33% in 2020, with the government's target of 100 GW of installed capacity by 2025 set to be met. The report also noted that the country's solar investment is expected to reach $100 billion by 2025.'}\""
      ]
     },
     "execution_count": 92,
     "metadata": {},
     "output_type": "execute_result"
    }
   ],
   "source": [
    "result[result.index('answer: ')+len('answer: '):]"
   ]
  },
  {
   "cell_type": "markdown",
   "metadata": {},
   "source": [
    "Ответы ллмки для сравнения:\n",
    "1. RAG\n",
    "2. No RAG"
   ]
  },
  {
   "cell_type": "markdown",
   "metadata": {},
   "source": [
    "The latest trend for solar investments in China is the government's push for renewable energy, which has led to a surge in investment in the sector. The country has set a target of generating 100 GW of solar power by 2020, and the government has provided subsidies and tax breaks to encourage investment in the sector. In 2018, China's solar capacity grew by 11.5 GW, making it the world's largest solar market. The country is also investing in wind power, with a target of generating 100 GW of wind power by 2020. The government has also introduced policies to promote the use of energy-efficient technologies and to encourage the development of smart grids."
   ]
  },
  {
   "cell_type": "markdown",
   "metadata": {},
   "source": [
    "\"The latest trend for solar investments in China is the government's push for renewable energy, which has led to a surge in investment in the sector. According to a report by BloombergNEF, China's solar capacity grew by 33% in 2020, with the government's target of 100 GW of installed capacity by 2025 set to be met. The report also noted that the country's solar investment is expected to reach $100 billion by 2025."
   ]
  },
  {
   "cell_type": "markdown",
   "metadata": {},
   "source": [
    "Можно заметить, что начало у них одинаковое, но при этом они различаются. Ответ с RAG дает больше информации на основе контекста, поданного ему в промпт. Контекст содержит лишь один документ(по-моему по дефолту retriever выбирает топ 1 документ, количество доков я не устанавливал.) Второй же ответ ссылается на источник информации: BloombergNEF. RAG штука довольно таки мощная, но с ней генерация идет дольше. Возможно из-за обработки большего количества токенов(вероятнее всего). Но ее главный плюс - fine-tuning модели, используя лишь набор документов в какой-то базе знаний значителен(я имею ввиду быстроту). Единственное есть проблема с выходом генерации, в том плане, что он выводит еще и запрос сделанный модели. Но тут уже скорее всего я накосячил, хз, т.к. если запускать модель без пайплайна(chain), то он выводит чисто ответ."
   ]
  },
  {
   "cell_type": "markdown",
   "metadata": {},
   "source": [
    "Модель: https://huggingface.co/TinyLlama/TinyLlama-1.1B-Chat-v1.0\n",
    "\n",
    "Документы для БЗ: https://huggingface.co/datasets/databricks/databricks-dolly-15k\n",
    "\n",
    "Эмбеддинги: https://huggingface.co/sentence-transformers/all-MiniLM-L6-v2"
   ]
  }
 ],
 "metadata": {
  "kernelspec": {
   "display_name": "Python 3",
   "language": "python",
   "name": "python3"
  },
  "language_info": {
   "codemirror_mode": {
    "name": "ipython",
    "version": 3
   },
   "file_extension": ".py",
   "mimetype": "text/x-python",
   "name": "python",
   "nbconvert_exporter": "python",
   "pygments_lexer": "ipython3",
   "version": "3.11.5"
  }
 },
 "nbformat": 4,
 "nbformat_minor": 2
}
