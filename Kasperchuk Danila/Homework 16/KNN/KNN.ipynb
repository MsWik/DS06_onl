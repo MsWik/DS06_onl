{
 "cells": [
  {
   "cell_type": "markdown",
   "metadata": {
    "id": "giMUSayPBOYo"
   },
   "source": [
    "# Задача 2.3. KNN\n",
    "\n",
    "В этом задании Вам предлагается написать класс `KNN_classifier`, пригодный для решения задачи классификации (многоклассовой).\n",
    "\n",
    "Мы предлагаем Вам шаблон класса. В этом шаблоне заполните тела функций `.fit` и `.predict`\n",
    "\n",
    "В качестве функции близости используйте Евклидово расстояние между объектами (подробнее https://numpy.org/doc/stable/reference/generated/numpy.linalg.norm.html).\n",
    "\n",
    "Напоминание:\n",
    "\n",
    "* Функция `.fit(x, y)` производит обучение модели. В рамках этой функции необходимо реализовать подбор оптимальных параметров модели/сконфигурировать модель для дальнейшего использования на основе данной тренировочной выборки, где x - это матрица признакового описания выборки, а y - вектор ответов.\n",
    "\n",
    "* Функция `.predict(x)` осуществляет предсказание для каждого из объектов, чьи векторные описания представлены строками матрицы x. Выполняется строго после `.fit()`. Ради безопасности можно даже реализовать механизм отказа в виде выбрасывания специальной ошибки `UnfittedError` в случае попытки вызова функции `.predict()` до вызова функции `.fit()`.\n",
    "\n",
    "\n",
    "Шаблон класса:"
   ]
  },
  {
   "cell_type": "code",
   "execution_count": 1,
   "metadata": {
    "id": "lrYLUYPGBUeI",
    "ExecuteTime": {
     "end_time": "2023-12-12T10:28:30.610117300Z",
     "start_time": "2023-12-12T10:28:29.852787200Z"
    }
   },
   "outputs": [],
   "source": [
    "import numpy as np\n",
    "\n",
    "\n",
    "class KNN_classifier:\n",
    "    def __init__(self, n_neighbors: int, **kwargs):\n",
    "        self.K = n_neighbors\n",
    "        self.x_train = None\n",
    "        self.y_train = None\n",
    "    def fit(self, x: np.array, y: np.array):\n",
    "        # TODO: напишите метод .fit() класса KNN_classifier\n",
    "        # Эта функция принимает на вход два массива:\n",
    "        # - x (набор признаков, массив размерности n x m, n - число объектов, m - размерность признакового описания)\n",
    "        # - y (метки для обучения, одномерный массив размерности n)\n",
    "        # Эта функция ничего не возвращает, она должна настроить внутренние параметры модели для дальнейшего использования\n",
    "        # Подумайте, в чем заключается процесс обучения именно этого алгоритма? \n",
    "        # Что этот алгоритм делает в тот момент, когда он получил обучающую выборку? запомнил ее\n",
    "        # Реализуйте эту логику в код\n",
    "        self.x_train = x\n",
    "        self.y_train = y\n",
    "\n",
    "    def predict(self, x: np.array):\n",
    "        predictions = []\n",
    "        for i in range(len(x)):\n",
    "            distances = np.linalg.norm(x[i] - self.x_train, axis=1)\n",
    "            nearest_indexes = np.argsort(distances)[:self.K] # функция возвразает индексы самых маленьких расстояний, первые k\n",
    "            groups = self.y_train[nearest] # получиди группы по индексам ближайших соседей\n",
    "            uniq_groups, counts = np.unique(groups, return_counts=True) # здесь получили группы и подсчитали сколько соседей с в какой группе\n",
    "            predicted_label = unique_labels[np.argmax(counts)] # выбрали те которых больше\n",
    "            predictions.append(predicted_label) # и записали в предсказание\n",
    "            \n",
    "            \n",
    "        return np.array(predictions)"
   ]
  },
  {
   "cell_type": "markdown",
   "metadata": {
    "id": "z3o6dV1XBX6d"
   },
   "source": [
    "## Примечания\n",
    "\n",
    "1. Вы можете проверить правильность выполнения задания посредством сравнения полученных результатов с функцией из соответствующего модуля `sklearn`.\n",
    "\n",
    "2. В рамках выполнения данного задания **запрещено** использовать функции из пакета `sklearn` и любого другого, кроме `numpy`. \n",
    "\n",
    "3. **Подсказка:** если Вы испытываете сложности с реализацией этого задания, начните выполнять его с написания функции `.predict`. В процессе написания этой функции Вы поймёте, что конкретно Вам требуется получить от обучающей выборки, какую информацию и в каком виде извлечь из неё. Затем реализуйте это в функции `.fit`"
   ]
  },
  {
   "cell_type": "markdown",
   "metadata": {
    "id": "0Xo10b5J-xTX"
   },
   "source": [
    "## Пример входных и выходных данных"
   ]
  },
  {
   "cell_type": "code",
   "execution_count": 2,
   "metadata": {
    "colab": {
     "base_uri": "https://localhost:8080/"
    },
    "id": "XJ2zlkPO_lKL",
    "outputId": "25aa24d1-ed1c-4c1b-bb90-6519fd425629",
    "ExecuteTime": {
     "end_time": "2023-12-12T10:28:37.202936800Z",
     "start_time": "2023-12-12T10:28:36.832826Z"
    }
   },
   "outputs": [
    {
     "ename": "NameError",
     "evalue": "name 'X' is not defined",
     "output_type": "error",
     "traceback": [
      "\u001B[1;31m---------------------------------------------------------------------------\u001B[0m",
      "\u001B[1;31mNameError\u001B[0m                                 Traceback (most recent call last)",
      "Cell \u001B[1;32mIn[2], line 1\u001B[0m\n\u001B[1;32m----> 1\u001B[0m \u001B[43mX\u001B[49m\n",
      "\u001B[1;31mNameError\u001B[0m: name 'X' is not defined"
     ]
    }
   ],
   "source": [
    "X"
   ]
  },
  {
   "cell_type": "code",
   "execution_count": 23,
   "metadata": {
    "colab": {
     "base_uri": "https://localhost:8080/"
    },
    "id": "W5Dws6L2_m8w",
    "outputId": "3cf9024f-626f-4daf-a630-2583a9cb0cb4",
    "ExecuteTime": {
     "end_time": "2023-12-12T10:28:53.542245500Z",
     "start_time": "2023-12-12T10:28:53.504484200Z"
    }
   },
   "outputs": [
    {
     "ename": "NameError",
     "evalue": "name 'y' is not defined",
     "output_type": "error",
     "traceback": [
      "\u001B[1;31m---------------------------------------------------------------------------\u001B[0m",
      "\u001B[1;31mNameError\u001B[0m                                 Traceback (most recent call last)",
      "Cell \u001B[1;32mIn[23], line 1\u001B[0m\n\u001B[1;32m----> 1\u001B[0m \u001B[43my\u001B[49m\n",
      "\u001B[1;31mNameError\u001B[0m: name 'y' is not defined"
     ]
    }
   ],
   "source": [
    "y"
   ]
  },
  {
   "cell_type": "code",
   "execution_count": 22,
   "metadata": {
    "id": "icADSPko_oEh",
    "ExecuteTime": {
     "end_time": "2023-12-12T10:28:51.209036300Z",
     "start_time": "2023-12-12T10:28:51.199322900Z"
    }
   },
   "outputs": [],
   "source": [
    "knn = KNN_classifier(n_neighbors=3)"
   ]
  },
  {
   "cell_type": "code",
   "execution_count": 24,
   "metadata": {
    "id": "XSNCFpho_tqM",
    "ExecuteTime": {
     "end_time": "2023-12-12T10:28:57.101901500Z",
     "start_time": "2023-12-12T10:28:57.066789100Z"
    }
   },
   "outputs": [
    {
     "ename": "NameError",
     "evalue": "name 'X' is not defined",
     "output_type": "error",
     "traceback": [
      "\u001B[1;31m---------------------------------------------------------------------------\u001B[0m",
      "\u001B[1;31mNameError\u001B[0m                                 Traceback (most recent call last)",
      "Cell \u001B[1;32mIn[24], line 1\u001B[0m\n\u001B[1;32m----> 1\u001B[0m knn\u001B[38;5;241m.\u001B[39mfit(\u001B[43mX\u001B[49m, y)\n",
      "\u001B[1;31mNameError\u001B[0m: name 'X' is not defined"
     ]
    }
   ],
   "source": [
    "knn.fit(X, y)"
   ]
  },
  {
   "cell_type": "code",
   "execution_count": null,
   "metadata": {
    "colab": {
     "base_uri": "https://localhost:8080/"
    },
    "id": "u8cnf2ir_4n1",
    "outputId": "a9f778da-78a5-4684-d236-ad49cb7e7acf"
   },
   "outputs": [
    {
     "data": {
      "text/plain": [
       "array([[-0.12489725,  0.65791923, -0.73112495,  1.42660225,  1.64728976],\n",
       "       [ 0.01913388, -1.11351208, -0.63244098, -0.98121107,  0.38060892],\n",
       "       [-0.92074931,  1.39812225,  0.39692147,  0.7717827 ,  0.44604002]])"
      ]
     },
     "execution_count": 10,
     "metadata": {},
     "output_type": "execute_result"
    }
   ],
   "source": [
    "x_test"
   ]
  },
  {
   "cell_type": "code",
   "execution_count": null,
   "metadata": {
    "colab": {
     "base_uri": "https://localhost:8080/"
    },
    "id": "LaSaCBs9_xYM",
    "outputId": "6aed0939-3ab3-4f2f-f254-cca23dd81ed1"
   },
   "outputs": [
    {
     "data": {
      "text/plain": [
       "array([1, 0, 0])"
      ]
     },
     "execution_count": 11,
     "metadata": {},
     "output_type": "execute_result"
    }
   ],
   "source": [
    "knn.predict(x_test)"
   ]
  },
  {
   "cell_type": "code",
   "execution_count": null,
   "metadata": {
    "id": "dXTkSHu3__rY"
   },
   "outputs": [],
   "source": []
  }
 ],
 "metadata": {
  "colab": {
   "provenance": []
  },
  "kernelspec": {
   "name": "python3",
   "language": "python",
   "display_name": "Python 3 (ipykernel)"
  },
  "language_info": {
   "name": "python"
  }
 },
 "nbformat": 4,
 "nbformat_minor": 0
}
