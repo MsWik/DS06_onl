{
 "cells": [
  {
   "cell_type": "markdown",
   "metadata": {},
   "source": [
    "Решить задачу просрочки кредита используя для прогназирования нейронные сети. Посмотреть работу с несбалансированными данными. \n",
    "\n",
    "\n",
    "Набор данных представляет собой исторические данные по 251503 заемщикам (https://www.kaggle.com/c/GiveMeSomeCredit/data ).\n",
    "Задача является бинарной классификацией. Цель - предсказать будет ли тот или иной заемщик испытывать финансовые трудности в ближайшие 2 года, т.е. будет ли просрочка по займу. \n",
    "Выборка разделена на тренировочную и тестовую ( 150000 в тренировочной части, 101503 в тестовой)."
   ]
  },
  {
   "cell_type": "code",
   "execution_count": 1,
   "metadata": {},
   "outputs": [
    {
     "name": "stdout",
     "output_type": "stream",
     "text": [
      "Requirement already satisfied: pandas in /home/kasperchuk/anaconda3/envs/tensorflow_ai/lib/python3.11/site-packages (from -r requirements.txt (line 1)) (2.2.1)\n",
      "Requirement already satisfied: tensorflow in /home/kasperchuk/anaconda3/envs/tensorflow_ai/lib/python3.11/site-packages (from -r requirements.txt (line 2)) (2.15.0.post1)\n",
      "Requirement already satisfied: numpy in /home/kasperchuk/anaconda3/envs/tensorflow_ai/lib/python3.11/site-packages (from -r requirements.txt (line 3)) (1.26.4)\n",
      "Requirement already satisfied: matplotlib in /home/kasperchuk/anaconda3/envs/tensorflow_ai/lib/python3.11/site-packages (from -r requirements.txt (line 4)) (3.8.3)\n",
      "Requirement already satisfied: scikit-learn in /home/kasperchuk/anaconda3/envs/tensorflow_ai/lib/python3.11/site-packages (from -r requirements.txt (line 5)) (1.4.1.post1)\n",
      "Requirement already satisfied: tqdm in /home/kasperchuk/anaconda3/envs/tensorflow_ai/lib/python3.11/site-packages (from -r requirements.txt (line 6)) (4.66.2)\n",
      "Requirement already satisfied: tf2onnx in /home/kasperchuk/anaconda3/envs/tensorflow_ai/lib/python3.11/site-packages (from -r requirements.txt (line 7)) (1.16.1)\n",
      "Requirement already satisfied: python-dateutil>=2.8.2 in /home/kasperchuk/anaconda3/envs/tensorflow_ai/lib/python3.11/site-packages (from pandas->-r requirements.txt (line 1)) (2.9.0)\n",
      "Requirement already satisfied: pytz>=2020.1 in /home/kasperchuk/anaconda3/envs/tensorflow_ai/lib/python3.11/site-packages (from pandas->-r requirements.txt (line 1)) (2024.1)\n",
      "Requirement already satisfied: tzdata>=2022.7 in /home/kasperchuk/anaconda3/envs/tensorflow_ai/lib/python3.11/site-packages (from pandas->-r requirements.txt (line 1)) (2024.1)\n",
      "Requirement already satisfied: absl-py>=1.0.0 in /home/kasperchuk/anaconda3/envs/tensorflow_ai/lib/python3.11/site-packages (from tensorflow->-r requirements.txt (line 2)) (2.1.0)\n",
      "Requirement already satisfied: astunparse>=1.6.0 in /home/kasperchuk/anaconda3/envs/tensorflow_ai/lib/python3.11/site-packages (from tensorflow->-r requirements.txt (line 2)) (1.6.3)\n",
      "Requirement already satisfied: flatbuffers>=23.5.26 in /home/kasperchuk/anaconda3/envs/tensorflow_ai/lib/python3.11/site-packages (from tensorflow->-r requirements.txt (line 2)) (24.3.7)\n",
      "Requirement already satisfied: gast!=0.5.0,!=0.5.1,!=0.5.2,>=0.2.1 in /home/kasperchuk/anaconda3/envs/tensorflow_ai/lib/python3.11/site-packages (from tensorflow->-r requirements.txt (line 2)) (0.5.4)\n",
      "Requirement already satisfied: google-pasta>=0.1.1 in /home/kasperchuk/anaconda3/envs/tensorflow_ai/lib/python3.11/site-packages (from tensorflow->-r requirements.txt (line 2)) (0.2.0)\n",
      "Requirement already satisfied: h5py>=2.9.0 in /home/kasperchuk/anaconda3/envs/tensorflow_ai/lib/python3.11/site-packages (from tensorflow->-r requirements.txt (line 2)) (3.10.0)\n",
      "Requirement already satisfied: libclang>=13.0.0 in /home/kasperchuk/anaconda3/envs/tensorflow_ai/lib/python3.11/site-packages (from tensorflow->-r requirements.txt (line 2)) (16.0.6)\n",
      "Requirement already satisfied: ml-dtypes~=0.2.0 in /home/kasperchuk/anaconda3/envs/tensorflow_ai/lib/python3.11/site-packages (from tensorflow->-r requirements.txt (line 2)) (0.2.0)\n",
      "Requirement already satisfied: opt-einsum>=2.3.2 in /home/kasperchuk/anaconda3/envs/tensorflow_ai/lib/python3.11/site-packages (from tensorflow->-r requirements.txt (line 2)) (3.3.0)\n",
      "Requirement already satisfied: packaging in /home/kasperchuk/anaconda3/envs/tensorflow_ai/lib/python3.11/site-packages (from tensorflow->-r requirements.txt (line 2)) (23.2)\n",
      "Requirement already satisfied: protobuf!=4.21.0,!=4.21.1,!=4.21.2,!=4.21.3,!=4.21.4,!=4.21.5,<5.0.0dev,>=3.20.3 in /home/kasperchuk/anaconda3/envs/tensorflow_ai/lib/python3.11/site-packages (from tensorflow->-r requirements.txt (line 2)) (3.20.3)\n",
      "Requirement already satisfied: setuptools in /home/kasperchuk/anaconda3/envs/tensorflow_ai/lib/python3.11/site-packages (from tensorflow->-r requirements.txt (line 2)) (68.2.2)\n",
      "Requirement already satisfied: six>=1.12.0 in /home/kasperchuk/anaconda3/envs/tensorflow_ai/lib/python3.11/site-packages (from tensorflow->-r requirements.txt (line 2)) (1.16.0)\n",
      "Requirement already satisfied: termcolor>=1.1.0 in /home/kasperchuk/anaconda3/envs/tensorflow_ai/lib/python3.11/site-packages (from tensorflow->-r requirements.txt (line 2)) (2.4.0)\n",
      "Requirement already satisfied: typing-extensions>=3.6.6 in /home/kasperchuk/anaconda3/envs/tensorflow_ai/lib/python3.11/site-packages (from tensorflow->-r requirements.txt (line 2)) (4.10.0)\n",
      "Requirement already satisfied: wrapt<1.15,>=1.11.0 in /home/kasperchuk/anaconda3/envs/tensorflow_ai/lib/python3.11/site-packages (from tensorflow->-r requirements.txt (line 2)) (1.14.1)\n",
      "Requirement already satisfied: tensorflow-io-gcs-filesystem>=0.23.1 in /home/kasperchuk/anaconda3/envs/tensorflow_ai/lib/python3.11/site-packages (from tensorflow->-r requirements.txt (line 2)) (0.36.0)\n",
      "Requirement already satisfied: grpcio<2.0,>=1.24.3 in /home/kasperchuk/anaconda3/envs/tensorflow_ai/lib/python3.11/site-packages (from tensorflow->-r requirements.txt (line 2)) (1.62.0)\n",
      "Requirement already satisfied: tensorboard<2.16,>=2.15 in /home/kasperchuk/anaconda3/envs/tensorflow_ai/lib/python3.11/site-packages (from tensorflow->-r requirements.txt (line 2)) (2.15.2)\n",
      "Requirement already satisfied: tensorflow-estimator<2.16,>=2.15.0 in /home/kasperchuk/anaconda3/envs/tensorflow_ai/lib/python3.11/site-packages (from tensorflow->-r requirements.txt (line 2)) (2.15.0)\n",
      "Requirement already satisfied: keras<2.16,>=2.15.0 in /home/kasperchuk/anaconda3/envs/tensorflow_ai/lib/python3.11/site-packages (from tensorflow->-r requirements.txt (line 2)) (2.15.0)\n",
      "Requirement already satisfied: contourpy>=1.0.1 in /home/kasperchuk/anaconda3/envs/tensorflow_ai/lib/python3.11/site-packages (from matplotlib->-r requirements.txt (line 4)) (1.2.0)\n",
      "Requirement already satisfied: cycler>=0.10 in /home/kasperchuk/anaconda3/envs/tensorflow_ai/lib/python3.11/site-packages (from matplotlib->-r requirements.txt (line 4)) (0.12.1)\n",
      "Requirement already satisfied: fonttools>=4.22.0 in /home/kasperchuk/anaconda3/envs/tensorflow_ai/lib/python3.11/site-packages (from matplotlib->-r requirements.txt (line 4)) (4.49.0)\n",
      "Requirement already satisfied: kiwisolver>=1.3.1 in /home/kasperchuk/anaconda3/envs/tensorflow_ai/lib/python3.11/site-packages (from matplotlib->-r requirements.txt (line 4)) (1.4.5)\n",
      "Requirement already satisfied: pillow>=8 in /home/kasperchuk/anaconda3/envs/tensorflow_ai/lib/python3.11/site-packages (from matplotlib->-r requirements.txt (line 4)) (10.2.0)\n",
      "Requirement already satisfied: pyparsing>=2.3.1 in /home/kasperchuk/anaconda3/envs/tensorflow_ai/lib/python3.11/site-packages (from matplotlib->-r requirements.txt (line 4)) (3.1.2)\n",
      "Requirement already satisfied: scipy>=1.6.0 in /home/kasperchuk/anaconda3/envs/tensorflow_ai/lib/python3.11/site-packages (from scikit-learn->-r requirements.txt (line 5)) (1.12.0)\n",
      "Requirement already satisfied: joblib>=1.2.0 in /home/kasperchuk/anaconda3/envs/tensorflow_ai/lib/python3.11/site-packages (from scikit-learn->-r requirements.txt (line 5)) (1.3.2)\n",
      "Requirement already satisfied: threadpoolctl>=2.0.0 in /home/kasperchuk/anaconda3/envs/tensorflow_ai/lib/python3.11/site-packages (from scikit-learn->-r requirements.txt (line 5)) (3.3.0)\n",
      "Requirement already satisfied: onnx>=1.4.1 in /home/kasperchuk/anaconda3/envs/tensorflow_ai/lib/python3.11/site-packages (from tf2onnx->-r requirements.txt (line 7)) (1.15.0)\n",
      "Requirement already satisfied: requests in /home/kasperchuk/anaconda3/envs/tensorflow_ai/lib/python3.11/site-packages (from tf2onnx->-r requirements.txt (line 7)) (2.31.0)\n",
      "Requirement already satisfied: wheel<1.0,>=0.23.0 in /home/kasperchuk/anaconda3/envs/tensorflow_ai/lib/python3.11/site-packages (from astunparse>=1.6.0->tensorflow->-r requirements.txt (line 2)) (0.41.2)\n",
      "Requirement already satisfied: google-auth<3,>=1.6.3 in /home/kasperchuk/anaconda3/envs/tensorflow_ai/lib/python3.11/site-packages (from tensorboard<2.16,>=2.15->tensorflow->-r requirements.txt (line 2)) (2.28.1)\n",
      "Requirement already satisfied: google-auth-oauthlib<2,>=0.5 in /home/kasperchuk/anaconda3/envs/tensorflow_ai/lib/python3.11/site-packages (from tensorboard<2.16,>=2.15->tensorflow->-r requirements.txt (line 2)) (1.2.0)\n",
      "Requirement already satisfied: markdown>=2.6.8 in /home/kasperchuk/anaconda3/envs/tensorflow_ai/lib/python3.11/site-packages (from tensorboard<2.16,>=2.15->tensorflow->-r requirements.txt (line 2)) (3.5.2)\n",
      "Requirement already satisfied: tensorboard-data-server<0.8.0,>=0.7.0 in /home/kasperchuk/anaconda3/envs/tensorflow_ai/lib/python3.11/site-packages (from tensorboard<2.16,>=2.15->tensorflow->-r requirements.txt (line 2)) (0.7.2)\n",
      "Requirement already satisfied: werkzeug>=1.0.1 in /home/kasperchuk/anaconda3/envs/tensorflow_ai/lib/python3.11/site-packages (from tensorboard<2.16,>=2.15->tensorflow->-r requirements.txt (line 2)) (3.0.1)\n",
      "Requirement already satisfied: charset-normalizer<4,>=2 in /home/kasperchuk/anaconda3/envs/tensorflow_ai/lib/python3.11/site-packages (from requests->tf2onnx->-r requirements.txt (line 7)) (3.3.2)\n",
      "Requirement already satisfied: idna<4,>=2.5 in /home/kasperchuk/anaconda3/envs/tensorflow_ai/lib/python3.11/site-packages (from requests->tf2onnx->-r requirements.txt (line 7)) (3.6)\n",
      "Requirement already satisfied: urllib3<3,>=1.21.1 in /home/kasperchuk/anaconda3/envs/tensorflow_ai/lib/python3.11/site-packages (from requests->tf2onnx->-r requirements.txt (line 7)) (2.2.1)\n",
      "Requirement already satisfied: certifi>=2017.4.17 in /home/kasperchuk/anaconda3/envs/tensorflow_ai/lib/python3.11/site-packages (from requests->tf2onnx->-r requirements.txt (line 7)) (2024.2.2)\n",
      "Requirement already satisfied: cachetools<6.0,>=2.0.0 in /home/kasperchuk/anaconda3/envs/tensorflow_ai/lib/python3.11/site-packages (from google-auth<3,>=1.6.3->tensorboard<2.16,>=2.15->tensorflow->-r requirements.txt (line 2)) (5.3.3)\n",
      "Requirement already satisfied: pyasn1-modules>=0.2.1 in /home/kasperchuk/anaconda3/envs/tensorflow_ai/lib/python3.11/site-packages (from google-auth<3,>=1.6.3->tensorboard<2.16,>=2.15->tensorflow->-r requirements.txt (line 2)) (0.3.0)\n",
      "Requirement already satisfied: rsa<5,>=3.1.4 in /home/kasperchuk/anaconda3/envs/tensorflow_ai/lib/python3.11/site-packages (from google-auth<3,>=1.6.3->tensorboard<2.16,>=2.15->tensorflow->-r requirements.txt (line 2)) (4.9)\n",
      "Requirement already satisfied: requests-oauthlib>=0.7.0 in /home/kasperchuk/anaconda3/envs/tensorflow_ai/lib/python3.11/site-packages (from google-auth-oauthlib<2,>=0.5->tensorboard<2.16,>=2.15->tensorflow->-r requirements.txt (line 2)) (1.3.1)\n",
      "Requirement already satisfied: MarkupSafe>=2.1.1 in /home/kasperchuk/anaconda3/envs/tensorflow_ai/lib/python3.11/site-packages (from werkzeug>=1.0.1->tensorboard<2.16,>=2.15->tensorflow->-r requirements.txt (line 2)) (2.1.5)\n",
      "Requirement already satisfied: pyasn1<0.6.0,>=0.4.6 in /home/kasperchuk/anaconda3/envs/tensorflow_ai/lib/python3.11/site-packages (from pyasn1-modules>=0.2.1->google-auth<3,>=1.6.3->tensorboard<2.16,>=2.15->tensorflow->-r requirements.txt (line 2)) (0.5.1)\n",
      "Requirement already satisfied: oauthlib>=3.0.0 in /home/kasperchuk/anaconda3/envs/tensorflow_ai/lib/python3.11/site-packages (from requests-oauthlib>=0.7.0->google-auth-oauthlib<2,>=0.5->tensorboard<2.16,>=2.15->tensorflow->-r requirements.txt (line 2)) (3.2.2)\n"
     ]
    }
   ],
   "source": [
    "!pip install -r requirements.txt"
   ]
  },
  {
   "cell_type": "code",
   "execution_count": 2,
   "metadata": {},
   "outputs": [
    {
     "name": "stderr",
     "output_type": "stream",
     "text": [
      "2024-03-17 22:30:21.172204: I tensorflow/core/util/port.cc:113] oneDNN custom operations are on. You may see slightly different numerical results due to floating-point round-off errors from different computation orders. To turn them off, set the environment variable `TF_ENABLE_ONEDNN_OPTS=0`.\n",
      "2024-03-17 22:30:21.174113: I external/local_tsl/tsl/cuda/cudart_stub.cc:31] Could not find cuda drivers on your machine, GPU will not be used.\n",
      "2024-03-17 22:30:21.204847: E external/local_xla/xla/stream_executor/cuda/cuda_dnn.cc:9261] Unable to register cuDNN factory: Attempting to register factory for plugin cuDNN when one has already been registered\n",
      "2024-03-17 22:30:21.204880: E external/local_xla/xla/stream_executor/cuda/cuda_fft.cc:607] Unable to register cuFFT factory: Attempting to register factory for plugin cuFFT when one has already been registered\n",
      "2024-03-17 22:30:21.207247: E external/local_xla/xla/stream_executor/cuda/cuda_blas.cc:1515] Unable to register cuBLAS factory: Attempting to register factory for plugin cuBLAS when one has already been registered\n",
      "2024-03-17 22:30:21.214958: I external/local_tsl/tsl/cuda/cudart_stub.cc:31] Could not find cuda drivers on your machine, GPU will not be used.\n",
      "2024-03-17 22:30:21.215357: I tensorflow/core/platform/cpu_feature_guard.cc:182] This TensorFlow binary is optimized to use available CPU instructions in performance-critical operations.\n",
      "To enable the following instructions: AVX2 AVX512F AVX512_VNNI FMA, in other operations, rebuild TensorFlow with the appropriate compiler flags.\n",
      "2024-03-17 22:30:22.462396: W tensorflow/compiler/tf2tensorrt/utils/py_utils.cc:38] TF-TRT Warning: Could not find TensorRT\n"
     ]
    }
   ],
   "source": [
    "import pandas as pd\n",
    "import tensorflow as tf\n",
    "from keras.utils import to_categorical\n",
    "from sklearn.preprocessing import MinMaxScaler"
   ]
  },
  {
   "cell_type": "markdown",
   "metadata": {},
   "source": [
    "Импорт всех инструментов"
   ]
  },
  {
   "cell_type": "code",
   "execution_count": 3,
   "metadata": {},
   "outputs": [
    {
     "data": {
      "text/html": [
       "<div>\n",
       "<style scoped>\n",
       "    .dataframe tbody tr th:only-of-type {\n",
       "        vertical-align: middle;\n",
       "    }\n",
       "\n",
       "    .dataframe tbody tr th {\n",
       "        vertical-align: top;\n",
       "    }\n",
       "\n",
       "    .dataframe thead th {\n",
       "        text-align: right;\n",
       "    }\n",
       "</style>\n",
       "<table border=\"1\" class=\"dataframe\">\n",
       "  <thead>\n",
       "    <tr style=\"text-align: right;\">\n",
       "      <th></th>\n",
       "      <th>Unnamed: 0</th>\n",
       "      <th>SeriousDlqin2yrs</th>\n",
       "      <th>RevolvingUtilizationOfUnsecuredLines</th>\n",
       "      <th>age</th>\n",
       "      <th>NumberOfTime30-59DaysPastDueNotWorse</th>\n",
       "      <th>DebtRatio</th>\n",
       "      <th>MonthlyIncome</th>\n",
       "      <th>NumberOfOpenCreditLinesAndLoans</th>\n",
       "      <th>NumberOfTimes90DaysLate</th>\n",
       "      <th>NumberRealEstateLoansOrLines</th>\n",
       "      <th>NumberOfTime60-89DaysPastDueNotWorse</th>\n",
       "      <th>NumberOfDependents</th>\n",
       "    </tr>\n",
       "  </thead>\n",
       "  <tbody>\n",
       "    <tr>\n",
       "      <th>0</th>\n",
       "      <td>1</td>\n",
       "      <td>1</td>\n",
       "      <td>0.766127</td>\n",
       "      <td>45</td>\n",
       "      <td>2</td>\n",
       "      <td>0.802982</td>\n",
       "      <td>9120.0</td>\n",
       "      <td>13</td>\n",
       "      <td>0</td>\n",
       "      <td>6</td>\n",
       "      <td>0</td>\n",
       "      <td>2.0</td>\n",
       "    </tr>\n",
       "    <tr>\n",
       "      <th>1</th>\n",
       "      <td>2</td>\n",
       "      <td>0</td>\n",
       "      <td>0.957151</td>\n",
       "      <td>40</td>\n",
       "      <td>0</td>\n",
       "      <td>0.121876</td>\n",
       "      <td>2600.0</td>\n",
       "      <td>4</td>\n",
       "      <td>0</td>\n",
       "      <td>0</td>\n",
       "      <td>0</td>\n",
       "      <td>1.0</td>\n",
       "    </tr>\n",
       "    <tr>\n",
       "      <th>2</th>\n",
       "      <td>3</td>\n",
       "      <td>0</td>\n",
       "      <td>0.658180</td>\n",
       "      <td>38</td>\n",
       "      <td>1</td>\n",
       "      <td>0.085113</td>\n",
       "      <td>3042.0</td>\n",
       "      <td>2</td>\n",
       "      <td>1</td>\n",
       "      <td>0</td>\n",
       "      <td>0</td>\n",
       "      <td>0.0</td>\n",
       "    </tr>\n",
       "    <tr>\n",
       "      <th>3</th>\n",
       "      <td>4</td>\n",
       "      <td>0</td>\n",
       "      <td>0.233810</td>\n",
       "      <td>30</td>\n",
       "      <td>0</td>\n",
       "      <td>0.036050</td>\n",
       "      <td>3300.0</td>\n",
       "      <td>5</td>\n",
       "      <td>0</td>\n",
       "      <td>0</td>\n",
       "      <td>0</td>\n",
       "      <td>0.0</td>\n",
       "    </tr>\n",
       "    <tr>\n",
       "      <th>4</th>\n",
       "      <td>5</td>\n",
       "      <td>0</td>\n",
       "      <td>0.907239</td>\n",
       "      <td>49</td>\n",
       "      <td>1</td>\n",
       "      <td>0.024926</td>\n",
       "      <td>63588.0</td>\n",
       "      <td>7</td>\n",
       "      <td>0</td>\n",
       "      <td>1</td>\n",
       "      <td>0</td>\n",
       "      <td>0.0</td>\n",
       "    </tr>\n",
       "  </tbody>\n",
       "</table>\n",
       "</div>"
      ],
      "text/plain": [
       "   Unnamed: 0  SeriousDlqin2yrs  RevolvingUtilizationOfUnsecuredLines  age  \\\n",
       "0           1                 1                              0.766127   45   \n",
       "1           2                 0                              0.957151   40   \n",
       "2           3                 0                              0.658180   38   \n",
       "3           4                 0                              0.233810   30   \n",
       "4           5                 0                              0.907239   49   \n",
       "\n",
       "   NumberOfTime30-59DaysPastDueNotWorse  DebtRatio  MonthlyIncome  \\\n",
       "0                                     2   0.802982         9120.0   \n",
       "1                                     0   0.121876         2600.0   \n",
       "2                                     1   0.085113         3042.0   \n",
       "3                                     0   0.036050         3300.0   \n",
       "4                                     1   0.024926        63588.0   \n",
       "\n",
       "   NumberOfOpenCreditLinesAndLoans  NumberOfTimes90DaysLate  \\\n",
       "0                               13                        0   \n",
       "1                                4                        0   \n",
       "2                                2                        1   \n",
       "3                                5                        0   \n",
       "4                                7                        0   \n",
       "\n",
       "   NumberRealEstateLoansOrLines  NumberOfTime60-89DaysPastDueNotWorse  \\\n",
       "0                             6                                     0   \n",
       "1                             0                                     0   \n",
       "2                             0                                     0   \n",
       "3                             0                                     0   \n",
       "4                             1                                     0   \n",
       "\n",
       "   NumberOfDependents  \n",
       "0                 2.0  \n",
       "1                 1.0  \n",
       "2                 0.0  \n",
       "3                 0.0  \n",
       "4                 0.0  "
      ]
     },
     "execution_count": 3,
     "metadata": {},
     "output_type": "execute_result"
    }
   ],
   "source": [
    "df = pd.read_csv('cs-training.csv')\n",
    "df.head()"
   ]
  },
  {
   "cell_type": "code",
   "execution_count": 4,
   "metadata": {},
   "outputs": [
    {
     "data": {
      "text/html": [
       "<div>\n",
       "<style scoped>\n",
       "    .dataframe tbody tr th:only-of-type {\n",
       "        vertical-align: middle;\n",
       "    }\n",
       "\n",
       "    .dataframe tbody tr th {\n",
       "        vertical-align: top;\n",
       "    }\n",
       "\n",
       "    .dataframe thead th {\n",
       "        text-align: right;\n",
       "    }\n",
       "</style>\n",
       "<table border=\"1\" class=\"dataframe\">\n",
       "  <thead>\n",
       "    <tr style=\"text-align: right;\">\n",
       "      <th></th>\n",
       "      <th>Unnamed: 0</th>\n",
       "      <th>SeriousDlqin2yrs</th>\n",
       "      <th>RevolvingUtilizationOfUnsecuredLines</th>\n",
       "      <th>age</th>\n",
       "      <th>NumberOfTime30-59DaysPastDueNotWorse</th>\n",
       "      <th>DebtRatio</th>\n",
       "      <th>MonthlyIncome</th>\n",
       "      <th>NumberOfOpenCreditLinesAndLoans</th>\n",
       "      <th>NumberOfTimes90DaysLate</th>\n",
       "      <th>NumberRealEstateLoansOrLines</th>\n",
       "      <th>NumberOfTime60-89DaysPastDueNotWorse</th>\n",
       "      <th>NumberOfDependents</th>\n",
       "    </tr>\n",
       "  </thead>\n",
       "  <tbody>\n",
       "    <tr>\n",
       "      <th>Unnamed: 0</th>\n",
       "      <td>1.000000</td>\n",
       "      <td>0.002801</td>\n",
       "      <td>0.002372</td>\n",
       "      <td>0.004403</td>\n",
       "      <td>-0.000571</td>\n",
       "      <td>-0.002906</td>\n",
       "      <td>0.002632</td>\n",
       "      <td>0.004586</td>\n",
       "      <td>-0.001104</td>\n",
       "      <td>-0.000666</td>\n",
       "      <td>-0.000777</td>\n",
       "      <td>-0.000055</td>\n",
       "    </tr>\n",
       "    <tr>\n",
       "      <th>SeriousDlqin2yrs</th>\n",
       "      <td>0.002801</td>\n",
       "      <td>1.000000</td>\n",
       "      <td>-0.001802</td>\n",
       "      <td>-0.115386</td>\n",
       "      <td>0.125587</td>\n",
       "      <td>-0.007602</td>\n",
       "      <td>-0.019746</td>\n",
       "      <td>-0.029669</td>\n",
       "      <td>0.117175</td>\n",
       "      <td>-0.007038</td>\n",
       "      <td>0.102261</td>\n",
       "      <td>0.046048</td>\n",
       "    </tr>\n",
       "    <tr>\n",
       "      <th>RevolvingUtilizationOfUnsecuredLines</th>\n",
       "      <td>0.002372</td>\n",
       "      <td>-0.001802</td>\n",
       "      <td>1.000000</td>\n",
       "      <td>-0.005898</td>\n",
       "      <td>-0.001314</td>\n",
       "      <td>0.003961</td>\n",
       "      <td>0.007124</td>\n",
       "      <td>-0.011281</td>\n",
       "      <td>-0.001061</td>\n",
       "      <td>0.006235</td>\n",
       "      <td>-0.001048</td>\n",
       "      <td>0.001557</td>\n",
       "    </tr>\n",
       "    <tr>\n",
       "      <th>age</th>\n",
       "      <td>0.004403</td>\n",
       "      <td>-0.115386</td>\n",
       "      <td>-0.005898</td>\n",
       "      <td>1.000000</td>\n",
       "      <td>-0.062995</td>\n",
       "      <td>0.024188</td>\n",
       "      <td>0.037717</td>\n",
       "      <td>0.147705</td>\n",
       "      <td>-0.061005</td>\n",
       "      <td>0.033150</td>\n",
       "      <td>-0.057159</td>\n",
       "      <td>-0.213303</td>\n",
       "    </tr>\n",
       "    <tr>\n",
       "      <th>NumberOfTime30-59DaysPastDueNotWorse</th>\n",
       "      <td>-0.000571</td>\n",
       "      <td>0.125587</td>\n",
       "      <td>-0.001314</td>\n",
       "      <td>-0.062995</td>\n",
       "      <td>1.000000</td>\n",
       "      <td>-0.006542</td>\n",
       "      <td>-0.010217</td>\n",
       "      <td>-0.055312</td>\n",
       "      <td>0.983603</td>\n",
       "      <td>-0.030565</td>\n",
       "      <td>0.987005</td>\n",
       "      <td>-0.002680</td>\n",
       "    </tr>\n",
       "    <tr>\n",
       "      <th>DebtRatio</th>\n",
       "      <td>-0.002906</td>\n",
       "      <td>-0.007602</td>\n",
       "      <td>0.003961</td>\n",
       "      <td>0.024188</td>\n",
       "      <td>-0.006542</td>\n",
       "      <td>1.000000</td>\n",
       "      <td>-0.028712</td>\n",
       "      <td>0.049565</td>\n",
       "      <td>-0.008320</td>\n",
       "      <td>0.120046</td>\n",
       "      <td>-0.007533</td>\n",
       "      <td>-0.040673</td>\n",
       "    </tr>\n",
       "    <tr>\n",
       "      <th>MonthlyIncome</th>\n",
       "      <td>0.002632</td>\n",
       "      <td>-0.019746</td>\n",
       "      <td>0.007124</td>\n",
       "      <td>0.037717</td>\n",
       "      <td>-0.010217</td>\n",
       "      <td>-0.028712</td>\n",
       "      <td>1.000000</td>\n",
       "      <td>0.091455</td>\n",
       "      <td>-0.012743</td>\n",
       "      <td>0.124959</td>\n",
       "      <td>-0.011116</td>\n",
       "      <td>0.062647</td>\n",
       "    </tr>\n",
       "    <tr>\n",
       "      <th>NumberOfOpenCreditLinesAndLoans</th>\n",
       "      <td>0.004586</td>\n",
       "      <td>-0.029669</td>\n",
       "      <td>-0.011281</td>\n",
       "      <td>0.147705</td>\n",
       "      <td>-0.055312</td>\n",
       "      <td>0.049565</td>\n",
       "      <td>0.091455</td>\n",
       "      <td>1.000000</td>\n",
       "      <td>-0.079984</td>\n",
       "      <td>0.433959</td>\n",
       "      <td>-0.071077</td>\n",
       "      <td>0.065322</td>\n",
       "    </tr>\n",
       "    <tr>\n",
       "      <th>NumberOfTimes90DaysLate</th>\n",
       "      <td>-0.001104</td>\n",
       "      <td>0.117175</td>\n",
       "      <td>-0.001061</td>\n",
       "      <td>-0.061005</td>\n",
       "      <td>0.983603</td>\n",
       "      <td>-0.008320</td>\n",
       "      <td>-0.012743</td>\n",
       "      <td>-0.079984</td>\n",
       "      <td>1.000000</td>\n",
       "      <td>-0.045205</td>\n",
       "      <td>0.992796</td>\n",
       "      <td>-0.010176</td>\n",
       "    </tr>\n",
       "    <tr>\n",
       "      <th>NumberRealEstateLoansOrLines</th>\n",
       "      <td>-0.000666</td>\n",
       "      <td>-0.007038</td>\n",
       "      <td>0.006235</td>\n",
       "      <td>0.033150</td>\n",
       "      <td>-0.030565</td>\n",
       "      <td>0.120046</td>\n",
       "      <td>0.124959</td>\n",
       "      <td>0.433959</td>\n",
       "      <td>-0.045205</td>\n",
       "      <td>1.000000</td>\n",
       "      <td>-0.039722</td>\n",
       "      <td>0.124684</td>\n",
       "    </tr>\n",
       "    <tr>\n",
       "      <th>NumberOfTime60-89DaysPastDueNotWorse</th>\n",
       "      <td>-0.000777</td>\n",
       "      <td>0.102261</td>\n",
       "      <td>-0.001048</td>\n",
       "      <td>-0.057159</td>\n",
       "      <td>0.987005</td>\n",
       "      <td>-0.007533</td>\n",
       "      <td>-0.011116</td>\n",
       "      <td>-0.071077</td>\n",
       "      <td>0.992796</td>\n",
       "      <td>-0.039722</td>\n",
       "      <td>1.000000</td>\n",
       "      <td>-0.010922</td>\n",
       "    </tr>\n",
       "    <tr>\n",
       "      <th>NumberOfDependents</th>\n",
       "      <td>-0.000055</td>\n",
       "      <td>0.046048</td>\n",
       "      <td>0.001557</td>\n",
       "      <td>-0.213303</td>\n",
       "      <td>-0.002680</td>\n",
       "      <td>-0.040673</td>\n",
       "      <td>0.062647</td>\n",
       "      <td>0.065322</td>\n",
       "      <td>-0.010176</td>\n",
       "      <td>0.124684</td>\n",
       "      <td>-0.010922</td>\n",
       "      <td>1.000000</td>\n",
       "    </tr>\n",
       "  </tbody>\n",
       "</table>\n",
       "</div>"
      ],
      "text/plain": [
       "                                      Unnamed: 0  SeriousDlqin2yrs  \\\n",
       "Unnamed: 0                              1.000000          0.002801   \n",
       "SeriousDlqin2yrs                        0.002801          1.000000   \n",
       "RevolvingUtilizationOfUnsecuredLines    0.002372         -0.001802   \n",
       "age                                     0.004403         -0.115386   \n",
       "NumberOfTime30-59DaysPastDueNotWorse   -0.000571          0.125587   \n",
       "DebtRatio                              -0.002906         -0.007602   \n",
       "MonthlyIncome                           0.002632         -0.019746   \n",
       "NumberOfOpenCreditLinesAndLoans         0.004586         -0.029669   \n",
       "NumberOfTimes90DaysLate                -0.001104          0.117175   \n",
       "NumberRealEstateLoansOrLines           -0.000666         -0.007038   \n",
       "NumberOfTime60-89DaysPastDueNotWorse   -0.000777          0.102261   \n",
       "NumberOfDependents                     -0.000055          0.046048   \n",
       "\n",
       "                                      RevolvingUtilizationOfUnsecuredLines  \\\n",
       "Unnamed: 0                                                        0.002372   \n",
       "SeriousDlqin2yrs                                                 -0.001802   \n",
       "RevolvingUtilizationOfUnsecuredLines                              1.000000   \n",
       "age                                                              -0.005898   \n",
       "NumberOfTime30-59DaysPastDueNotWorse                             -0.001314   \n",
       "DebtRatio                                                         0.003961   \n",
       "MonthlyIncome                                                     0.007124   \n",
       "NumberOfOpenCreditLinesAndLoans                                  -0.011281   \n",
       "NumberOfTimes90DaysLate                                          -0.001061   \n",
       "NumberRealEstateLoansOrLines                                      0.006235   \n",
       "NumberOfTime60-89DaysPastDueNotWorse                             -0.001048   \n",
       "NumberOfDependents                                                0.001557   \n",
       "\n",
       "                                           age  \\\n",
       "Unnamed: 0                            0.004403   \n",
       "SeriousDlqin2yrs                     -0.115386   \n",
       "RevolvingUtilizationOfUnsecuredLines -0.005898   \n",
       "age                                   1.000000   \n",
       "NumberOfTime30-59DaysPastDueNotWorse -0.062995   \n",
       "DebtRatio                             0.024188   \n",
       "MonthlyIncome                         0.037717   \n",
       "NumberOfOpenCreditLinesAndLoans       0.147705   \n",
       "NumberOfTimes90DaysLate              -0.061005   \n",
       "NumberRealEstateLoansOrLines          0.033150   \n",
       "NumberOfTime60-89DaysPastDueNotWorse -0.057159   \n",
       "NumberOfDependents                   -0.213303   \n",
       "\n",
       "                                      NumberOfTime30-59DaysPastDueNotWorse  \\\n",
       "Unnamed: 0                                                       -0.000571   \n",
       "SeriousDlqin2yrs                                                  0.125587   \n",
       "RevolvingUtilizationOfUnsecuredLines                             -0.001314   \n",
       "age                                                              -0.062995   \n",
       "NumberOfTime30-59DaysPastDueNotWorse                              1.000000   \n",
       "DebtRatio                                                        -0.006542   \n",
       "MonthlyIncome                                                    -0.010217   \n",
       "NumberOfOpenCreditLinesAndLoans                                  -0.055312   \n",
       "NumberOfTimes90DaysLate                                           0.983603   \n",
       "NumberRealEstateLoansOrLines                                     -0.030565   \n",
       "NumberOfTime60-89DaysPastDueNotWorse                              0.987005   \n",
       "NumberOfDependents                                               -0.002680   \n",
       "\n",
       "                                      DebtRatio  MonthlyIncome  \\\n",
       "Unnamed: 0                            -0.002906       0.002632   \n",
       "SeriousDlqin2yrs                      -0.007602      -0.019746   \n",
       "RevolvingUtilizationOfUnsecuredLines   0.003961       0.007124   \n",
       "age                                    0.024188       0.037717   \n",
       "NumberOfTime30-59DaysPastDueNotWorse  -0.006542      -0.010217   \n",
       "DebtRatio                              1.000000      -0.028712   \n",
       "MonthlyIncome                         -0.028712       1.000000   \n",
       "NumberOfOpenCreditLinesAndLoans        0.049565       0.091455   \n",
       "NumberOfTimes90DaysLate               -0.008320      -0.012743   \n",
       "NumberRealEstateLoansOrLines           0.120046       0.124959   \n",
       "NumberOfTime60-89DaysPastDueNotWorse  -0.007533      -0.011116   \n",
       "NumberOfDependents                    -0.040673       0.062647   \n",
       "\n",
       "                                      NumberOfOpenCreditLinesAndLoans  \\\n",
       "Unnamed: 0                                                   0.004586   \n",
       "SeriousDlqin2yrs                                            -0.029669   \n",
       "RevolvingUtilizationOfUnsecuredLines                        -0.011281   \n",
       "age                                                          0.147705   \n",
       "NumberOfTime30-59DaysPastDueNotWorse                        -0.055312   \n",
       "DebtRatio                                                    0.049565   \n",
       "MonthlyIncome                                                0.091455   \n",
       "NumberOfOpenCreditLinesAndLoans                              1.000000   \n",
       "NumberOfTimes90DaysLate                                     -0.079984   \n",
       "NumberRealEstateLoansOrLines                                 0.433959   \n",
       "NumberOfTime60-89DaysPastDueNotWorse                        -0.071077   \n",
       "NumberOfDependents                                           0.065322   \n",
       "\n",
       "                                      NumberOfTimes90DaysLate  \\\n",
       "Unnamed: 0                                          -0.001104   \n",
       "SeriousDlqin2yrs                                     0.117175   \n",
       "RevolvingUtilizationOfUnsecuredLines                -0.001061   \n",
       "age                                                 -0.061005   \n",
       "NumberOfTime30-59DaysPastDueNotWorse                 0.983603   \n",
       "DebtRatio                                           -0.008320   \n",
       "MonthlyIncome                                       -0.012743   \n",
       "NumberOfOpenCreditLinesAndLoans                     -0.079984   \n",
       "NumberOfTimes90DaysLate                              1.000000   \n",
       "NumberRealEstateLoansOrLines                        -0.045205   \n",
       "NumberOfTime60-89DaysPastDueNotWorse                 0.992796   \n",
       "NumberOfDependents                                  -0.010176   \n",
       "\n",
       "                                      NumberRealEstateLoansOrLines  \\\n",
       "Unnamed: 0                                               -0.000666   \n",
       "SeriousDlqin2yrs                                         -0.007038   \n",
       "RevolvingUtilizationOfUnsecuredLines                      0.006235   \n",
       "age                                                       0.033150   \n",
       "NumberOfTime30-59DaysPastDueNotWorse                     -0.030565   \n",
       "DebtRatio                                                 0.120046   \n",
       "MonthlyIncome                                             0.124959   \n",
       "NumberOfOpenCreditLinesAndLoans                           0.433959   \n",
       "NumberOfTimes90DaysLate                                  -0.045205   \n",
       "NumberRealEstateLoansOrLines                              1.000000   \n",
       "NumberOfTime60-89DaysPastDueNotWorse                     -0.039722   \n",
       "NumberOfDependents                                        0.124684   \n",
       "\n",
       "                                      NumberOfTime60-89DaysPastDueNotWorse  \\\n",
       "Unnamed: 0                                                       -0.000777   \n",
       "SeriousDlqin2yrs                                                  0.102261   \n",
       "RevolvingUtilizationOfUnsecuredLines                             -0.001048   \n",
       "age                                                              -0.057159   \n",
       "NumberOfTime30-59DaysPastDueNotWorse                              0.987005   \n",
       "DebtRatio                                                        -0.007533   \n",
       "MonthlyIncome                                                    -0.011116   \n",
       "NumberOfOpenCreditLinesAndLoans                                  -0.071077   \n",
       "NumberOfTimes90DaysLate                                           0.992796   \n",
       "NumberRealEstateLoansOrLines                                     -0.039722   \n",
       "NumberOfTime60-89DaysPastDueNotWorse                              1.000000   \n",
       "NumberOfDependents                                               -0.010922   \n",
       "\n",
       "                                      NumberOfDependents  \n",
       "Unnamed: 0                                     -0.000055  \n",
       "SeriousDlqin2yrs                                0.046048  \n",
       "RevolvingUtilizationOfUnsecuredLines            0.001557  \n",
       "age                                            -0.213303  \n",
       "NumberOfTime30-59DaysPastDueNotWorse           -0.002680  \n",
       "DebtRatio                                      -0.040673  \n",
       "MonthlyIncome                                   0.062647  \n",
       "NumberOfOpenCreditLinesAndLoans                 0.065322  \n",
       "NumberOfTimes90DaysLate                        -0.010176  \n",
       "NumberRealEstateLoansOrLines                    0.124684  \n",
       "NumberOfTime60-89DaysPastDueNotWorse           -0.010922  \n",
       "NumberOfDependents                              1.000000  "
      ]
     },
     "execution_count": 4,
     "metadata": {},
     "output_type": "execute_result"
    }
   ],
   "source": [
    "df.corr()"
   ]
  },
  {
   "cell_type": "code",
   "execution_count": 5,
   "metadata": {},
   "outputs": [
    {
     "data": {
      "text/plain": [
       "(150000, 12)"
      ]
     },
     "execution_count": 5,
     "metadata": {},
     "output_type": "execute_result"
    }
   ],
   "source": [
    "df.shape"
   ]
  },
  {
   "cell_type": "code",
   "execution_count": 6,
   "metadata": {},
   "outputs": [],
   "source": [
    "df_dropped_null = df.dropna(inplace=False)"
   ]
  },
  {
   "cell_type": "code",
   "execution_count": 7,
   "metadata": {},
   "outputs": [
    {
     "data": {
      "text/plain": [
       "(120269, 12)"
      ]
     },
     "execution_count": 7,
     "metadata": {},
     "output_type": "execute_result"
    }
   ],
   "source": [
    "df_dropped_null.shape"
   ]
  },
  {
   "cell_type": "markdown",
   "metadata": {},
   "source": [
    "Видим, что если просто удалить пустые значения, то мы потеряем много данных, нужно их заполнить чем то"
   ]
  },
  {
   "cell_type": "code",
   "execution_count": 8,
   "metadata": {},
   "outputs": [
    {
     "data": {
      "text/html": [
       "<div>\n",
       "<style scoped>\n",
       "    .dataframe tbody tr th:only-of-type {\n",
       "        vertical-align: middle;\n",
       "    }\n",
       "\n",
       "    .dataframe tbody tr th {\n",
       "        vertical-align: top;\n",
       "    }\n",
       "\n",
       "    .dataframe thead th {\n",
       "        text-align: right;\n",
       "    }\n",
       "</style>\n",
       "<table border=\"1\" class=\"dataframe\">\n",
       "  <thead>\n",
       "    <tr style=\"text-align: right;\">\n",
       "      <th></th>\n",
       "      <th>Unnamed: 0</th>\n",
       "      <th>SeriousDlqin2yrs</th>\n",
       "      <th>RevolvingUtilizationOfUnsecuredLines</th>\n",
       "      <th>age</th>\n",
       "      <th>NumberOfTime30-59DaysPastDueNotWorse</th>\n",
       "      <th>DebtRatio</th>\n",
       "      <th>MonthlyIncome</th>\n",
       "      <th>NumberOfOpenCreditLinesAndLoans</th>\n",
       "      <th>NumberOfTimes90DaysLate</th>\n",
       "      <th>NumberRealEstateLoansOrLines</th>\n",
       "      <th>NumberOfTime60-89DaysPastDueNotWorse</th>\n",
       "      <th>NumberOfDependents</th>\n",
       "    </tr>\n",
       "  </thead>\n",
       "  <tbody>\n",
       "    <tr>\n",
       "      <th>0</th>\n",
       "      <td>1</td>\n",
       "      <td>1</td>\n",
       "      <td>0.766127</td>\n",
       "      <td>45</td>\n",
       "      <td>2</td>\n",
       "      <td>0.802982</td>\n",
       "      <td>9120.0</td>\n",
       "      <td>13</td>\n",
       "      <td>0</td>\n",
       "      <td>6</td>\n",
       "      <td>0</td>\n",
       "      <td>2.0</td>\n",
       "    </tr>\n",
       "    <tr>\n",
       "      <th>1</th>\n",
       "      <td>2</td>\n",
       "      <td>0</td>\n",
       "      <td>0.957151</td>\n",
       "      <td>40</td>\n",
       "      <td>0</td>\n",
       "      <td>0.121876</td>\n",
       "      <td>2600.0</td>\n",
       "      <td>4</td>\n",
       "      <td>0</td>\n",
       "      <td>0</td>\n",
       "      <td>0</td>\n",
       "      <td>1.0</td>\n",
       "    </tr>\n",
       "    <tr>\n",
       "      <th>2</th>\n",
       "      <td>3</td>\n",
       "      <td>0</td>\n",
       "      <td>0.658180</td>\n",
       "      <td>38</td>\n",
       "      <td>1</td>\n",
       "      <td>0.085113</td>\n",
       "      <td>3042.0</td>\n",
       "      <td>2</td>\n",
       "      <td>1</td>\n",
       "      <td>0</td>\n",
       "      <td>0</td>\n",
       "      <td>0.0</td>\n",
       "    </tr>\n",
       "    <tr>\n",
       "      <th>3</th>\n",
       "      <td>4</td>\n",
       "      <td>0</td>\n",
       "      <td>0.233810</td>\n",
       "      <td>30</td>\n",
       "      <td>0</td>\n",
       "      <td>0.036050</td>\n",
       "      <td>3300.0</td>\n",
       "      <td>5</td>\n",
       "      <td>0</td>\n",
       "      <td>0</td>\n",
       "      <td>0</td>\n",
       "      <td>0.0</td>\n",
       "    </tr>\n",
       "    <tr>\n",
       "      <th>4</th>\n",
       "      <td>5</td>\n",
       "      <td>0</td>\n",
       "      <td>0.907239</td>\n",
       "      <td>49</td>\n",
       "      <td>1</td>\n",
       "      <td>0.024926</td>\n",
       "      <td>63588.0</td>\n",
       "      <td>7</td>\n",
       "      <td>0</td>\n",
       "      <td>1</td>\n",
       "      <td>0</td>\n",
       "      <td>0.0</td>\n",
       "    </tr>\n",
       "    <tr>\n",
       "      <th>5</th>\n",
       "      <td>6</td>\n",
       "      <td>0</td>\n",
       "      <td>0.213179</td>\n",
       "      <td>74</td>\n",
       "      <td>0</td>\n",
       "      <td>0.375607</td>\n",
       "      <td>3500.0</td>\n",
       "      <td>3</td>\n",
       "      <td>0</td>\n",
       "      <td>1</td>\n",
       "      <td>0</td>\n",
       "      <td>1.0</td>\n",
       "    </tr>\n",
       "    <tr>\n",
       "      <th>6</th>\n",
       "      <td>7</td>\n",
       "      <td>0</td>\n",
       "      <td>0.305682</td>\n",
       "      <td>57</td>\n",
       "      <td>0</td>\n",
       "      <td>5710.000000</td>\n",
       "      <td>NaN</td>\n",
       "      <td>8</td>\n",
       "      <td>0</td>\n",
       "      <td>3</td>\n",
       "      <td>0</td>\n",
       "      <td>0.0</td>\n",
       "    </tr>\n",
       "    <tr>\n",
       "      <th>7</th>\n",
       "      <td>8</td>\n",
       "      <td>0</td>\n",
       "      <td>0.754464</td>\n",
       "      <td>39</td>\n",
       "      <td>0</td>\n",
       "      <td>0.209940</td>\n",
       "      <td>3500.0</td>\n",
       "      <td>8</td>\n",
       "      <td>0</td>\n",
       "      <td>0</td>\n",
       "      <td>0</td>\n",
       "      <td>0.0</td>\n",
       "    </tr>\n",
       "    <tr>\n",
       "      <th>8</th>\n",
       "      <td>9</td>\n",
       "      <td>0</td>\n",
       "      <td>0.116951</td>\n",
       "      <td>27</td>\n",
       "      <td>0</td>\n",
       "      <td>46.000000</td>\n",
       "      <td>NaN</td>\n",
       "      <td>2</td>\n",
       "      <td>0</td>\n",
       "      <td>0</td>\n",
       "      <td>0</td>\n",
       "      <td>NaN</td>\n",
       "    </tr>\n",
       "    <tr>\n",
       "      <th>9</th>\n",
       "      <td>10</td>\n",
       "      <td>0</td>\n",
       "      <td>0.189169</td>\n",
       "      <td>57</td>\n",
       "      <td>0</td>\n",
       "      <td>0.606291</td>\n",
       "      <td>23684.0</td>\n",
       "      <td>9</td>\n",
       "      <td>0</td>\n",
       "      <td>4</td>\n",
       "      <td>0</td>\n",
       "      <td>2.0</td>\n",
       "    </tr>\n",
       "  </tbody>\n",
       "</table>\n",
       "</div>"
      ],
      "text/plain": [
       "   Unnamed: 0  SeriousDlqin2yrs  RevolvingUtilizationOfUnsecuredLines  age  \\\n",
       "0           1                 1                              0.766127   45   \n",
       "1           2                 0                              0.957151   40   \n",
       "2           3                 0                              0.658180   38   \n",
       "3           4                 0                              0.233810   30   \n",
       "4           5                 0                              0.907239   49   \n",
       "5           6                 0                              0.213179   74   \n",
       "6           7                 0                              0.305682   57   \n",
       "7           8                 0                              0.754464   39   \n",
       "8           9                 0                              0.116951   27   \n",
       "9          10                 0                              0.189169   57   \n",
       "\n",
       "   NumberOfTime30-59DaysPastDueNotWorse    DebtRatio  MonthlyIncome  \\\n",
       "0                                     2     0.802982         9120.0   \n",
       "1                                     0     0.121876         2600.0   \n",
       "2                                     1     0.085113         3042.0   \n",
       "3                                     0     0.036050         3300.0   \n",
       "4                                     1     0.024926        63588.0   \n",
       "5                                     0     0.375607         3500.0   \n",
       "6                                     0  5710.000000            NaN   \n",
       "7                                     0     0.209940         3500.0   \n",
       "8                                     0    46.000000            NaN   \n",
       "9                                     0     0.606291        23684.0   \n",
       "\n",
       "   NumberOfOpenCreditLinesAndLoans  NumberOfTimes90DaysLate  \\\n",
       "0                               13                        0   \n",
       "1                                4                        0   \n",
       "2                                2                        1   \n",
       "3                                5                        0   \n",
       "4                                7                        0   \n",
       "5                                3                        0   \n",
       "6                                8                        0   \n",
       "7                                8                        0   \n",
       "8                                2                        0   \n",
       "9                                9                        0   \n",
       "\n",
       "   NumberRealEstateLoansOrLines  NumberOfTime60-89DaysPastDueNotWorse  \\\n",
       "0                             6                                     0   \n",
       "1                             0                                     0   \n",
       "2                             0                                     0   \n",
       "3                             0                                     0   \n",
       "4                             1                                     0   \n",
       "5                             1                                     0   \n",
       "6                             3                                     0   \n",
       "7                             0                                     0   \n",
       "8                             0                                     0   \n",
       "9                             4                                     0   \n",
       "\n",
       "   NumberOfDependents  \n",
       "0                 2.0  \n",
       "1                 1.0  \n",
       "2                 0.0  \n",
       "3                 0.0  \n",
       "4                 0.0  \n",
       "5                 1.0  \n",
       "6                 0.0  \n",
       "7                 0.0  \n",
       "8                 NaN  \n",
       "9                 2.0  "
      ]
     },
     "execution_count": 8,
     "metadata": {},
     "output_type": "execute_result"
    }
   ],
   "source": [
    "df.head(10)"
   ]
  },
  {
   "cell_type": "code",
   "execution_count": 9,
   "metadata": {},
   "outputs": [
    {
     "data": {
      "text/plain": [
       "(150000,)"
      ]
     },
     "execution_count": 9,
     "metadata": {},
     "output_type": "execute_result"
    }
   ],
   "source": [
    "df['Unnamed: 0'].shape"
   ]
  },
  {
   "cell_type": "code",
   "execution_count": 10,
   "metadata": {},
   "outputs": [
    {
     "name": "stderr",
     "output_type": "stream",
     "text": [
      "/tmp/ipykernel_29654/3944213137.py:1: FutureWarning: A value is trying to be set on a copy of a DataFrame or Series through chained assignment using an inplace method.\n",
      "The behavior will change in pandas 3.0. This inplace method will never work because the intermediate object on which we are setting values always behaves as a copy.\n",
      "\n",
      "For example, when doing 'df[col].method(value, inplace=True)', try using 'df.method({col: value}, inplace=True)' or df[col] = df[col].method(value) instead, to perform the operation inplace on the original object.\n",
      "\n",
      "\n",
      "  df['Unnamed: 0'].fillna(0, inplace=True)\n"
     ]
    }
   ],
   "source": [
    "df['Unnamed: 0'].fillna(0, inplace=True)"
   ]
  },
  {
   "cell_type": "code",
   "execution_count": 11,
   "metadata": {},
   "outputs": [
    {
     "data": {
      "text/plain": [
       "(150000,)"
      ]
     },
     "execution_count": 11,
     "metadata": {},
     "output_type": "execute_result"
    }
   ],
   "source": [
    "df['Unnamed: 0'].dropna().shape"
   ]
  },
  {
   "cell_type": "code",
   "execution_count": 12,
   "metadata": {},
   "outputs": [
    {
     "data": {
      "text/plain": [
       "(150000,)"
      ]
     },
     "execution_count": 12,
     "metadata": {},
     "output_type": "execute_result"
    }
   ],
   "source": [
    "df['age'].dropna().shape # нет ячеек без возраста"
   ]
  },
  {
   "cell_type": "code",
   "execution_count": 13,
   "metadata": {},
   "outputs": [
    {
     "name": "stderr",
     "output_type": "stream",
     "text": [
      "/tmp/ipykernel_29654/455679639.py:1: FutureWarning: A value is trying to be set on a copy of a DataFrame or Series through chained assignment using an inplace method.\n",
      "The behavior will change in pandas 3.0. This inplace method will never work because the intermediate object on which we are setting values always behaves as a copy.\n",
      "\n",
      "For example, when doing 'df[col].method(value, inplace=True)', try using 'df.method({col: value}, inplace=True)' or df[col] = df[col].method(value) instead, to perform the operation inplace on the original object.\n",
      "\n",
      "\n",
      "  df['SeriousDlqin2yrs'].fillna(0, inplace=True)\n"
     ]
    }
   ],
   "source": [
    "df['SeriousDlqin2yrs'].fillna(0, inplace=True)"
   ]
  },
  {
   "cell_type": "code",
   "execution_count": 14,
   "metadata": {},
   "outputs": [
    {
     "data": {
      "text/plain": [
       "False"
      ]
     },
     "execution_count": 14,
     "metadata": {},
     "output_type": "execute_result"
    }
   ],
   "source": [
    "df['RevolvingUtilizationOfUnsecuredLines'].isnull().any() # видим что здесь нет пустых ячеек тоже"
   ]
  },
  {
   "cell_type": "code",
   "execution_count": 15,
   "metadata": {},
   "outputs": [
    {
     "data": {
      "text/plain": [
       "False"
      ]
     },
     "execution_count": 15,
     "metadata": {},
     "output_type": "execute_result"
    }
   ],
   "source": [
    "df['NumberOfTime30-59DaysPastDueNotWorse'].isnull().any()"
   ]
  },
  {
   "cell_type": "code",
   "execution_count": 16,
   "metadata": {},
   "outputs": [
    {
     "data": {
      "text/plain": [
       "False"
      ]
     },
     "execution_count": 16,
     "metadata": {},
     "output_type": "execute_result"
    }
   ],
   "source": [
    "df['DebtRatio'].isnull().any() # тоже нет"
   ]
  },
  {
   "cell_type": "code",
   "execution_count": 17,
   "metadata": {},
   "outputs": [
    {
     "data": {
      "text/plain": [
       "True"
      ]
     },
     "execution_count": 17,
     "metadata": {},
     "output_type": "execute_result"
    }
   ],
   "source": [
    "df['MonthlyIncome'].isnull().any() # есть! Значит заполним их средним"
   ]
  },
  {
   "cell_type": "code",
   "execution_count": 18,
   "metadata": {},
   "outputs": [
    {
     "name": "stderr",
     "output_type": "stream",
     "text": [
      "/tmp/ipykernel_29654/1144724241.py:2: FutureWarning: Setting an item of incompatible dtype is deprecated and will raise an error in a future version of pandas. Value '<bound method Series.mean of 0          9120.0\n",
      "1          2600.0\n",
      "2          3042.0\n",
      "3          3300.0\n",
      "4         63588.0\n",
      "           ...   \n",
      "149995     2100.0\n",
      "149996     5584.0\n",
      "149997        NaN\n",
      "149998     5716.0\n",
      "149999     8158.0\n",
      "Name: MonthlyIncome, Length: 150000, dtype: float64>' has dtype incompatible with float64, please explicitly cast to a compatible dtype first.\n",
      "  df['MonthlyIncome'].fillna(meanMI, inplace=True)\n"
     ]
    }
   ],
   "source": [
    "meanMI = df['MonthlyIncome'].mean\n",
    "df['MonthlyIncome'].fillna(meanMI, inplace=True)"
   ]
  },
  {
   "cell_type": "code",
   "execution_count": 19,
   "metadata": {},
   "outputs": [
    {
     "data": {
      "text/plain": [
       "False"
      ]
     },
     "execution_count": 19,
     "metadata": {},
     "output_type": "execute_result"
    }
   ],
   "source": [
    "df['NumberOfOpenCreditLinesAndLoans'].isnull().any()"
   ]
  },
  {
   "cell_type": "code",
   "execution_count": 20,
   "metadata": {},
   "outputs": [
    {
     "data": {
      "text/plain": [
       "False"
      ]
     },
     "execution_count": 20,
     "metadata": {},
     "output_type": "execute_result"
    }
   ],
   "source": [
    "df['NumberOfTimes90DaysLate'].isnull().any()"
   ]
  },
  {
   "cell_type": "code",
   "execution_count": 21,
   "metadata": {},
   "outputs": [
    {
     "data": {
      "text/plain": [
       "(146076, 12)"
      ]
     },
     "execution_count": 21,
     "metadata": {},
     "output_type": "execute_result"
    }
   ],
   "source": [
    "df.dropna().shape "
   ]
  },
  {
   "cell_type": "markdown",
   "metadata": {},
   "source": [
    "Чтобы не повторять эти действия кучу раз, я проверил как много еще осталось пустых значений, и увидел что их мало. Думаю их можно просто отбросить"
   ]
  },
  {
   "cell_type": "code",
   "execution_count": 22,
   "metadata": {},
   "outputs": [],
   "source": [
    "df.dropna(inplace=True)"
   ]
  },
  {
   "cell_type": "code",
   "execution_count": 23,
   "metadata": {},
   "outputs": [],
   "source": [
    "X = df.drop(columns='SeriousDlqin2yrs')\n",
    "y = df['SeriousDlqin2yrs']"
   ]
  },
  {
   "cell_type": "code",
   "execution_count": 24,
   "metadata": {},
   "outputs": [
    {
     "data": {
      "text/html": [
       "<div>\n",
       "<style scoped>\n",
       "    .dataframe tbody tr th:only-of-type {\n",
       "        vertical-align: middle;\n",
       "    }\n",
       "\n",
       "    .dataframe tbody tr th {\n",
       "        vertical-align: top;\n",
       "    }\n",
       "\n",
       "    .dataframe thead th {\n",
       "        text-align: right;\n",
       "    }\n",
       "</style>\n",
       "<table border=\"1\" class=\"dataframe\">\n",
       "  <thead>\n",
       "    <tr style=\"text-align: right;\">\n",
       "      <th></th>\n",
       "      <th>Unnamed: 0</th>\n",
       "      <th>SeriousDlqin2yrs</th>\n",
       "      <th>RevolvingUtilizationOfUnsecuredLines</th>\n",
       "      <th>age</th>\n",
       "      <th>NumberOfTime30-59DaysPastDueNotWorse</th>\n",
       "      <th>DebtRatio</th>\n",
       "      <th>MonthlyIncome</th>\n",
       "      <th>NumberOfOpenCreditLinesAndLoans</th>\n",
       "      <th>NumberOfTimes90DaysLate</th>\n",
       "      <th>NumberRealEstateLoansOrLines</th>\n",
       "      <th>NumberOfTime60-89DaysPastDueNotWorse</th>\n",
       "      <th>NumberOfDependents</th>\n",
       "    </tr>\n",
       "  </thead>\n",
       "  <tbody>\n",
       "    <tr>\n",
       "      <th>0</th>\n",
       "      <td>1</td>\n",
       "      <td>1</td>\n",
       "      <td>0.766127</td>\n",
       "      <td>45</td>\n",
       "      <td>2</td>\n",
       "      <td>0.802982</td>\n",
       "      <td>9120.0</td>\n",
       "      <td>13</td>\n",
       "      <td>0</td>\n",
       "      <td>6</td>\n",
       "      <td>0</td>\n",
       "      <td>2.0</td>\n",
       "    </tr>\n",
       "    <tr>\n",
       "      <th>1</th>\n",
       "      <td>2</td>\n",
       "      <td>0</td>\n",
       "      <td>0.957151</td>\n",
       "      <td>40</td>\n",
       "      <td>0</td>\n",
       "      <td>0.121876</td>\n",
       "      <td>2600.0</td>\n",
       "      <td>4</td>\n",
       "      <td>0</td>\n",
       "      <td>0</td>\n",
       "      <td>0</td>\n",
       "      <td>1.0</td>\n",
       "    </tr>\n",
       "    <tr>\n",
       "      <th>2</th>\n",
       "      <td>3</td>\n",
       "      <td>0</td>\n",
       "      <td>0.658180</td>\n",
       "      <td>38</td>\n",
       "      <td>1</td>\n",
       "      <td>0.085113</td>\n",
       "      <td>3042.0</td>\n",
       "      <td>2</td>\n",
       "      <td>1</td>\n",
       "      <td>0</td>\n",
       "      <td>0</td>\n",
       "      <td>0.0</td>\n",
       "    </tr>\n",
       "    <tr>\n",
       "      <th>3</th>\n",
       "      <td>4</td>\n",
       "      <td>0</td>\n",
       "      <td>0.233810</td>\n",
       "      <td>30</td>\n",
       "      <td>0</td>\n",
       "      <td>0.036050</td>\n",
       "      <td>3300.0</td>\n",
       "      <td>5</td>\n",
       "      <td>0</td>\n",
       "      <td>0</td>\n",
       "      <td>0</td>\n",
       "      <td>0.0</td>\n",
       "    </tr>\n",
       "    <tr>\n",
       "      <th>4</th>\n",
       "      <td>5</td>\n",
       "      <td>0</td>\n",
       "      <td>0.907239</td>\n",
       "      <td>49</td>\n",
       "      <td>1</td>\n",
       "      <td>0.024926</td>\n",
       "      <td>63588.0</td>\n",
       "      <td>7</td>\n",
       "      <td>0</td>\n",
       "      <td>1</td>\n",
       "      <td>0</td>\n",
       "      <td>0.0</td>\n",
       "    </tr>\n",
       "  </tbody>\n",
       "</table>\n",
       "</div>"
      ],
      "text/plain": [
       "   Unnamed: 0  SeriousDlqin2yrs  RevolvingUtilizationOfUnsecuredLines  age  \\\n",
       "0           1                 1                              0.766127   45   \n",
       "1           2                 0                              0.957151   40   \n",
       "2           3                 0                              0.658180   38   \n",
       "3           4                 0                              0.233810   30   \n",
       "4           5                 0                              0.907239   49   \n",
       "\n",
       "   NumberOfTime30-59DaysPastDueNotWorse  DebtRatio MonthlyIncome  \\\n",
       "0                                     2   0.802982        9120.0   \n",
       "1                                     0   0.121876        2600.0   \n",
       "2                                     1   0.085113        3042.0   \n",
       "3                                     0   0.036050        3300.0   \n",
       "4                                     1   0.024926       63588.0   \n",
       "\n",
       "   NumberOfOpenCreditLinesAndLoans  NumberOfTimes90DaysLate  \\\n",
       "0                               13                        0   \n",
       "1                                4                        0   \n",
       "2                                2                        1   \n",
       "3                                5                        0   \n",
       "4                                7                        0   \n",
       "\n",
       "   NumberRealEstateLoansOrLines  NumberOfTime60-89DaysPastDueNotWorse  \\\n",
       "0                             6                                     0   \n",
       "1                             0                                     0   \n",
       "2                             0                                     0   \n",
       "3                             0                                     0   \n",
       "4                             1                                     0   \n",
       "\n",
       "   NumberOfDependents  \n",
       "0                 2.0  \n",
       "1                 1.0  \n",
       "2                 0.0  \n",
       "3                 0.0  \n",
       "4                 0.0  "
      ]
     },
     "execution_count": 24,
     "metadata": {},
     "output_type": "execute_result"
    }
   ],
   "source": [
    "df.head()"
   ]
  },
  {
   "cell_type": "code",
   "execution_count": 25,
   "metadata": {},
   "outputs": [],
   "source": [
    "y = to_categorical(y) # one-hot encoding"
   ]
  },
  {
   "cell_type": "code",
   "execution_count": 26,
   "metadata": {},
   "outputs": [],
   "source": [
    "X['MonthlyIncome'] = pd.to_numeric(df['MonthlyIncome'], errors='coerce')"
   ]
  },
  {
   "cell_type": "markdown",
   "metadata": {},
   "source": [
    "Для лучшего обучения модели скалируем их"
   ]
  },
  {
   "cell_type": "code",
   "execution_count": 27,
   "metadata": {},
   "outputs": [],
   "source": [
    "from sklearn.preprocessing import MinMaxScaler\n",
    "scaler = MinMaxScaler()\n",
    "X_scaled = scaler.fit_transform(X)"
   ]
  },
  {
   "cell_type": "markdown",
   "metadata": {},
   "source": [
    "Пора приступить к созданию модели"
   ]
  },
  {
   "cell_type": "code",
   "execution_count": 28,
   "metadata": {},
   "outputs": [],
   "source": [
    "import tensorflow as tf\n",
    "from keras.layers import Dense, Dropout, ReLU\n",
    "from keras.models import Sequential\n",
    "from tensorflow.keras.losses import BinaryCrossentropy\n",
    "from tqdm import tqdm"
   ]
  },
  {
   "cell_type": "code",
   "execution_count": 29,
   "metadata": {},
   "outputs": [],
   "source": [
    "model = Sequential()\n",
    "model.add(Dense(64, input_shape=(X_scaled.shape[1],)))\n",
    "model.add(ReLU())\n",
    "model.add(Dropout(0.2))\n",
    "model.add(Dense(32))\n",
    "model.add(ReLU())\n",
    "model.add(Dropout(0.2))\n",
    "model.add(Dense(2, activation='softmax'))"
   ]
  },
  {
   "cell_type": "code",
   "execution_count": 30,
   "metadata": {},
   "outputs": [],
   "source": [
    "optimizer = tf.keras.optimizers.Adam(learning_rate=0.001)\n",
    "model.compile(optimizer=optimizer, loss='binary_crossentropy', metrics=['accuracy'])"
   ]
  },
  {
   "cell_type": "code",
   "execution_count": 31,
   "metadata": {},
   "outputs": [
    {
     "name": "stdout",
     "output_type": "stream",
     "text": [
      "Epoch 1/10\n",
      "2283/2283 [==============================] - 3s 893us/step - loss: 0.9387 - accuracy: 0.9325\n",
      "Epoch 2/10\n",
      "2283/2283 [==============================] - 2s 958us/step - loss: 0.2520 - accuracy: 0.9326\n",
      "Epoch 3/10\n",
      "2283/2283 [==============================] - 2s 1ms/step - loss: 0.2498 - accuracy: 0.9326\n",
      "Epoch 4/10\n",
      "2283/2283 [==============================] - 2s 1ms/step - loss: 0.2490 - accuracy: 0.9326\n",
      "Epoch 5/10\n",
      "2283/2283 [==============================] - 2s 1ms/step - loss: 0.2487 - accuracy: 0.9326\n",
      "Epoch 6/10\n",
      "2283/2283 [==============================] - 2s 915us/step - loss: 0.2480 - accuracy: 0.9326\n",
      "Epoch 7/10\n",
      "2283/2283 [==============================] - 2s 844us/step - loss: 0.2480 - accuracy: 0.9326\n",
      "Epoch 8/10\n",
      "2283/2283 [==============================] - 2s 837us/step - loss: 0.2475 - accuracy: 0.9326\n",
      "Epoch 9/10\n",
      "2283/2283 [==============================] - 2s 886us/step - loss: 0.2476 - accuracy: 0.9326\n",
      "Epoch 10/10\n",
      "2283/2283 [==============================] - 2s 991us/step - loss: 0.2473 - accuracy: 0.9326\n"
     ]
    },
    {
     "data": {
      "text/plain": [
       "<keras.src.callbacks.History at 0x7fcc8c4f1a90>"
      ]
     },
     "execution_count": 31,
     "metadata": {},
     "output_type": "execute_result"
    }
   ],
   "source": [
    "model.fit(X, y, epochs=10, batch_size=64)"
   ]
  },
  {
   "cell_type": "code",
   "execution_count": 32,
   "metadata": {},
   "outputs": [],
   "source": [
    "batch_size=64\n",
    "epochs=5\n",
    "step_per_epoch = len(X_scaled) // batch_size\n",
    "cross_entropy = BinaryCrossentropy(from_logits=True)"
   ]
  },
  {
   "cell_type": "markdown",
   "metadata": {},
   "source": [
    "Сделать обучение без метода фит не успел, я попытался, но обучение не идет"
   ]
  },
  {
   "cell_type": "markdown",
   "metadata": {},
   "source": [
    "Не запускать"
   ]
  },
  {
   "cell_type": "code",
   "execution_count": 33,
   "metadata": {},
   "outputs": [],
   "source": [
    "# for epoch in range(epochs):\n",
    "#     print(f\"Эпоха номер {epoch+1}\")\n",
    "#     progress_bar = tqdm(range(step_per_epoch))\n",
    "#     for step in progress_bar:\n",
    "#         batch_x = X_scaled[step*batch_size:(step+1)*batch_size]\n",
    "#         # print(batch_x[0])\n",
    "#         batch_y = y[step*batch_size:(step+1)*batch_size]\n",
    "#         # print(batch_y[0])\n",
    "#         with tf.GradientTape() as tape:\n",
    "#             y_pred = model(batch_x, training=True)\n",
    "#             loss = cross_entropy(batch_y, y_pred)\n",
    "#         gradients = tape.gradient(loss, model.trainable_variables)\n",
    "#         optimizer.apply_gradients(zip(gradients, model.trainable_variables))\n",
    "#         accuracy = tf.keras.metrics.binary_accuracy(batch_y, y_pred)\n",
    "\n",
    "#         progress_bar.set_description(f'Шаг {step+1}/{step_per_epoch}, Loss: {loss.numpy()}, accuracy: {accuracy.numpy()}')\n"
   ]
  },
  {
   "cell_type": "markdown",
   "metadata": {},
   "source": [
    "Сохраним модель"
   ]
  },
  {
   "cell_type": "code",
   "execution_count": 42,
   "metadata": {},
   "outputs": [],
   "source": [
    "import tf2onnx"
   ]
  },
  {
   "cell_type": "code",
   "execution_count": 51,
   "metadata": {},
   "outputs": [
    {
     "name": "stderr",
     "output_type": "stream",
     "text": [
      "2024-03-17 22:39:03.911477: I tensorflow/core/grappler/devices.cc:66] Number of eligible GPUs (core count >= 8, compute capability >= 0.0): 0\n",
      "2024-03-17 22:39:03.911591: I tensorflow/core/grappler/clusters/single_machine.cc:361] Starting new session\n",
      "2024-03-17 22:39:03.956600: I tensorflow/core/grappler/devices.cc:66] Number of eligible GPUs (core count >= 8, compute capability >= 0.0): 0\n",
      "2024-03-17 22:39:03.956692: I tensorflow/core/grappler/clusters/single_machine.cc:361] Starting new session\n"
     ]
    }
   ],
   "source": [
    "onnx_model = tf2onnx.convert.from_keras(model, output_path='model.onnx')"
   ]
  }
 ],
 "metadata": {
  "kernelspec": {
   "display_name": "tensorflow_ai",
   "language": "python",
   "name": "python3"
  },
  "language_info": {
   "codemirror_mode": {
    "name": "ipython",
    "version": 3
   },
   "file_extension": ".py",
   "mimetype": "text/x-python",
   "name": "python",
   "nbconvert_exporter": "python",
   "pygments_lexer": "ipython3",
   "version": "3.11.8"
  }
 },
 "nbformat": 4,
 "nbformat_minor": 2
}
