{
  "nbformat": 4,
  "nbformat_minor": 0,
  "metadata": {
    "colab": {
      "provenance": []
    },
    "kernelspec": {
      "name": "python3",
      "display_name": "Python 3"
    },
    "language_info": {
      "name": "python"
    }
  },
  "cells": [
    {
      "cell_type": "markdown",
      "source": [
        "Напишем программу, которая будет моделировать объекты класса «Автомобиль». При моделировании необходимо определить степень детализации объектов, которая зависит от действий, выполняемых этими объектами."
      ],
      "metadata": {
        "id": "19kLehsFO58S"
      }
    },
    {
      "cell_type": "markdown",
      "source": [
        "- Пусть все автомобили имеют разный цвет.\n",
        "- Двигатель можно запустить, если в баке есть топливо.\n",
        "- Двигатель можно заглушить.\n",
        "- На автомобиле можно отправиться в путь на N километров при соблюдении следующих условий: двигатель запущен и запас топлива в баке и средний расход позволяют проехать этот путь.\n",
        "- После поездки запас топлива уменьшается в соответствии со средним расходом.\n",
        "- Автомобиль можно заправить до полного бака в любой момент времени."
      ],
      "metadata": {
        "id": "PXVnbQO3O8PZ"
      }
    },
    {
      "cell_type": "markdown",
      "source": [
        "Выделим важные для нашей программы свойства объектов класса: цвет, средний расход топлива, объём топливного бака, запас топлива, общий пробег.\n",
        "\n",
        "Определим, какие действия может выполнять объект: запустить двигатель, проехать N километров, остановить двигатель, заправить автомобиль. Пока наши знания позволяют использовать в качестве объекта в программе словарь.\n",
        "\n",
        "Попробуем описать объекты этого класса с помощью коллекций и функций:"
      ],
      "metadata": {
        "id": "Eq85GuXyPEpW"
      }
    },
    {
      "cell_type": "code",
      "source": [
        "def create_car(color, consumption, tank_volume, mileage=0):\n",
        "    return {\n",
        "        \"color\": color,\n",
        "        \"consumption\": consumption,\n",
        "        \"tank_volume\": tank_volume,\n",
        "        \"reserve\": tank_volume,\n",
        "        \"mileage\": mileage,\n",
        "        \"engine_on\": False\n",
        "    }\n",
        "\n",
        "\n",
        "def start_engine(car):\n",
        "    if not car[\"engine_on\"] and car[\"reserve\"] > 0:\n",
        "       car[\"engine_on\"] = True\n",
        "       return \"Двигатель запущен\"\n",
        "    return \"Двигатель уже был запущен или недостаточно топлива\"\n",
        "\n",
        "\n",
        "def stop_engine(car):\n",
        "    if car[\"engine_on\"]:\n",
        "      car[\"engine_on\"] = False\n",
        "      return \"Двигатель остановлен\"\n",
        "    return \"Двигатель уже был остановлен\"\n",
        "\n",
        "\n",
        "def drive(car, distance):\n",
        "    if not car[\"engine_on\"]:\n",
        "      return \"Двигатель не запущен\"\n",
        "    if car[\"reserve\"] / car[\"consumption\"] * 100 < distance:\n",
        "      return \"малый запас топлива\"\n",
        "    car[\"mileage\"] += distance\n",
        "    car[\"reserve\"] -= distance / 100 * car[\"consumption\"]\n",
        "    return f\"Проехали {distance} км. Остаток топлива {car['reserve']}\"\n",
        "\n",
        "\n",
        "def refuel(car):\n",
        "    car[\"reserve\"] = car[\"tank_volume\"]\n",
        "\n",
        "\n",
        "def get_mileage(car):\n",
        "    return f\"Пробег: {car['mileage']}\"\n",
        "\n",
        "def get_reserve(car):\n",
        "    return \"Осталось: {car['reserve']} топлива\"\n",
        "\n",
        "\n",
        "car_1 = create_car(color=\"black\", consumption=10, tank_volume=55)\n",
        "\n",
        "print(start_engine(car_1))\n",
        "print(drive(car_1, 100))\n",
        "print(drive(car_1, 100))\n",
        "print(drive(car_1, 100))\n",
        "print(drive(car_1, 300))\n",
        "print(get_mileage(car_1))\n",
        "print(get_reserve(car_1))\n",
        "print(stop_engine(car_1))\n",
        "print(drive(car_1, 100))"
      ],
      "metadata": {
        "colab": {
          "base_uri": "https://localhost:8080/"
        },
        "id": "bF_eGJPSO6Nq",
        "outputId": "6b64a596-f2a0-49cc-e083-2b53a3731d06"
      },
      "execution_count": null,
      "outputs": [
        {
          "output_type": "stream",
          "name": "stdout",
          "text": [
            "Двигатель запущен\n",
            "Проехали 100 км. Остаток топлива 45.0\n",
            "Проехали 100 км. Остаток топлива 35.0\n",
            "Проехали 100 км. Остаток топлива 25.0\n",
            "малый запас топлива\n",
            "Пробег: 300\n",
            "Осталось: {car['reserve']} топлива\n",
            "Двигатель остановлен\n",
            "Двигатель не запущен\n"
          ]
        }
      ]
    },
    {
      "cell_type": "markdown",
      "source": [
        "Мы описали все действия над объектом с помощью функций. Такой подход в программировании называется процедурным и долгое время был популярным. Он позволяет эффективно решать простые задачи. Однако при усложнении задачи и появлении новых объектов процедурный подход приводит к дублированию и ухудшению читаемости кода."
      ],
      "metadata": {
        "id": "ROvnWP6XPRdH"
      }
    },
    {
      "cell_type": "markdown",
      "source": [
        "Объектно-ориентированное программирование (ООП) позволяет устранить недостатки процедурного подхода. Язык программирования Python является объектно-ориентированным. Это означает, что каждая сущность (переменная, функция и т. д.) в этом языке является объектом определённого класса. Ранее мы говорили, что, например, целое число является в Python типом данных int. На самом деле есть класс целых чисел int."
      ],
      "metadata": {
        "id": "KEdzZLVfPT4I"
      }
    },
    {
      "cell_type": "code",
      "source": [
        "print(type(lambda x: x+1))"
      ],
      "metadata": {
        "colab": {
          "base_uri": "https://localhost:8080/"
        },
        "id": "YmLs-ARoPRnP",
        "outputId": "69aab689-b98e-4581-be2b-0de8e3edabae"
      },
      "execution_count": null,
      "outputs": [
        {
          "output_type": "stream",
          "name": "stdout",
          "text": [
            "<class 'function'>\n"
          ]
        }
      ]
    },
    {
      "cell_type": "markdown",
      "source": [
        "Синтаксис создания класса в Python выглядит следующим образом:\n",
        "\n",
        "```\n",
        "class <ИмяКласса>:\n",
        "    <описание класса>\n",
        "```\n",
        "\n"
      ],
      "metadata": {
        "id": "N2nFbS2UPY81"
      }
    },
    {
      "cell_type": "markdown",
      "source": [
        "Имя класса по стандарту PEP 8 записывается в стиле CapWords (каждое слово с прописной буквы).\n",
        "\n",
        "Давайте перепишем пример про автомобили с использованием ООП. Создадим класс Car и пока оставим в нём инструкцию-заглушку pass:"
      ],
      "metadata": {
        "id": "nZrS3gdtPomk"
      }
    },
    {
      "cell_type": "code",
      "source": [
        "class Car:\n",
        "    pass"
      ],
      "metadata": {
        "id": "2Aqbe_Q8PV_E"
      },
      "execution_count": null,
      "outputs": []
    },
    {
      "cell_type": "markdown",
      "source": [
        "В классах описываются свойства объектов и действия объектов или совершаемые над ними действия.\n",
        "\n",
        "Свойства объектов называются атрибутами. По сути атрибуты — переменные, в значениях которых хранятся свойства объекта. Для создания или изменения значения атрибута необходимо использовать следующий синтаксис:"
      ],
      "metadata": {
        "id": "XVDAIqV8Pt3R"
      }
    },
    {
      "cell_type": "markdown",
      "source": [
        "<имя_объекта>.<имя_атрибута> = <значение>"
      ],
      "metadata": {
        "id": "90MbTiFZPzNS"
      }
    },
    {
      "cell_type": "markdown",
      "source": [
        "Действия объектов называются методами. Методы очень похожи на функции, в них можно передавать аргументы и возвращать значения с помощью оператора return, но вызываются методы после указания конкретного объекта. Для создания метода используется следующий синтаксис:\n",
        "\n",
        "```\n",
        "def <имя_метода>(self, <аргументы>):\n",
        "    <тело метода>\n",
        "```"
      ],
      "metadata": {
        "id": "6-q0egwbP01J"
      }
    },
    {
      "cell_type": "markdown",
      "source": [
        "В методах первым аргументом всегда идёт объект self. Он является объектом, для которого вызван метод. self позволяет использовать внутри описания класса атрибуты объекта в методах и вызывать сами методы."
      ],
      "metadata": {
        "id": "Clsg4zV_P9ql"
      }
    },
    {
      "cell_type": "markdown",
      "source": [
        "Во всех классах Python есть специальный метод __init__(), который вызывается при создании объекта. В этом методе происходит инициализация всех атрибутов класса. В методы можно передавать аргументы. Вернёмся к нашему примеру и создадим в классе метод __init__(), который будет при создании автомобиля принимать его свойства как аргументы:"
      ],
      "metadata": {
        "id": "PzHasP8GQAV7"
      }
    },
    {
      "cell_type": "code",
      "source": [
        "class Car:\n",
        "\n",
        "    def __init__(self, color, consumption, tank_volume, mileage=0):\n",
        "        self.color = color\n",
        "        self.consumption = consumption\n",
        "        self.tank_volume = tank_volume\n",
        "        self.reserve = tank_volume\n",
        "        self.mileage = mileage\n",
        "        self.engine_on = False"
      ],
      "metadata": {
        "id": "qF1lLDvGPq1h"
      },
      "execution_count": null,
      "outputs": []
    },
    {
      "cell_type": "markdown",
      "source": [
        "Итак, мы создали класс автомобилей и описали метод __init__() для инициализации его объектов. Для создания объекта класса нужно использовать следующий синтаксис:\n",
        "```\n",
        "<имя_объекта> = <ИмяКласса>(<аргументы метода __init__()>)\n",
        "```"
      ],
      "metadata": {
        "id": "QwdCcmS5QF9h"
      }
    },
    {
      "cell_type": "markdown",
      "source": [
        "Создадим в программе автомобиль класса Car. Для этого добавим следующую строку в основной код программы после описания класса, отделив от класса, согласно PEP 8, двумя пустыми строками:"
      ],
      "metadata": {
        "id": "CCO6do9ZQKoR"
      }
    },
    {
      "cell_type": "code",
      "source": [
        "car_1 = Car(color=\"black\", consumption=10, tank_volume=55)"
      ],
      "metadata": {
        "id": "bLUPWDVjQC9Y"
      },
      "execution_count": null,
      "outputs": []
    },
    {
      "cell_type": "code",
      "source": [
        "car_1"
      ],
      "metadata": {
        "colab": {
          "base_uri": "https://localhost:8080/"
        },
        "id": "wYNUytVcEGQI",
        "outputId": "fb72b2dd-78dc-4f46-e59d-274e9ec9caef"
      },
      "execution_count": null,
      "outputs": [
        {
          "output_type": "execute_result",
          "data": {
            "text/plain": [
              "<__main__.Car at 0x7efb832ab2e0>"
            ]
          },
          "metadata": {},
          "execution_count": 7
        }
      ]
    },
    {
      "cell_type": "markdown",
      "source": [
        "Обратите внимание: наш код стало легче читать, потому что мы видим, что создаётся объект определённого класса, а не просто вызывается функция, из которой возвращается значение-словарь.\n",
        "\n",
        "Опишем с помощью методов, какие действия могут совершать объекты класса Car. По PEP 8, между объявлением методов нужно поставить одну пустую строку."
      ],
      "metadata": {
        "id": "CP2h6zv4QSjp"
      }
    },
    {
      "cell_type": "code",
      "source": [
        "class Car:\n",
        "\n",
        "    def __init__(self, color, consumption, tank_volume, mileage=0):\n",
        "        self.color = color\n",
        "        self.consumption = consumption\n",
        "        self.tank_volume = tank_volume\n",
        "        self.reserve = tank_volume\n",
        "        self.mileage = mileage\n",
        "        self.engine_on = False\n",
        "\n",
        "    def start_engine(self):\n",
        "      if not self.engine_on and self.reserve > 0:\n",
        "        self.engine_on = True\n",
        "        return \"Двигатель запущен\"\n",
        "      return \"Двигатель уже был запущен или недостаточно топлива\"\n",
        "\n",
        "\n",
        "    def stop_engine(self):\n",
        "      if self.engine_on:\n",
        "        self.engine_on = False\n",
        "        return \"Двигатель остановлен\"\n",
        "      return \"Двигатель уже был остановлен\"\n",
        "\n",
        "    def drive(self, distance):\n",
        "      if not self.engine_on:\n",
        "        return \"Двигатель не запущен\"\n",
        "      if self.reserve / self.consumption * 100 < distance:\n",
        "        return \"малый запас топлива\"\n",
        "      self.mileage += distance\n",
        "      self.reserve -= distance / 100 * self.consumption\n",
        "      return f\"Проехали {distance} км. Остаток топлива {self.reserve}\"\n",
        "\n",
        "    def refuel(self):\n",
        "        self.reserve = self.tank_volume\n",
        "\n",
        "    def get_mileage(self):\n",
        "        return f\"Пробег: {self.mileage}\"\n",
        "\n",
        "    def get_reserve(self):\n",
        "        return self.reserve\n",
        "\n",
        "    def get_consumption(self):\n",
        "      return self.consumption\n",
        "\n",
        "\n",
        "car_1 = Car(color=\"black\", consumption=10, tank_volume=55)\n",
        "print(car_1.start_engine())\n",
        "print(car_1.drive(100))\n",
        "print(car_1.drive(100))\n",
        "print(car_1.drive(100))\n",
        "print(car_1.drive(300))\n",
        "print(f\"Пробег {car_1.get_mileage()} км.\")\n",
        "print(f\"Запас топлива {car_1.get_reserve()} л.\")\n",
        "print(car_1.stop_engine())\n",
        "print(car_1.drive(100))"
      ],
      "metadata": {
        "colab": {
          "base_uri": "https://localhost:8080/"
        },
        "id": "0H_er4fhQP3Q",
        "outputId": "c9f2dd80-0075-4c4b-9db6-7baee2903590"
      },
      "execution_count": null,
      "outputs": [
        {
          "output_type": "stream",
          "name": "stdout",
          "text": [
            "Двигатель запущен\n",
            "Проехали 100 км. Остаток топлива 45.0\n",
            "Проехали 100 км. Остаток топлива 35.0\n",
            "Проехали 100 км. Остаток топлива 25.0\n",
            "малый запас топлива\n",
            "Пробег Пробег: 300 км.\n",
            "Запас топлива 25.0 л.\n",
            "Двигатель остановлен\n",
            "Двигатель не запущен\n"
          ]
        }
      ]
    },
    {
      "cell_type": "markdown",
      "source": [
        "Обратите внимание: взаимодействие с объектом класса вне описания класса осуществляется только с помощью методов, прямого доступа к атрибутам не происходит. Этот принцип ООП называется инкапсуляцией."
      ],
      "metadata": {
        "id": "gyQuCyFlQu40"
      }
    },
    {
      "cell_type": "markdown",
      "source": [
        "Инкапсуляция заключается в сокрытии внутреннего устройства класса за интерфейсом, состоящим из методов класса. Это необходимо, чтобы не нарушать логику работы методов внутри класса. Если не следовать принципу инкапсуляции и попытаться взаимодействовать с атрибутами напрямую, то могут происходить изменения, которые приведут к ошибкам. Например, если в нашем примере попытаться изменить пробег напрямую, а не с помощью метода drive(), то автомобиль проедет указанный путь даже с пустым баком и без расхода топлива:\n",
        "\n"
      ],
      "metadata": {
        "id": "sRRuIwcVQu-6"
      }
    },
    {
      "cell_type": "code",
      "source": [
        "car_1 = Car(color=\"black\", consumption=10, tank_volume=55)\n",
        "car_1.mileage = 1000\n",
        "print(f\"Пробег {car_1.get_mileage()} км.\")\n",
        "print(f\"Запас топлива {car_1.get_reserve()} л.\")"
      ],
      "metadata": {
        "colab": {
          "base_uri": "https://localhost:8080/"
        },
        "id": "VPYuDvGDQ_QS",
        "outputId": "17d00470-9907-4aac-9a1a-542925a27c37"
      },
      "execution_count": null,
      "outputs": [
        {
          "output_type": "stream",
          "name": "stdout",
          "text": [
            "Пробег Пробег: 1000 км.\n",
            "Запас топлива Осталось: 55 топлива л.\n"
          ]
        }
      ]
    },
    {
      "cell_type": "markdown",
      "source": [
        "Давайте напишем ещё один класс для электромобилей. Их отличие будет заключаться в замене топливного бака на заряд аккумуляторной батареи:"
      ],
      "metadata": {
        "id": "fNzXyL_0Rb5K"
      }
    },
    {
      "cell_type": "code",
      "source": [
        "class ElectricCar:\n",
        "\n",
        "    def __init__(self, color, consumption, bar_capacity, mileage=0):\n",
        "        self.color = color\n",
        "        self.consumption = consumption\n",
        "        self.tank_volume = bar_capacity\n",
        "        self.reserve = bar_capacity\n",
        "        self.mileage = mileage\n",
        "        self.engine_on = False\n",
        "\n",
        "    def start_engine(self):\n",
        "      if not self.engine_on and self.reserve > 0:\n",
        "        self.engine_on = True\n",
        "        return \"Двигатель запущен\"\n",
        "      return \"Двигатель уже был запущен или недостаточно топлива\"\n",
        "\n",
        "\n",
        "    def stop_engine(self):\n",
        "      if self.engine_on:\n",
        "        self.engine_on = False\n",
        "        return \"Двигатель остановлен\"\n",
        "      return \"Двигатель уже был остановлен\"\n",
        "\n",
        "    def drive(self, distance):\n",
        "      if not self.engine_on:\n",
        "        return \"Двигатель не запущен\"\n",
        "      if self.reserve / self.consumption * 100 < distance:\n",
        "        return \"малый запас топлива\"\n",
        "      self.mileage += distance\n",
        "      self.reserve -= distance / 100 * self.consumption\n",
        "      return f\"Проехали {distance} км. Остаток топлива {self.reserve}\"\n",
        "\n",
        "    def recharge(self):\n",
        "        self.reserve = self.bar_capacity\n",
        "\n",
        "    def get_mileage(self):\n",
        "        return f\"Пробег: {self.mileage}\"\n",
        "\n",
        "    def get_reserve(self):\n",
        "        return self.reserve\n",
        "\n",
        "    def get_consumption(self):\n",
        "      return self.consumption\n"
      ],
      "metadata": {
        "id": "uSnVqYGyStGw"
      },
      "execution_count": null,
      "outputs": []
    },
    {
      "cell_type": "markdown",
      "source": [
        "Напишем функцию range_reserve(), которая будет определять для автомобилей классов Car и ElectricCar запас хода в километрах. Функции, которые могут работать с объектами разных классов, называются полиморфными. А сам принцип ООП называется полиморфизмом."
      ],
      "metadata": {
        "id": "kUfa8grTRnlb"
      }
    },
    {
      "cell_type": "markdown",
      "source": [
        "Говоря о полиморфизме в Python, стоит упомянуть принятую в этом языке так называемую «утиную типизацию» (Duck typing). Она получила своё название от шутливого выражения: «Если нечто выглядит как утка, плавает как утка и крякает как утка, это, вероятно, утка и есть» («If it looks like a duck, swims like a duck and quacks like a duck, then it probably is a duck»). В программах на Python это означает, что, если какой-то объект поддерживает все требуемые от него операции, с ним и будут работать с помощью этих операций, не заботясь о том, какого он на самом деле типа.\n",
        "\n",
        "Чтобы функция работала для объектов обоих классов, необходимо предусмотреть одинаковый интерфейс в классах. Это означает, что методы классов, используемые в функции, должны называться одинаково, принимать одинаковые аргументы и возвращать значения одного типа данных.\n",
        "\n",
        "Запас хода в километрах можно вычислить, разделив запас топлива (или заряд батареи) на расход и умножив результат на 100. Определить запас топлива или заряд батареи можно с помощью метода get_reserve(). Для соблюдения принципа инкапсуляции добавим метод get_consumption() в оба класса для получения значения атрибута consumption. Тогда полиморфная функция запишется так:"
      ],
      "metadata": {
        "id": "ma4eR0TSSv2j"
      }
    },
    {
      "cell_type": "code",
      "source": [
        "def range_reserve(car):\n",
        "    return car.get_reserve() / car.get_consumption() * 100"
      ],
      "metadata": {
        "id": "XfG_Q4-2RjBI"
      },
      "execution_count": null,
      "outputs": []
    },
    {
      "cell_type": "code",
      "source": [
        "car_1 = Car(color=\"black\", consumption=10, tank_volume=55)\n",
        "car_2 = ElectricCar(color=\"white\", consumption=15, bar_capacity=70)\n",
        "\n",
        "\n",
        "range_reserve(car_1),  range_reserve(car_2)"
      ],
      "metadata": {
        "colab": {
          "base_uri": "https://localhost:8080/"
        },
        "id": "-c0hpltDGadd",
        "outputId": "03cfc1ea-c7b8-4628-d55b-a91871323cef"
      },
      "execution_count": null,
      "outputs": [
        {
          "output_type": "execute_result",
          "data": {
            "text/plain": [
              "(550.0, 466.6666666666667)"
            ]
          },
          "metadata": {},
          "execution_count": 17
        }
      ]
    },
    {
      "cell_type": "markdown",
      "source": [
        "В нашей программе можно заметить, что классы Car и ElectricCar имеют много общих атрибутов и методов. Это привело к дублированию кода."
      ],
      "metadata": {
        "id": "9XvLS7d1S7CQ"
      }
    },
    {
      "cell_type": "markdown",
      "source": [
        "## Практика"
      ],
      "metadata": {
        "id": "FSpgNH47S8Na"
      }
    },
    {
      "cell_type": "markdown",
      "source": [
        "Объектно-ориентированное программирование — популярная парадигма в современном мире. Это вполне очевидно, ведь любой объект реального мира мы теперь можем представить в виде цифрового набора полей и методов. Давайте приступим к проектированию классов.\n",
        "\n",
        "Разработайте класс Point, который при инициализации принимает координаты точки на декартовой плоскости и сохраняет их в поля x и y соответственно."
      ],
      "metadata": {
        "id": "bhHDq0sBcRSK"
      }
    },
    {
      "cell_type": "code",
      "source": [
        "\n",
        "class Point:\n",
        "\n",
        "  def __init__(self, x, y):\n",
        "    self.x = x\n",
        "    self.y = y\n",
        "\n",
        "  def move(self, x, y):\n",
        "    self.x += x\n",
        "    self.y += y\n",
        "\n",
        "  def lenght(self, x, y):\n",
        "    return ((self.x - x)**2 + (self.y - y)**2 )**0.5\n",
        "\n",
        "\n",
        "\n",
        "\n",
        "point = Point(3, 5)\n",
        "print(point.x, point.y)"
      ],
      "metadata": {
        "colab": {
          "base_uri": "https://localhost:8080/"
        },
        "id": "et4Vb3KCS9yT",
        "outputId": "87e6cbe7-bf5a-4dd0-a1d7-a554798ea3c5"
      },
      "execution_count": null,
      "outputs": [
        {
          "output_type": "stream",
          "name": "stdout",
          "text": [
            "3 5\n"
          ]
        }
      ]
    },
    {
      "cell_type": "markdown",
      "source": [
        "Давайте расширим функционал класса, написанного в прошлой задаче.\n",
        "\n",
        "Реализуйте методы:\n",
        "\n",
        "- move, который перемещает точку на заданное расстояние по осям x и y;\n",
        "- length, который определяет до переданной точки расстояние, округлённое до сотых."
      ],
      "metadata": {
        "id": "dvxiuYdEccWA"
      }
    },
    {
      "cell_type": "code",
      "source": [
        "point = Point(3, 5)\n",
        "print(point.x, point.y)\n",
        "point.move(2, -3)\n",
        "print(point.x, point.y)\n",
        "\n",
        "\n",
        "# Вывод\n",
        "# 3 5\n",
        "# 5 2"
      ],
      "metadata": {
        "colab": {
          "base_uri": "https://localhost:8080/"
        },
        "id": "jQmnCr-5cguP",
        "outputId": "6a9c9d64-8bb4-4414-ea4f-d87c6c69c7ff"
      },
      "execution_count": null,
      "outputs": [
        {
          "output_type": "stream",
          "name": "stdout",
          "text": [
            "3 5\n",
            "5 2\n"
          ]
        }
      ]
    },
    {
      "cell_type": "markdown",
      "source": [
        "Если написать предупреждение «Не нажимай красную кнопку!», то её сразу безумно хочется нажать.\n",
        "\n",
        "Напишите класс RedButton, который описывает красную кнопку.\n",
        "\n",
        "Класс должен реализовывать методы:\n",
        "\n",
        "- click() — эмулирует нажатие кнопки, выводит сообщение \"Тревога!\";\n",
        "- count() — возвращает количество раз, которое была нажата кнопка.\n"
      ],
      "metadata": {
        "id": "8oywEpTdcQ6I"
      }
    },
    {
      "cell_type": "code",
      "source": [
        "\n",
        "\n",
        "class RedButton:\n",
        "\n",
        "  def __init__(self):\n",
        "    self.value_count = 0\n",
        "\n",
        "\n",
        "  def click(self):\n",
        "    self.value_count += 1\n",
        "    print(\"Тревога!\")\n",
        "\n",
        "  def count(self):\n",
        "    return self.value_count\n",
        "\n",
        "\n",
        "first_button = RedButton()\n",
        "second_button = RedButton()\n",
        "for time in range(5):\n",
        "    if time % 2 == 0:\n",
        "        second_button.click()\n",
        "    else:\n",
        "        first_button.click()\n",
        "print(first_button.count(), second_button.count())\n",
        "\n",
        "\n",
        "\n",
        "# Вывод\n",
        "# Тревога!\n",
        "# Тревога!\n",
        "# Тревога!\n",
        "# Тревога!\n",
        "# Тревога!\n",
        "# 2 3"
      ],
      "metadata": {
        "colab": {
          "base_uri": "https://localhost:8080/"
        },
        "id": "_XPYlFh7cQQ6",
        "outputId": "1d56f3ae-01ea-4806-9f51-a7c0b6df5ed6"
      },
      "execution_count": null,
      "outputs": [
        {
          "output_type": "stream",
          "name": "stdout",
          "text": [
            "Тревога!\n",
            "Тревога!\n",
            "Тревога!\n",
            "Тревога!\n",
            "Тревога!\n",
            "2 3\n"
          ]
        }
      ]
    },
    {
      "cell_type": "markdown",
      "source": [
        "Рассмотрим объект «Программист», который задаётся именем, должностью и количеством отработанных часов. Каждая должность имеет собственный оклад (заработную плату за час работы). В нашей импровизированной компании существуют 3 должности:\n",
        "\n",
        "- Junior — с окладом 10 тугриков в час;\n",
        "- Middle — с окладом 15 тугриков в час;\n",
        "- Senior — с окладом 20 тугриков в час по умолчанию и +1 тугрик за каждое новое повышение.\n",
        "\n",
        "Напишите класс Programmer, который инициализируется именем и должностью (отработка у нового работника равна нулю). Класс реализует следующие методы:\n",
        "\n",
        "- work(time) — отмечает новую отработку в количестве часов time;\n",
        "- rise() — повышает программиста;\n",
        "- info() — возвращает строку для бухгалтерии в формате: <имя> <количество отработанных часов>ч. <накопленная зарплата>тгр."
      ],
      "metadata": {
        "id": "H7G7Z4H5cxu6"
      }
    },
    {
      "cell_type": "code",
      "source": [
        "class Programmer:\n",
        "\n",
        "  d = {\"Junior\": 10, \"Middle\": 15, \"Senior\": 20}\n",
        "\n",
        "  def __init__(self, name, position):\n",
        "    self.name = name\n",
        "    self.position = position\n",
        "    self.work_hours = 0\n",
        "    self.total_money = 0\n",
        "    self.salary = Programmer.d[self.position]\n",
        "\n",
        "  def work(self, time):\n",
        "    self.work_hours  += time\n",
        "    self.total_money += time*self.salary\n",
        "\n",
        "  def rise(self):\n",
        "    if self.position == \"Junior\":\n",
        "      self.position = \"Middle\"\n",
        "      self.salary = 15\n",
        "    elif self.position == \"Middle\":\n",
        "      self.position = \"Senior\"\n",
        "      self.salary = 20\n",
        "    else:\n",
        "      self.salary += 1\n",
        "\n",
        "  def info(self):\n",
        "    return f\"{self.name} {self.work_hours}ч. {self.total_money}тгр.\"\n",
        "\n",
        "\n",
        "\n",
        "\n",
        "\n",
        "programmer = Programmer('Васильев Иван', 'Junior')\n",
        "programmer.work(750)\n",
        "print(programmer.info())\n",
        "programmer.rise()\n",
        "programmer.work(500)\n",
        "print(programmer.info())\n",
        "programmer.rise()\n",
        "programmer.work(250)\n",
        "print(programmer.info())\n",
        "programmer.rise()\n",
        "programmer.work(250)\n",
        "print(programmer.info())\n",
        "\n",
        "\n",
        "\n",
        "# Вывод\n",
        "# Васильев Иван 750ч. 7500тгр.\n",
        "# Васильев Иван 1250ч. 15000тгр.\n",
        "# Васильев Иван 1500ч. 20000тгр.\n",
        "# Васильев Иван 1750ч. 25250тгр."
      ],
      "metadata": {
        "colab": {
          "base_uri": "https://localhost:8080/"
        },
        "id": "9IUgJB1jc94x",
        "outputId": "202e7248-6142-4966-9f25-400479dc3aff"
      },
      "execution_count": null,
      "outputs": [
        {
          "output_type": "stream",
          "name": "stdout",
          "text": [
            "Васильев Иван 750ч. 7500тгр.\n",
            "Васильев Иван 1250ч. 15000тгр.\n",
            "Васильев Иван 1500ч. 20000тгр.\n",
            "Васильев Иван 1750ч. 25250тгр.\n"
          ]
        }
      ]
    },
    {
      "cell_type": "markdown",
      "source": [
        "Давайте перейдём к более сложным геометрическим фигурам.\n",
        "\n",
        "Разработайте класс Rectangle.\n",
        "\n",
        "При инициализации класс принимает два кортежа рациональных координат противоположных углов прямоугольника (со сторонами параллельными осям координат).\n",
        "\n",
        "Класс должен реализовывать методы:\n",
        "\n",
        "- perimeter — возвращает периметр прямоугольника;\n",
        "- area — возвращает площадь прямоугольника.\n",
        "\n",
        "\n",
        "Все результаты вычислений нужно округлить до сотых."
      ],
      "metadata": {
        "id": "N8LXyyrWdJn7"
      }
    },
    {
      "cell_type": "code",
      "source": [
        "class Rectangle:\n",
        "    def __init__(self, point1, point2):\n",
        "        self.first_point = point1\n",
        "        self.second_point = point2\n",
        "\n",
        "    def perimeter(self):\n",
        "      x1, y1 = self.first_point\n",
        "      x2, y2 = self.second_point\n",
        "      width = abs(x2 - x1)\n",
        "      heigth = abs(y2 - y1)\n",
        "\n",
        "      return round(2*(width + heigth), 2)\n",
        "\n",
        "    def area(self):\n",
        "      x1, y1 = self.first_point\n",
        "      x2, y2 = self.second_point\n",
        "      width = abs(y2 - y1)\n",
        "      heigth = abs(x2 - x1)\n",
        "\n",
        "      return round(width*heigth, 2)\n",
        "\n",
        "    def get_pos(self):\n",
        "      x1, _ = self.first_point\n",
        "      _, y2 = self.second_point\n",
        "      return (x1, y2)\n",
        "    def get_size(self):\n",
        "      x1, y1 = self.first_point\n",
        "      x2, y2 = self.second_point\n",
        "      width = abs(x2 - x1)\n",
        "      heigth = abs(y2 - y1)\n",
        "\n",
        "      return (width, heigth)\n",
        "    def move(self, dx, dy):\n",
        "      x1, y1 = self.first_point\n",
        "      x2, y2 = self.second_point\n",
        "      self.first_point = (x1 + dx, y1 + dy)\n",
        "      self.second_point = (x2 + dx, y2 + dy)\n",
        "    def resize(self, width, height):\n",
        "      x, y = self.first_point\n",
        "      self.second_point = (x + width, y + height)\n",
        "\n",
        "rect = Rectangle((3.2, -4.3), (7.52, 3.14))\n",
        "print(rect.perimeter())\n",
        "\n",
        "\n",
        "# Вывод\n",
        "# 23.52"
      ],
      "metadata": {
        "id": "4ILV2pvXdSjN",
        "outputId": "4ef17bf1-5366-4f0a-8195-dd860b58bb41",
        "colab": {
          "base_uri": "https://localhost:8080/"
        }
      },
      "execution_count": 22,
      "outputs": [
        {
          "output_type": "stream",
          "name": "stdout",
          "text": [
            "23.52\n"
          ]
        }
      ]
    },
    {
      "cell_type": "markdown",
      "source": [
        "Расширим функционал класса написанного вами в предыдущей задаче.\n",
        "\n",
        "Реализуйте методы:\n",
        "\n",
        "- get_pos() — возвращает координаты верхнего левого угла в виде кортежа;\n",
        "- get_size() — возвращает размеры в виде кортежа;\n",
        "- move(dx, dy) — изменяет положение на заданные значения;\n",
        "- resize(width, height) — изменяет размер (положение верхнего левого угла остаётся неизменным).\n"
      ],
      "metadata": {
        "id": "XGulIa2sd44Q"
      }
    },
    {
      "cell_type": "code",
      "source": [
        "\n",
        "\n",
        "\n",
        "rect = Rectangle((3.2, -4.3), (7.52, 3.14))\n",
        "print(rect.get_pos(), rect.get_size())\n",
        "rect.move(1.32, -5)\n",
        "print(rect.get_pos(), rect.get_size())\n",
        "\n",
        "\n",
        "# Вывод\n",
        "\n",
        "# (3.2, 3.14) (4.32, 7.44)\n",
        "# (4.52, -1.86) (4.32, 7.44)"
      ],
      "metadata": {
        "id": "N8WxOY9dd9c-",
        "colab": {
          "base_uri": "https://localhost:8080/"
        },
        "outputId": "c14cb8a1-56ef-4525-e216-5936c7c91854"
      },
      "execution_count": 23,
      "outputs": [
        {
          "output_type": "stream",
          "name": "stdout",
          "text": [
            "(3.2, 3.14) (4.319999999999999, 7.4399999999999995)\n",
            "(4.5200000000000005, -1.8599999999999999) (4.319999999999999, 7.440000000000001)\n"
          ]
        }
      ]
    },
    {
      "cell_type": "markdown",
      "source": [
        "В программировании существует потребность не только в изученных нами коллекциях. Одна из таких очередь. Она реализует подход к хранению данных по принципу «Первый вошёл – первый ушел».\n",
        "\n",
        "Реализуйте класс Queue, который не имеет параметров инициализации, но поддерживает методы:\n",
        "\n",
        "- push(item) — добавить элемент в конец очереди;\n",
        "- pop() — «вытащить» первый элемент из очереди;\n",
        "- is_empty() — проверят очередь на пустоту."
      ],
      "metadata": {
        "id": "cgbzpX3oeL8x"
      }
    },
    {
      "cell_type": "code",
      "source": [
        "\n",
        "\n",
        "class Queue:\n",
        "\n",
        "  def __init__(self):\n",
        "    self.l = []\n",
        "\n",
        "  def push(self, item):\n",
        "    self.l.append(item)\n",
        "\n",
        "\n",
        "  def pop(self):\n",
        "    return self.l.pop(0)\n",
        "\n",
        "  def is_empty(self):\n",
        "    return len(self.l) == 0\n",
        "\n",
        "\n",
        "queue = Queue()\n",
        "for item in range(10):\n",
        "    queue.push(item)\n",
        "while not queue.is_empty():\n",
        "    print(queue.pop(), end=\" \")\n",
        "\n",
        "\n",
        "# Вывод\n",
        "# 0 1 2 3 4 5 6 7 8 9"
      ],
      "metadata": {
        "colab": {
          "base_uri": "https://localhost:8080/"
        },
        "id": "I6rfrqNBePx_",
        "outputId": "929b1827-889e-4deb-bc6d-54da8a627327"
      },
      "execution_count": 10,
      "outputs": [
        {
          "output_type": "stream",
          "name": "stdout",
          "text": [
            "0 1 2 3 4 5 6 7 8 9 "
          ]
        }
      ]
    },
    {
      "cell_type": "markdown",
      "source": [
        "Ещё одной полезной коллекцией является стек реализующий принцип «Последний пришёл – первый ушёл». Его часто представляют как стопку карт или магазин пистолета, где приходящие элементы закрывают выход уже находящимся в коллекции.\n",
        "\n",
        "Реализуйте класс Stack, который не имеет параметров инициализации, но поддерживает методы:\n",
        "\n",
        "- push(item) — добавить элемент в конец стека;\n",
        "- pop() — «вытащить» первый элемент из стека;\n",
        "- is_empty() — проверяет стек на пустоту.\n"
      ],
      "metadata": {
        "id": "aT9IhpCjejEs"
      }
    },
    {
      "cell_type": "code",
      "source": [
        "class Stack():\n",
        "  def __init__(self):\n",
        "    self.l = []\n",
        "  def push(self, item):\n",
        "    self.l.append(item)\n",
        "  def pop(self):\n",
        "    popped = self.l[-1]\n",
        "    del self.l[-1]\n",
        "    return popped\n",
        "\n",
        "  def is_empty(self):\n",
        "    return True if len(self.l) == 0 else False\n",
        "\n",
        "stack = Stack()\n",
        "for item in range(10):\n",
        "    stack.push(item)\n",
        "while not stack.is_empty():\n",
        "    print(stack.pop(), end=\" \")\n",
        "\n",
        "\n",
        "# Вывод\n",
        "# 9 8 7 6 5 4 3 2 1 0"
      ],
      "metadata": {
        "id": "pd_ifPywemL6",
        "colab": {
          "base_uri": "https://localhost:8080/"
        },
        "outputId": "87f9e564-0b8c-4592-d8f1-90c64ee73a46"
      },
      "execution_count": 17,
      "outputs": [
        {
          "output_type": "stream",
          "name": "stdout",
          "text": [
            "9 8 7 6 5 4 3 2 1 0 "
          ]
        }
      ]
    },
    {
      "cell_type": "markdown",
      "source": [
        "В ООП для создания новых классов на основе других применяется принцип наследования."
      ],
      "metadata": {
        "id": "5z5Si6LGT1Qr"
      }
    },
    {
      "cell_type": "markdown",
      "source": [
        "Наследование позволяет при создании нового класса указать для него базовый класс. От базового класса наследуется вся его структура — атрибуты и методы. Созданный класс-наследник называется производным классом."
      ],
      "metadata": {
        "id": "PWK6EU1LT4_O"
      }
    },
    {
      "cell_type": "markdown",
      "source": [
        "Покажем принцип наследования на примере. Напишем класс «Карандаш» Pencil, который в качестве атрибута хранит цвет карандаша. Карандашом можно нарисовать рисунок. Также напишем класс «Ручка» Pen, который тоже хранит цвет, но кроме создания рисунка может ещё и подписать документ, если цвет ручки синий, чёрный или фиолетовый."
      ],
      "metadata": {
        "id": "ld6cPuXWT65y"
      }
    },
    {
      "cell_type": "code",
      "source": [
        "class Pencil:\n",
        "\n",
        "    def __init__(self, color=\"серый\"):\n",
        "        self.color = color\n",
        "\n",
        "    def draw_picture(self):\n",
        "        return \"Бац нарисовал\"\n",
        "\n",
        "\n",
        "class Pen(Pencil):\n",
        "\n",
        "    def sign_document(self):\n",
        "      if self.color in ('синий', 'чёрный','фиолетовый'):\n",
        "        return \"Бац подписал оффер\"\n",
        "      else:\n",
        "        return \"Дурацкий цвет\"\n",
        "\n",
        "\n",
        "\n",
        "blue_pen = Pen(color=\"синий\")\n",
        "print(blue_pen.draw_picture())\n",
        "print(blue_pen.sign_document())\n",
        "red_pen = Pen(color=\"красный\")\n",
        "print(red_pen.draw_picture())\n",
        "print(red_pen.sign_document())"
      ],
      "metadata": {
        "colab": {
          "base_uri": "https://localhost:8080/"
        },
        "id": "aUfMMBy3T3cr",
        "outputId": "6f558388-5d07-46c0-8b4a-238dd6141182"
      },
      "execution_count": null,
      "outputs": [
        {
          "output_type": "stream",
          "name": "stdout",
          "text": [
            "Бац нарисовал\n",
            "Бац подписал оффер\n",
            "Бац нарисовал\n",
            "Дурацкий цвет\n"
          ]
        }
      ]
    },
    {
      "cell_type": "markdown",
      "source": [
        "Класс Pen является производным от базового класса Pencil. За счёт этого мы не описывали заново методы __init__ и draw_picture и они работают так же, как и в базовом классе. Атрибут color тоже унаследован из базового класса Pencil. Интерпретатор при вызове метода или атрибута сначала ищет их в текущем производном классе. Если их нет в текущем классе, происходит поиск в базовом классе. Если и в базовом их нет, происходит поиск в вышестоящем базовом классе (в базовом классе для текущего базового класса). И так далее, пока метод или атрибут не будет найден в одном из базовых классов. Иначе программа выдаст ошибку класса AttributeError"
      ],
      "metadata": {
        "id": "RhqyuEvaUDNv"
      }
    },
    {
      "cell_type": "markdown",
      "source": [
        "Добавим в классе «Ручка» возможность указать тип ручки: шариковая, гелевая, перьевая и т. д. И пусть подписать документ можно любой ручкой, кроме гелевой. Для получения типа ручки нам нужно модифицировать метод __init__, добавив в него аргумент pen_type и сохранив его значение в атрибуте. Таким образом, нам нужно дополнить метод базового класса. Такая операция при наследовании называется расширением метода.\n",
        "\n",
        "При расширении методов необходимо вначале вызвать метод базового класса с помощью функции super(). Если этого не сделать, то не будут созданы атрибуты базового класса в производном классе, и это приведёт к ошибке отсутствия атрибутов."
      ],
      "metadata": {
        "id": "lecysd9VU_tN"
      }
    },
    {
      "cell_type": "code",
      "source": [
        "class Pencil(object):\n",
        "\n",
        "    def __init__(self, color=\"серый\"):\n",
        "        self.color = color\n",
        "\n",
        "    def draw_picture(self):\n",
        "        return \"Бац нарисовал\"\n",
        "\n",
        "\n",
        "class Pen(Pencil):\n",
        "\n",
        "    def __init__(self, color, pen_type):\n",
        "      super().__init__(color)\n",
        "      self.pen_type = pen_type\n",
        "\n",
        "    def sign_document(self):\n",
        "      if self.color in ('синий', 'чёрный','фиолетовый') and self.pen_type != 'гелевая':\n",
        "        return \"Бац подписал оффер\"\n",
        "      else:\n",
        "        return \"Дурацкий ручка\"\n",
        "\n",
        "\n",
        "blue_ball_pen = Pen(color=\"синий\", pen_type=\"шариковая\")\n",
        "print(blue_ball_pen.draw_picture())\n",
        "print(blue_ball_pen.sign_document())\n",
        "blue_gel_pen = Pen(color=\"синий\", pen_type=\"гелевая\")\n",
        "print(blue_gel_pen.draw_picture())\n",
        "print(blue_gel_pen.sign_document())"
      ],
      "metadata": {
        "colab": {
          "base_uri": "https://localhost:8080/"
        },
        "id": "Mc6_wZZ8U5w7",
        "outputId": "ae032870-e65f-4721-ce84-e4a478c6003c"
      },
      "execution_count": null,
      "outputs": [
        {
          "output_type": "stream",
          "name": "stdout",
          "text": [
            "Бац нарисовал\n",
            "Бац подписал оффер\n",
            "Бац нарисовал\n",
            "Дурацкий ручка\n"
          ]
        }
      ]
    },
    {
      "cell_type": "markdown",
      "source": [
        "Если в производном классе метод базового класса переписывается заново, то говорят о переопределении метода. Переопределим метод draw_picture так, чтобы он выводил информацию о типе ручки, которой нарисован рисунок. В класс Pen нужно добавить следующий код:"
      ],
      "metadata": {
        "id": "ulieoLKtVHqZ"
      }
    },
    {
      "cell_type": "markdown",
      "source": [
        "Наследование может производиться сразу от нескольких классов. В таком случае базовые классы перечисляются через запятую. Производный класс унаследует атрибуты и методы обоих базовых классов.\n",
        "\n",
        "Напишем программу, в которой будут следующие классы:\n",
        "\n",
        "- GreetingFormal. При инициализации объектов этого класса создаётся атрибут formal_greeting, содержащий строку «Добрый день,». В этом классе также есть метод greet_formal, который принимает аргумент name и возвращает строку с приветствием по имени.\n",
        "- GreetingInformal. При инициализации объектов этого класса создаётся атрибут informal_greeting, содержащий строку «Привет,». В этом классе также есть метод greet_informal, который принимает аргумент name и возвращает строку с приветствием по имени.\n",
        "- GreetingMix. Этот класс наследуется от двух предыдущих и может приветствовать пользователя по имени обоими методами.\n"
      ],
      "metadata": {
        "id": "r3izq_8TVr9K"
      }
    },
    {
      "cell_type": "code",
      "source": [
        "class GreetingFormal:\n",
        "\n",
        "    def __init__(self):\n",
        "        print('Я тут')\n",
        "        self.msg_formal = \"Здравствуйте, \"\n",
        "\n",
        "    def greet_formal(self, name):\n",
        "        return f\"{self.msg_formal} {name}\"\n",
        "\n",
        "\n",
        "class GreetingInformal:\n",
        "\n",
        "    def __init__(self):\n",
        "        print('Я тут!')\n",
        "        self.msg_informal = \"Привет, \"\n",
        "\n",
        "    def greet_informal(self, name):\n",
        "        return f\"{self.msg_informal} {name}\"\n",
        "\n",
        "\n",
        "class GreetingMix(GreetingFormal, GreetingInformal):\n",
        "\n",
        "    def __init__(self):\n",
        "      GreetingFormal.__init__(self)\n",
        "      GreetingInformal.__init__(self)\n",
        "\n",
        "    def __repr__(self):\n",
        "      return \"АБВ\"\n",
        "\n",
        "    def __str__(self):\n",
        "      return \"фывфыв\"\n",
        "\n",
        "    def __call__(self, x):\n",
        "      print(\"Я вызвал с \", x)\n",
        "      return 2\n",
        "\n",
        "\n",
        "mixed_greeting = GreetingMix()\n",
        "print(mixed_greeting.greet_formal(\"Пользователь\"))\n",
        "print(mixed_greeting.greet_informal(\"Пользователь\"))"
      ],
      "metadata": {
        "colab": {
          "base_uri": "https://localhost:8080/"
        },
        "id": "mDUfz_VGVlP3",
        "outputId": "1ef365fc-90fa-43be-f607-39d311d1bff9"
      },
      "execution_count": null,
      "outputs": [
        {
          "output_type": "stream",
          "name": "stdout",
          "text": [
            "Я тут\n",
            "Я тут!\n",
            "Здравствуйте,  Пользователь\n",
            "Привет,  Пользователь\n"
          ]
        }
      ]
    },
    {
      "cell_type": "code",
      "source": [
        "\n",
        "mixed_greeting(5)"
      ],
      "metadata": {
        "colab": {
          "base_uri": "https://localhost:8080/"
        },
        "id": "V8Z1F4C8OxUF",
        "outputId": "7a3e9d04-25d1-46e4-a185-7636a8621e6c"
      },
      "execution_count": null,
      "outputs": [
        {
          "output_type": "stream",
          "name": "stdout",
          "text": [
            "Я вызвал с  5\n"
          ]
        },
        {
          "output_type": "execute_result",
          "data": {
            "text/plain": [
              "2"
            ]
          },
          "metadata": {},
          "execution_count": 56
        }
      ]
    },
    {
      "cell_type": "markdown",
      "source": [
        "Обратите внимание на метод __init__ класса GreetingMix. В нём вместо вызова метода базового класса через функцию super() используется непосредственный вызов из базовых классов с указанием имён этих классов. Такой вызов необходим из-за того, что метод __init__ присутствует в обоих базовых классах и происходит конфликт. Интерпретатор при использовании функции super() в нашем примере использовал бы метод того класса, который стоит левее при перечислении в объявлении производного класса. В нашем примере это привело бы к тому, что __init__ из класса GreetingInformal не был бы вызван и в производном классе не произошла бы инициализация атрибута informal_greeting. Тогда при вызове метода greet_informal было бы вызвано исключение AttributeError."
      ],
      "metadata": {
        "id": "LG1UApryV9zK"
      }
    },
    {
      "cell_type": "markdown",
      "source": [
        "Пусть класс ElectricCar наследуется от класса Car. Методы __init__ и drive будут переопределены, метод recharge создан в производном классе, а остальные методы и атрибуты наследуются без изменений."
      ],
      "metadata": {
        "id": "fwEB5rAvWBXx"
      }
    },
    {
      "cell_type": "code",
      "source": [
        "print(mixed_greeting)"
      ],
      "metadata": {
        "colab": {
          "base_uri": "https://localhost:8080/"
        },
        "id": "rOIWCsxSV9-d",
        "outputId": "b971ea2b-95e2-4f3c-eb4b-f20e674b876e"
      },
      "execution_count": null,
      "outputs": [
        {
          "output_type": "stream",
          "name": "stdout",
          "text": [
            "фывфыв\n"
          ]
        }
      ]
    },
    {
      "cell_type": "code",
      "source": [
        "mixed_greeting"
      ],
      "metadata": {
        "colab": {
          "base_uri": "https://localhost:8080/"
        },
        "id": "i4ikVKoaONFp",
        "outputId": "1bc14009-cab1-4d3e-9b6b-12d3fe59755e"
      },
      "execution_count": null,
      "outputs": [
        {
          "output_type": "execute_result",
          "data": {
            "text/plain": [
              "АБВ"
            ]
          },
          "metadata": {},
          "execution_count": 54
        }
      ]
    },
    {
      "cell_type": "markdown",
      "source": [
        "Описание класса ElectricCar существенно сократилось за счёт использования наследования.\n",
        "\n",
        "Давайте посмотрим, что выведет функция print, если передать в неё объект созданного нами класса ElectricCar. Добавим в программу следующий код:"
      ],
      "metadata": {
        "id": "Dk8MYRgIWLf4"
      }
    },
    {
      "cell_type": "code",
      "source": [
        "print(electric_car)"
      ],
      "metadata": {
        "id": "ExTRgPTOWLzB"
      },
      "execution_count": null,
      "outputs": []
    },
    {
      "cell_type": "markdown",
      "source": [
        "Такой вывод говорит нам только о том, что переменная electric_car является объектом класса ElectricCar и расположена по определённому адресу в памяти. Можно этот вывод сделать более информативным. Когда в функцию print для вывода передаётся аргумент, не являющийся строкой, к нему применяется стандартная функция str. При этом в классе, к которому относится аргумент, для аргумента вызывается специальный (ещё говорят «магический») метод __str__. Остаётся только описать, какую строку вернёт этот метод. И тогда это значение и будет выводиться функцией print. Дополним класс ElectricCar методом __str__:\n",
        "\n"
      ],
      "metadata": {
        "id": "1l2pHnIWWPGb"
      }
    },
    {
      "cell_type": "code",
      "source": [],
      "metadata": {
        "id": "-dVIzqqhWPgb"
      },
      "execution_count": null,
      "outputs": []
    },
    {
      "cell_type": "markdown",
      "source": [
        "Специальных методов в Python довольно много. Они нужны для описания взаимодействия с объектами при помощи стандартных операций и встроенных функций. Описание специальных методов называется перегрузкой операторов (operator overloading)."
      ],
      "metadata": {
        "id": "qK6Z5Xy6WTZM"
      }
    },
    {
      "cell_type": "markdown",
      "source": [
        "Имена специальных методов выделены слева и справа двумя символами подчёркивания. Как можно заметить, метод __init__ также является специальным."
      ],
      "metadata": {
        "id": "A1PJlTcoWWJf"
      }
    },
    {
      "cell_type": "markdown",
      "source": [
        "Рассмотрим назначение некоторых специальных методов.\n",
        "\n"
      ],
      "metadata": {
        "id": "irzesSJfWgfZ"
      }
    },
    {
      "cell_type": "markdown",
      "source": [
        "Метод __repr__ вызывается стандартной функцией repr и возвращает строку, которая является представлением объекта в формате инициализации. Этот метод может быть также полезен, если необходимо вывести информацию об объектах, когда они являются элементами коллекции."
      ],
      "metadata": {
        "id": "MaXOV0ZcWiJP"
      }
    },
    {
      "cell_type": "markdown",
      "source": [
        "Методы для операций сравнения:\n",
        "```\n",
        "__lt__(self, other) — <;\n",
        "\n",
        "__le__(self, other) — <=;\n",
        "\n",
        "__eq__(self, other) — ==;\n",
        "\n",
        "__ne__(self, other) — !=;\n",
        "\n",
        "__gt__(self, other) — >;\n",
        "\n",
        "__ge__(self, other) — >=\n",
        "```"
      ],
      "metadata": {
        "id": "lieZKlyuWkTx"
      }
    },
    {
      "cell_type": "markdown",
      "source": [
        "Метод ```__call__(arg1, arg2, ...)``` вызывается, когда сам объект вызывается как функция с аргументами."
      ],
      "metadata": {
        "id": "5UGYF3mEWsqj"
      }
    },
    {
      "cell_type": "markdown",
      "source": [
        "Методы для работы с объектом как с коллекцией:\n",
        "- ```__getitem__(self, key)``` используется для получения элемента коллекции по ключу self[key];\n",
        "- ```__setitem__(self, key, value)``` используется для записи значения по ключу self[key] = value;\n",
        "- ```__delitem__(self, key)``` используется для удаления ключа и соответствующего ему значения;\n",
        "- ```__len__(self)``` вызывается стандартной функцией len;\n",
        "- ```__contains__(self, item)``` вызывается при проверке принадлежности значения item объекту-коллекции self с помощью оператора in."
      ],
      "metadata": {
        "id": "IV7Nr7hqW1HW"
      }
    },
    {
      "cell_type": "markdown",
      "source": [
        "Математические операции:\n",
        "\n",
        "```\n",
        "__add__(self, other) — self + other;\n",
        "__sub__(self, other) — self - other;\n",
        "__mul__(self, other) — self * other;\n",
        "__matmul__(self, other) — self @ other;\n",
        "__truediv__(self, other) — self / other;\n",
        "__floordiv__(self, other) — self // other;\n",
        "__mod__(self, other) — self % other;\n",
        "__divmod__(self, other) — divmod(self, other);\n",
        "__pow__(self, other) — self ** other;\n",
        "__lshift__(self, other) — self << other;\n",
        "__rshift__(self, other) — self >> other;\n",
        "__and__(self, other) — self & other;\n",
        "__xor__(self, other) — self ^ other;\n",
        "__or__(self, other) — self | other;\n",
        "__radd__(self, other) — other + self;\n",
        "__rsub__(self, other) — other - self;\n",
        "__rmul__(self, other) — other * self;\n",
        "__rmatmul__(self, other) — other @ self;\n",
        "__rtruediv__(self, other) — other / self;\n",
        "__rfloordiv__(self, other) — other // self;\n",
        "__rmod__(self, other) — other % self;\n",
        "__rdivmod__(self, other) — divmod(other, self);\n",
        "__rpow__(self, other) — other ** self;\n",
        "__rlshift__(self, other) — other << self;\n",
        "__rrshift__(self, other) — other >> self;\n",
        "__rand__(self, other) — other & self;\n",
        "__rxor__(self, other) — other ^ self;\n",
        "__ror__(self, other) — other | self;\n",
        "__iadd__(self, other) — self += other;\n",
        "__isub__(self, other) — self -= other;\n",
        "__imul__(self, other) — self *= other;\n",
        "__imatmul__(self, other) — self @= other;\n",
        "__itruediv__(self, other) — self /= other;\n",
        "__ifloordiv__(self, other) — self //= other;\n",
        "__imod__(self, other) — self %= other;\n",
        "__ipow__(self, other) — self **= other;\n",
        "__ilshift__(self, other) — self <<= other;\n",
        "__irshift__(self, other) — self >>= other;\n",
        "__iand__(self, other) — self &= other;\n",
        "__ixor__(self, other) — self ^= other;\n",
        "__ior__(self, other) — self |= other.\n",
        "```"
      ],
      "metadata": {
        "id": "MLjk66OcXLgG"
      }
    },
    {
      "cell_type": "markdown",
      "source": [
        "Покажем отличие методов математических операций с буквами r и i в начале имени от методов без этих букв:"
      ],
      "metadata": {
        "id": "3RNRAywcXTtd"
      }
    },
    {
      "cell_type": "code",
      "source": [
        "class A:\n",
        "\n",
        "    def __init__(self):\n",
        "        self.value = 10\n",
        "\n",
        "    def __add__(self, other):\n",
        "        return \"Выполняется метод __add__.\"\n",
        "\n",
        "    def __radd__(self, other):\n",
        "        return \"Выполняется метод __radd__.\"\n",
        "\n",
        "    def __iadd__(self, other):\n",
        "        self.value += other\n",
        "        return self\n",
        "\n",
        "    def __str__(self):\n",
        "        return f\"value: {self.value}.\"\n",
        "\n",
        "\n",
        "a = A()\n",
        "print(a + 1)\n",
        "print(1 + a)\n",
        "a += 1\n",
        "print(a)"
      ],
      "metadata": {
        "colab": {
          "base_uri": "https://localhost:8080/"
        },
        "id": "K6Ty6pr6WTom",
        "outputId": "4871e1ac-f369-4586-cdc0-8d1afa3931ae"
      },
      "execution_count": null,
      "outputs": [
        {
          "output_type": "stream",
          "name": "stdout",
          "text": [
            "Выполняется метод __add__.\n",
            "Выполняется метод __radd__.\n",
            "None\n"
          ]
        }
      ]
    },
    {
      "cell_type": "markdown",
      "source": [
        "Для операции a + 1 был использован метод __add__. Для операции 1 + a был использован метод __radd__. А для операции += использован __iadd__. Обратите внимание: при выполнении методов, начинающихся с буквы i, недостаточно только изменить атрибуты объекта, нужно ещё вернуть объект из метода, иначе в объект запишется None.\n",
        "\n"
      ],
      "metadata": {
        "id": "Cfdd332hXYgg"
      }
    },
    {
      "cell_type": "markdown",
      "source": [
        "Напишем метод __repr__ для класса ElectricCar:"
      ],
      "metadata": {
        "id": "QZgW9UfQXg1M"
      }
    },
    {
      "cell_type": "markdown",
      "source": [
        "## Практика"
      ],
      "metadata": {
        "id": "ZC6itiUrXnNM"
      }
    },
    {
      "cell_type": "markdown",
      "source": [
        "Возможно, вы уже заметили, что дробные числа (float) недостаточно точные для некоторых задач. Для более точных математических расчётов иногда прибегают к созданию правильных рациональных дробей, описываемых числителем и знаменателем.\n",
        "\n",
        "Начнём разработку класса Fraction, который реализует предлагаемые дроби.\n",
        "\n",
        "Предусмотрите возможность инициализации дроби с помощью двух целых чисел или строки в формате <числитель>/<знаменатель>.\n",
        "В случаях наличия общего делителя у числителя и знаменателя, дробь следует сократить.\n",
        "\n",
        "А также реализуйте методы:\n",
        "\n",
        "- numerator() — возвращает значение числителя;\n",
        "- numerator(number) — изменяет значение числителя и производит сокращение дроби, если это необходимо;\n",
        "- denominator() – возвращает значение знаменателя;\n",
        "- denominator(number) — изменяет значение знаменателя и производит сокращение дроби, если необходимо;\n",
        "- ```__str__``` — возвращает строковое представление дроби в формате <числитель>/<знаменатель>;\n",
        "- ```__repr__``` — возвращает описание объекта в формате Fraction(<числитель>, <знаменатель>).\n",
        "\n",
        "\n",
        "Будем считать, что пользователь знает о запрете деления на ноль.\n",
        "Все числа в данной задаче будут положительными."
      ],
      "metadata": {
        "id": "fQOEoVRbfjXT"
      }
    },
    {
      "cell_type": "code",
      "source": [
        "\n",
        "class Fraction:\n",
        "  def __init__(self, *args):\n",
        "    if len(args) == 1:\n",
        "      self.num = int(args[0].split('/')[0])\n",
        "      self.denum = int(args[0].split('/')[1])\n",
        "    else:\n",
        "      self.num = args[0]\n",
        "      self.denum = args[1]\n",
        "\n",
        "  def numerator(self, number=None):\n",
        "    if not number:\n",
        "      return self.num\n",
        "    else:\n",
        "      self.num = number\n",
        "\n",
        "  def denominator(self, number=None):\n",
        "    if not number:\n",
        "      return self.denum\n",
        "    else:\n",
        "      self.denum = number\n",
        "\n",
        "  def __str__(self):\n",
        "    return f\"{self.num}/{self.denum}\"\n",
        "\n",
        "  def __repr__(self):\n",
        "    return f\"Fraction({self.num}, {self.denum})\"\n",
        "\n",
        "\n",
        "\n",
        "\n",
        "\n",
        "fraction = Fraction(3, 9)\n",
        "print(fraction, repr(fraction))\n",
        "fraction = Fraction('7/14')\n",
        "print(fraction, repr(fraction))\n",
        "\n",
        "# Вывод\n",
        "# 1/3 Fraction(1, 3)\n",
        "# 1/2 Fraction(1, 2)"
      ],
      "metadata": {
        "colab": {
          "base_uri": "https://localhost:8080/"
        },
        "id": "68glfjLjXWcc",
        "outputId": "7ca0b041-4e71-4721-cbe0-68a543d14924"
      },
      "execution_count": null,
      "outputs": [
        {
          "output_type": "stream",
          "name": "stdout",
          "text": [
            "3/9 Fraction(3, 9)\n",
            "7/14 Fraction(7, 14)\n"
          ]
        }
      ]
    },
    {
      "cell_type": "code",
      "source": [],
      "metadata": {
        "id": "QTx2AhrCRjo8"
      },
      "execution_count": null,
      "outputs": []
    },
    {
      "cell_type": "code",
      "source": [
        "class Fraction:\n",
        "  def __init__(self, *args):\n",
        "    if len(args) == 1:\n",
        "      self.__num = int(args[0].split('/')[0])\n",
        "      self.__denum = int(args[0].split('/')[1])\n",
        "    else:\n",
        "      self.__num = args[0]\n",
        "      self.__denum = args[1]\n",
        "\n",
        "  def numerator(self, number=None):\n",
        "    if not number:\n",
        "      return self.__num\n",
        "    else:\n",
        "      self.__num = number\n",
        "\n",
        "  def denominator(self, number=None):\n",
        "    if not number:\n",
        "      return self.__denum\n",
        "    else:\n",
        "      self.__denum = number\n",
        "\n",
        "  def __str__(self):\n",
        "    return f\"{self._num}/{self.__denum}\"\n",
        "\n",
        "  def __repr__(self):\n",
        "    return f\"Fraction({self.__num}, {self.__denum})\"\n",
        "fraction = Fraction(3, 9)\n",
        "\n"
      ],
      "metadata": {
        "id": "h1f1MrJNRj10"
      },
      "execution_count": null,
      "outputs": []
    },
    {
      "cell_type": "code",
      "source": [
        "dir(fraction)"
      ],
      "metadata": {
        "colab": {
          "base_uri": "https://localhost:8080/"
        },
        "id": "5hkzZw_cSJzl",
        "outputId": "48d4c277-f5b4-42e3-8b19-616f12fae3f2"
      },
      "execution_count": null,
      "outputs": [
        {
          "output_type": "execute_result",
          "data": {
            "text/plain": [
              "['_Fraction__denum',\n",
              " '_Fraction__num',\n",
              " '__class__',\n",
              " '__delattr__',\n",
              " '__dict__',\n",
              " '__dir__',\n",
              " '__doc__',\n",
              " '__eq__',\n",
              " '__format__',\n",
              " '__ge__',\n",
              " '__getattribute__',\n",
              " '__gt__',\n",
              " '__hash__',\n",
              " '__init__',\n",
              " '__init_subclass__',\n",
              " '__le__',\n",
              " '__lt__',\n",
              " '__module__',\n",
              " '__ne__',\n",
              " '__new__',\n",
              " '__reduce__',\n",
              " '__reduce_ex__',\n",
              " '__repr__',\n",
              " '__setattr__',\n",
              " '__sizeof__',\n",
              " '__str__',\n",
              " '__subclasshook__',\n",
              " '__weakref__',\n",
              " 'denominator',\n",
              " 'numerator']"
            ]
          },
          "metadata": {},
          "execution_count": 73
        }
      ]
    },
    {
      "cell_type": "code",
      "source": [
        "fraction._Fraction__num = 234"
      ],
      "metadata": {
        "id": "w4s4dsSKRtcM"
      },
      "execution_count": null,
      "outputs": []
    },
    {
      "cell_type": "code",
      "source": [
        "fraction"
      ],
      "metadata": {
        "colab": {
          "base_uri": "https://localhost:8080/"
        },
        "id": "xfDLy9wQR8Vk",
        "outputId": "c2ea7c99-7efd-49e0-9a1a-efd5533e5c5c"
      },
      "execution_count": null,
      "outputs": [
        {
          "output_type": "execute_result",
          "data": {
            "text/plain": [
              "Fraction(234, 9)"
            ]
          },
          "metadata": {},
          "execution_count": 76
        }
      ]
    },
    {
      "cell_type": "markdown",
      "source": [
        "Продолжим разработку класса Fraction, который реализует предлагаемые дроби.\n",
        "\n",
        "Предусмотрите возможность задать отрицательные числитель и/или знаменатель. А также перепишите методы __str__ и __repr__ таким образом, чтобы информация об объекте согласовывалась с инициализацией строкой.\n",
        "\n",
        "Далее реализуйте оператор математического отрицания — унарный минус."
      ],
      "metadata": {
        "id": "XN0soSKDf7jw"
      }
    },
    {
      "cell_type": "code",
      "source": [
        "\n",
        "\n",
        "\n",
        "a = Fraction(1, 3)\n",
        "b = Fraction(-2, -6)\n",
        "c = Fraction(-3, 9)\n",
        "d = Fraction(4, -12)\n",
        "print(a, b, c, d)\n",
        "print(*map(repr, (a, b, c, d)))\n",
        "\n",
        "\n",
        "# Вывод\n",
        "# 1/3 1/3 -1/3 -1/3\n",
        "# Fraction('1/3') Fraction('1/3') Fraction('-1/3') Fraction('-1/3')"
      ],
      "metadata": {
        "id": "5QWSx4ZJf9zr"
      },
      "execution_count": null,
      "outputs": []
    },
    {
      "cell_type": "markdown",
      "source": [
        "Продолжим разработку класса Fraction, который реализует предлагаемые дроби.\n",
        "\n",
        "Реализуйте бинарные операторы:\n",
        "```\n",
        "+ — сложение дробей, создаёт новую дробь;\n",
        "- — вычитание дробей, создаёт новую дробь;\n",
        "+= — сложение дробей, изменяет дробь, переданную слева;\n",
        "-= — вычитание дробей, изменяет дробь, переданную слева.\n",
        "```"
      ],
      "metadata": {
        "id": "PmksFtlzgEOD"
      }
    },
    {
      "cell_type": "code",
      "source": [
        "\n",
        "\n",
        "a = Fraction(1, 3)\n",
        "b = Fraction(1, 2)\n",
        "c = a + b\n",
        "print(a, b, c, a is c, b is c)\n",
        "\n",
        "# Вывод\n",
        "# 1/3 1/2 5/6 False False"
      ],
      "metadata": {
        "id": "fQ0wylNWgBSu"
      },
      "execution_count": null,
      "outputs": []
    },
    {
      "cell_type": "markdown",
      "source": [
        "Продолжим разработку класса Fraction, который реализует предлагаемые дроби.\n",
        "\n",
        "Реализуйте бинарные операторы:\n",
        "```\n",
        "* — умножение дробей, создаёт новую дробь;\n",
        "/ — деление дробей, создаёт новую дробь;\n",
        "*= — умножение дробей, изменяет дробь, переданную слева;\n",
        "/= — деление дробей, изменяет дробь, переданную слева.\n",
        "Также разработайте метод reverse, возвращающий дробь обратную данной.\n",
        "```"
      ],
      "metadata": {
        "id": "9tCiJvsPgQoL"
      }
    },
    {
      "cell_type": "code",
      "source": [
        "a = Fraction(1, 3)\n",
        "b = Fraction(1, 2)\n",
        "c = a * b\n",
        "print(a, b, c, a is c, b is c)\n",
        "\n",
        "# Вывод\n",
        "# 1/3 1/2 1/6 False False"
      ],
      "metadata": {
        "id": "iyWrCwCjgQSu"
      },
      "execution_count": null,
      "outputs": []
    },
    {
      "cell_type": "markdown",
      "source": [
        "\n",
        "\n",
        "Дроби v0.5\n",
        "Следующим этапом разработки будет реализация методов сравнения: >, <, >=, <=, ==, !=.\n",
        "\n"
      ],
      "metadata": {
        "id": "eczNcXURg1hh"
      }
    },
    {
      "cell_type": "code",
      "source": [
        "\n",
        "\n",
        "a = Fraction(1, 3)\n",
        "b = Fraction(1, 2)\n",
        "print(a > b, a < b, a >= b, a <= b, a == b, a >= b)\n",
        "\n",
        "\n",
        "# Вывод\n",
        "# False True False True False False"
      ],
      "metadata": {
        "id": "EbU2FkM5hDIp"
      },
      "execution_count": null,
      "outputs": []
    },
    {
      "cell_type": "markdown",
      "source": [
        "Дроби v0.6\n",
        "Надо было, наверное, раньше об этом подумать...\n",
        "\n",
        "Эти слова так и срываются с языка при разработке какого либо программного обеспечения.\n",
        "\n",
        "Все же понимают, что целые числа тоже являются дробями?! Следовательно, нам требуется изменить систему инициализации, чтобы она могла воспринимать и целые числа (причём и в виде строк). Ну и естественно, требуется переработать операторы арифметических действий и сравнения."
      ],
      "metadata": {
        "id": "gCMnS138hil2"
      }
    },
    {
      "cell_type": "code",
      "source": [
        "a = Fraction(1)\n",
        "b = Fraction('2')\n",
        "c, d = map(Fraction.reverse, (a + 2, b - 1))\n",
        "print(a, b, c, d)\n",
        "print(a > b, c > d)\n",
        "print(a >= 1, b >= 1, c >= 1, d >= 1)\n",
        "\n",
        "# Вывод\n",
        "# 1/1 2/1 1/3 1/1\n",
        "# False False\n",
        "# True True False True"
      ],
      "metadata": {
        "id": "xPY5ubCphlQT"
      },
      "execution_count": null,
      "outputs": []
    },
    {
      "cell_type": "markdown",
      "source": [
        "Дроби v0.7\n",
        "\"Остался последний штрих!\" Правда звучит как издевательство?\n",
        "\n",
        "Мы «научили» наши дроби работать с целыми числами и вот теперь надо провернуть обратное действие. Реализуйте функционал, который позволит производить все арифметические операции с дробями и числами, независимо от их положения (слева или справа) в операторе."
      ],
      "metadata": {
        "id": "mZ202LExhvko"
      }
    },
    {
      "cell_type": "code",
      "source": [
        "\n",
        "a = Fraction(1)\n",
        "b = Fraction('2')\n",
        "c, d = map(Fraction.reverse, (2 + a, -1 + b))\n",
        "print(a, b, c, d)\n",
        "print(a > b, c > d)\n",
        "print(a >= 1, b >= 1, c >= 1, d >= 1)\n",
        "\n",
        "\n",
        "\n",
        "# Вывод\n",
        "# 1/1 2/1 1/3 1/1\n",
        "# False False\n",
        "# True True False True"
      ],
      "metadata": {
        "id": "52w9TSh4hwXi"
      },
      "execution_count": null,
      "outputs": []
    },
    {
      "cell_type": "markdown",
      "source": [
        "Исключения"
      ],
      "metadata": {
        "id": "hzPsgVllX3j_"
      }
    },
    {
      "cell_type": "markdown",
      "source": [
        "Обработка исключений\n",
        "\n",
        "\n",
        "Напишем программу, которая будет считать обратные значения для целых чисел из заданного диапазона и выводить их в одну строку с разделителем ';'. Один из вариантов кода для решения этой задачи выглядит так:\n",
        "\n"
      ],
      "metadata": {
        "id": "vN236em1ZioW"
      }
    },
    {
      "cell_type": "code",
      "source": [
        "print(\";\".join(str(1 / x) for x in range(int(input()), int(input()) + 1)))"
      ],
      "metadata": {
        "colab": {
          "base_uri": "https://localhost:8080/",
          "height": 279
        },
        "id": "ecQCkGF_X5Lk",
        "outputId": "add62fcc-9560-491c-a6b4-e98ecd1da516"
      },
      "execution_count": null,
      "outputs": [
        {
          "name": "stdout",
          "output_type": "stream",
          "text": [
            "0\n",
            "4\n"
          ]
        },
        {
          "output_type": "error",
          "ename": "ZeroDivisionError",
          "evalue": "ignored",
          "traceback": [
            "\u001b[0;31m---------------------------------------------------------------------------\u001b[0m",
            "\u001b[0;31mZeroDivisionError\u001b[0m                         Traceback (most recent call last)",
            "\u001b[0;32m<ipython-input-78-9065bc892d26>\u001b[0m in \u001b[0;36m<cell line: 1>\u001b[0;34m()\u001b[0m\n\u001b[0;32m----> 1\u001b[0;31m \u001b[0mprint\u001b[0m\u001b[0;34m(\u001b[0m\u001b[0;34m\";\"\u001b[0m\u001b[0;34m.\u001b[0m\u001b[0mjoin\u001b[0m\u001b[0;34m(\u001b[0m\u001b[0mstr\u001b[0m\u001b[0;34m(\u001b[0m\u001b[0;36m1\u001b[0m \u001b[0;34m/\u001b[0m \u001b[0mx\u001b[0m\u001b[0;34m)\u001b[0m \u001b[0;32mfor\u001b[0m \u001b[0mx\u001b[0m \u001b[0;32min\u001b[0m \u001b[0mrange\u001b[0m\u001b[0;34m(\u001b[0m\u001b[0mint\u001b[0m\u001b[0;34m(\u001b[0m\u001b[0minput\u001b[0m\u001b[0;34m(\u001b[0m\u001b[0;34m)\u001b[0m\u001b[0;34m)\u001b[0m\u001b[0;34m,\u001b[0m \u001b[0mint\u001b[0m\u001b[0;34m(\u001b[0m\u001b[0minput\u001b[0m\u001b[0;34m(\u001b[0m\u001b[0;34m)\u001b[0m\u001b[0;34m)\u001b[0m \u001b[0;34m+\u001b[0m \u001b[0;36m1\u001b[0m\u001b[0;34m)\u001b[0m\u001b[0;34m)\u001b[0m\u001b[0;34m)\u001b[0m\u001b[0;34m\u001b[0m\u001b[0;34m\u001b[0m\u001b[0m\n\u001b[0m",
            "\u001b[0;32m<ipython-input-78-9065bc892d26>\u001b[0m in \u001b[0;36m<genexpr>\u001b[0;34m(.0)\u001b[0m\n\u001b[0;32m----> 1\u001b[0;31m \u001b[0mprint\u001b[0m\u001b[0;34m(\u001b[0m\u001b[0;34m\";\"\u001b[0m\u001b[0;34m.\u001b[0m\u001b[0mjoin\u001b[0m\u001b[0;34m(\u001b[0m\u001b[0mstr\u001b[0m\u001b[0;34m(\u001b[0m\u001b[0;36m1\u001b[0m \u001b[0;34m/\u001b[0m \u001b[0mx\u001b[0m\u001b[0;34m)\u001b[0m \u001b[0;32mfor\u001b[0m \u001b[0mx\u001b[0m \u001b[0;32min\u001b[0m \u001b[0mrange\u001b[0m\u001b[0;34m(\u001b[0m\u001b[0mint\u001b[0m\u001b[0;34m(\u001b[0m\u001b[0minput\u001b[0m\u001b[0;34m(\u001b[0m\u001b[0;34m)\u001b[0m\u001b[0;34m)\u001b[0m\u001b[0;34m,\u001b[0m \u001b[0mint\u001b[0m\u001b[0;34m(\u001b[0m\u001b[0minput\u001b[0m\u001b[0;34m(\u001b[0m\u001b[0;34m)\u001b[0m\u001b[0;34m)\u001b[0m \u001b[0;34m+\u001b[0m \u001b[0;36m1\u001b[0m\u001b[0;34m)\u001b[0m\u001b[0;34m)\u001b[0m\u001b[0;34m)\u001b[0m\u001b[0;34m\u001b[0m\u001b[0;34m\u001b[0m\u001b[0m\n\u001b[0m",
            "\u001b[0;31mZeroDivisionError\u001b[0m: division by zero"
          ]
        }
      ]
    },
    {
      "cell_type": "markdown",
      "source": [
        "В программе произошла ошибка «деление на ноль». Такая ошибка, возникающая при выполнении программы и останавливающая её работу, называется исключением.\n",
        "\n",
        "Попробуем в нашей программе избавиться от возникновения исключения деления на ноль. Пусть при попадании 0 в диапазон чисел обработка не производится и выводится сообщение «Диапазон чисел содержит 0». Для этого нужно проверить до списочного выражения наличие нуля в диапазоне:"
      ],
      "metadata": {
        "id": "EKJifPWRaBbt"
      }
    },
    {
      "cell_type": "code",
      "source": [
        "interval = range(int(input()), int(input()) + 1)\n",
        "if 0 in interval:\n",
        "    print(\"Диапазон чисел содержит 0.\")\n",
        "else:\n",
        "    print(\";\".join(str(1 / x) for x in interval))"
      ],
      "metadata": {
        "colab": {
          "base_uri": "https://localhost:8080/",
          "height": 279
        },
        "id": "wbyuPbW2aDv8",
        "outputId": "f43e4955-5335-4a51-f023-91829f3679f5"
      },
      "execution_count": null,
      "outputs": [
        {
          "name": "stdout",
          "output_type": "stream",
          "text": [
            "sdkfnksj\n"
          ]
        },
        {
          "output_type": "error",
          "ename": "ValueError",
          "evalue": "ignored",
          "traceback": [
            "\u001b[0;31m---------------------------------------------------------------------------\u001b[0m",
            "\u001b[0;31mValueError\u001b[0m                                Traceback (most recent call last)",
            "\u001b[0;32m<ipython-input-79-81710dd3ed28>\u001b[0m in \u001b[0;36m<cell line: 1>\u001b[0;34m()\u001b[0m\n\u001b[0;32m----> 1\u001b[0;31m \u001b[0minterval\u001b[0m \u001b[0;34m=\u001b[0m \u001b[0mrange\u001b[0m\u001b[0;34m(\u001b[0m\u001b[0mint\u001b[0m\u001b[0;34m(\u001b[0m\u001b[0minput\u001b[0m\u001b[0;34m(\u001b[0m\u001b[0;34m)\u001b[0m\u001b[0;34m)\u001b[0m\u001b[0;34m,\u001b[0m \u001b[0mint\u001b[0m\u001b[0;34m(\u001b[0m\u001b[0minput\u001b[0m\u001b[0;34m(\u001b[0m\u001b[0;34m)\u001b[0m\u001b[0;34m)\u001b[0m \u001b[0;34m+\u001b[0m \u001b[0;36m1\u001b[0m\u001b[0;34m)\u001b[0m\u001b[0;34m\u001b[0m\u001b[0;34m\u001b[0m\u001b[0m\n\u001b[0m\u001b[1;32m      2\u001b[0m \u001b[0;32mif\u001b[0m \u001b[0;36m0\u001b[0m \u001b[0;32min\u001b[0m \u001b[0minterval\u001b[0m\u001b[0;34m:\u001b[0m\u001b[0;34m\u001b[0m\u001b[0;34m\u001b[0m\u001b[0m\n\u001b[1;32m      3\u001b[0m     \u001b[0mprint\u001b[0m\u001b[0;34m(\u001b[0m\u001b[0;34m\"Диапазон чисел содержит 0.\"\u001b[0m\u001b[0;34m)\u001b[0m\u001b[0;34m\u001b[0m\u001b[0;34m\u001b[0m\u001b[0m\n\u001b[1;32m      4\u001b[0m \u001b[0;32melse\u001b[0m\u001b[0;34m:\u001b[0m\u001b[0;34m\u001b[0m\u001b[0;34m\u001b[0m\u001b[0m\n\u001b[1;32m      5\u001b[0m     \u001b[0mprint\u001b[0m\u001b[0;34m(\u001b[0m\u001b[0;34m\";\"\u001b[0m\u001b[0;34m.\u001b[0m\u001b[0mjoin\u001b[0m\u001b[0;34m(\u001b[0m\u001b[0mstr\u001b[0m\u001b[0;34m(\u001b[0m\u001b[0;36m1\u001b[0m \u001b[0;34m/\u001b[0m \u001b[0mx\u001b[0m\u001b[0;34m)\u001b[0m \u001b[0;32mfor\u001b[0m \u001b[0mx\u001b[0m \u001b[0;32min\u001b[0m \u001b[0minterval\u001b[0m\u001b[0;34m)\u001b[0m\u001b[0;34m)\u001b[0m\u001b[0;34m\u001b[0m\u001b[0;34m\u001b[0m\u001b[0m\n",
            "\u001b[0;31mValueError\u001b[0m: invalid literal for int() with base 10: 'sdkfnksj'"
          ]
        }
      ]
    },
    {
      "cell_type": "markdown",
      "source": [
        "Произошло исключение ValueError. Для борьбы с этой ошибкой нам придётся проверить, что строка состоит только из цифр. Сделать это нужно до преобразования в число. Тогда наша программа будет выглядеть так:"
      ],
      "metadata": {
        "id": "OM2NsIPjaUNr"
      }
    },
    {
      "cell_type": "code",
      "source": [
        "start = input()\n",
        "end = input()\n",
        "# Метод lstrip(\"-\"), удаляющий символы \"-\" в начале строки, нужен для учёта\n",
        "# отрицательных чисел, иначе isdigit() вернёт для них False\n",
        "if not (start.lstrip(\"-\").isdigit() and end.lstrip(\"-\").isdigit()):\n",
        "    print(\"ввести два числа.\")\n",
        "else:\n",
        "    interval = range(int(start), int(end) + 1)\n",
        "    if 0 in interval:\n",
        "        print(\"Диапазон чисел содержит 0.\")\n",
        "    else:\n",
        "        print(\";\".join(str(1 / x) for x in interval))"
      ],
      "metadata": {
        "colab": {
          "base_uri": "https://localhost:8080/"
        },
        "id": "iqIoWMxHZpEV",
        "outputId": "62134b82-90d4-45f0-8f6c-a5e73c24575d"
      },
      "execution_count": null,
      "outputs": [
        {
          "output_type": "stream",
          "name": "stdout",
          "text": [
            "1\n",
            "3\n",
            "1.0;0.5;0.3333333333333333\n"
          ]
        }
      ]
    },
    {
      "cell_type": "markdown",
      "source": [
        "Исключения в Python являются классами ошибок. В Python есть много стандартных исключений. Они имеют определённую иерархию за счёт механизма наследования классов."
      ],
      "metadata": {
        "id": "jTvMC5mBafL2"
      }
    },
    {
      "cell_type": "markdown",
      "source": [
        "```\n",
        "try:\n",
        "    <код , который может вызвать исключения при выполнении>\n",
        "except <классисключения_1>:\n",
        "    <код обработки исключения>\n",
        "except <классисключения_2>:\n",
        "    <код обработки исключения>\n",
        "...\n",
        "else:\n",
        "    <код выполняется, если не вызвано исключение в блоке try>\n",
        "finally:\n",
        "    <код , который выполняется всегда>\n",
        "```"
      ],
      "metadata": {
        "id": "r3sSf_fBalCz"
      }
    },
    {
      "cell_type": "markdown",
      "source": [
        "Блок try содержит код, в котором нужно обработать исключения, если они возникнут.\n",
        "При возникновении исключения интерпретатор последовательно проверяет, в каком из блоков except обрабатывается это исключение.\n",
        "Исключение обрабатывается в первом блоке except, обрабатывающем класс этого исключения или базовый класс возникшего исключения.\n",
        "Необходимо учитывать иерархию исключений для определения порядка их обработки в блоках except. Начинать обработку исключений следует с более узких классов исключений. Если начать с более широкого класса исключения, например Exception, то всегда при возникновении исключения будет срабатывать первый блок except.\n",
        "Сравните два следующих примера. В первом порядок обработки исключений указан от производных классов к базовым, а во втором — наоборот."
      ],
      "metadata": {
        "id": "dZR8tBH9au9q"
      }
    },
    {
      "cell_type": "code",
      "source": [
        "try:\n",
        "    print(1 / int(input()))\n",
        "except ZeroDivisionError:\n",
        "    print(\"Ошибка деления на ноль.\")\n",
        "except ValueError:\n",
        "    print(\"Невозможно преобразовать строку в число.\")\n",
        "except Exception:\n",
        "    print(\"Неизвестная ошибка.\")"
      ],
      "metadata": {
        "colab": {
          "base_uri": "https://localhost:8080/"
        },
        "id": "Czk04zPeaZBu",
        "outputId": "8187b7a6-a64f-4748-a0b8-79559450dd15"
      },
      "execution_count": null,
      "outputs": [
        {
          "output_type": "stream",
          "name": "stdout",
          "text": [
            "1\n",
            "1.0\n"
          ]
        }
      ]
    },
    {
      "cell_type": "code",
      "source": [
        "try:\n",
        "    print(1 / int(input()))\n",
        "except Exception:\n",
        "    print(\"Неизвестная ошибка.\")\n",
        "except ZeroDivisionError:\n",
        "    print(\"Ошибка деления на ноль.\")\n",
        "except ValueError:\n",
        "    print(\"Невозможно преобразовать строку в число.\")"
      ],
      "metadata": {
        "colab": {
          "base_uri": "https://localhost:8080/"
        },
        "id": "MBQ804Gra55N",
        "outputId": "e59c7632-380f-4295-89e7-bb026edbd5e9"
      },
      "execution_count": null,
      "outputs": [
        {
          "output_type": "stream",
          "name": "stdout",
          "text": [
            "jansdkans\n",
            "Неизвестная ошибка.\n"
          ]
        }
      ]
    },
    {
      "cell_type": "markdown",
      "source": [
        "Необязательный блок else выполняет код в случае, если в блоке try не вызвано исключение. Добавим блок else в пример для вывода сообщения об успешном выполнении операции:"
      ],
      "metadata": {
        "id": "rJJvbQd2bEOF"
      }
    },
    {
      "cell_type": "code",
      "source": [
        "try:\n",
        "    print(1 / int(input()))\n",
        "except ZeroDivisionError:\n",
        "    print(\"Ошибка деления на ноль.\")\n",
        "except ValueError:\n",
        "    print(\"Невозможно преобразовать строку в число.\")\n",
        "except Exception:\n",
        "    print(\"Неизвестная ошибка.\")\n",
        "else:\n",
        "    print(\"Операция выполнена успешно.\")"
      ],
      "metadata": {
        "colab": {
          "base_uri": "https://localhost:8080/"
        },
        "id": "WTDwGsr6a_9z",
        "outputId": "d3497032-30a7-474a-c909-508fcee08a6a"
      },
      "execution_count": null,
      "outputs": [
        {
          "output_type": "stream",
          "name": "stdout",
          "text": [
            "2\n",
            "0.5\n",
            "Операция выполнена успешно.\n"
          ]
        }
      ]
    },
    {
      "cell_type": "markdown",
      "source": [
        "Блок finally выполняется всегда, даже если возникло какое-то исключение, не учтённое в блоках except, или код в этих блоках сам вызвал какое-либо исключение. Добавим в нашу программу вывод строки «Программа завершена» в конце программы даже при возникновении исключений:"
      ],
      "metadata": {
        "id": "Ntt_vA5HbIxS"
      }
    },
    {
      "cell_type": "code",
      "source": [
        "try:\n",
        "    print(1 / int(input()))\n",
        "except ZeroDivisionError:\n",
        "    print(\"Ошибка деления на ноль.\")\n",
        "except ValueError:\n",
        "    print(\"Невозможно преобразовать строку в число.\")\n",
        "except Exception:\n",
        "    print(\"Неизвестная ошибка.\")\n",
        "else:\n",
        "    print(\"Операция выполнена успешно.\")\n",
        "finally:\n",
        "    print(\"Программа завершена.\")"
      ],
      "metadata": {
        "colab": {
          "base_uri": "https://localhost:8080/"
        },
        "id": "K9WNAxYKbFde",
        "outputId": "4ca6b1f7-7114-429b-a4bb-de0c9b37bfbf"
      },
      "execution_count": null,
      "outputs": [
        {
          "output_type": "stream",
          "name": "stdout",
          "text": [
            "dfkjgndfn\n",
            "Невозможно преобразовать строку в число.\n",
            "Программа завершена.\n"
          ]
        }
      ]
    },
    {
      "cell_type": "markdown",
      "source": [
        "Создание собственных исключений\n",
        "В Python можно создавать свои собственные исключения. Синтаксис создания исключения такой же, как и у создания класса. При создании исключения его необходимо наследовать от какого-либо стандартного класса-исключения.\n",
        "\n",
        "Напишем программу, которая выводит сумму списка целых чисел и вызывает исключение, если в списке чисел есть хотя бы одно чётное или отрицательное число. Создадим свои классы исключений:\n",
        "\n",
        "NumbersError — базовый класс исключения;\n",
        "EvenError — исключение, которое вызывается при наличии хотя бы одного чётного числа;\n",
        "NegativeError — исключение, которое вызывается при наличии хотя бы одного отрицательного числа."
      ],
      "metadata": {
        "id": "FV3LYYk2bS-U"
      }
    },
    {
      "cell_type": "code",
      "source": [
        "class NumbersError(Exception):\n",
        "    pass\n",
        "\n",
        "\n",
        "class EvenError(NumbersError):\n",
        "    pass\n",
        "\n",
        "\n",
        "class NegativeError(NumbersError):\n",
        "    pass\n",
        "\n",
        "\n",
        "def no_even(numbers):\n",
        "    if all(x % 2 != 0 for x in numbers):\n",
        "        return True\n",
        "    raise EvenError(\"В списке не должно быть чётных чисел\")\n",
        "\n",
        "\n",
        "def no_negative(numbers):\n",
        "    if all(x >= 0 for x in numbers):\n",
        "        return True\n",
        "    raise NegativeError(\"В списке не должно быть отрицательных чисел\")\n",
        "\n",
        "\n",
        "def main():\n",
        "    print(\"Введите числа в одну строку через пробел:\")\n",
        "    try:\n",
        "        numbers = [int(x) for x in input().split()]\n",
        "        if no_negative(numbers) and no_even(numbers):\n",
        "            print(f\"Сумма чисел равна: {sum(numbers)}.\")\n",
        "    except NumbersError as e:  # обращение к исключению как к объекту\n",
        "        print(f\"Произошла ошибка: {e}.\")\n",
        "    except Exception as e:\n",
        "        print(f\"Произошла непредвиденная ошибка: {e}.\")\n"
      ],
      "metadata": {
        "id": "lauKNfF-bKVV"
      },
      "execution_count": 19,
      "outputs": []
    },
    {
      "cell_type": "code",
      "source": [
        "main()"
      ],
      "metadata": {
        "colab": {
          "base_uri": "https://localhost:8080/"
        },
        "id": "mB8BC6ndT-VS",
        "outputId": "5dd278ca-58c0-47db-a31f-e2c1f751e823"
      },
      "execution_count": 21,
      "outputs": [
        {
          "output_type": "stream",
          "name": "stdout",
          "text": [
            "Введите числа в одну строку через пробел:\n",
            "1 3 5 7\n",
            "Сумма чисел равна: 16.\n"
          ]
        }
      ]
    },
    {
      "cell_type": "code",
      "source": [
        "raise AttributeError(\"Все плохо\")"
      ],
      "metadata": {
        "colab": {
          "base_uri": "https://localhost:8080/",
          "height": 185
        },
        "id": "3ZAvXZk_UA94",
        "outputId": "cf93b674-3d3c-4b6f-8cd5-06befe3136a3"
      },
      "execution_count": null,
      "outputs": [
        {
          "output_type": "error",
          "ename": "AttributeError",
          "evalue": "ignored",
          "traceback": [
            "\u001b[0;31m---------------------------------------------------------------------------\u001b[0m",
            "\u001b[0;31mAttributeError\u001b[0m                            Traceback (most recent call last)",
            "\u001b[0;32m<ipython-input-96-28b6645260db>\u001b[0m in \u001b[0;36m<cell line: 1>\u001b[0;34m()\u001b[0m\n\u001b[0;32m----> 1\u001b[0;31m \u001b[0;32mraise\u001b[0m \u001b[0mAttributeError\u001b[0m\u001b[0;34m(\u001b[0m\u001b[0;34m\"Все плохо\"\u001b[0m\u001b[0;34m)\u001b[0m\u001b[0;34m\u001b[0m\u001b[0;34m\u001b[0m\u001b[0m\n\u001b[0m",
            "\u001b[0;31mAttributeError\u001b[0m: Все плохо"
          ]
        }
      ]
    },
    {
      "cell_type": "code",
      "source": [
        "1"
      ],
      "metadata": {
        "id": "0vYd4Np0UQor"
      },
      "execution_count": null,
      "outputs": []
    }
  ]
}