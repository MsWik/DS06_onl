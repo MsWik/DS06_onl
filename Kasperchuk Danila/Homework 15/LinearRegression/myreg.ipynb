{
 "cells": [
  {
   "cell_type": "code",
   "execution_count": 3,
   "id": "initial_id",
   "metadata": {
    "collapsed": true,
    "ExecuteTime": {
     "end_time": "2023-12-12T09:09:10.858685Z",
     "start_time": "2023-12-12T09:09:09.978982600Z"
    }
   },
   "outputs": [],
   "source": [
    "import numpy as np\n",
    "import matplotlib.pyplot as plt"
   ]
  },
  {
   "cell_type": "code",
   "execution_count": 8,
   "outputs": [],
   "source": [
    "def gr_func(y_true, y_pred, x):\n",
    "    gradient = np.dot((y_true - y_pred), x) * -2\n",
    "    return gradient"
   ],
   "metadata": {
    "collapsed": false,
    "ExecuteTime": {
     "end_time": "2023-12-12T09:11:38.837826200Z",
     "start_time": "2023-12-12T09:11:38.828117100Z"
    }
   },
   "id": "87e10ecf89efb4ef"
  },
  {
   "cell_type": "code",
   "execution_count": 5,
   "outputs": [],
   "source": [
    "def update(learning_rate, gradient, alpha):\n",
    "    new_alpha = alpha - learning_rate * gradient\n",
    "    return new_alpha\n",
    "    "
   ],
   "metadata": {
    "collapsed": false,
    "ExecuteTime": {
     "end_time": "2023-12-12T09:09:15.536827300Z",
     "start_time": "2023-12-12T09:09:15.530378800Z"
    }
   },
   "id": "d871f225841e1471"
  },
  {
   "cell_type": "code",
   "execution_count": 6,
   "outputs": [],
   "source": [
    "def train(alpha0, x_train, y_train, learning_rate, num_iters):\n",
    "    x_train = np.hstack((np.ones((x_train.shape[0], 1)), x_train))\n",
    "    alpha = alpha0.copy()\n",
    "    \n",
    "    for iter in range(num_iters):\n",
    "        for i, x in enumerate(x_train):\n",
    "            y_pred = np.dot(alpha, x)\n",
    "            gradient = gr_func(y_train[1], y_pred, x)\n",
    "            alpha = update(learning_rate, gradient, alpha)\n",
    "    return alpha"
   ],
   "metadata": {
    "collapsed": false,
    "ExecuteTime": {
     "end_time": "2023-12-12T09:09:17.589138400Z",
     "start_time": "2023-12-12T09:09:17.583863200Z"
    }
   },
   "id": "61543eca85640904"
  },
  {
   "cell_type": "code",
   "execution_count": 9,
   "outputs": [
    {
     "name": "stdout",
     "output_type": "stream",
     "text": [
      "True Alpha [0.23519898 0.12269962 0.07989427]\n",
      "Trained Alpha [3.51771240e-01 2.66923746e-07 1.67388080e-07]\n"
     ]
    },
    {
     "ename": "TypeError",
     "evalue": "Cannot construct a dtype from an array",
     "output_type": "error",
     "traceback": [
      "\u001B[1;31m---------------------------------------------------------------------------\u001B[0m",
      "\u001B[1;31mTypeError\u001B[0m                                 Traceback (most recent call last)",
      "Cell \u001B[1;32mIn[9], line 16\u001B[0m\n\u001B[0;32m     13\u001B[0m \u001B[38;5;28mprint\u001B[39m(\u001B[38;5;124mf\u001B[39m\u001B[38;5;124m\"\u001B[39m\u001B[38;5;124mTrue Alpha \u001B[39m\u001B[38;5;132;01m{\u001B[39;00malpha_true\u001B[38;5;132;01m}\u001B[39;00m\u001B[38;5;124m\"\u001B[39m)\n\u001B[0;32m     14\u001B[0m \u001B[38;5;28mprint\u001B[39m(\u001B[38;5;124mf\u001B[39m\u001B[38;5;124m\"\u001B[39m\u001B[38;5;124mTrained Alpha \u001B[39m\u001B[38;5;132;01m{\u001B[39;00mtrained_alpha\u001B[38;5;132;01m}\u001B[39;00m\u001B[38;5;124m\"\u001B[39m)\n\u001B[1;32m---> 16\u001B[0m x_train_ \u001B[38;5;241m=\u001B[39m np\u001B[38;5;241m.\u001B[39mhstack((\u001B[43mnp\u001B[49m\u001B[38;5;241;43m.\u001B[39;49m\u001B[43mones\u001B[49m\u001B[43m(\u001B[49m\u001B[43m(\u001B[49m\u001B[43mx_train\u001B[49m\u001B[38;5;241;43m.\u001B[39;49m\u001B[43mshape\u001B[49m\u001B[43m[\u001B[49m\u001B[38;5;241;43m0\u001B[39;49m\u001B[43m]\u001B[49m\u001B[43m,\u001B[49m\u001B[43m \u001B[49m\u001B[38;5;241;43m1\u001B[39;49m\u001B[43m)\u001B[49m\u001B[43m,\u001B[49m\u001B[43m \u001B[49m\u001B[43mx_train\u001B[49m\u001B[43m)\u001B[49m))\n\u001B[0;32m     18\u001B[0m MSE \u001B[38;5;241m=\u001B[39m \u001B[38;5;241m0\u001B[39m\n\u001B[0;32m     20\u001B[0m \u001B[38;5;28;01mfor\u001B[39;00m index, x \u001B[38;5;129;01min\u001B[39;00m \u001B[38;5;28menumerate\u001B[39m(x_train_):\n",
      "File \u001B[1;32m~\\DataspellProjects\\MLlearn\\venv\\Lib\\site-packages\\numpy\\core\\numeric.py:191\u001B[0m, in \u001B[0;36mones\u001B[1;34m(shape, dtype, order, like)\u001B[0m\n\u001B[0;32m    188\u001B[0m \u001B[38;5;28;01mif\u001B[39;00m like \u001B[38;5;129;01mis\u001B[39;00m \u001B[38;5;129;01mnot\u001B[39;00m \u001B[38;5;28;01mNone\u001B[39;00m:\n\u001B[0;32m    189\u001B[0m     \u001B[38;5;28;01mreturn\u001B[39;00m _ones_with_like(like, shape, dtype\u001B[38;5;241m=\u001B[39mdtype, order\u001B[38;5;241m=\u001B[39morder)\n\u001B[1;32m--> 191\u001B[0m a \u001B[38;5;241m=\u001B[39m empty(shape, dtype, order)\n\u001B[0;32m    192\u001B[0m multiarray\u001B[38;5;241m.\u001B[39mcopyto(a, \u001B[38;5;241m1\u001B[39m, casting\u001B[38;5;241m=\u001B[39m\u001B[38;5;124m'\u001B[39m\u001B[38;5;124munsafe\u001B[39m\u001B[38;5;124m'\u001B[39m)\n\u001B[0;32m    193\u001B[0m \u001B[38;5;28;01mreturn\u001B[39;00m a\n",
      "\u001B[1;31mTypeError\u001B[0m: Cannot construct a dtype from an array"
     ]
    }
   ],
   "source": [
    "x_train = np.random.rand(100,2)\n",
    "alpha_true = np.random.rand(3)\n",
    "x_train_with_bias = np.hstack((np.ones((x_train.shape[0], 1)), x_train))\n",
    "y_train = np.dot(x_train_with_bias, alpha_true) + np.random.randn(100) * 0.1\n",
    "\n",
    "alpha0 = np.random.rand(3)\n",
    "\n",
    "learning_rate = 0.01\n",
    "num_iters = 100\n",
    "\n",
    "trained_alpha = train(alpha0, x_train, y_train, learning_rate, num_iters)\n",
    "\n",
    "print(f\"True Alpha {alpha_true}\")\n",
    "print(f\"Trained Alpha {trained_alpha}\")\n",
    "\n",
    "x_train_ = np.hstack((np.ones((x_train.shape[0], 1), x_train)))\n",
    "\n",
    "MSE = 0\n",
    "\n",
    "for index, x in enumerate(x_train_):\n",
    "    y_pred = np.dot(trained_alpha, x)\n",
    "    MSE += (y_train[index] - y_pred) ** 2\n",
    "\n",
    "MSE /= num_iters\n",
    "print(f\"MSE {MSE}\")"
   ],
   "metadata": {
    "collapsed": false,
    "ExecuteTime": {
     "end_time": "2023-12-12T09:11:41.078144Z",
     "start_time": "2023-12-12T09:11:40.923541Z"
    }
   },
   "id": "527a7d50159d4d57"
  },
  {
   "cell_type": "code",
   "execution_count": null,
   "outputs": [],
   "source": [],
   "metadata": {
    "collapsed": false
   },
   "id": "b065f4ecd4e8a62b"
  }
 ],
 "metadata": {
  "kernelspec": {
   "display_name": "Python 3",
   "language": "python",
   "name": "python3"
  },
  "language_info": {
   "codemirror_mode": {
    "name": "ipython",
    "version": 2
   },
   "file_extension": ".py",
   "mimetype": "text/x-python",
   "name": "python",
   "nbconvert_exporter": "python",
   "pygments_lexer": "ipython2",
   "version": "2.7.6"
  }
 },
 "nbformat": 4,
 "nbformat_minor": 5
}
