{
  "cells": [
    {
      "cell_type": "markdown",
      "id": "498b7909",
      "metadata": {
        "id": "498b7909",
        "papermill": {
          "duration": 0.05823,
          "end_time": "2022-09-15T16:38:06.409341",
          "exception": false,
          "start_time": "2022-09-15T16:38:06.351111",
          "status": "completed"
        },
        "tags": []
      },
      "source": [
        "### 1. Import the numpy package under the name `np` (★☆☆)\n",
        "импортируйте библиотеку numpy, переименовав ее на **np**"
      ]
    },
    {
      "cell_type": "code",
      "execution_count": null,
      "id": "qfDtlWqbbcPT",
      "metadata": {
        "id": "qfDtlWqbbcPT"
      },
      "outputs": [],
      "source": [
        "import numpy as np"
      ]
    },
    {
      "cell_type": "markdown",
      "id": "c72dda1e",
      "metadata": {
        "id": "c72dda1e",
        "papermill": {
          "duration": 0.061481,
          "end_time": "2022-09-15T16:38:06.661532",
          "exception": false,
          "start_time": "2022-09-15T16:38:06.600051",
          "status": "completed"
        },
        "tags": []
      },
      "source": [
        "### 2. Print the numpy version and the configuration (★☆☆)\n",
        "Выведите на печать версию numpy и ее конфигурацию"
      ]
    },
    {
      "cell_type": "code",
      "execution_count": null,
      "id": "1zoscc7kbj6C",
      "metadata": {
        "colab": {
          "base_uri": "https://localhost:8080/"
        },
        "id": "1zoscc7kbj6C",
        "outputId": "60447b09-20b7-4e17-d1d7-1a6faf775a24"
      },
      "outputs": [
        {
          "name": "stdout",
          "output_type": "stream",
          "text": [
            "1.23.5\n",
            "openblas64__info:\n",
            "    libraries = ['openblas64_', 'openblas64_']\n",
            "    library_dirs = ['/usr/local/lib']\n",
            "    language = c\n",
            "    define_macros = [('HAVE_CBLAS', None), ('BLAS_SYMBOL_SUFFIX', '64_'), ('HAVE_BLAS_ILP64', None)]\n",
            "    runtime_library_dirs = ['/usr/local/lib']\n",
            "blas_ilp64_opt_info:\n",
            "    libraries = ['openblas64_', 'openblas64_']\n",
            "    library_dirs = ['/usr/local/lib']\n",
            "    language = c\n",
            "    define_macros = [('HAVE_CBLAS', None), ('BLAS_SYMBOL_SUFFIX', '64_'), ('HAVE_BLAS_ILP64', None)]\n",
            "    runtime_library_dirs = ['/usr/local/lib']\n",
            "openblas64__lapack_info:\n",
            "    libraries = ['openblas64_', 'openblas64_']\n",
            "    library_dirs = ['/usr/local/lib']\n",
            "    language = c\n",
            "    define_macros = [('HAVE_CBLAS', None), ('BLAS_SYMBOL_SUFFIX', '64_'), ('HAVE_BLAS_ILP64', None), ('HAVE_LAPACKE', None)]\n",
            "    runtime_library_dirs = ['/usr/local/lib']\n",
            "lapack_ilp64_opt_info:\n",
            "    libraries = ['openblas64_', 'openblas64_']\n",
            "    library_dirs = ['/usr/local/lib']\n",
            "    language = c\n",
            "    define_macros = [('HAVE_CBLAS', None), ('BLAS_SYMBOL_SUFFIX', '64_'), ('HAVE_BLAS_ILP64', None), ('HAVE_LAPACKE', None)]\n",
            "    runtime_library_dirs = ['/usr/local/lib']\n",
            "Supported SIMD extensions in this NumPy install:\n",
            "    baseline = SSE,SSE2,SSE3\n",
            "    found = SSSE3,SSE41,POPCNT,SSE42,AVX,F16C,FMA3,AVX2\n",
            "    not found = AVX512F,AVX512CD,AVX512_KNL,AVX512_KNM,AVX512_SKX,AVX512_CLX,AVX512_CNL,AVX512_ICL\n"
          ]
        }
      ],
      "source": [
        "print(np.__version__ )\n",
        "\n",
        "np.show_config()"
      ]
    },
    {
      "cell_type": "markdown",
      "id": "015af6c0",
      "metadata": {
        "id": "015af6c0",
        "papermill": {
          "duration": 0.062901,
          "end_time": "2022-09-15T16:38:06.924700",
          "exception": false,
          "start_time": "2022-09-15T16:38:06.861799",
          "status": "completed"
        },
        "tags": []
      },
      "source": [
        "### 3. Create a null vector of size 10 (★☆☆)\n",
        "Создайте нулевой вектор размера 10"
      ]
    },
    {
      "cell_type": "code",
      "execution_count": null,
      "id": "zn4Q4k58b-Qv",
      "metadata": {
        "colab": {
          "base_uri": "https://localhost:8080/"
        },
        "id": "zn4Q4k58b-Qv",
        "outputId": "bf9d811a-d344-497c-a709-dd8506e88925"
      },
      "outputs": [
        {
          "data": {
            "text/plain": [
              "array([0., 0., 0., 0., 0., 0., 0., 0., 0., 0.])"
            ]
          },
          "execution_count": 9,
          "metadata": {},
          "output_type": "execute_result"
        }
      ],
      "source": [
        "np.zeros((10))"
      ]
    },
    {
      "cell_type": "markdown",
      "id": "4b7e6e89",
      "metadata": {
        "id": "4b7e6e89",
        "papermill": {
          "duration": 0.058021,
          "end_time": "2022-09-15T16:38:07.360498",
          "exception": false,
          "start_time": "2022-09-15T16:38:07.302477",
          "status": "completed"
        },
        "tags": []
      },
      "source": [
        "#### 4. How to find the memory size of any array (★☆☆)\n",
        "Как найти размер памяти занимаемый вектором"
      ]
    },
    {
      "cell_type": "code",
      "execution_count": null,
      "id": "SWR1QYRqcJGw",
      "metadata": {
        "colab": {
          "base_uri": "https://localhost:8080/"
        },
        "id": "SWR1QYRqcJGw",
        "outputId": "61840c70-1067-44b5-d50a-50f86abc558a"
      },
      "outputs": [
        {
          "name": "stdout",
          "output_type": "stream",
          "text": [
            "80\n"
          ]
        }
      ],
      "source": [
        "z = np.zeros((10))\n",
        "\n",
        "print(z.itemsize*z.size)"
      ]
    },
    {
      "cell_type": "markdown",
      "id": "118962b7",
      "metadata": {
        "id": "118962b7",
        "papermill": {
          "duration": 0.057918,
          "end_time": "2022-09-15T16:38:07.715499",
          "exception": false,
          "start_time": "2022-09-15T16:38:07.657581",
          "status": "completed"
        },
        "tags": []
      },
      "source": [
        "#### 5. How to get the documentation of the numpy add function from the command line? (★☆☆)  \n",
        "Как получить документацию по функции numpy add (сложение) из командной строки?"
      ]
    },
    {
      "cell_type": "code",
      "execution_count": null,
      "id": "1rneS7Lzcrjl",
      "metadata": {
        "colab": {
          "base_uri": "https://localhost:8080/"
        },
        "id": "1rneS7Lzcrjl",
        "outputId": "c2ffbe3b-dc3e-40ef-c4b9-acfed200e295"
      },
      "outputs": [
        {
          "name": "stdout",
          "output_type": "stream",
          "text": [
            "add(x1, x2, /, out=None, *, where=True, casting='same_kind', order='K', dtype=None, subok=True[, signature, extobj])\n",
            "\n",
            "Add arguments element-wise.\n",
            "\n",
            "Parameters\n",
            "----------\n",
            "x1, x2 : array_like\n",
            "    The arrays to be added.\n",
            "    If ``x1.shape != x2.shape``, they must be broadcastable to a common\n",
            "    shape (which becomes the shape of the output).\n",
            "out : ndarray, None, or tuple of ndarray and None, optional\n",
            "    A location into which the result is stored. If provided, it must have\n",
            "    a shape that the inputs broadcast to. If not provided or None,\n",
            "    a freshly-allocated array is returned. A tuple (possible only as a\n",
            "    keyword argument) must have length equal to the number of outputs.\n",
            "where : array_like, optional\n",
            "    This condition is broadcast over the input. At locations where the\n",
            "    condition is True, the `out` array will be set to the ufunc result.\n",
            "    Elsewhere, the `out` array will retain its original value.\n",
            "    Note that if an uninitialized `out` array is created via the default\n",
            "    ``out=None``, locations within it where the condition is False will\n",
            "    remain uninitialized.\n",
            "**kwargs\n",
            "    For other keyword-only arguments, see the\n",
            "    :ref:`ufunc docs <ufuncs.kwargs>`.\n",
            "\n",
            "Returns\n",
            "-------\n",
            "add : ndarray or scalar\n",
            "    The sum of `x1` and `x2`, element-wise.\n",
            "    This is a scalar if both `x1` and `x2` are scalars.\n",
            "\n",
            "Notes\n",
            "-----\n",
            "Equivalent to `x1` + `x2` in terms of array broadcasting.\n",
            "\n",
            "Examples\n",
            "--------\n",
            ">>> np.add(1.0, 4.0)\n",
            "5.0\n",
            ">>> x1 = np.arange(9.0).reshape((3, 3))\n",
            ">>> x2 = np.arange(3.0)\n",
            ">>> np.add(x1, x2)\n",
            "array([[  0.,   2.,   4.],\n",
            "       [  3.,   5.,   7.],\n",
            "       [  6.,   8.,  10.]])\n",
            "\n",
            "The ``+`` operator can be used as a shorthand for ``np.add`` on ndarrays.\n",
            "\n",
            ">>> x1 = np.arange(9.0).reshape((3, 3))\n",
            ">>> x2 = np.arange(3.0)\n",
            ">>> x1 + x2\n",
            "array([[ 0.,  2.,  4.],\n",
            "       [ 3.,  5.,  7.],\n",
            "       [ 6.,  8., 10.]])\n"
          ]
        }
      ],
      "source": [
        "np.info(np.add)"
      ]
    },
    {
      "cell_type": "markdown",
      "id": "aa4d41ce",
      "metadata": {
        "id": "aa4d41ce",
        "papermill": {
          "duration": 0.061496,
          "end_time": "2022-09-15T16:38:08.592272",
          "exception": false,
          "start_time": "2022-09-15T16:38:08.530776",
          "status": "completed"
        },
        "tags": []
      },
      "source": [
        "#### 6. Create a null vector of size 10 but the fifth value which is 1 (★☆☆)\n",
        "Как создать вектор размера 10, пятый элемент которого = 1"
      ]
    },
    {
      "cell_type": "code",
      "execution_count": null,
      "id": "L7PgnZ2fc4C-",
      "metadata": {
        "colab": {
          "base_uri": "https://localhost:8080/"
        },
        "id": "L7PgnZ2fc4C-",
        "outputId": "f8671fe9-514a-44f2-e5e3-cfeac10da74c"
      },
      "outputs": [
        {
          "name": "stdout",
          "output_type": "stream",
          "text": [
            "[0. 0. 0. 0. 1. 0. 0. 0. 0. 0.]\n"
          ]
        }
      ],
      "source": [
        "z = np.zeros(10)\n",
        "z[4] = 1\n",
        "print(z)"
      ]
    },
    {
      "cell_type": "markdown",
      "id": "1d8a8687",
      "metadata": {
        "id": "1d8a8687",
        "papermill": {
          "duration": 0.061202,
          "end_time": "2022-09-15T16:38:08.982740",
          "exception": false,
          "start_time": "2022-09-15T16:38:08.921538",
          "status": "completed"
        },
        "tags": []
      },
      "source": [
        "#### 7. Create a vector with values ranging from 10 to 49 (★☆☆)\n",
        "Создайте вектор со значениями от 10 до 49"
      ]
    },
    {
      "cell_type": "code",
      "execution_count": null,
      "id": "cbbWy7Sbc_Oy",
      "metadata": {
        "colab": {
          "base_uri": "https://localhost:8080/"
        },
        "id": "cbbWy7Sbc_Oy",
        "outputId": "447686cc-3640-4687-e3ac-ae39529fd236"
      },
      "outputs": [
        {
          "data": {
            "text/plain": [
              "array([10, 11, 12, 13, 14, 15, 16, 17, 18, 19, 20, 21, 22, 23, 24, 25, 26,\n",
              "       27, 28, 29, 30, 31, 32, 33, 34, 35, 36, 37, 38, 39, 40, 41, 42, 43,\n",
              "       44, 45, 46, 47, 48, 49])"
            ]
          },
          "execution_count": 15,
          "metadata": {},
          "output_type": "execute_result"
        }
      ],
      "source": [
        "np.arange(10,50)"
      ]
    },
    {
      "cell_type": "markdown",
      "id": "f40af305",
      "metadata": {
        "id": "f40af305",
        "papermill": {
          "duration": 0.061825,
          "end_time": "2022-09-15T16:38:09.363822",
          "exception": false,
          "start_time": "2022-09-15T16:38:09.301997",
          "status": "completed"
        },
        "tags": []
      },
      "source": [
        "#### 8. Reverse a vector (first element becomes last) (★☆☆)\n",
        "Инвертировать вектор (первый элемент становится последним)"
      ]
    },
    {
      "cell_type": "code",
      "execution_count": null,
      "id": "vyZj-MWJdPpa",
      "metadata": {
        "colab": {
          "base_uri": "https://localhost:8080/"
        },
        "id": "vyZj-MWJdPpa",
        "outputId": "99662c51-12ad-4ae6-f116-052fcbf95c31"
      },
      "outputs": [
        {
          "data": {
            "text/plain": [
              "array([49, 48, 47, 46, 45, 44, 43, 42, 41, 40, 39, 38, 37, 36, 35, 34, 33,\n",
              "       32, 31, 30, 29, 28, 27, 26, 25, 24, 23, 22, 21, 20, 19, 18, 17, 16,\n",
              "       15, 14, 13, 12, 11, 10])"
            ]
          },
          "execution_count": 19,
          "metadata": {},
          "output_type": "execute_result"
        }
      ],
      "source": [
        "z = np.arange(10,50)\n",
        "\n",
        "np.flip(z)"
      ]
    },
    {
      "cell_type": "markdown",
      "id": "820f4679",
      "metadata": {
        "id": "820f4679",
        "papermill": {
          "duration": 0.060822,
          "end_time": "2022-09-15T16:38:09.736253",
          "exception": false,
          "start_time": "2022-09-15T16:38:09.675431",
          "status": "completed"
        },
        "tags": []
      },
      "source": [
        "#### 9. Create a 3x3 matrix with values ranging from 0 to 8 (★☆☆)\n",
        "Создайте матрицу 3x3 со значениями от 0 до 8\n"
      ]
    },
    {
      "cell_type": "code",
      "execution_count": null,
      "id": "sYHDx6U2deG3",
      "metadata": {
        "colab": {
          "base_uri": "https://localhost:8080/"
        },
        "id": "sYHDx6U2deG3",
        "outputId": "b2600ecc-3ce3-4359-c96a-f8b86d7af89a"
      },
      "outputs": [
        {
          "data": {
            "text/plain": [
              "array([[0, 1, 2],\n",
              "       [3, 4, 5],\n",
              "       [6, 7, 8]])"
            ]
          },
          "execution_count": 21,
          "metadata": {},
          "output_type": "execute_result"
        }
      ],
      "source": [
        "np.arange(9).reshape(3,3)"
      ]
    },
    {
      "cell_type": "markdown",
      "id": "970430a4",
      "metadata": {
        "id": "970430a4",
        "papermill": {
          "duration": 0.059825,
          "end_time": "2022-09-15T16:38:10.108187",
          "exception": false,
          "start_time": "2022-09-15T16:38:10.048362",
          "status": "completed"
        },
        "tags": []
      },
      "source": [
        "### 10. Find indices of non-zero elements from array \\[1,2,0,0,4,0\\] (★☆☆)\n",
        "Найдите индексы ненулевых элементов из вектора \\[1,2,0,0,4,0\\]"
      ]
    },
    {
      "cell_type": "code",
      "execution_count": null,
      "id": "raNg4P-jd2BE",
      "metadata": {
        "colab": {
          "base_uri": "https://localhost:8080/"
        },
        "id": "raNg4P-jd2BE",
        "outputId": "7d5aa1f9-34e3-4fdc-8ab2-b17091a5a0a5"
      },
      "outputs": [
        {
          "name": "stdout",
          "output_type": "stream",
          "text": [
            "(array([0, 1, 4]),)\n",
            "(array([0, 1, 4]),)\n"
          ]
        }
      ],
      "source": [
        "a = np.array( [1,2,0,0,4,0])\n",
        "\n",
        "print(np.where(a!=0))\n",
        "\n",
        "print(np.nonzero(a))"
      ]
    },
    {
      "cell_type": "markdown",
      "id": "25ac2535",
      "metadata": {
        "id": "25ac2535",
        "papermill": {
          "duration": 0.059594,
          "end_time": "2022-09-15T16:38:10.481377",
          "exception": false,
          "start_time": "2022-09-15T16:38:10.421783",
          "status": "completed"
        },
        "tags": []
      },
      "source": [
        "#### 11. Create a 3x3 identity matrix (★☆☆)\n",
        "Создайте единичную матрицу 3x3"
      ]
    },
    {
      "cell_type": "code",
      "execution_count": null,
      "id": "XNmAcP3feCHu",
      "metadata": {
        "colab": {
          "base_uri": "https://localhost:8080/"
        },
        "id": "XNmAcP3feCHu",
        "outputId": "23a02f44-c587-4269-fdfb-fc7d601ba0e5"
      },
      "outputs": [
        {
          "data": {
            "text/plain": [
              "array([[1., 0., 0.],\n",
              "       [0., 1., 0.],\n",
              "       [0., 0., 1.]])"
            ]
          },
          "execution_count": 26,
          "metadata": {},
          "output_type": "execute_result"
        }
      ],
      "source": [
        "np.eye(3)"
      ]
    },
    {
      "cell_type": "markdown",
      "id": "f841e5cc",
      "metadata": {
        "id": "f841e5cc",
        "papermill": {
          "duration": 0.058771,
          "end_time": "2022-09-15T16:38:10.859212",
          "exception": false,
          "start_time": "2022-09-15T16:38:10.800441",
          "status": "completed"
        },
        "tags": []
      },
      "source": [
        "#### 12. Create a 3x3x3 array with random values (★☆☆)\n",
        "Создайте массив 3 на 3 на 3 со случайными значениями"
      ]
    },
    {
      "cell_type": "code",
      "execution_count": null,
      "id": "oi3hYqpYeHmx",
      "metadata": {
        "colab": {
          "base_uri": "https://localhost:8080/"
        },
        "id": "oi3hYqpYeHmx",
        "outputId": "f0c88e94-18c1-4e6c-a951-7a7228d9eace"
      },
      "outputs": [
        {
          "data": {
            "text/plain": [
              "(3, 3, 3)"
            ]
          },
          "execution_count": 30,
          "metadata": {},
          "output_type": "execute_result"
        }
      ],
      "source": [
        "np.random.randint(low=0, high=100, size=(3,3,3)).shape"
      ]
    },
    {
      "cell_type": "markdown",
      "id": "696fd5d4",
      "metadata": {
        "id": "696fd5d4",
        "papermill": {
          "duration": 0.115007,
          "end_time": "2022-09-15T16:38:11.285794",
          "exception": false,
          "start_time": "2022-09-15T16:38:11.170787",
          "status": "completed"
        },
        "tags": []
      },
      "source": [
        "#### 13. Create a 10x10 array with random values and find the minimum and maximum values (★☆☆)\n",
        "Создайте массив 10x10 со случайными значениями и найдите минимальное и максимальное значения"
      ]
    },
    {
      "cell_type": "code",
      "execution_count": null,
      "id": "-iFx0Q10eXKb",
      "metadata": {
        "colab": {
          "base_uri": "https://localhost:8080/"
        },
        "id": "-iFx0Q10eXKb",
        "outputId": "23fba655-0363-4305-b699-4eb477a64c3c"
      },
      "outputs": [
        {
          "name": "stdout",
          "output_type": "stream",
          "text": [
            "5 99\n"
          ]
        }
      ],
      "source": [
        "a = np.random.randint(low=0, high=100, size=(10, 10))\n",
        "\n",
        "print(a.min(), a.max())"
      ]
    },
    {
      "cell_type": "markdown",
      "id": "0ba49f10",
      "metadata": {
        "id": "0ba49f10",
        "papermill": {
          "duration": 0.059659,
          "end_time": "2022-09-15T16:38:11.670603",
          "exception": false,
          "start_time": "2022-09-15T16:38:11.610944",
          "status": "completed"
        },
        "tags": []
      },
      "source": [
        "#### 14. Create a random vector of size 30 and find the mean value (★☆☆)\n",
        "Создайте случайный вектор размером 30 и найдите среднее значение"
      ]
    },
    {
      "cell_type": "code",
      "source": [
        "vector = np.random.randint(1,10, size=30)\n",
        "vector.mean()"
      ],
      "metadata": {
        "colab": {
          "base_uri": "https://localhost:8080/"
        },
        "id": "mT09HBK6U_KL",
        "outputId": "55abdb41-7d63-4189-c6dd-61010ea6751d"
      },
      "id": "mT09HBK6U_KL",
      "execution_count": null,
      "outputs": [
        {
          "output_type": "execute_result",
          "data": {
            "text/plain": [
              "3.8"
            ]
          },
          "metadata": {},
          "execution_count": 22
        }
      ]
    },
    {
      "cell_type": "markdown",
      "id": "3dba4ae0",
      "metadata": {
        "id": "3dba4ae0",
        "papermill": {
          "duration": 0.062051,
          "end_time": "2022-09-15T16:38:12.046107",
          "exception": false,
          "start_time": "2022-09-15T16:38:11.984056",
          "status": "completed"
        },
        "tags": []
      },
      "source": [
        "#### 15. Create a 2d array with 1 on the border and 0 inside (★☆☆)\n",
        "Создайте двумерный-массив с 1(единицами) на границе и 0(нулями) внутри"
      ]
    },
    {
      "cell_type": "code",
      "source": [
        "arr = np.ones((5,5))\n",
        "arr[1:-1, 1:-1] = 0\n",
        "\n",
        "print(arr)"
      ],
      "metadata": {
        "colab": {
          "base_uri": "https://localhost:8080/"
        },
        "id": "GB-D-IEYVKCw",
        "outputId": "f68f0acc-0c9b-43c8-f12a-d165660f9f83"
      },
      "id": "GB-D-IEYVKCw",
      "execution_count": null,
      "outputs": [
        {
          "output_type": "stream",
          "name": "stdout",
          "text": [
            "[[1. 1. 1. 1. 1.]\n",
            " [1. 0. 0. 0. 1.]\n",
            " [1. 0. 0. 0. 1.]\n",
            " [1. 0. 0. 0. 1.]\n",
            " [1. 1. 1. 1. 1.]]\n"
          ]
        }
      ]
    },
    {
      "cell_type": "markdown",
      "id": "189308a5",
      "metadata": {
        "id": "189308a5",
        "papermill": {
          "duration": 0.059815,
          "end_time": "2022-09-15T16:38:12.424040",
          "exception": false,
          "start_time": "2022-09-15T16:38:12.364225",
          "status": "completed"
        },
        "tags": []
      },
      "source": [
        "#### 16. How to add a border (filled with 0's) around an existing array? (★☆☆)\n",
        "Как добавить границу (заполненную нулями) вокруг существующего массива (например: массив 5 на 5 из единиц окружить нулями, чтобы он превратился в массив 7 на 7?"
      ]
    },
    {
      "cell_type": "code",
      "source": [
        "arr = np.ones((5,5))\n",
        "arr = np.pad(arr, pad_width=((3,2),(1,1)), mode='constant')\n",
        "arr"
      ],
      "metadata": {
        "colab": {
          "base_uri": "https://localhost:8080/"
        },
        "id": "KZq80iolWLOJ",
        "outputId": "4ba254b1-e3d5-49d0-d214-12f195996034"
      },
      "id": "KZq80iolWLOJ",
      "execution_count": null,
      "outputs": [
        {
          "output_type": "execute_result",
          "data": {
            "text/plain": [
              "array([[0., 0., 0., 0., 0., 0., 0.],\n",
              "       [0., 0., 0., 0., 0., 0., 0.],\n",
              "       [0., 0., 0., 0., 0., 0., 0.],\n",
              "       [0., 1., 1., 1., 1., 1., 0.],\n",
              "       [0., 1., 1., 1., 1., 1., 0.],\n",
              "       [0., 1., 1., 1., 1., 1., 0.],\n",
              "       [0., 1., 1., 1., 1., 1., 0.],\n",
              "       [0., 1., 1., 1., 1., 1., 0.],\n",
              "       [0., 0., 0., 0., 0., 0., 0.],\n",
              "       [0., 0., 0., 0., 0., 0., 0.]])"
            ]
          },
          "metadata": {},
          "execution_count": 32
        }
      ]
    },
    {
      "cell_type": "markdown",
      "id": "59a5548f",
      "metadata": {
        "id": "59a5548f",
        "papermill": {
          "duration": 0.05916,
          "end_time": "2022-09-15T16:38:12.928440",
          "exception": false,
          "start_time": "2022-09-15T16:38:12.869280",
          "status": "completed"
        },
        "tags": []
      },
      "source": [
        "#### 17. What is the result of the following expression? (★☆☆)\n",
        "Каков результат следующих выражений ?\n",
        "```python\n",
        "0 * np.nan\n",
        "np.nan == np.nan\n",
        "np.inf > np.nan\n",
        "np.nan - np.nan\n",
        "np.nan in set([np.nan])\n",
        "0.3 == 3 * 0.1\n",
        "```"
      ]
    },
    {
      "cell_type": "code",
      "execution_count": null,
      "id": "oI2ksYfMek3X",
      "metadata": {
        "colab": {
          "base_uri": "https://localhost:8080/"
        },
        "id": "oI2ksYfMek3X",
        "outputId": "1a73f57d-3be0-432a-adf4-c16a94502c76"
      },
      "outputs": [
        {
          "data": {
            "text/plain": [
              "nan"
            ]
          },
          "execution_count": 42,
          "metadata": {},
          "output_type": "execute_result"
        }
      ],
      "source": [
        "0 * np.nan"
      ]
    },
    {
      "cell_type": "code",
      "execution_count": null,
      "id": "K_SSad-VepWZ",
      "metadata": {
        "colab": {
          "base_uri": "https://localhost:8080/"
        },
        "id": "K_SSad-VepWZ",
        "outputId": "0f6d3902-7884-41f2-fa93-607b0164d284"
      },
      "outputs": [
        {
          "data": {
            "text/plain": [
              "False"
            ]
          },
          "execution_count": 43,
          "metadata": {},
          "output_type": "execute_result"
        }
      ],
      "source": [
        "np.nan == np.nan"
      ]
    },
    {
      "cell_type": "code",
      "execution_count": null,
      "id": "Xh8lds2yeqxj",
      "metadata": {
        "colab": {
          "base_uri": "https://localhost:8080/"
        },
        "id": "Xh8lds2yeqxj",
        "outputId": "e2ae4d37-47ae-4e61-9c85-3f58475476dd"
      },
      "outputs": [
        {
          "data": {
            "text/plain": [
              "False"
            ]
          },
          "execution_count": 44,
          "metadata": {},
          "output_type": "execute_result"
        }
      ],
      "source": [
        "np.inf > np.nan"
      ]
    },
    {
      "cell_type": "code",
      "execution_count": null,
      "id": "LmvKb7kYessM",
      "metadata": {
        "colab": {
          "base_uri": "https://localhost:8080/"
        },
        "id": "LmvKb7kYessM",
        "outputId": "1a1c1e2f-7c5a-4dac-f3d7-717bf44aaff0"
      },
      "outputs": [
        {
          "data": {
            "text/plain": [
              "nan"
            ]
          },
          "execution_count": 45,
          "metadata": {},
          "output_type": "execute_result"
        }
      ],
      "source": [
        "np.nan - np.nan"
      ]
    },
    {
      "cell_type": "code",
      "execution_count": null,
      "id": "Y1s1gGPteuDM",
      "metadata": {
        "colab": {
          "base_uri": "https://localhost:8080/"
        },
        "id": "Y1s1gGPteuDM",
        "outputId": "a696251d-42ec-4c9c-d2f2-1208c211e774"
      },
      "outputs": [
        {
          "data": {
            "text/plain": [
              "True"
            ]
          },
          "execution_count": 46,
          "metadata": {},
          "output_type": "execute_result"
        }
      ],
      "source": [
        "np.nan in set([np.nan])"
      ]
    },
    {
      "cell_type": "code",
      "execution_count": null,
      "id": "qM5nWLINe0Qs",
      "metadata": {
        "colab": {
          "base_uri": "https://localhost:8080/"
        },
        "id": "qM5nWLINe0Qs",
        "outputId": "191c15f8-e06c-4d62-e8d0-5e4e189c3df6"
      },
      "outputs": [
        {
          "data": {
            "text/plain": [
              "0.30000000000000004"
            ]
          },
          "execution_count": 48,
          "metadata": {},
          "output_type": "execute_result"
        }
      ],
      "source": [
        "3 * 0.1"
      ]
    },
    {
      "cell_type": "code",
      "execution_count": null,
      "id": "q8EFGIO-exeO",
      "metadata": {
        "colab": {
          "base_uri": "https://localhost:8080/"
        },
        "id": "q8EFGIO-exeO",
        "outputId": "87c6e40b-bf1c-4416-d0df-75de0b1205f4"
      },
      "outputs": [
        {
          "data": {
            "text/plain": [
              "False"
            ]
          },
          "execution_count": 47,
          "metadata": {},
          "output_type": "execute_result"
        }
      ],
      "source": [
        "0.3 == 3 * 0.1"
      ]
    },
    {
      "cell_type": "markdown",
      "id": "490c8dbe",
      "metadata": {
        "id": "490c8dbe",
        "papermill": {
          "duration": 0.060511,
          "end_time": "2022-09-15T16:38:13.180430",
          "exception": false,
          "start_time": "2022-09-15T16:38:13.119919",
          "status": "completed"
        },
        "tags": []
      },
      "source": [
        "#### 18. Create a 5x5 matrix with values 1,2,3,4 just below the diagonal (★☆☆)\n",
        "Создайте матрицу 5 на 5 со значениями 1,2,3,4 сразу ниже диагонали"
      ]
    },
    {
      "cell_type": "code",
      "execution_count": null,
      "id": "4tV6PB3De2eA",
      "metadata": {
        "colab": {
          "base_uri": "https://localhost:8080/"
        },
        "id": "4tV6PB3De2eA",
        "outputId": "d5174243-611a-41dc-f5f8-95a9da5766a1"
      },
      "outputs": [
        {
          "data": {
            "text/plain": [
              "array([[0, 0, 0, 0, 0],\n",
              "       [1, 0, 0, 0, 0],\n",
              "       [0, 2, 0, 0, 0],\n",
              "       [0, 0, 3, 0, 0],\n",
              "       [0, 0, 0, 4, 0]])"
            ]
          },
          "execution_count": 53,
          "metadata": {},
          "output_type": "execute_result"
        }
      ],
      "source": [
        "np.diag(np.arange(1,5),k=-1)"
      ]
    },
    {
      "cell_type": "markdown",
      "id": "3d97f4c0",
      "metadata": {
        "id": "3d97f4c0",
        "papermill": {
          "duration": 0.059811,
          "end_time": "2022-09-15T16:38:13.548734",
          "exception": false,
          "start_time": "2022-09-15T16:38:13.488923",
          "status": "completed"
        },
        "tags": []
      },
      "source": [
        "#### 19. Create a 8x8 matrix and fill it with a checkerboard pattern (★☆☆)\n",
        "Создайте матрицу 8x8 и залейте ее шахматным узором\n",
        "Пояснение к заданию: не используйте функцию tile. Ниже будет аналогичное задание 21 с использованием функции tile"
      ]
    },
    {
      "cell_type": "code",
      "execution_count": null,
      "id": "52b0ea32",
      "metadata": {
        "id": "52b0ea32",
        "outputId": "67109b45-a226-407c-97fd-10c7a04e598b"
      },
      "outputs": [
        {
          "data": {
            "text/plain": [
              "array([[1., 0., 1., 0., 1., 0., 1., 0.],\n",
              "       [0., 1., 0., 1., 0., 1., 0., 1.],\n",
              "       [1., 0., 1., 0., 1., 0., 1., 0.],\n",
              "       [0., 1., 0., 1., 0., 1., 0., 1.],\n",
              "       [1., 0., 1., 0., 1., 0., 1., 0.],\n",
              "       [0., 1., 0., 1., 0., 1., 0., 1.],\n",
              "       [1., 0., 1., 0., 1., 0., 1., 0.],\n",
              "       [0., 1., 0., 1., 0., 1., 0., 1.]])"
            ]
          },
          "execution_count": 3,
          "metadata": {},
          "output_type": "execute_result"
        }
      ],
      "source": [
        "import numpy as np\n",
        "\n",
        "matrix = np.zeros((8,8))\n",
        "\n",
        "for i in range(len(matrix)):\n",
        "    for j in range(len(matrix[0])):\n",
        "        if (i + j) % 2 == 0:\n",
        "            matrix[i][j] = 1\n",
        "matrix"
      ]
    },
    {
      "cell_type": "code",
      "execution_count": null,
      "id": "7ddd3f36",
      "metadata": {
        "id": "7ddd3f36"
      },
      "outputs": [],
      "source": [
        "import numpy as np"
      ]
    },
    {
      "cell_type": "raw",
      "id": "c4249830",
      "metadata": {
        "id": "c4249830"
      },
      "source": [
        "import numpy as np"
      ]
    },
    {
      "cell_type": "markdown",
      "id": "78eb7874",
      "metadata": {
        "id": "78eb7874",
        "papermill": {
          "duration": 0.058941,
          "end_time": "2022-09-15T16:38:14.286579",
          "exception": false,
          "start_time": "2022-09-15T16:38:14.227638",
          "status": "completed"
        },
        "tags": []
      },
      "source": [
        "#### 20. Consider a (6,7,8) shape array, what is the index (x,y,z) of the 100th element?\n",
        "Рассмотрим массив формы (6,7,8), каков индекс (x, y, z) 100-го элемента?"
      ]
    },
    {
      "cell_type": "code",
      "source": [
        "matrix = np.random.randint(1,11, size=(6,7,8))\n",
        "\n",
        "x,y,z = list(map(int, input().split()))\n",
        "\n",
        "print(matrix[x][y][z])"
      ],
      "metadata": {
        "colab": {
          "base_uri": "https://localhost:8080/"
        },
        "id": "wYto9ruQKlmU",
        "outputId": "905540b8-3f9a-4902-96b8-d2937147856c"
      },
      "id": "wYto9ruQKlmU",
      "execution_count": null,
      "outputs": [
        {
          "output_type": "stream",
          "name": "stdout",
          "text": [
            "2 5 1\n",
            "5\n"
          ]
        }
      ]
    },
    {
      "cell_type": "markdown",
      "id": "df506c5d",
      "metadata": {
        "id": "df506c5d",
        "papermill": {
          "duration": 0.115431,
          "end_time": "2022-09-15T16:38:15.093201",
          "exception": false,
          "start_time": "2022-09-15T16:38:14.977770",
          "status": "completed"
        },
        "tags": []
      },
      "source": [
        "#### 22. Normalize a 5x5 random matrix (★☆☆)\n",
        "Нормализовать матрицу случайных значений 5 на 5  "
      ]
    },
    {
      "cell_type": "code",
      "source": [
        "# не понял что нужно сделать"
      ],
      "metadata": {
        "id": "nDTs852BKtiC"
      },
      "id": "nDTs852BKtiC",
      "execution_count": null,
      "outputs": []
    },
    {
      "cell_type": "markdown",
      "id": "ca51f48a",
      "metadata": {
        "id": "ca51f48a",
        "papermill": {
          "duration": 0.061439,
          "end_time": "2022-09-15T16:38:15.851859",
          "exception": false,
          "start_time": "2022-09-15T16:38:15.790420",
          "status": "completed"
        },
        "tags": []
      },
      "source": [
        "#### 23. Create a custom dtype that describes a color as four unsigned bytes (RGBA) (★☆☆)\n",
        "Создайте настраиваемый dtype, который описывает цвет как четыре байта без знака (RGBA)"
      ]
    },
    {
      "cell_type": "code",
      "source": [
        "rgb = np.dtype([(\"R\", np.uint8), (\"G\", np.uint8), (\"B\", np.uint8), (\"A\", np.uint8)])\n",
        "\n",
        "pixel_matrix = np.array([[255,255,255,50], [213,132,23,70]], dtype=rgb)\n",
        "pixel_matrix\n"
      ],
      "metadata": {
        "colab": {
          "base_uri": "https://localhost:8080/"
        },
        "id": "7mYbXEKeLCVZ",
        "outputId": "e0cd88d8-e7aa-42f5-e8fc-b9a5e6c09844"
      },
      "id": "7mYbXEKeLCVZ",
      "execution_count": null,
      "outputs": [
        {
          "output_type": "execute_result",
          "data": {
            "text/plain": [
              "array([[(255, 255, 255, 255), (255, 255, 255, 255), (255, 255, 255, 255),\n",
              "        ( 50,  50,  50,  50)],\n",
              "       [(213, 213, 213, 213), (132, 132, 132, 132), ( 23,  23,  23,  23),\n",
              "        ( 70,  70,  70,  70)]],\n",
              "      dtype=[('R', 'u1'), ('G', 'u1'), ('B', 'u1'), ('A', 'u1')])"
            ]
          },
          "metadata": {},
          "execution_count": 7
        }
      ]
    },
    {
      "cell_type": "code",
      "source": [],
      "metadata": {
        "id": "FV97kV8jLtnC"
      },
      "id": "FV97kV8jLtnC",
      "execution_count": null,
      "outputs": []
    },
    {
      "cell_type": "markdown",
      "id": "b40e0207",
      "metadata": {
        "id": "b40e0207",
        "papermill": {
          "duration": 0.061325,
          "end_time": "2022-09-15T16:38:16.640317",
          "exception": false,
          "start_time": "2022-09-15T16:38:16.578992",
          "status": "completed"
        },
        "tags": []
      },
      "source": [
        "#### 24. Multiply a 5x3 matrix by a 3x2 matrix (real matrix product) (★☆☆)\n",
        "Умножьте матрицу 5x3 на матрицу 3x2 (матричное произведение)"
      ]
    },
    {
      "cell_type": "code",
      "execution_count": null,
      "id": "PJsBR_9ffZQR",
      "metadata": {
        "colab": {
          "base_uri": "https://localhost:8080/"
        },
        "id": "PJsBR_9ffZQR",
        "outputId": "6e540932-f661-4083-f1cc-746a35273389"
      },
      "outputs": [
        {
          "name": "stdout",
          "output_type": "stream",
          "text": [
            "[[6 2]\n",
            " [5 1]]\n",
            "\n",
            "[[0 3]\n",
            " [4 0]]\n",
            "\n",
            "[[ 8 18]\n",
            " [ 4 15]]\n",
            "[[15  3]\n",
            " [24  8]]\n"
          ]
        }
      ],
      "source": [
        "a = np.random.randint(7, size=(2,2))\n",
        "b = np.random.randint(7, size=(2,2))\n",
        "\n",
        "\n",
        "print(a)\n",
        "print()\n",
        "print(b)\n",
        "print()\n",
        "\n",
        "print(a @ b)\n",
        "\n",
        "\n",
        "print(b @ a)\n"
      ]
    },
    {
      "cell_type": "markdown",
      "id": "2fd070b3",
      "metadata": {
        "id": "2fd070b3",
        "papermill": {
          "duration": 0.064351,
          "end_time": "2022-09-15T16:38:17.169126",
          "exception": false,
          "start_time": "2022-09-15T16:38:17.104775",
          "status": "completed"
        },
        "tags": []
      },
      "source": [
        "#### 25. Given a 1D array, negate all elements which are between 3 and 8, in place. (★☆☆)\n",
        "задан одномерный массив, инвертируйте (поменяйте знак) у всех элементов массива, которые находятся в диапазоне от 3 до 8, прямо в нем самом (без перезаписывания значений)."
      ]
    },
    {
      "cell_type": "code",
      "source": [
        "matrix = np.arange(1,11)\n",
        "indexes = np.where(np.logical_and(matrix >= 3, matrix <= 8))\n",
        "matrix[indexes] *= -1\n",
        "\n",
        "matrix"
      ],
      "metadata": {
        "colab": {
          "base_uri": "https://localhost:8080/"
        },
        "id": "jDlk8AilL5qf",
        "outputId": "4d2183ab-8e9a-4b39-dd12-2b7131b430fe"
      },
      "id": "jDlk8AilL5qf",
      "execution_count": null,
      "outputs": [
        {
          "output_type": "execute_result",
          "data": {
            "text/plain": [
              "array([ 1,  2, -3, -4, -5, -6, -7, -8,  9, 10])"
            ]
          },
          "metadata": {},
          "execution_count": 9
        }
      ]
    },
    {
      "cell_type": "markdown",
      "id": "83354d5b",
      "metadata": {
        "id": "83354d5b",
        "papermill": {
          "duration": 0.060284,
          "end_time": "2022-09-15T16:38:17.546041",
          "exception": false,
          "start_time": "2022-09-15T16:38:17.485757",
          "status": "completed"
        },
        "tags": []
      },
      "source": [
        "#### 26. What is the output of the following script? (★☆☆)\n",
        "что выведет следующий скрипт?\n",
        "```python\n",
        "print(sum(range(5),-1))\n",
        "from numpy import *\n",
        "print(sum(range(5),-1))\n",
        "```"
      ]
    },
    {
      "cell_type": "markdown",
      "id": "0d39b0f2",
      "metadata": {
        "id": "0d39b0f2",
        "papermill": {
          "duration": 0.06041,
          "end_time": "2022-09-15T16:38:18.052086",
          "exception": false,
          "start_time": "2022-09-15T16:38:17.991676",
          "status": "completed"
        },
        "tags": []
      },
      "source": [
        "#### 27. Consider an integer vector Z, which of these expressions are legal? (★☆☆)\n",
        "```python\n",
        "Z**Z\n",
        "2 << Z >> 2\n",
        "Z <- Z\n",
        "1j*Z\n",
        "Z/1/1\n",
        "Z<Z>Z\n",
        "```"
      ]
    },
    {
      "cell_type": "markdown",
      "id": "f52efd66",
      "metadata": {
        "id": "f52efd66",
        "papermill": {
          "duration": 0.061965,
          "end_time": "2022-09-15T16:38:18.567798",
          "exception": false,
          "start_time": "2022-09-15T16:38:18.505833",
          "status": "completed"
        },
        "tags": []
      },
      "source": [
        "#### 28. What are the result of the following expressions?\n",
        "Каковы результаты следующих выражений?\n",
        "```python\n",
        "np.array(0) / np.array(0)\n",
        "np.array(0) // np.array(0)\n",
        "np.array([np.nan]).astype(int).astype(float)\n",
        "```"
      ]
    },
    {
      "cell_type": "markdown",
      "id": "3442cb00",
      "metadata": {
        "id": "3442cb00",
        "papermill": {
          "duration": 0.062595,
          "end_time": "2022-09-15T16:38:19.281797",
          "exception": false,
          "start_time": "2022-09-15T16:38:19.219202",
          "status": "completed"
        },
        "tags": []
      },
      "source": [
        "#### 29. How to round away from zero a float array ? (★☆☆)\n",
        "Как округлить Вверх массив с плавающей запятой?  \n",
        "(Необходимо реализовать не классическое математическое округление, а округление вверх по абсолютному значению (round(0)=0, round(0.1)=1, round(1)=1, round(-0.1)=-1 и round(-1)=-1) - то есть любое значение больше нуля это единица.)"
      ]
    },
    {
      "cell_type": "code",
      "source": [
        "array = np.array([2.2,1.1,-1.1,0.1,2,5])\n",
        "rounded_array = np.ceil(np.abs(array))\n",
        "rounded_array *= np.sign(array)\n",
        "\n",
        "print(rounded_array)"
      ],
      "metadata": {
        "colab": {
          "base_uri": "https://localhost:8080/"
        },
        "id": "PVnV3w3XMrkc",
        "outputId": "61e91dfd-43de-4707-8b8f-7543298109dd"
      },
      "id": "PVnV3w3XMrkc",
      "execution_count": null,
      "outputs": [
        {
          "output_type": "stream",
          "name": "stdout",
          "text": [
            "[ 3.  2. -2.  1.  2.  5.]\n"
          ]
        }
      ]
    },
    {
      "cell_type": "markdown",
      "id": "1fc36dae",
      "metadata": {
        "id": "1fc36dae",
        "papermill": {
          "duration": 0.062128,
          "end_time": "2022-09-15T16:38:20.082401",
          "exception": false,
          "start_time": "2022-09-15T16:38:20.020273",
          "status": "completed"
        },
        "tags": []
      },
      "source": [
        "#### 30. How to find common values between two arrays? (★☆☆)\n",
        "Как найти общие значения между двумя массивами"
      ]
    },
    {
      "cell_type": "code",
      "source": [
        "arr1 = np.array([2,8,6,1,3])\n",
        "arr2 = np.array([2,6,3])\n",
        "\n",
        "print(np.intersect1d(arr1, arr2))"
      ],
      "metadata": {
        "colab": {
          "base_uri": "https://localhost:8080/"
        },
        "id": "-J5BvQWuOBAM",
        "outputId": "8e1f0be8-c55a-4c41-86f9-f40c4ef4f6fd"
      },
      "id": "-J5BvQWuOBAM",
      "execution_count": null,
      "outputs": [
        {
          "output_type": "stream",
          "name": "stdout",
          "text": [
            "[2 3 6]\n"
          ]
        }
      ]
    },
    {
      "cell_type": "markdown",
      "id": "ea797cc2",
      "metadata": {
        "id": "ea797cc2",
        "papermill": {
          "duration": 0.060836,
          "end_time": "2022-09-15T16:38:20.465184",
          "exception": false,
          "start_time": "2022-09-15T16:38:20.404348",
          "status": "completed"
        },
        "tags": []
      },
      "source": [
        "#### 31. How to ignore all numpy warnings (not recommended)? (★☆☆)\n",
        "Как игнорировать все предупреждения о numpy (не рекомендуется)"
      ]
    },
    {
      "cell_type": "code",
      "source": [
        "\n",
        "with np.errstate(all='ignore'):\n",
        "    array1 = np.array([1, 2, 3])\n",
        "    array2 = np.array([0, 0, 0])\n",
        "    result = np.divide(array1, array2)"
      ],
      "metadata": {
        "id": "2SJZ8b61O36P"
      },
      "id": "2SJZ8b61O36P",
      "execution_count": null,
      "outputs": []
    },
    {
      "cell_type": "markdown",
      "id": "67a4e986",
      "metadata": {
        "id": "67a4e986",
        "papermill": {
          "duration": 0.057023,
          "end_time": "2022-09-15T16:38:21.109679",
          "exception": false,
          "start_time": "2022-09-15T16:38:21.052656",
          "status": "completed"
        },
        "tags": []
      },
      "source": [
        "#### 32. Is the following expression true? (★☆☆)\n",
        "Верно ли следующее выражение?\n",
        "```python\n",
        "np.sqrt(-1) == np.emath.sqrt(-1)\n",
        "```"
      ]
    },
    {
      "cell_type": "markdown",
      "source": [
        "Наверное нет, ведь sqrt это квадратный корень из числа, хотя как его найти из -1?"
      ],
      "metadata": {
        "id": "BOzBGXfCPMkV"
      },
      "id": "BOzBGXfCPMkV"
    },
    {
      "cell_type": "markdown",
      "id": "a8e1dd29",
      "metadata": {
        "id": "a8e1dd29",
        "papermill": {
          "duration": 0.068263,
          "end_time": "2022-09-15T16:38:21.494625",
          "exception": false,
          "start_time": "2022-09-15T16:38:21.426362",
          "status": "completed"
        },
        "tags": []
      },
      "source": [
        "#### 33. How to get the dates of yesterday, today and tomorrow? (★☆☆)\n",
        "Как получить даты вчера, сегодня и завтра"
      ]
    },
    {
      "cell_type": "code",
      "source": [
        "from datetime import date, timedelta\n",
        "\n",
        "today = date.today()\n",
        "yesterday = today - timedelta(days=1)\n",
        "tomorrow = today + timedelta(days=1)\n",
        "\n",
        "print(yesterday)\n",
        "print(today)\n",
        "print(tomorrow)"
      ],
      "metadata": {
        "colab": {
          "base_uri": "https://localhost:8080/"
        },
        "id": "Ome2FBVZPWto",
        "outputId": "53447697-af91-4eb1-fc67-1b65f62e5190"
      },
      "id": "Ome2FBVZPWto",
      "execution_count": null,
      "outputs": [
        {
          "output_type": "stream",
          "name": "stdout",
          "text": [
            "2023-11-17\n",
            "2023-11-18\n",
            "2023-11-19\n"
          ]
        }
      ]
    },
    {
      "cell_type": "markdown",
      "id": "1a473eae",
      "metadata": {
        "id": "1a473eae",
        "papermill": {
          "duration": 0.058338,
          "end_time": "2022-09-15T16:38:21.873303",
          "exception": false,
          "start_time": "2022-09-15T16:38:21.814965",
          "status": "completed"
        },
        "tags": []
      },
      "source": [
        "#### 34. How to get all the dates corresponding to the month of July 2016? (★★☆)\n",
        "Как получить все даты, соответствующие июлю месяцу 2016"
      ]
    },
    {
      "cell_type": "code",
      "source": [
        "start = date(2016,7,1) # создал дату 1 июля\n",
        "end = date(2016,8,1) # создал дату конца июня\n",
        "range_dates = np.arange(start,end) # создал диапазон от начала до конца\n",
        "\n",
        "list_dates = range_dates.tolist() # преобразовал диапазон в питон список\n",
        "\n",
        "for one_date in list_dates: # перебор дат и вывод в консоль\n",
        "  print(one_date)"
      ],
      "metadata": {
        "colab": {
          "base_uri": "https://localhost:8080/"
        },
        "id": "MhfK2kaZP6Ui",
        "outputId": "b0f081ec-3e49-4138-b45b-74d7a752af07"
      },
      "id": "MhfK2kaZP6Ui",
      "execution_count": null,
      "outputs": [
        {
          "output_type": "stream",
          "name": "stdout",
          "text": [
            "2016-07-01\n",
            "2016-07-02\n",
            "2016-07-03\n",
            "2016-07-04\n",
            "2016-07-05\n",
            "2016-07-06\n",
            "2016-07-07\n",
            "2016-07-08\n",
            "2016-07-09\n",
            "2016-07-10\n",
            "2016-07-11\n",
            "2016-07-12\n",
            "2016-07-13\n",
            "2016-07-14\n",
            "2016-07-15\n",
            "2016-07-16\n",
            "2016-07-17\n",
            "2016-07-18\n",
            "2016-07-19\n",
            "2016-07-20\n",
            "2016-07-21\n",
            "2016-07-22\n",
            "2016-07-23\n",
            "2016-07-24\n",
            "2016-07-25\n",
            "2016-07-26\n",
            "2016-07-27\n",
            "2016-07-28\n",
            "2016-07-29\n",
            "2016-07-30\n",
            "2016-07-31\n"
          ]
        }
      ]
    },
    {
      "cell_type": "markdown",
      "id": "58a89bc9",
      "metadata": {
        "id": "58a89bc9",
        "papermill": {
          "duration": 0.064001,
          "end_time": "2022-09-15T16:38:22.237350",
          "exception": false,
          "start_time": "2022-09-15T16:38:22.173349",
          "status": "completed"
        },
        "tags": []
      },
      "source": [
        "#### 35. How to compute ((A+B)*(-A/2)) in place (without copy)? (★★☆)\n",
        "Как вычислить ((A + B) * (- A / 2)) на месте (без копирования - то есть без создания дополнительного массива кроме существующих A, B)?"
      ]
    },
    {
      "cell_type": "code",
      "source": [
        "\n",
        "A = np.array([1, 2, 3]) # первый массив\n",
        "B = np.array([4, 5, 6]) # второй массив\n",
        "\n",
        "np.negative(A, out=A) # делаем 1 массив отрицательным\n",
        "np.divide(A, 2, out=A) # делим 1 массив на 2\n",
        "\n",
        "np.add(np.positive(np.multiply(A,2)), B, out=A) # складываем 2 массива\n",
        "\n",
        "np.multiply(A, (-A / 2), out=A) # умножаем сложенный А из а+в на -\n",
        "\n",
        "print(A)\n",
        "\n",
        "# не решил"
      ],
      "metadata": {
        "colab": {
          "base_uri": "https://localhost:8080/",
          "height": 245
        },
        "id": "N3IWMIOsQ_8f",
        "outputId": "c4aa51c7-f560-4ff7-b06a-120a0e99d838"
      },
      "id": "N3IWMIOsQ_8f",
      "execution_count": null,
      "outputs": [
        {
          "output_type": "error",
          "ename": "UFuncTypeError",
          "evalue": "ignored",
          "traceback": [
            "\u001b[0;31m---------------------------------------------------------------------------\u001b[0m",
            "\u001b[0;31mUFuncTypeError\u001b[0m                            Traceback (most recent call last)",
            "\u001b[0;32m<ipython-input-21-69d4868dbd7a>\u001b[0m in \u001b[0;36m<cell line: 5>\u001b[0;34m()\u001b[0m\n\u001b[1;32m      3\u001b[0m \u001b[0;34m\u001b[0m\u001b[0m\n\u001b[1;32m      4\u001b[0m \u001b[0mnp\u001b[0m\u001b[0;34m.\u001b[0m\u001b[0mnegative\u001b[0m\u001b[0;34m(\u001b[0m\u001b[0mA\u001b[0m\u001b[0;34m,\u001b[0m \u001b[0mout\u001b[0m\u001b[0;34m=\u001b[0m\u001b[0mA\u001b[0m\u001b[0;34m)\u001b[0m \u001b[0;31m# делаем 1 массив отрицательным\u001b[0m\u001b[0;34m\u001b[0m\u001b[0;34m\u001b[0m\u001b[0m\n\u001b[0;32m----> 5\u001b[0;31m \u001b[0mnp\u001b[0m\u001b[0;34m.\u001b[0m\u001b[0mdivide\u001b[0m\u001b[0;34m(\u001b[0m\u001b[0mA\u001b[0m\u001b[0;34m,\u001b[0m \u001b[0;36m2\u001b[0m\u001b[0;34m,\u001b[0m \u001b[0mout\u001b[0m\u001b[0;34m=\u001b[0m\u001b[0mA\u001b[0m\u001b[0;34m)\u001b[0m \u001b[0;31m# делим 1 массив на 2\u001b[0m\u001b[0;34m\u001b[0m\u001b[0;34m\u001b[0m\u001b[0m\n\u001b[0m\u001b[1;32m      6\u001b[0m \u001b[0;34m\u001b[0m\u001b[0m\n\u001b[1;32m      7\u001b[0m \u001b[0mnp\u001b[0m\u001b[0;34m.\u001b[0m\u001b[0madd\u001b[0m\u001b[0;34m(\u001b[0m\u001b[0mnp\u001b[0m\u001b[0;34m.\u001b[0m\u001b[0mpositive\u001b[0m\u001b[0;34m(\u001b[0m\u001b[0mnp\u001b[0m\u001b[0;34m.\u001b[0m\u001b[0mmultiply\u001b[0m\u001b[0;34m(\u001b[0m\u001b[0mA\u001b[0m\u001b[0;34m,\u001b[0m\u001b[0;36m2\u001b[0m\u001b[0;34m)\u001b[0m\u001b[0;34m)\u001b[0m\u001b[0;34m,\u001b[0m \u001b[0mB\u001b[0m\u001b[0;34m,\u001b[0m \u001b[0mout\u001b[0m\u001b[0;34m=\u001b[0m\u001b[0mA\u001b[0m\u001b[0;34m)\u001b[0m \u001b[0;31m# складываем 2 массива\u001b[0m\u001b[0;34m\u001b[0m\u001b[0;34m\u001b[0m\u001b[0m\n",
            "\u001b[0;31mUFuncTypeError\u001b[0m: Cannot cast ufunc 'divide' output from dtype('float64') to dtype('int64') with casting rule 'same_kind'"
          ]
        }
      ]
    },
    {
      "cell_type": "markdown",
      "id": "b96f64b6",
      "metadata": {
        "id": "b96f64b6",
        "papermill": {
          "duration": 0.062593,
          "end_time": "2022-09-15T16:38:22.628600",
          "exception": false,
          "start_time": "2022-09-15T16:38:22.566007",
          "status": "completed"
        },
        "tags": []
      },
      "source": [
        "#### 36. Extract the integer part of a random array of positive numbers using 4 different methods (★★☆)\n",
        "Извлеките целую часть случайного массива положительных чисел, используя 4 разных метода."
      ]
    },
    {
      "cell_type": "code",
      "source": [
        "import random\n",
        "import numpy as np\n",
        "import math"
      ],
      "metadata": {
        "id": "5bNyM3MxKjc8"
      },
      "id": "5bNyM3MxKjc8",
      "execution_count": null,
      "outputs": []
    },
    {
      "cell_type": "code",
      "source": [
        "array = [5.2,1.5,1,6.6,9.9]\n",
        "\n",
        "print([int(item) for item in array])"
      ],
      "metadata": {
        "colab": {
          "base_uri": "https://localhost:8080/"
        },
        "id": "v3hrjoFhKnCK",
        "outputId": "3e097a93-fc23-45de-b735-ad1e77aeee9b"
      },
      "id": "v3hrjoFhKnCK",
      "execution_count": null,
      "outputs": [
        {
          "output_type": "stream",
          "name": "stdout",
          "text": [
            "[5.2, 1.5, 1, 6.6, 9.9]\n",
            "[5, 1, 1, 6, 9]\n"
          ]
        }
      ]
    },
    {
      "cell_type": "code",
      "source": [
        "array = [5.2,1.5,1,6.6,9.9]\n",
        "\n",
        "print([math.ceil(item) for item in array])"
      ],
      "metadata": {
        "colab": {
          "base_uri": "https://localhost:8080/"
        },
        "id": "kroXl3XUKjiC",
        "outputId": "9e7d83e1-eba7-4c47-da7e-fabd6dd30d2c"
      },
      "id": "kroXl3XUKjiC",
      "execution_count": null,
      "outputs": [
        {
          "output_type": "stream",
          "name": "stdout",
          "text": [
            "[6, 2, 1, 7, 10]\n"
          ]
        }
      ]
    },
    {
      "cell_type": "code",
      "source": [
        "array = [5.2,1.5,1,6.6,9.9]\n",
        "\n",
        "print([int(item // 1) for item in array])"
      ],
      "metadata": {
        "colab": {
          "base_uri": "https://localhost:8080/"
        },
        "id": "FBTL4K25Ln6l",
        "outputId": "eaf7eee7-4724-48bf-c47b-3f8b0db0b96f"
      },
      "id": "FBTL4K25Ln6l",
      "execution_count": null,
      "outputs": [
        {
          "output_type": "stream",
          "name": "stdout",
          "text": [
            "[5, 1, 1, 6, 9]\n"
          ]
        }
      ]
    },
    {
      "cell_type": "code",
      "source": [
        "array = [5.2,1.5,1,6.6,9.9]\n",
        "\n",
        "print([int(round(item)) for item in array])"
      ],
      "metadata": {
        "colab": {
          "base_uri": "https://localhost:8080/"
        },
        "id": "p7LMMJA0L0hZ",
        "outputId": "575b724d-f768-4705-fd79-92fdeaccf19c"
      },
      "id": "p7LMMJA0L0hZ",
      "execution_count": null,
      "outputs": [
        {
          "output_type": "stream",
          "name": "stdout",
          "text": [
            "[5, 2, 1, 7, 10]\n"
          ]
        }
      ]
    },
    {
      "cell_type": "markdown",
      "id": "20b9fff1",
      "metadata": {
        "id": "20b9fff1",
        "papermill": {
          "duration": 0.064026,
          "end_time": "2022-09-15T16:38:23.072606",
          "exception": false,
          "start_time": "2022-09-15T16:38:23.008580",
          "status": "completed"
        },
        "tags": []
      },
      "source": [
        "#### 37. Create a 5x5 matrix with row values ranging from 0 to 4 (★★☆)\n",
        "Создайте матрицу 5x5 со значениями строк от 0 до 4"
      ]
    },
    {
      "cell_type": "code",
      "source": [
        "rg = np.arange(0,5)\n",
        "\n",
        "matrix = np.tile(rg, (5,1))\n",
        "\n",
        "matrix"
      ],
      "metadata": {
        "colab": {
          "base_uri": "https://localhost:8080/"
        },
        "id": "0etkVc80MhET",
        "outputId": "336581ec-d332-4075-abd3-9b90b0763692"
      },
      "id": "0etkVc80MhET",
      "execution_count": null,
      "outputs": [
        {
          "output_type": "execute_result",
          "data": {
            "text/plain": [
              "array([[0, 1, 2, 3, 4],\n",
              "       [0, 1, 2, 3, 4],\n",
              "       [0, 1, 2, 3, 4],\n",
              "       [0, 1, 2, 3, 4],\n",
              "       [0, 1, 2, 3, 4]])"
            ]
          },
          "metadata": {},
          "execution_count": 19
        }
      ]
    },
    {
      "cell_type": "markdown",
      "id": "51a99d88",
      "metadata": {
        "id": "51a99d88",
        "papermill": {
          "duration": 0.062743,
          "end_time": "2022-09-15T16:38:23.467803",
          "exception": false,
          "start_time": "2022-09-15T16:38:23.405060",
          "status": "completed"
        },
        "tags": []
      },
      "source": [
        "#### 38. Consider a generator function that generates 10 integers and use it to build an array (★☆☆)\n",
        "Рассмотрим функцию генератора, которая генерирует 10 целых чисел и использует ее для построения массива."
      ]
    },
    {
      "cell_type": "code",
      "source": [
        "vec = np.random.randint(1, 10, size=(10))\n",
        "print(vec)"
      ],
      "metadata": {
        "colab": {
          "base_uri": "https://localhost:8080/"
        },
        "id": "HI6_WwpUNsnj",
        "outputId": "2380fc56-9954-480e-f38f-cef842d4cbae"
      },
      "id": "HI6_WwpUNsnj",
      "execution_count": null,
      "outputs": [
        {
          "output_type": "stream",
          "name": "stdout",
          "text": [
            "[4 6 9 6 7 8 9 4 2 5]\n"
          ]
        }
      ]
    },
    {
      "cell_type": "markdown",
      "id": "425ff9f5",
      "metadata": {
        "id": "425ff9f5",
        "papermill": {
          "duration": 0.062119,
          "end_time": "2022-09-15T16:38:23.863811",
          "exception": false,
          "start_time": "2022-09-15T16:38:23.801692",
          "status": "completed"
        },
        "tags": []
      },
      "source": [
        "#### 39. Create a vector of size 10 with values ranging from 0 to 1, both excluded (★★☆)\n",
        "Создайте вектор размера 10 со значениями от 0 до 1, за исключением границ отрезка 0 и 1."
      ]
    },
    {
      "cell_type": "code",
      "source": [
        "vec = np.random.randint(0,2, size=10)\n",
        "vec"
      ],
      "metadata": {
        "colab": {
          "base_uri": "https://localhost:8080/"
        },
        "id": "JVieD_u8PDk2",
        "outputId": "62161dcb-7d7d-4bac-a7d9-63ea32110c57"
      },
      "id": "JVieD_u8PDk2",
      "execution_count": null,
      "outputs": [
        {
          "output_type": "execute_result",
          "data": {
            "text/plain": [
              "array([0, 1, 0, 0, 1, 1, 0, 0, 0, 1])"
            ]
          },
          "metadata": {},
          "execution_count": 21
        }
      ]
    },
    {
      "cell_type": "markdown",
      "id": "bc10fe34",
      "metadata": {
        "id": "bc10fe34",
        "papermill": {
          "duration": 0.065131,
          "end_time": "2022-09-15T16:38:24.254618",
          "exception": false,
          "start_time": "2022-09-15T16:38:24.189487",
          "status": "completed"
        },
        "tags": []
      },
      "source": [
        "#### 40. Create a random vector of size 10 and sort it (★★☆)\n",
        "Создайте случайный вектор размером 10 и отсортируйте его"
      ]
    },
    {
      "cell_type": "code",
      "source": [
        "def my_sort(arr: list) -> list:\n",
        "  for i in range(len(arr)-1):       # решил написать сортировку сам\n",
        "    for j in range(len(arr)-1):\n",
        "      if arr[j] > arr[j+1]:\n",
        "        arr[j], arr[j+1] = arr[j+1], arr[j]\n",
        "  return arr\n",
        "vec = np.random.randint(0,20, size=10)\n",
        "print(my_sort(vec))"
      ],
      "metadata": {
        "colab": {
          "base_uri": "https://localhost:8080/"
        },
        "id": "0HjqyStvPN0s",
        "outputId": "9b14f70e-b034-4a96-b751-b1aa0b3f3144"
      },
      "id": "0HjqyStvPN0s",
      "execution_count": null,
      "outputs": [
        {
          "output_type": "stream",
          "name": "stdout",
          "text": [
            "[ 0  4  5  7  7 12 12 13 15 17]\n"
          ]
        }
      ]
    },
    {
      "cell_type": "markdown",
      "id": "03529e20",
      "metadata": {
        "id": "03529e20",
        "papermill": {
          "duration": 0.063446,
          "end_time": "2022-09-15T16:38:24.648688",
          "exception": false,
          "start_time": "2022-09-15T16:38:24.585242",
          "status": "completed"
        },
        "tags": []
      },
      "source": [
        "#### 41. How to sum a small array faster than np.sum? (★★☆)\n",
        "Как суммировать небольшой массив быстрее, чем np.sum"
      ]
    },
    {
      "cell_type": "code",
      "source": [
        "vec = np.array([1, 2, 3, 4, 5])\n",
        "sum = np.add.reduce(vec)\n",
        "print(sum)"
      ],
      "metadata": {
        "colab": {
          "base_uri": "https://localhost:8080/"
        },
        "id": "hPF1WApMQKPJ",
        "outputId": "d983b3d9-2be0-4768-c8cc-f92126fa80ee"
      },
      "id": "hPF1WApMQKPJ",
      "execution_count": null,
      "outputs": [
        {
          "output_type": "stream",
          "name": "stdout",
          "text": [
            "15\n"
          ]
        }
      ]
    },
    {
      "cell_type": "markdown",
      "id": "1849a054",
      "metadata": {
        "id": "1849a054",
        "papermill": {
          "duration": 0.062598,
          "end_time": "2022-09-15T16:38:25.329247",
          "exception": false,
          "start_time": "2022-09-15T16:38:25.266649",
          "status": "completed"
        },
        "tags": []
      },
      "source": [
        "#### 42. Consider two random array A and B, check if they are equal (★★☆)\n",
        "Рассмотрим два случайных массива A и B, проверьте, равны ли они"
      ]
    },
    {
      "cell_type": "code",
      "source": [
        "vec1 = [2,4,1]\n",
        "vec2 = [2,4,1]\n",
        "print(vec1 == vec2)\n",
        "# или же\n",
        "print(np.array_equal(vec1,vec2))"
      ],
      "metadata": {
        "colab": {
          "base_uri": "https://localhost:8080/"
        },
        "id": "SCED0AOeQhmP",
        "outputId": "85e41b90-ef35-4a3c-9e67-83d0c596f700"
      },
      "id": "SCED0AOeQhmP",
      "execution_count": null,
      "outputs": [
        {
          "output_type": "stream",
          "name": "stdout",
          "text": [
            "True\n",
            "True\n"
          ]
        }
      ]
    },
    {
      "cell_type": "markdown",
      "id": "13ab7be2",
      "metadata": {
        "id": "13ab7be2",
        "papermill": {
          "duration": 0.114037,
          "end_time": "2022-09-15T16:38:26.046013",
          "exception": false,
          "start_time": "2022-09-15T16:38:25.931976",
          "status": "completed"
        },
        "tags": []
      },
      "source": [
        "#### 43. Make an array immutable (read-only) (★★☆)\n",
        "Сделать массив неизменным (только для чтения)"
      ]
    },
    {
      "cell_type": "code",
      "source": [
        "vec = np.array([1,4,3,1])\n",
        "vec.flags.writeable = False"
      ],
      "metadata": {
        "id": "SnRLHsMjQyLP"
      },
      "id": "SnRLHsMjQyLP",
      "execution_count": null,
      "outputs": []
    },
    {
      "cell_type": "markdown",
      "id": "9a1b2761",
      "metadata": {
        "id": "9a1b2761",
        "papermill": {
          "duration": 0.062456,
          "end_time": "2022-09-15T16:38:26.584701",
          "exception": false,
          "start_time": "2022-09-15T16:38:26.522245",
          "status": "completed"
        },
        "tags": []
      },
      "source": [
        "#### 44. Consider a random 10x2 matrix representing cartesian coordinates, convert them to polar coordinates (★★☆)\n",
        "Рассмотрим случайную матрицу 10x2, представляющую декартовы координаты, преобразуйте их в полярные координаты."
      ]
    },
    {
      "cell_type": "code",
      "source": [
        "cords = np.random.rand(10, 2)\n",
        "\n",
        "x = cords[:, 0]\n",
        "y = cords[:, 1]\n",
        "r = np.hypot(x, y)\n",
        "t = np.arctan2(y, x)\n",
        "\n",
        "cords = np.column_stack((r, t))\n",
        "print(cords)"
      ],
      "metadata": {
        "colab": {
          "base_uri": "https://localhost:8080/"
        },
        "id": "iqPUedfARBBK",
        "outputId": "97feaa91-4347-436d-981c-bae719233ea7"
      },
      "id": "iqPUedfARBBK",
      "execution_count": null,
      "outputs": [
        {
          "output_type": "stream",
          "name": "stdout",
          "text": [
            "[[1.14816466 0.65111782]\n",
            " [1.1570458  0.96069928]\n",
            " [0.88569108 1.21390075]\n",
            " [0.93405148 0.1954157 ]\n",
            " [1.05691614 0.54117992]\n",
            " [0.48451731 0.25273665]\n",
            " [0.37019819 0.91111133]\n",
            " [1.07353815 0.8979296 ]\n",
            " [0.86824758 0.39232205]\n",
            " [1.04494571 0.8092652 ]]\n"
          ]
        }
      ]
    },
    {
      "cell_type": "markdown",
      "id": "2121ea40",
      "metadata": {
        "id": "2121ea40",
        "papermill": {
          "duration": 0.064483,
          "end_time": "2022-09-15T16:38:26.989349",
          "exception": false,
          "start_time": "2022-09-15T16:38:26.924866",
          "status": "completed"
        },
        "tags": []
      },
      "source": [
        "#### 45. Create random vector of size 10 and replace the maximum value by 0 (★★☆)\n",
        "Создайте случайный вектор размером 10 и замените максимальное значение на 0"
      ]
    },
    {
      "cell_type": "code",
      "source": [
        "vec = np.array([1,5,2,7,1])\n",
        "max_num = np.max(vec)\n",
        "vec[vec == max_num] = 0\n",
        "\n",
        "print(vec)"
      ],
      "metadata": {
        "colab": {
          "base_uri": "https://localhost:8080/"
        },
        "id": "J8Q13WA6ScgV",
        "outputId": "1cd2f940-7961-4a72-b3e6-b8733f6347c5"
      },
      "id": "J8Q13WA6ScgV",
      "execution_count": null,
      "outputs": [
        {
          "output_type": "stream",
          "name": "stdout",
          "text": [
            "[1 5 2 0 1]\n"
          ]
        }
      ]
    },
    {
      "cell_type": "markdown",
      "id": "b4b904f1",
      "metadata": {
        "id": "b4b904f1",
        "papermill": {
          "duration": 0.065642,
          "end_time": "2022-09-15T16:38:27.394320",
          "exception": false,
          "start_time": "2022-09-15T16:38:27.328678",
          "status": "completed"
        },
        "tags": []
      },
      "source": [
        "#### 46. Create a structured array with `x` and `y` coordinates covering the [0,1]x[0,1] area (★★☆)\n",
        "Создайте структурированный массив с координатами x и y, покрывающими область [0,1] x [0,1]."
      ]
    },
    {
      "cell_type": "code",
      "source": [],
      "metadata": {
        "id": "hpOKxFNsT3f3"
      },
      "id": "hpOKxFNsT3f3",
      "execution_count": null,
      "outputs": []
    },
    {
      "cell_type": "markdown",
      "id": "dca28dd8",
      "metadata": {
        "id": "dca28dd8",
        "papermill": {
          "duration": 0.065539,
          "end_time": "2022-09-15T16:38:27.836181",
          "exception": false,
          "start_time": "2022-09-15T16:38:27.770642",
          "status": "completed"
        },
        "tags": []
      },
      "source": [
        "#### 47. Given two arrays, X and Y, construct the Cauchy matrix C (Cij =1/(xi - yj))\n",
        "Для двух массивов, X и Y, построить матрицу Коши C (Cij = 1 / (xi - yj))"
      ]
    },
    {
      "cell_type": "code",
      "source": [
        "X = np.array([5,1,4])\n",
        "Y = np.array([4,1,4])\n",
        "\n",
        "C = 1 / np.subtract.outer(X, Y)\n",
        "\n",
        "print(C)"
      ],
      "metadata": {
        "colab": {
          "base_uri": "https://localhost:8080/"
        },
        "id": "Urm1K7JVUE2H",
        "outputId": "7ce740bf-274f-44c1-f475-a4345e389099"
      },
      "id": "Urm1K7JVUE2H",
      "execution_count": null,
      "outputs": [
        {
          "output_type": "stream",
          "name": "stdout",
          "text": [
            "[[ 1.          0.25        1.        ]\n",
            " [-0.33333333         inf -0.33333333]\n",
            " [        inf  0.33333333         inf]]\n"
          ]
        },
        {
          "output_type": "stream",
          "name": "stderr",
          "text": [
            "<ipython-input-34-1f32443b87a1>:4: RuntimeWarning: divide by zero encountered in divide\n",
            "  C = 1 / np.subtract.outer(X, Y)\n"
          ]
        }
      ]
    },
    {
      "cell_type": "markdown",
      "id": "e1f83469",
      "metadata": {
        "id": "e1f83469",
        "papermill": {
          "duration": 0.06735,
          "end_time": "2022-09-15T16:38:28.242827",
          "exception": false,
          "start_time": "2022-09-15T16:38:28.175477",
          "status": "completed"
        },
        "tags": []
      },
      "source": [
        "#### 48. Print the minimum and maximum representable value for each numpy scalar type (★★☆)\n",
        "Выведите минимальное и максимальное представимое значение для каждого скалярного типа numpy"
      ]
    },
    {
      "cell_type": "code",
      "source": [
        "print(np.iinfo(np.int8).min, np.iinfo(np.int8).max)\n",
        "print(np.iinfo(np.int16).min, np.iinfo(np.int16).max)\n",
        "print(np.iinfo(np.int32).min, np.iinfo(np.int32).max)\n",
        "print(np.iinfo(np.int64).min, np.iinfo(np.int64).max)\n",
        "print(np.iinfo(np.uint8).min, np.iinfo(np.uint8).max)\n",
        "print(np.iinfo(np.uint16).min, np.iinfo(np.uint16).max)\n",
        "print(np.iinfo(np.uint32).min, np.iinfo(np.uint32).max)\n",
        "print(np.iinfo(np.uint64).min, np.iinfo(np.uint64).max)\n",
        "print(np.finfo(np.float16).min, np.finfo(np.float16).max)\n",
        "print(np.finfo(np.float32).min, np.finfo(np.float32).max)\n",
        "print(np.finfo(np.float64).min, np.finfo(np.float64).max)"
      ],
      "metadata": {
        "colab": {
          "base_uri": "https://localhost:8080/"
        },
        "id": "oc_HZdECUl_1",
        "outputId": "a977ed60-02e8-49e3-e559-8164a22a835f"
      },
      "id": "oc_HZdECUl_1",
      "execution_count": null,
      "outputs": [
        {
          "output_type": "stream",
          "name": "stdout",
          "text": [
            "-128 127\n",
            "-32768 32767\n",
            "-2147483648 2147483647\n",
            "-9223372036854775808 9223372036854775807\n",
            "0 255\n",
            "0 65535\n",
            "0 4294967295\n",
            "0 18446744073709551615\n",
            "-65500.0 65500.0\n",
            "-3.4028235e+38 3.4028235e+38\n",
            "-1.7976931348623157e+308 1.7976931348623157e+308\n"
          ]
        }
      ]
    },
    {
      "cell_type": "markdown",
      "id": "9aa481e8",
      "metadata": {
        "id": "9aa481e8",
        "papermill": {
          "duration": 0.061676,
          "end_time": "2022-09-15T16:38:28.636695",
          "exception": false,
          "start_time": "2022-09-15T16:38:28.575019",
          "status": "completed"
        },
        "tags": []
      },
      "source": [
        "#### 49. How to print all the values of an array? (★★☆)\n",
        "Как распечатать все значения массива?"
      ]
    },
    {
      "cell_type": "code",
      "source": [
        "vec = np.array([2,5,1,5,7,9,2])\n",
        "lis = vec.tolist()\n",
        "print(\" \".join(map(str, lis)))"
      ],
      "metadata": {
        "colab": {
          "base_uri": "https://localhost:8080/"
        },
        "id": "DcC8fhzzV9WH",
        "outputId": "b3417392-155b-4a46-9d6d-ea036f5ee411"
      },
      "id": "DcC8fhzzV9WH",
      "execution_count": null,
      "outputs": [
        {
          "output_type": "stream",
          "name": "stdout",
          "text": [
            "2 5 1 5 7 9 2\n"
          ]
        }
      ]
    },
    {
      "cell_type": "markdown",
      "id": "358e3a09",
      "metadata": {
        "id": "358e3a09",
        "papermill": {
          "duration": 0.063438,
          "end_time": "2022-09-15T16:38:29.177555",
          "exception": false,
          "start_time": "2022-09-15T16:38:29.114117",
          "status": "completed"
        },
        "tags": []
      },
      "source": [
        "#### 50. How to find the closest value (to a given scalar) in a vector? (★★☆)\n",
        "Как найти ближайшее значение (к заданному скаляру (числу)) в векторе?"
      ]
    },
    {
      "cell_type": "code",
      "source": [
        "\n",
        "# def find_closest(vec, scalar):\n",
        "#   closest = vec[0]\n",
        "#   for i in vec:\n",
        "#     if abs(scalar - i) < closest:\n",
        "#       closest = i\n",
        "#   return closest\n",
        "\n",
        "# vec = np.array([4,1,7,5])\n",
        "\n",
        "# print(find_closest(vec, 3))\n",
        "\n"
      ],
      "metadata": {
        "colab": {
          "base_uri": "https://localhost:8080/"
        },
        "id": "-nixrax4YkDi",
        "outputId": "077321e2-8c4b-4776-9e06-9782838bd9d7"
      },
      "id": "-nixrax4YkDi",
      "execution_count": null,
      "outputs": [
        {
          "output_type": "stream",
          "name": "stdout",
          "text": [
            "1\n"
          ]
        }
      ]
    },
    {
      "cell_type": "code",
      "source": [
        "vec = np.array([4,1,7,5])\n",
        "scalar = 3\n",
        "\n",
        "index = np.abs(vec - scalar).argmin()\n",
        "\n",
        "nearest_value = vec[index]\n",
        "print(nearest_value)"
      ],
      "metadata": {
        "colab": {
          "base_uri": "https://localhost:8080/"
        },
        "id": "st9jB2ZcZkw-",
        "outputId": "519cfa47-a576-4c36-8451-2354391567c1"
      },
      "id": "st9jB2ZcZkw-",
      "execution_count": null,
      "outputs": [
        {
          "output_type": "stream",
          "name": "stdout",
          "text": [
            "4\n"
          ]
        }
      ]
    },
    {
      "cell_type": "markdown",
      "id": "19a65255",
      "metadata": {
        "id": "19a65255",
        "papermill": {
          "duration": 0.063992,
          "end_time": "2022-09-15T16:38:29.576965",
          "exception": false,
          "start_time": "2022-09-15T16:38:29.512973",
          "status": "completed"
        },
        "tags": []
      },
      "source": [
        "#### 51. Create a structured array representing a position (x,y) and a color (r,g,b) (★★☆)\n",
        "Создайте структурированный массив, представляющий позицию (x, y) и цвет (r, g, b)"
      ]
    },
    {
      "cell_type": "code",
      "source": [
        "import numpy as np\n",
        "rgbtype = np.dtype([('position', [('x', int), ('y', int)]), ('color', [('r', int), ('g', int), ('b', int)])])\n",
        "\n",
        "pixels = np.array([((0,0), (255,255,255)), ((0,1), (241,241,122))])\n"
      ],
      "metadata": {
        "id": "dwYPWz2k8m-K"
      },
      "id": "dwYPWz2k8m-K",
      "execution_count": null,
      "outputs": []
    },
    {
      "cell_type": "markdown",
      "id": "bbb87704",
      "metadata": {
        "id": "bbb87704",
        "papermill": {
          "duration": 0.064751,
          "end_time": "2022-09-15T16:38:30.036174",
          "exception": false,
          "start_time": "2022-09-15T16:38:29.971423",
          "status": "completed"
        },
        "tags": []
      },
      "source": [
        "#### 52. Consider a random vector with shape (5,2) representing coordinates, find point by point distances (★★☆)\n",
        "Рассмотрим случайный вектор с формой (5,2), представляющей координаты, найдите расстояния от точки до точки (результат представьте в виде матрицы - таким образом должна получиться матрица 5 на пять где элемент с индексом i и j будет растоянием между точкой i и j)"
      ]
    },
    {
      "cell_type": "markdown",
      "id": "11b23805",
      "metadata": {
        "id": "11b23805",
        "papermill": {
          "duration": 0.063854,
          "end_time": "2022-09-15T16:38:30.436726",
          "exception": false,
          "start_time": "2022-09-15T16:38:30.372872",
          "status": "completed"
        },
        "tags": []
      },
      "source": [
        "#### 53. How to convert a float (32 bits) array into an integer (32 bits) in place? (★★★)\n",
        "Как преобразовать массив с плавающей запятой (32 бита) в целое число (32 бита) на месте (без копирования)?  \n",
        "В условии под термином без копирования подразумевается - без использования методов copy() или deepcopy(). В numpy существуют понятия копирования и представления массивов, но для новичков на которых расчитан данный материал это наверно сложновато. Ниже ссылка где разжевываются эти понятия.  "
      ]
    },
    {
      "cell_type": "code",
      "source": [
        "import numpy as np\n",
        "\n",
        "float_array = np.array([3.14, 9.90, 9.12], dtype=np.float32)\n",
        "int_array = float_array.view(np.int32)\n",
        "print(int_array)"
      ],
      "metadata": {
        "colab": {
          "base_uri": "https://localhost:8080/"
        },
        "id": "2l3zJpq793FJ",
        "outputId": "35aa892f-5b27-4775-dedb-d6f86ed004a4"
      },
      "id": "2l3zJpq793FJ",
      "execution_count": null,
      "outputs": [
        {
          "output_type": "stream",
          "name": "stdout",
          "text": [
            "[1078523331 1076753334 1070537376]\n"
          ]
        }
      ]
    },
    {
      "cell_type": "markdown",
      "id": "6733d09f",
      "metadata": {
        "id": "6733d09f",
        "papermill": {
          "duration": 0.074639,
          "end_time": "2022-09-15T16:38:30.855363",
          "exception": false,
          "start_time": "2022-09-15T16:38:30.780724",
          "status": "completed"
        },
        "tags": []
      },
      "source": [
        "#### 54. How to read the following file? (★★☆)\n",
        "Как прочитать следующий файл?\n",
        "```\n",
        "1, 2, 3, 4, 5\n",
        "6,  ,  , 7, 8\n",
        " ,  , 9,10,11\n",
        "```"
      ]
    },
    {
      "cell_type": "code",
      "source": [
        "matrix = np.zeros((3,5))\n",
        "\n",
        "with open(\"file.txt\") as file:\n",
        "  for index, string in enumerate(file.readlines):\n",
        "    matrix[index] = string\n",
        "\n",
        "print(matrix)  # не знаю ли работает, не знаю как проверить"
      ],
      "metadata": {
        "id": "6BfUs0p-YRtL"
      },
      "id": "6BfUs0p-YRtL",
      "execution_count": null,
      "outputs": []
    },
    {
      "cell_type": "markdown",
      "id": "70eaab02",
      "metadata": {
        "id": "70eaab02",
        "papermill": {
          "duration": 0.067376,
          "end_time": "2022-09-15T16:38:31.396456",
          "exception": false,
          "start_time": "2022-09-15T16:38:31.329080",
          "status": "completed"
        },
        "tags": []
      },
      "source": [
        "#### 55. What is the equivalent of enumerate for numpy arrays? (★★☆)\n",
        "Что эквивалентно методу enumerate для массивов numpy?"
      ]
    },
    {
      "cell_type": "code",
      "source": [
        "# np.ndenumerate(arr)"
      ],
      "metadata": {
        "id": "HmyZu6hhZOXC"
      },
      "id": "HmyZu6hhZOXC",
      "execution_count": null,
      "outputs": []
    },
    {
      "cell_type": "markdown",
      "id": "436d8ec9",
      "metadata": {
        "id": "436d8ec9",
        "papermill": {
          "duration": 0.063968,
          "end_time": "2022-09-15T16:38:31.943712",
          "exception": false,
          "start_time": "2022-09-15T16:38:31.879744",
          "status": "completed"
        },
        "tags": []
      },
      "source": [
        "#### 56. Generate a generic 2D Gaussian-like array (★★☆)\n",
        "Сгенерируйте универсальную 2D (двумерную) матрицу Гаусса  \n",
        "Тут речь о двумерном универсальном нормальном (Гауссовом) распределении. Универсально означает, что медиана (μ) = 0, а дисперсия (σ) = 1.  "
      ]
    },
    {
      "cell_type": "code",
      "source": [
        "# незнаю как"
      ],
      "metadata": {
        "id": "a167gS7fZYSp"
      },
      "id": "a167gS7fZYSp",
      "execution_count": null,
      "outputs": []
    },
    {
      "cell_type": "markdown",
      "id": "5e67c3eb",
      "metadata": {
        "id": "5e67c3eb",
        "papermill": {
          "duration": 0.065096,
          "end_time": "2022-09-15T16:38:32.489306",
          "exception": false,
          "start_time": "2022-09-15T16:38:32.424210",
          "status": "completed"
        },
        "tags": []
      },
      "source": [
        "### 57. How to randomly place p elements in a 2D array? (★★☆)\n",
        "Как случайным образом разместить p элементов в 2D-массиве?"
      ]
    },
    {
      "cell_type": "markdown",
      "id": "2a474627",
      "metadata": {
        "id": "2a474627",
        "papermill": {
          "duration": 0.064416,
          "end_time": "2022-09-15T16:38:32.893327",
          "exception": false,
          "start_time": "2022-09-15T16:38:32.828911",
          "status": "completed"
        },
        "tags": []
      },
      "source": [
        "### 58. Subtract the mean of each row of a matrix (★★☆)\n",
        "Вычтите среднее значение каждой строки матрицы.  \n",
        "Пояснение к заданию: необходимо вычислить среднее значение каждой строки матрицы и вычесть его из элементов соответствующей строки  "
      ]
    },
    {
      "cell_type": "markdown",
      "id": "2decc138",
      "metadata": {
        "id": "2decc138",
        "papermill": {
          "duration": 0.066238,
          "end_time": "2022-09-15T16:38:33.291432",
          "exception": false,
          "start_time": "2022-09-15T16:38:33.225194",
          "status": "completed"
        },
        "tags": []
      },
      "source": [
        "### 59. How to sort an array by the nth column? (★★☆)\n",
        "Как отсортировать массив по n-му столбцу?"
      ]
    },
    {
      "cell_type": "markdown",
      "id": "6a150590",
      "metadata": {
        "id": "6a150590",
        "papermill": {
          "duration": 0.065672,
          "end_time": "2022-09-15T16:38:33.691626",
          "exception": false,
          "start_time": "2022-09-15T16:38:33.625954",
          "status": "completed"
        },
        "tags": []
      },
      "source": [
        "### 60. How to tell if a given 2D array has null columns? (★★☆)\n",
        "Как определить, есть ли в данном 2D-массиве нулевые столбцы?"
      ]
    },
    {
      "cell_type": "markdown",
      "id": "77a801db",
      "metadata": {
        "id": "77a801db",
        "papermill": {
          "duration": 0.065701,
          "end_time": "2022-09-15T16:38:34.365844",
          "exception": false,
          "start_time": "2022-09-15T16:38:34.300143",
          "status": "completed"
        },
        "tags": []
      },
      "source": [
        "### 61. Find the nearest value from a given value in an array (★★☆)\n",
        "Найдите ближайшее значение из заданного значения в массиве  \n",
        "Это задание дублирует задание 50, но в том примере выше был одномерный массив. Давайте выполним задание для двумерного массива, чтобы изучить новый метод  "
      ]
    },
    {
      "cell_type": "markdown",
      "id": "5b4be64e",
      "metadata": {
        "id": "5b4be64e",
        "papermill": {
          "duration": 0.065392,
          "end_time": "2022-09-15T16:38:34.767108",
          "exception": false,
          "start_time": "2022-09-15T16:38:34.701716",
          "status": "completed"
        },
        "tags": []
      },
      "source": [
        "### 62. Considering two arrays with shape (1,3) and (3,1), how to compute their sum using an iterator? (★★☆)\n",
        "Имеются два массива с размерностями (1,3) и (3,1), как вычислить их сумму с помощью итератора?"
      ]
    },
    {
      "cell_type": "markdown",
      "id": "44da2282",
      "metadata": {
        "id": "44da2282",
        "papermill": {
          "duration": 0.065386,
          "end_time": "2022-09-15T16:38:35.172126",
          "exception": false,
          "start_time": "2022-09-15T16:38:35.106740",
          "status": "completed"
        },
        "tags": []
      },
      "source": [
        "#### 63. Create an array class that has a name attribute (★★☆)\n",
        "Создайте массив-класс, с атрибутом name"
      ]
    },
    {
      "cell_type": "markdown",
      "id": "707b933e",
      "metadata": {
        "id": "707b933e",
        "papermill": {
          "duration": 0.065965,
          "end_time": "2022-09-15T16:38:35.640302",
          "exception": false,
          "start_time": "2022-09-15T16:38:35.574337",
          "status": "completed"
        },
        "tags": []
      },
      "source": [
        "#### 64. Consider a given vector, how to add 1 to each element indexed by a second vector (be careful with repeated indices)? (★★★)  \n",
        "\n",
        "Нам задан вектор, как добавить 1 к каждому элементу, индексируемому вторым вектором (будьте осторожны с повторяющимися индексами)?  \n",
        "\n",
        "Пояснение к заданию: Например: есть два вектора Z = [0, 1] и I = [0, 0]. Второй вектор I воспринимается нами как индексы элементов  \n",
        "первого вектора Z, то есть первый элемент I[0] вектора I, это индекс вектра Z => Z[I[0]]. Нам необходимо пройти по всем индексам i  \n",
        " вектора I и добавить 1(единицу) к каждому элементу Z[I[i]]. Таким образом понятно что значения вектора I не выходят за рамки len(X)  \n",
        " Самый простой способ проверки нашего алгоритма это проверка истинности выражения np.sum(Z_) == np.sum(Z) + len(I),  \n",
        " где Z_ преобразованный массив Z (то есть к которому добавили единицы)."
      ]
    },
    {
      "cell_type": "markdown",
      "id": "4f711bc3",
      "metadata": {
        "id": "4f711bc3",
        "papermill": {
          "duration": 0.064357,
          "end_time": "2022-09-15T16:38:36.048637",
          "exception": false,
          "start_time": "2022-09-15T16:38:35.984280",
          "status": "completed"
        },
        "tags": []
      },
      "source": [
        "#### 65. How to accumulate elements of a vector (Z) to an array (Sum_Z_I) based on an index list (I)? (★★★)\n",
        "\n",
        "Как аккумулировать (просуммировать) элементы вектора (Z) в массив (Sum_Z_I) на основе индексного списка (I)?  \n",
        "Пояснения к задаче: предположим, что у вас есть какой-нибудь вектор Z в котором указано время ответа сервера на запрос в секундах за последние N запросов. При этом в другом векторе I записанны номера соответствующих серверов к которым были адресованны эти запросы. Вам нужно создать вектор sum_Z_I в котором каждому номеру сервера из вектора I соответствовало суммарное время ответа на запросы из вектора Z (то есть сумма всех минут ответа соответвующего сервера). При этом, чтобы в полученном векторе sum_Z_I были рассчитаны все имеющиеся сервера с номерами от 0 до np.max(I). То есть если сервера под номером 2 нет в списке I, то в полученном векторе соответствующий элемент sum_Z_I[2] = np.nan."
      ]
    },
    {
      "cell_type": "markdown",
      "id": "65e96304",
      "metadata": {
        "id": "65e96304",
        "papermill": {
          "duration": 0.065799,
          "end_time": "2022-09-15T16:38:36.599471",
          "exception": false,
          "start_time": "2022-09-15T16:38:36.533672",
          "status": "completed"
        },
        "tags": []
      },
      "source": [
        "#### 66. Considering a (w,h,3) image of (dtype=ubyte), compute the number of unique colors (★★☆)\n",
        "Рассматривая (w, h, 3) изображение (dtype=ubyte), вычислите количество уникальных цветов."
      ]
    },
    {
      "cell_type": "markdown",
      "id": "efabd9b4",
      "metadata": {
        "id": "efabd9b4",
        "papermill": {
          "duration": 0.066274,
          "end_time": "2022-09-15T16:40:09.290489",
          "exception": false,
          "start_time": "2022-09-15T16:40:09.224215",
          "status": "completed"
        },
        "tags": []
      },
      "source": [
        "#### 67. Considering a four dimensions array, how to get sum over the last two axis at once? (★★★)\n",
        "Как получить суммы по двум последним осям заданного четырехмерного массива ?"
      ]
    },
    {
      "cell_type": "markdown",
      "id": "9d80bbfd",
      "metadata": {
        "id": "9d80bbfd",
        "papermill": {
          "duration": 0.06574,
          "end_time": "2022-09-15T16:40:10.004287",
          "exception": false,
          "start_time": "2022-09-15T16:40:09.938547",
          "status": "completed"
        },
        "tags": []
      },
      "source": [
        "#### 68. Considering a one-dimensional vector Z, how to compute means of subsets of D using a vector I of same size describing subset  indices? (★★★)\n",
        "\n",
        "Как вычислить средние значения подмножеств заданного одномерного массива Z, используя вектор I того же размера, описывающий индексы подмножеств?  \n",
        "Пояснения к задаче: предположим, что у вас есть какой-нибудь вектор Z в котором указано время ответа сервера на запрос в секундах за последние N запросов. При этом в другом векторе I записанны номера (индексы) соответствующих серверов к которым были адресованны эти запросы. Вам нужно создать вектор mean_Z_I в котором каждому номеру сервера из вектора I соответствовало бы среднее время ответа по запросам из вектора Z (то есть сумма всех минут ответа сервера поделенное на кол-во запросов к этому серверу). При этом, чтобы в полученном векторе mean_Z_I были рассчитаны все имеющиеся сервера с номерами от 0 до np.max(I). То есть если сервера под номером 2 нет в списке I, то в полученном векторе соответствующий элемент mean_Z_I[2] = np.nan."
      ]
    },
    {
      "cell_type": "markdown",
      "id": "d84b5135",
      "metadata": {
        "id": "d84b5135",
        "papermill": {
          "duration": 0.067482,
          "end_time": "2022-09-15T16:40:10.412697",
          "exception": false,
          "start_time": "2022-09-15T16:40:10.345215",
          "status": "completed"
        },
        "tags": []
      },
      "source": [
        "#### 69. How to get the diagonal of a dot product? (★★★)\n",
        "Как получить диагональ Скалярного произведение (векторов)"
      ]
    },
    {
      "cell_type": "markdown",
      "id": "969805a7",
      "metadata": {
        "id": "969805a7",
        "papermill": {
          "duration": 0.066616,
          "end_time": "2022-09-15T16:40:16.563130",
          "exception": false,
          "start_time": "2022-09-15T16:40:16.496514",
          "status": "completed"
        },
        "tags": []
      },
      "source": [
        "#### 70. Consider the vector [1, 2, 3, 4, 5], how to build a new vector with 3 consecutive zeros interleaved between each value? (★★★)\n",
        "\n",
        "Рассмотрим вектор [1, 2, 3, 4, 5], как построить новый вектор с 3 последовательными нулями, чередующимися между каждым значением"
      ]
    },
    {
      "cell_type": "markdown",
      "id": "f60b1169",
      "metadata": {
        "id": "f60b1169",
        "papermill": {
          "duration": 0.066733,
          "end_time": "2022-09-15T16:40:16.851460",
          "exception": false,
          "start_time": "2022-09-15T16:40:16.784727",
          "status": "completed"
        },
        "tags": []
      },
      "source": [
        "#### 71. Consider an array of dimension (5,5,3), how to mulitply it by an array with dimensions (5,5)? (★★★)  \n",
        "\n",
        "Как умножить имеющийся массив размерности (5,5,3) на массив с размерами (5,5)  "
      ]
    },
    {
      "cell_type": "markdown",
      "id": "4e76d8a0",
      "metadata": {
        "id": "4e76d8a0",
        "papermill": {
          "duration": 0.066222,
          "end_time": "2022-09-15T16:40:17.265966",
          "exception": false,
          "start_time": "2022-09-15T16:40:17.199744",
          "status": "completed"
        },
        "tags": []
      },
      "source": [
        "#### 72. How to swap two rows of an array? (★★★)\n",
        "\n",
        "Как поменять местами две строки массива?"
      ]
    },
    {
      "cell_type": "markdown",
      "id": "d16710bc",
      "metadata": {
        "id": "d16710bc",
        "papermill": {
          "duration": 0.067591,
          "end_time": "2022-09-15T16:40:17.729854",
          "exception": false,
          "start_time": "2022-09-15T16:40:17.662263",
          "status": "completed"
        },
        "tags": []
      },
      "source": [
        "#### 73. Consider a set of 10 triplets describing 10 triangles (with shared vertices), find the set of unique line segments composing all the  triangles (★★★)\n",
        "Рассмотрим набор из 10 триплетов, описывающих 10 треугольников (с общими вершинами), найдите набор уникальных (непересекающихся) отрезков, проходящих через все вершины треугольников.  \n",
        "***Коммент к заданию*** я не очень догнал практический смысл этого обхода всех вершин треугольников один раз, может быть кто-нибудь знает где это полезно => напишите. Потому что во всех решениях которые я встречал применяется сортировка, которая меняет первоначальные триплеты."
      ]
    },
    {
      "cell_type": "markdown",
      "id": "1e972865",
      "metadata": {
        "id": "1e972865",
        "papermill": {
          "duration": 0.067965,
          "end_time": "2022-09-15T16:40:18.486329",
          "exception": false,
          "start_time": "2022-09-15T16:40:18.418364",
          "status": "completed"
        },
        "tags": []
      },
      "source": [
        "#### 74. Given a sorted array C that corresponds to a bincount, how to produce an array A such that np.bincount(A) == C? (★★★)\n",
        "Имея отсортированный массив C, который соответствует функции np.bincount, как создать массив A таким образом, чтобы np.bincount(A) == C?"
      ]
    },
    {
      "cell_type": "markdown",
      "id": "074f458b",
      "metadata": {
        "id": "074f458b",
        "papermill": {
          "duration": 0.065733,
          "end_time": "2022-09-15T16:40:18.908686",
          "exception": false,
          "start_time": "2022-09-15T16:40:18.842953",
          "status": "completed"
        },
        "tags": []
      },
      "source": [
        "#### 75. How to compute averages using a sliding window over an array? (★★★)\n",
        "Как рассчитать средние значения скользящего окна по массиву?"
      ]
    },
    {
      "cell_type": "markdown",
      "id": "7e0ac33c",
      "metadata": {
        "id": "7e0ac33c",
        "papermill": {
          "duration": 0.067219,
          "end_time": "2022-09-15T16:40:19.328582",
          "exception": false,
          "start_time": "2022-09-15T16:40:19.261363",
          "status": "completed"
        },
        "tags": []
      },
      "source": [
        "#### 76. Consider a one-dimensional array Z, build a two-dimensional array whose first row is (Z[0],Z[1],Z[2]) and each subsequent row is  shifted by 1 (last row should be (Z[-3],Z[-2],Z[-1]) (★★★)  \n",
        "Рассмотрим одномерный массив Z, построим двумерный массив, первая строка которого равна (Z[0],Z[1],Z[2]), а каждая последующая строка сдвинута на 1 (последняя строка должна быть (Z[-3],Z[-2],Z[-1])"
      ]
    },
    {
      "cell_type": "markdown",
      "id": "4b452a9e",
      "metadata": {
        "id": "4b452a9e",
        "papermill": {
          "duration": 0.069289,
          "end_time": "2022-09-15T16:40:20.513239",
          "exception": false,
          "start_time": "2022-09-15T16:40:20.443950",
          "status": "completed"
        },
        "tags": []
      },
      "source": [
        "#### 77. How to negate a boolean, or to change the sign of a float inplace? (★★★)\n",
        "Как реализовать отрицание логического значения или изменить знак числа с плавающей точкой в массиве без копирования (или без дополнительных переменных)?\n",
        "В этом задании два вопроса давайте разберем и реализуем их отдельно:\n",
        "1. Как реализовать отрицание логического значения? То есть требуется в массиве который задан значениями True(1) или False(0) реализовать трансформацию True(1)=>False(0) и наоборот False(0)=>True(1). И нужно реализовать это так, чтобы не создавать новых переменных и не занимать лишнюю память\n",
        "2. Как реализовать изменение знака у вещественных элементов массива, чтобы не создавать новых переменных и не занимать лишнюю память?"
      ]
    },
    {
      "cell_type": "markdown",
      "id": "470b64ea",
      "metadata": {
        "id": "470b64ea",
        "papermill": {
          "duration": 0.068236,
          "end_time": "2022-09-15T16:40:21.106210",
          "exception": false,
          "start_time": "2022-09-15T16:40:21.037974",
          "status": "completed"
        },
        "tags": []
      },
      "source": [
        "#### 78. Consider 2 sets of points P0,P1 describing lines (2d) and a point p, how to compute distance from p to each line i (P0[i],P1[i])? (★★★)\n",
        "Рассмотрим 2 набора точек P0, P1, описывающих линии (2d) и точку p, как вычислить расстояние от p до каждой линии i (P0 [i],P1[i])?\n"
      ]
    },
    {
      "cell_type": "markdown",
      "id": "fa02c70d",
      "metadata": {
        "id": "fa02c70d",
        "papermill": {
          "duration": 0.070978,
          "end_time": "2022-09-15T16:40:21.836643",
          "exception": false,
          "start_time": "2022-09-15T16:40:21.765665",
          "status": "completed"
        },
        "tags": []
      },
      "source": [
        "#### 79. Consider 2 sets of points P0,P1 describing lines (2d) and a set of points P, how to compute distance from each point j (P[j]) to each line i (P0[i],P1[i])? (★★★)\n",
        "\n",
        "Рассмотрим 2 набора точек P0, P1, описывающих линии (2d), и набор точек P, как вычислить расстояние от каждой точки j (P[j]) до каждой линии i (P0[i],P1[i])"
      ]
    },
    {
      "cell_type": "markdown",
      "id": "92918889",
      "metadata": {
        "id": "92918889",
        "papermill": {
          "duration": 0.071267,
          "end_time": "2022-09-15T16:40:22.272575",
          "exception": false,
          "start_time": "2022-09-15T16:40:22.201308",
          "status": "completed"
        },
        "tags": []
      },
      "source": [
        "#### 80. Consider an arbitrary array, write a function that extract a subpart with a fixed shape and centered on a given element (pad with a `fill` value when necessary) (★★★)\n",
        "Рассмотрим произвольный массив, напишите функцию, которая извлекает подраздел с фиксированной формой и центрирует его по заданному элементу (при необходимости дополните значением \"fill\").  \n",
        "Эта задача очень распространенная в CV(компьютерном зрении), когда необходимо двигаться по картинке с окном заданного размера и применять к элементам окна разные агрегатные функции.  "
      ]
    },
    {
      "cell_type": "markdown",
      "id": "ef4a0489",
      "metadata": {
        "id": "ef4a0489",
        "papermill": {
          "duration": 0.07005,
          "end_time": "2022-09-15T16:40:22.997340",
          "exception": false,
          "start_time": "2022-09-15T16:40:22.927290",
          "status": "completed"
        },
        "tags": []
      },
      "source": [
        "#### 81. Consider an array Z = [1,2,3,4,5,6,7,8,9,10,11,12,13,14], how to generate an array R = [[1,2,3,4], [2,3,4,5], [3,4,5,6], ..., [11,12,13,14]]? (★★★)\n",
        "Рассмотрим массив Z = [1,2,3,4,5,6,7,8,9,10,11,12,13,14], как сгенерировать массив R = [[1,2,3,4], [2,3,4,5], [3,4,5,6], ..., [11,12,13,14]]?  \n",
        "Задача моделирует создание массива с окнами заданной ширины от исходного массива. Далее к этому массиву с окнами можно применять разные агрегирующие функции.  "
      ]
    },
    {
      "cell_type": "markdown",
      "id": "7bbc4150",
      "metadata": {
        "id": "7bbc4150",
        "papermill": {
          "duration": 0.069193,
          "end_time": "2022-09-15T16:40:23.942504",
          "exception": false,
          "start_time": "2022-09-15T16:40:23.873311",
          "status": "completed"
        },
        "tags": []
      },
      "source": [
        "#### 82. Compute a matrix rank (★★★)\n",
        "Вычислите ранг матрицы"
      ]
    },
    {
      "cell_type": "markdown",
      "id": "fb5deb0f",
      "metadata": {
        "id": "fb5deb0f",
        "papermill": {
          "duration": 0.068197,
          "end_time": "2022-09-15T16:41:10.140912",
          "exception": false,
          "start_time": "2022-09-15T16:41:10.072715",
          "status": "completed"
        },
        "tags": []
      },
      "source": [
        "#### 83. How to find the most frequent value in an array?\n",
        "Как найти наиболее часто встречающееся значение в массиве"
      ]
    },
    {
      "cell_type": "markdown",
      "id": "cdaebedb",
      "metadata": {
        "id": "cdaebedb",
        "papermill": {
          "duration": 0.06997,
          "end_time": "2022-09-15T16:41:10.572832",
          "exception": false,
          "start_time": "2022-09-15T16:41:10.502862",
          "status": "completed"
        },
        "tags": []
      },
      "source": [
        "#### 84. Extract all the contiguous 3x3 blocks from a random 10x10 matrix (★★★)\n",
        "Извлеките все смежные блоки размером 3x3 из случайной матрицы размером 10x10  \n",
        "Дополнение к заданию: Конкретно в этой задаче под смежные (contiguous) блоки подразумевается результат движения окна заданного размера с шагом 1. Но вообще говоря в англоязычных статьях смежные (contiguous) блоки матрицы или памяти подразумеваются рядом стоящие(имеющие общую границу) непересекающиеся блоки. Хотя в некоторых задачах на leetcode встречалась и такая пересекающаяся формулировка, но только она дополнялась примерами.  \n",
        "Если представить что исходная матрица - квадратная размером (N, N), а размер окна size_window = s_w. Тогда кол-во смежных блоков = (N-s_w)*(N-s_w)\n"
      ]
    },
    {
      "cell_type": "markdown",
      "id": "1808640d",
      "metadata": {
        "id": "1808640d",
        "papermill": {
          "duration": 0.069655,
          "end_time": "2022-09-15T16:41:11.003102",
          "exception": false,
          "start_time": "2022-09-15T16:41:10.933447",
          "status": "completed"
        },
        "tags": []
      },
      "source": [
        "#### 85. Create a 2D array subclass such that Z[i,j] == Z[j,i] (★★★)\n",
        "Создайте подкласс 2D-массива таким образом, чтобы Z[i,j] == Z[j,i]"
      ]
    },
    {
      "cell_type": "markdown",
      "id": "d3c637b4",
      "metadata": {
        "id": "d3c637b4",
        "papermill": {
          "duration": 0.070677,
          "end_time": "2022-09-15T16:41:11.802570",
          "exception": false,
          "start_time": "2022-09-15T16:41:11.731893",
          "status": "completed"
        },
        "tags": []
      },
      "source": [
        "#### 86. Consider a set of p matrices wich shape (n,n) and a set of p vectors with shape (n,1). How to compute the sum of of the p matrix products at once? (result has shape (n,1)) (★★★)\n",
        "Рассмотрим набор p матриц, имеющих форму (n, n), и набор p векторов с формой (n,1). Как вычислить сумму произведений матрицы p сразу? (результат имеет форму (n,1))"
      ]
    },
    {
      "cell_type": "markdown",
      "id": "1a0db070",
      "metadata": {
        "id": "1a0db070",
        "papermill": {
          "duration": 0.07014,
          "end_time": "2022-09-15T16:41:12.235293",
          "exception": false,
          "start_time": "2022-09-15T16:41:12.165153",
          "status": "completed"
        },
        "tags": []
      },
      "source": [
        "#### 87. Consider a 16x16 array, how to get the block-sum (block size is 4x4)? (★★★)\n",
        "Рассмотрим массив 16x16, как получить сумму блоков (размер блока 4x4)  \n",
        "Дополнение к заданию: В данном случае подразумевается стандартное блочное (клеточное) разбиение матрицы - блоки при разбиении не пересекаются. Кроме этого в условии задачи разбиение происходит на полные блоки 4 на 4 так как размер исходной матрицы 16 на 16. Но в случае, если размер блока не будет делить размер матрицы без остатка подразумевается что блочное разбиение в этом случае будет оставлять блоки меньше заданного размера слева и снизу."
      ]
    },
    {
      "cell_type": "markdown",
      "id": "393525c0",
      "metadata": {
        "id": "393525c0",
        "papermill": {
          "duration": 0.071558,
          "end_time": "2022-09-15T16:41:12.532208",
          "exception": false,
          "start_time": "2022-09-15T16:41:12.460650",
          "status": "completed"
        },
        "tags": []
      },
      "source": [
        "***[np.ones](https://numpy.org/doc/stable/reference/generated/numpy.ones.html)*** - Возвращает новый массив, заполненный единицами.  \n",
        "\n",
        "***[np.tile](https://numpy.org/doc/stable/reference/generated/numpy.tile.html)*** - Строит массив, повторив массив A количество раз, заданное повторениями reps, по каждой оси.  \n",
        "\n",
        "***[np.ufunc.reduceat](https://numpy.org/doc/stable/reference/generated/numpy.ufunc.reduceat.html)*** - Выполняет (локальное) применение функции по указанным срезам по заданной оси.  \n",
        "\n",
        "***[np.arange](https://numpy.org/doc/stable/reference/generated/numpy.arange.html)*** - Возвращает равномерно распределенные значения в пределах заданного полуоткрытого интервала [start. stop). Для целочисленных аргументов функция эквивалентна встроенной функции range Python , но возвращает ndarray, а не список.  \n",
        "Если вместо start и stop указывается только одно число, то по умолчанию start равен нулю, а stop равно заданному числу.  "
      ]
    },
    {
      "cell_type": "markdown",
      "id": "9a7bbd85",
      "metadata": {
        "id": "9a7bbd85",
        "papermill": {
          "duration": 0.070167,
          "end_time": "2022-09-15T16:41:12.674421",
          "exception": false,
          "start_time": "2022-09-15T16:41:12.604254",
          "status": "completed"
        },
        "tags": []
      },
      "source": [
        "#### 88. How to implement the Game of Life using numpy arrays? (★★★)\n",
        "Как реализовать Игру жизни с использованием массивов numpy?  \n",
        "[ссылка на описание игры на английском](https://en.wikipedia.org/wiki/Conway's_Game_of_Life) (к сожалению на [русском](https://ru.wikipedia.org/wiki/%D0%98%D0%B3%D1%80%D0%B0_%C2%AB%D0%96%D0%B8%D0%B7%D0%BD%D1%8C%C2%BB) описание скудное и не содержит описания основных узоров (паттернов) игры)  \n",
        "Уточнение к заданию: стандартные условия Игры Жизни = B3/S23 (Birth if count neighbours equals 3 / Survive if count neighbours equals 2 or 3)"
      ]
    },
    {
      "cell_type": "markdown",
      "id": "a6adb919",
      "metadata": {
        "id": "a6adb919",
        "papermill": {
          "duration": 0.071233,
          "end_time": "2022-09-15T16:41:12.975087",
          "exception": false,
          "start_time": "2022-09-15T16:41:12.903854",
          "status": "completed"
        },
        "tags": []
      },
      "source": [
        "***[np.zeros](https://numpy.org/doc/stable/reference/generated/numpy.zeros.html)*** - возвращает новый массив заполненный нулями.  "
      ]
    },
    {
      "cell_type": "markdown",
      "id": "371e6d37",
      "metadata": {
        "id": "371e6d37",
        "papermill": {
          "duration": 0.070234,
          "end_time": "2022-09-15T16:41:13.115815",
          "exception": false,
          "start_time": "2022-09-15T16:41:13.045581",
          "status": "completed"
        },
        "tags": []
      },
      "source": [
        "#### 89. How to get the n largest values of an array (★★★)\n",
        "Как получить n наибольших значений массива?  \n",
        "Уточнение к заданию: В этой задаче целесообразно сделать акцент на очень больших массивах и обратить внимание на скорость выбранных методов  \n",
        "Также целесообразно уточнить многомерный или одномерный массив. Ниже последовательно реализованы оба решения  "
      ]
    },
    {
      "cell_type": "markdown",
      "id": "516312fa",
      "metadata": {
        "id": "516312fa",
        "papermill": {
          "duration": 0.07007,
          "end_time": "2022-09-15T16:43:58.522316",
          "exception": false,
          "start_time": "2022-09-15T16:43:58.452246",
          "status": "completed"
        },
        "tags": []
      },
      "source": [
        "#### 90. Given an arbitrary number of vectors, build the cartesian product (every combinations of every item) (★★★)\n",
        "Учитывая произвольное количество векторов, постройте декартово произведение (все комбинации каждого элемента)"
      ]
    },
    {
      "cell_type": "markdown",
      "id": "5d8fb42b",
      "metadata": {
        "id": "5d8fb42b",
        "papermill": {
          "duration": 0.06911,
          "end_time": "2022-09-15T16:43:59.005232",
          "exception": false,
          "start_time": "2022-09-15T16:43:58.936122",
          "status": "completed"
        },
        "tags": []
      },
      "source": [
        "#### 91. How to create a record array from a regular array? (★★★)\n",
        "Как создать массив записей из обычного массива?"
      ]
    },
    {
      "cell_type": "markdown",
      "id": "0357d9b7",
      "metadata": {
        "id": "0357d9b7",
        "papermill": {
          "duration": 0.070476,
          "end_time": "2022-09-15T16:43:59.299460",
          "exception": false,
          "start_time": "2022-09-15T16:43:59.228984",
          "status": "completed"
        },
        "tags": []
      },
      "source": [
        "#### 92. Consider a large vector Z, compute Z to the power of 3 using 3 different methods (★★★)\n",
        "Рассмотрим большой вектор Z, вычислите Z в степени 3, используя 3 различных метода"
      ]
    },
    {
      "cell_type": "markdown",
      "id": "938dc97a",
      "metadata": {
        "id": "938dc97a",
        "papermill": {
          "duration": 0.071149,
          "end_time": "2022-09-15T16:44:17.179005",
          "exception": false,
          "start_time": "2022-09-15T16:44:17.107856",
          "status": "completed"
        },
        "tags": []
      },
      "source": [
        "#### 93. Consider two arrays A and B of shape (8,3) and (2,2). How to find rows of A that contain elements of each row of B regardless of the order of the elements in B? (★★★)\n",
        "Рассмотрим два массива A и B формы (8,3) и (2,2). Как найти строки A, которые содержат элементы каждой строки B независимо от порядка элементов в B?\n",
        "Пояснение к заданию:\n",
        "```python\n",
        "например массив B = [[4 3]\n",
        "                     [1 2]]\n",
        "тогда в строка [0, 2, 4] в матрице A искомая, потому что содержит один элемент [2] из одной строки и элемент [4] из другой строки массива B.  Получается строка содержит элементы из всех (двух) строк массива B.\n",
        "А например, строка [0, 1, 2] не подходит, потому что содежит элемент [2] только из одной строки [1, 2] массива B. Тогда как из другой строки [4, 3] массива B элементов в ней нет.  \n",
        "```\n"
      ]
    },
    {
      "cell_type": "markdown",
      "id": "1de0026a",
      "metadata": {
        "id": "1de0026a",
        "papermill": {
          "duration": 0.07207,
          "end_time": "2022-09-15T16:44:17.476456",
          "exception": false,
          "start_time": "2022-09-15T16:44:17.404386",
          "status": "completed"
        },
        "tags": []
      },
      "source": [
        "#### 94. Considering a 10x3 matrix, extract rows with unequal values (e.g. [2,2,3]) (★★★)\n",
        "Рассматривая матрицу 10x3, извлеките строки с неравными значениями (например, [2,2,3])"
      ]
    },
    {
      "cell_type": "markdown",
      "id": "ead5803a",
      "metadata": {
        "id": "ead5803a",
        "papermill": {
          "duration": 0.073288,
          "end_time": "2022-09-15T16:44:18.390616",
          "exception": false,
          "start_time": "2022-09-15T16:44:18.317328",
          "status": "completed"
        },
        "tags": []
      },
      "source": [
        "#### 95. Convert a vector of ints into a matrix binary representation (★★★)\n",
        "Преобразуйте вектор целых чисел в матричное двоичное представление\n",
        "Уточнение для задания: допустим на входе массив = (0, 1, 8) тогда двоичное представление чисел\n",
        "```python\n",
        "0 (десятичное число) = 0b0 (двоичное представление)\n",
        "1 (десятичное число) = 0b1 (двоичное представление)\n",
        "8 (десятичное число) = 0b1000 (двоичное представление)\n",
        "```\n",
        "$$8 = 1*2^3 + 0*2^2 + 0*2^1 + 0*2^0$$  \n",
        "так как для записи числа 0b1000 необходимо 4 (четыре) столбца, то на выходе будем иметь матрицу  \n",
        "```python\n",
        "[[0 0 0 0]\n",
        " [0 0 0 1]\n",
        " [1 0 0 0]]\n",
        "```\n",
        "где первая строка соответвует числу 0, вторая строка числу 1 и последняя строка числу 8.\n",
        "\n",
        "подразумевается, что числа положительные, иначе придется выделять отдельный столбец"
      ]
    },
    {
      "cell_type": "markdown",
      "id": "0d903aa3",
      "metadata": {
        "id": "0d903aa3",
        "papermill": {
          "duration": 0.072242,
          "end_time": "2022-09-15T16:44:19.005252",
          "exception": false,
          "start_time": "2022-09-15T16:44:18.933010",
          "status": "completed"
        },
        "tags": []
      },
      "source": [
        "#### 96. Given a two dimensional array, how to extract unique rows? (★★★)\n",
        "Учитывая двумерный массив, как извлечь уникальные строки?"
      ]
    },
    {
      "cell_type": "markdown",
      "id": "72b4c8d8",
      "metadata": {
        "id": "72b4c8d8",
        "papermill": {
          "duration": 0.072486,
          "end_time": "2022-09-15T16:44:19.672845",
          "exception": false,
          "start_time": "2022-09-15T16:44:19.600359",
          "status": "completed"
        },
        "tags": []
      },
      "source": [
        "#### 97. Considering 2 vectors A & B, write the einsum equivalent of inner, outer, sum, and mul function (★★★)\n",
        "Рассматривая 2 вектора A и B, запишите эквивалент einsum функции inner, outer, sum и mul"
      ]
    },
    {
      "cell_type": "markdown",
      "id": "3877f780",
      "metadata": {
        "id": "3877f780",
        "papermill": {
          "duration": 0.072438,
          "end_time": "2022-09-15T16:44:20.738410",
          "exception": false,
          "start_time": "2022-09-15T16:44:20.665972",
          "status": "completed"
        },
        "tags": []
      },
      "source": [
        "#### 98. Considering a path described by two vectors (X,Y), how to sample it using equidistant samples (★★★)?\n",
        "Рассматривая путь, описываемый двумя векторами (X, Y), как сделать выборку с использованием равноудаленных выборок"
      ]
    },
    {
      "cell_type": "markdown",
      "id": "3174abe4",
      "metadata": {
        "id": "3174abe4",
        "papermill": {
          "duration": 0.070786,
          "end_time": "2022-09-15T16:44:21.039540",
          "exception": false,
          "start_time": "2022-09-15T16:44:20.968754",
          "status": "completed"
        },
        "tags": []
      },
      "source": [
        "#### 99. Given an integer n and a 2D array X, select from X the rows which can be interpreted as draws from a multinomial distribution with n degrees, i.e., the rows which only contain integers and which sum to n. (★★★)\n",
        "Учитывая целое число n и 2D-массив X, выберите из X строки, которые могут быть интерпретированы как взятые из мультиномиального распределения с n степенями, т.Е. строки, которые содержат только целые числа и сумма которых равна n."
      ]
    },
    {
      "cell_type": "markdown",
      "id": "22140ac0",
      "metadata": {
        "id": "22140ac0",
        "papermill": {
          "duration": 0.070129,
          "end_time": "2022-09-15T16:44:21.333540",
          "exception": false,
          "start_time": "2022-09-15T16:44:21.263411",
          "status": "completed"
        },
        "tags": []
      },
      "source": [
        "#### 100. Compute bootstrapped 95% confidence intervals for the mean of a 1D array X (i.e., resample the elements of an array with replacement N times, compute the mean of each sample, and then compute percentiles over the means). (★★★)\n",
        "Вычислите загрузочные 95% доверительные интервалы для среднего значения 1D массива X (т.Е. выполните повторную выборку элементов массива с заменой N раз, вычислите среднее значение каждой выборки, а затем вычислите процентили по средним значениям). (★★★)"
      ]
    }
  ],
  "metadata": {
    "colab": {
      "provenance": []
    },
    "kernelspec": {
      "display_name": "Python 3 (ipykernel)",
      "language": "python",
      "name": "python3"
    },
    "language_info": {
      "codemirror_mode": {
        "name": "ipython",
        "version": 3
      },
      "file_extension": ".py",
      "mimetype": "text/x-python",
      "name": "python",
      "nbconvert_exporter": "python",
      "pygments_lexer": "ipython3",
      "version": "3.11.5"
    },
    "papermill": {
      "default_parameters": {},
      "duration": 384.550018,
      "end_time": "2022-09-15T16:44:22.530415",
      "environment_variables": {},
      "exception": null,
      "input_path": "__notebook__.ipynb",
      "output_path": "__notebook__.ipynb",
      "parameters": {},
      "start_time": "2022-09-15T16:37:57.980397",
      "version": "2.3.4"
    }
  },
  "nbformat": 4,
  "nbformat_minor": 5
}