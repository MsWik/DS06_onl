{
 "cells": [
  {
   "cell_type": "markdown",
   "metadata": {},
   "source": [
    "Получить максимальную метрику качества (R2, RMSE).\n",
    "\n",
    "Введение\n",
    "Целью данной задачи является прогнозирование суммы пятничных распродаж в магазинах сети Walmart с помощью построения регрессионных моделей и их анализа.\n",
    "Набор данных состоит из исторических данных, которые охватывают продажи с 2010-02-05 по 2012-11-01, предствленных в файле Walmart.csv\n",
    "#Использовать приплайны.\n",
    "#Выполнить поиск лучших параметров\n",
    "#Кроссвалидация.\n",
    "#Сохранить и загрузить моделль. \n",
    "\n",
    "V2\n",
    "15.01.24\n",
    "Anatoly"
   ]
  },
  {
   "cell_type": "code",
   "execution_count": 3,
   "metadata": {},
   "outputs": [],
   "source": [
    "import numpy as np\n",
    "import pandas as pd\n",
    "\n",
    "from sklearn.linear_model import LinearRegression\n",
    "from sklearn.model_selection import cross_val_score\n",
    "from sklearn.model_selection import GridSearchCV\n",
    "from sklearn.ensemble import RandomForestRegressor\n",
    "from sklearn.ensemble import GradientBoostingRegressor\n",
    "from sklearn.model_selection import train_test_split\n",
    "\n",
    "from hyperopt import fmin, tpe, hp, STATUS_OK, Trials\n",
    "from sklearn.model_selection import cross_val_score\n",
    "from sklearn.linear_model import LinearRegression, Ridge, Lasso\n",
    "from sklearn.ensemble import RandomForestRegressor, GradientBoostingRegressor\n",
    "from sklearn.svm import SVR\n",
    "from sklearn.metrics import mean_squared_error\n",
    "from tqdm import tqdm\n",
    "from hyperopt import fmin, tpe, rand, hp, STATUS_OK, Trials\n",
    "file_path_test =\"C:/Users/qiarr/Desktop/task/lesson 20/Walmart.csv\"\n",
    "data = pd.read_csv(file_path_test, encoding='cp1251', )\n",
    "\n"
   ]
  },
  {
   "cell_type": "code",
   "execution_count": 16,
   "metadata": {},
   "outputs": [
    {
     "data": {
      "text/html": [
       "<div>\n",
       "<style scoped>\n",
       "    .dataframe tbody tr th:only-of-type {\n",
       "        vertical-align: middle;\n",
       "    }\n",
       "\n",
       "    .dataframe tbody tr th {\n",
       "        vertical-align: top;\n",
       "    }\n",
       "\n",
       "    .dataframe thead th {\n",
       "        text-align: right;\n",
       "    }\n",
       "</style>\n",
       "<table border=\"1\" class=\"dataframe\">\n",
       "  <thead>\n",
       "    <tr style=\"text-align: right;\">\n",
       "      <th></th>\n",
       "      <th>Store</th>\n",
       "      <th>Holiday_Flag</th>\n",
       "      <th>Temperature</th>\n",
       "      <th>Fuel_Price</th>\n",
       "      <th>CPI</th>\n",
       "      <th>Unemployment</th>\n",
       "      <th>Year</th>\n",
       "    </tr>\n",
       "  </thead>\n",
       "  <tbody>\n",
       "    <tr>\n",
       "      <th>0</th>\n",
       "      <td>1.0</td>\n",
       "      <td>0.0</td>\n",
       "      <td>42.31</td>\n",
       "      <td>2.572</td>\n",
       "      <td>211.096358</td>\n",
       "      <td>8.106</td>\n",
       "      <td>0.422146</td>\n",
       "    </tr>\n",
       "    <tr>\n",
       "      <th>1</th>\n",
       "      <td>1.0</td>\n",
       "      <td>1.0</td>\n",
       "      <td>38.51</td>\n",
       "      <td>2.548</td>\n",
       "      <td>211.242170</td>\n",
       "      <td>8.106</td>\n",
       "      <td>1.005479</td>\n",
       "    </tr>\n",
       "    <tr>\n",
       "      <th>2</th>\n",
       "      <td>1.0</td>\n",
       "      <td>0.0</td>\n",
       "      <td>39.93</td>\n",
       "      <td>2.514</td>\n",
       "      <td>211.289143</td>\n",
       "      <td>8.106</td>\n",
       "      <td>0.218721</td>\n",
       "    </tr>\n",
       "    <tr>\n",
       "      <th>3</th>\n",
       "      <td>1.0</td>\n",
       "      <td>0.0</td>\n",
       "      <td>46.63</td>\n",
       "      <td>2.561</td>\n",
       "      <td>211.319643</td>\n",
       "      <td>8.106</td>\n",
       "      <td>0.237900</td>\n",
       "    </tr>\n",
       "    <tr>\n",
       "      <th>4</th>\n",
       "      <td>1.0</td>\n",
       "      <td>0.0</td>\n",
       "      <td>46.50</td>\n",
       "      <td>2.625</td>\n",
       "      <td>211.350143</td>\n",
       "      <td>8.106</td>\n",
       "      <td>0.424886</td>\n",
       "    </tr>\n",
       "  </tbody>\n",
       "</table>\n",
       "</div>"
      ],
      "text/plain": [
       "   Store  Holiday_Flag  Temperature  Fuel_Price         CPI  Unemployment  \\\n",
       "0    1.0           0.0        42.31       2.572  211.096358         8.106   \n",
       "1    1.0           1.0        38.51       2.548  211.242170         8.106   \n",
       "2    1.0           0.0        39.93       2.514  211.289143         8.106   \n",
       "3    1.0           0.0        46.63       2.561  211.319643         8.106   \n",
       "4    1.0           0.0        46.50       2.625  211.350143         8.106   \n",
       "\n",
       "       Year  \n",
       "0  0.422146  \n",
       "1  1.005479  \n",
       "2  0.218721  \n",
       "3  0.237900  \n",
       "4  0.424886  "
      ]
     },
     "execution_count": 16,
     "metadata": {},
     "output_type": "execute_result"
    }
   ],
   "source": [
    "data.head()"
   ]
  },
  {
   "cell_type": "code",
   "execution_count": 5,
   "metadata": {},
   "outputs": [
    {
     "name": "stdout",
     "output_type": "stream",
     "text": [
      "<class 'pandas.core.frame.DataFrame'>\n",
      "RangeIndex: 6435 entries, 0 to 6434\n",
      "Data columns (total 8 columns):\n",
      " #   Column        Non-Null Count  Dtype  \n",
      "---  ------        --------------  -----  \n",
      " 0   Store         6435 non-null   int64  \n",
      " 1   Date          6435 non-null   object \n",
      " 2   Weekly_Sales  6435 non-null   float64\n",
      " 3   Holiday_Flag  6435 non-null   int64  \n",
      " 4   Temperature   6435 non-null   float64\n",
      " 5   Fuel_Price    6435 non-null   float64\n",
      " 6   CPI           6435 non-null   float64\n",
      " 7   Unemployment  6435 non-null   float64\n",
      "dtypes: float64(5), int64(2), object(1)\n",
      "memory usage: 402.3+ KB\n"
     ]
    }
   ],
   "source": [
    "data.info()"
   ]
  },
  {
   "cell_type": "code",
   "execution_count": null,
   "metadata": {},
   "outputs": [
    {
     "data": {
      "text/plain": [
       "'X = df_test.drop(\"Weekly_Sales\", axis=1)  # Удаляем столбец \"Unemployment\" из набора данных X\\ny = df_test[[\"Weekly_Sales\"]]\\nX = X.drop([\"Date\", \"Store\"], axis=1)\\n\\nlogreg = LinearRegression()\\n\\nscores = cross_val_score(logreg, X, y, cv=5)\\nprint(\"Значения правильности перекрестной проверки: {}\".format(scores))'"
      ]
     },
     "execution_count": 120,
     "metadata": {},
     "output_type": "execute_result"
    }
   ],
   "source": [
    "\"\"\"X = df_test.drop(\"Weekly_Sales\", axis=1) \n",
    "y = df_test[[\"Weekly_Sales\"]]\n",
    "X = X.drop([\"Date\", \"Store\"], axis=1)\n",
    "\n",
    "logreg = LinearRegression()\n",
    "\n",
    "scores = cross_val_score(logreg, X, y, cv=5)\n",
    "print(\"Значения правильности перекрестной проверки: {}\".format(scores))\"\"\""
   ]
  },
  {
   "cell_type": "code",
   "execution_count": 13,
   "metadata": {},
   "outputs": [],
   "source": [
    "data['Date'] = pd.to_datetime(data['Date'], format='mixed')\n",
    "\n",
    "data['Month'] = data['Date'].dt.month.astype(dtype=np.float64)\n",
    "data['Day'] = data['Date'].dt.day.astype(dtype=np.float64)\n",
    "data['Year'] = data['Date'].dt.year.astype(dtype=np.float64)\n",
    "data.drop('Date', axis=1, inplace=True)\n",
    "data = data.astype(dtype=np.float64)\n",
    "data['Year'] = data['Day']/365 + data['Month']/12\n",
    "data.drop(['Month', 'Day'], axis=1, inplace=True)\n",
    "columns_outliers = ['Temperature', 'Unemployment']\n",
    "y = data.pop('Weekly_Sales')\n",
    "x = data"
   ]
  },
  {
   "cell_type": "code",
   "execution_count": 15,
   "metadata": {},
   "outputs": [
    {
     "data": {
      "text/html": [
       "<div>\n",
       "<style scoped>\n",
       "    .dataframe tbody tr th:only-of-type {\n",
       "        vertical-align: middle;\n",
       "    }\n",
       "\n",
       "    .dataframe tbody tr th {\n",
       "        vertical-align: top;\n",
       "    }\n",
       "\n",
       "    .dataframe thead th {\n",
       "        text-align: right;\n",
       "    }\n",
       "</style>\n",
       "<table border=\"1\" class=\"dataframe\">\n",
       "  <thead>\n",
       "    <tr style=\"text-align: right;\">\n",
       "      <th></th>\n",
       "      <th>Store</th>\n",
       "      <th>Holiday_Flag</th>\n",
       "      <th>Temperature</th>\n",
       "      <th>Fuel_Price</th>\n",
       "      <th>CPI</th>\n",
       "      <th>Unemployment</th>\n",
       "      <th>Year</th>\n",
       "    </tr>\n",
       "  </thead>\n",
       "  <tbody>\n",
       "    <tr>\n",
       "      <th>0</th>\n",
       "      <td>1.0</td>\n",
       "      <td>0.0</td>\n",
       "      <td>42.31</td>\n",
       "      <td>2.572</td>\n",
       "      <td>211.096358</td>\n",
       "      <td>8.106</td>\n",
       "      <td>0.422146</td>\n",
       "    </tr>\n",
       "    <tr>\n",
       "      <th>1</th>\n",
       "      <td>1.0</td>\n",
       "      <td>1.0</td>\n",
       "      <td>38.51</td>\n",
       "      <td>2.548</td>\n",
       "      <td>211.242170</td>\n",
       "      <td>8.106</td>\n",
       "      <td>1.005479</td>\n",
       "    </tr>\n",
       "    <tr>\n",
       "      <th>2</th>\n",
       "      <td>1.0</td>\n",
       "      <td>0.0</td>\n",
       "      <td>39.93</td>\n",
       "      <td>2.514</td>\n",
       "      <td>211.289143</td>\n",
       "      <td>8.106</td>\n",
       "      <td>0.218721</td>\n",
       "    </tr>\n",
       "    <tr>\n",
       "      <th>3</th>\n",
       "      <td>1.0</td>\n",
       "      <td>0.0</td>\n",
       "      <td>46.63</td>\n",
       "      <td>2.561</td>\n",
       "      <td>211.319643</td>\n",
       "      <td>8.106</td>\n",
       "      <td>0.237900</td>\n",
       "    </tr>\n",
       "    <tr>\n",
       "      <th>4</th>\n",
       "      <td>1.0</td>\n",
       "      <td>0.0</td>\n",
       "      <td>46.50</td>\n",
       "      <td>2.625</td>\n",
       "      <td>211.350143</td>\n",
       "      <td>8.106</td>\n",
       "      <td>0.424886</td>\n",
       "    </tr>\n",
       "  </tbody>\n",
       "</table>\n",
       "</div>"
      ],
      "text/plain": [
       "   Store  Holiday_Flag  Temperature  Fuel_Price         CPI  Unemployment  \\\n",
       "0    1.0           0.0        42.31       2.572  211.096358         8.106   \n",
       "1    1.0           1.0        38.51       2.548  211.242170         8.106   \n",
       "2    1.0           0.0        39.93       2.514  211.289143         8.106   \n",
       "3    1.0           0.0        46.63       2.561  211.319643         8.106   \n",
       "4    1.0           0.0        46.50       2.625  211.350143         8.106   \n",
       "\n",
       "       Year  \n",
       "0  0.422146  \n",
       "1  1.005479  \n",
       "2  0.218721  \n",
       "3  0.237900  \n",
       "4  0.424886  "
      ]
     },
     "execution_count": 15,
     "metadata": {},
     "output_type": "execute_result"
    }
   ],
   "source": [
    "x.head()"
   ]
  },
  {
   "cell_type": "code",
   "execution_count": 14,
   "metadata": {},
   "outputs": [
    {
     "data": {
      "text/plain": [
       "0    1643690.90\n",
       "1    1641957.44\n",
       "2    1611968.17\n",
       "3    1409727.59\n",
       "4    1554806.68\n",
       "Name: Weekly_Sales, dtype: float64"
      ]
     },
     "execution_count": 14,
     "metadata": {},
     "output_type": "execute_result"
    }
   ],
   "source": [
    "y.head()"
   ]
  },
  {
   "cell_type": "code",
   "execution_count": null,
   "metadata": {},
   "outputs": [
    {
     "name": "stdout",
     "output_type": "stream",
     "text": [
      "Оценки кросс-валидации с лучшей моделью: [ 0.0030215  -0.27409073 -0.31392674 -0.49163956 -1.05034942]\n",
      "Средняя оценка кросс-валидации: -0.4253969883484034\n"
     ]
    }
   ],
   "source": [
    "# Создание объекта модели\n",
    "model = LinearRegression()\n",
    "\n",
    "# Задание сетки параметров для поиска\n",
    "param_grid = {\n",
    "    'fit_intercept': [True, False],\n",
    "    \n",
    "}\n",
    "\n",
    "# Создание объекта GridSearchCV\n",
    "grid_search = GridSearchCV(estimator=model, param_grid=param_grid, cv=5)\n",
    "\n",
    "# Обучение модели с использованием поиска по сетке\n",
    "grid_search.fit(X, y)\n",
    "\n",
    "\n",
    "# Извлечение лучшей модели\n",
    "best_model = grid_search.best_estimator_\n",
    "\n",
    "\n",
    "cv_scores = cross_val_score(best_model, X, y, cv=5)\n",
    "\n",
    "# Оценка производительности модели на тестовом наборе данных\n",
    "accuracy = grid_search.best_estimator_.score(X, y)\n",
    "print(\"Оценки кросс-валидации с лучшей моделью:\", cv_scores)\n",
    "print(\"Средняя оценка кросс-валидации:\", cv_scores.mean())"
   ]
  },
  {
   "cell_type": "code",
   "execution_count": null,
   "metadata": {},
   "outputs": [
    {
     "name": "stdout",
     "output_type": "stream",
     "text": [
      "Оценки кросс-валидации с лучшей моделью: [8.67355083e+11 1.00375903e+12 4.28671852e+11 3.19279304e+11\n",
      " 9.01536485e+11]\n",
      "Среднее значение кросс-валидации: 704120350499.2673\n"
     ]
    }
   ],
   "source": [
    "# Создание объекта модели\n",
    "model = RandomForestRegressor(n_estimators=100, random_state=42)\n",
    "\n",
    "cv_scores = cross_val_score(model, X, y, cv=5, scoring='neg_mean_squared_error')\n",
    "# Преобразование отрицательных значений MSE в положительные значения\n",
    "mse_scores = -cv_scores\n",
    "\n",
    "# Вывод оценок кросс-валидации и их среднего значения\n",
    "print(\"Оценки кросс-валидации с лучшей моделью:\", mse_scores)\n",
    "print(\"Среднее значение кросс-валидации:\", mse_scores.mean())\n"
   ]
  },
  {
   "cell_type": "code",
   "execution_count": null,
   "metadata": {},
   "outputs": [
    {
     "name": "stdout",
     "output_type": "stream",
     "text": [
      "Оценки кросс-валидации (MSE): [5.54144435e+11 7.32533414e+11 3.50436173e+11 3.31362742e+11\n",
      " 5.56131016e+11]\n",
      "Среднее значение MSE: 504921556121.7004\n"
     ]
    }
   ],
   "source": [
    "# Создание модели градиентного бустинга\n",
    "gb_regressor = GradientBoostingRegressor(n_estimators=100, learning_rate=0.1, random_state=42)\n",
    "\n",
    "# Оценка производительности модели с помощью кросс-валидации\n",
    "cv_scores = cross_val_score(gb_regressor, X, y, cv=5, scoring='neg_mean_squared_error')\n",
    "\n",
    "# Преобразование отрицательных значений MSE в положительные значения\n",
    "mse_scores = -cv_scores\n",
    "\n",
    "# Вывод оценок кросс-валидации и их среднего значения\n",
    "print(\"Оценки кросс-валидации (MSE):\", mse_scores)\n",
    "print(\"Среднее значение MSE:\", mse_scores.mean())"
   ]
  },
  {
   "cell_type": "code",
   "execution_count": null,
   "metadata": {},
   "outputs": [
    {
     "name": "stdout",
     "output_type": "stream",
     "text": [
      "Linear Regression hyperparameters:\n",
      "{'copy_X': True, 'fit_intercept': True, 'n_jobs': None, 'positive': False}\n",
      "Ridge Regression hyperparameters:\n",
      "{'alpha': 1.0, 'copy_X': True, 'fit_intercept': True, 'max_iter': None, 'positive': False, 'random_state': None, 'solver': 'auto', 'tol': 0.0001}\n",
      "Lasso Regression hyperparameters:\n",
      "{'alpha': 1.0, 'copy_X': True, 'fit_intercept': True, 'max_iter': 1000, 'positive': False, 'precompute': False, 'random_state': None, 'selection': 'cyclic', 'tol': 0.0001, 'warm_start': False}\n",
      "Random Forest Regression hyperparameters:\n",
      "{'bootstrap': True, 'ccp_alpha': 0.0, 'criterion': 'squared_error', 'max_depth': None, 'max_features': 1.0, 'max_leaf_nodes': None, 'max_samples': None, 'min_impurity_decrease': 0.0, 'min_samples_leaf': 1, 'min_samples_split': 2, 'min_weight_fraction_leaf': 0.0, 'n_estimators': 100, 'n_jobs': None, 'oob_score': False, 'random_state': None, 'verbose': 0, 'warm_start': False}\n",
      "Gradient Boosting Regression hyperparameters:\n",
      "{'alpha': 0.9, 'ccp_alpha': 0.0, 'criterion': 'friedman_mse', 'init': None, 'learning_rate': 0.1, 'loss': 'squared_error', 'max_depth': 3, 'max_features': None, 'max_leaf_nodes': None, 'min_impurity_decrease': 0.0, 'min_samples_leaf': 1, 'min_samples_split': 2, 'min_weight_fraction_leaf': 0.0, 'n_estimators': 100, 'n_iter_no_change': None, 'random_state': None, 'subsample': 1.0, 'tol': 0.0001, 'validation_fraction': 0.1, 'verbose': 0, 'warm_start': False}\n",
      "SVR hyperparameters:\n",
      "{'C': 1.0, 'cache_size': 200, 'coef0': 0.0, 'degree': 3, 'epsilon': 0.1, 'gamma': 'scale', 'kernel': 'rbf', 'max_iter': -1, 'shrinking': True, 'tol': 0.001, 'verbose': False}\n"
     ]
    }
   ],
   "source": [
    "# Linear Regression\n",
    "linear_regression = LinearRegression()\n",
    "print(\"Linear Regression hyperparameters:\")\n",
    "print(linear_regression.get_params())\n",
    "\n",
    "# Ridge Regression\n",
    "ridge_regression = Ridge()\n",
    "print(\"Ridge Regression hyperparameters:\")\n",
    "print(ridge_regression.get_params())\n",
    "\n",
    "# Lasso Regression\n",
    "lasso_regression = Lasso()\n",
    "print(\"Lasso Regression hyperparameters:\")\n",
    "print(lasso_regression.get_params())\n",
    "\n",
    "# Random Forest Regression\n",
    "random_forest = RandomForestRegressor()\n",
    "print(\"Random Forest Regression hyperparameters:\")\n",
    "print(random_forest.get_params())\n",
    "\n",
    "# Gradient Boosting Regression\n",
    "gradient_boosting = GradientBoostingRegressor()\n",
    "print(\"Gradient Boosting Regression hyperparameters:\")\n",
    "print(gradient_boosting.get_params())\n",
    "\n",
    "# Support Vector Regression (SVR)\n",
    "svr = SVR()\n",
    "print(\"SVR hyperparameters:\")\n",
    "print(svr.get_params())"
   ]
  },
  {
   "cell_type": "markdown",
   "metadata": {},
   "source": [
    "спустя большое количетсво попытко с очень страными метриками я подумал что лучше всего попробовать найти и модель и ее параметры"
   ]
  },
  {
   "cell_type": "code",
   "execution_count": null,
   "metadata": {},
   "outputs": [
    {
     "name": "stdout",
     "output_type": "stream",
     "text": [
      "100%|██████████| 100/100 [44:17<00:00, 26.57s/trial, best loss: -695025.1461997401]  \n",
      "Лучшие гиперпараметры и модель: {'gb_learning_rate': 0.1976105559309828, 'gb_max_depth': 0, 'gb_n_estimators': 311, 'gb_subsample': 0.8322871730072593, 'model': 4}\n"
     ]
    }
   ],
   "source": [
    "from sklearn.metrics import make_scorer\n",
    "\n",
    "# Определение функции для оптимизации\n",
    "def optimize(params):\n",
    "    model = None\n",
    "    if params['model']['model'] == 'LinearRegression':\n",
    "        model = LinearRegression(**params['model']['params'])\n",
    "    elif params['model']['model'] == 'Ridge':\n",
    "        model = Ridge(**params['model']['params'])\n",
    "    elif params['model']['model'] == 'Lasso':\n",
    "        model = Lasso(**params['model']['params'])\n",
    "    elif params['model']['model'] == 'RandomForest':\n",
    "        model = RandomForestRegressor(**params['model']['params'], random_state=42)\n",
    "    elif params['model']['model'] == 'GradientBoosting':\n",
    "        model = GradientBoostingRegressor(**params['model']['params'], random_state=42)\n",
    "    elif params['model']['model'] == 'SVR':\n",
    "        model = SVR(**params['model']['params'])\n",
    "    \n",
    "    \n",
    "    def rmse(y_true, y_pred):\n",
    "        return np.sqrt(mean_squared_error(y_true, y_pred))\n",
    "    rmse_scorer = make_scorer(rmse, greater_is_better=False)   \n",
    "    # Выполнение кросс-валидации\n",
    "    mse_scores = cross_val_score(model, x, y, cv=5, scoring=rmse_scorer)\n",
    "    \n",
    "    \n",
    "\n",
    "\n",
    "\n",
    "    avg_mse = np.mean(mse_scores)\n",
    "    \n",
    "    return {'loss': avg_mse, 'status': STATUS_OK}\n",
    "\n",
    "# Определение пространства поиска гиперпараметров и моделей\n",
    "param_space = {\n",
    "    'model': hp.choice('model', [\n",
    "        {\n",
    "            'model': 'LinearRegression',\n",
    "            'params': {\n",
    "                'fit_intercept': hp.choice('lr_fit_intercept', [True, False]),\n",
    "                \n",
    "            }\n",
    "        },\n",
    "        {\n",
    "            'model': 'Ridge',\n",
    "            'params': {\n",
    "                'alpha': hp.uniform('ridge_alpha', 0.1, 2.0)\n",
    "            }\n",
    "        },\n",
    "        {\n",
    "            'model': 'Lasso',\n",
    "            'params': {\n",
    "                'alpha': hp.uniform('lasso_alpha', 0.1, 2.0)\n",
    "            }\n",
    "        },\n",
    "        {\n",
    "            'model': 'RandomForest',\n",
    "            'params': {\n",
    "                'n_estimators': hp.choice('rf_n_estimators', range(100, 1000)),\n",
    "                'max_depth': hp.choice('rf_max_depth', [5, 10, 20]),\n",
    "                'min_samples_split': hp.choice('rf_min_samples_split', [2, 5, 10])\n",
    "            }\n",
    "        },\n",
    "        {\n",
    "            'model': 'GradientBoosting',\n",
    "            'params': {\n",
    "                'n_estimators': hp.choice('gb_n_estimators', range(100, 1000)),\n",
    "                'learning_rate': hp.uniform('gb_learning_rate', 0.01, 0.2),\n",
    "                'max_depth': hp.choice('gb_max_depth', [3, 5, 7]),\n",
    "                'subsample': hp.uniform('gb_subsample', 0.5, 1)\n",
    "            }\n",
    "        },\n",
    "        {\n",
    "            'model': 'SVR',\n",
    "            'params': {\n",
    "                'C': hp.uniform('svr_C', 0.1, 2.0),\n",
    "                'kernel': hp.choice('svr_kernel', ['linear', 'rbf'])\n",
    "            }\n",
    "        }\n",
    "    ])\n",
    "}\n",
    "\n",
    "# Запуск процесса оптимизации\n",
    "trials = Trials()\n",
    "best_params = fmin(fn=optimize, space=param_space, algo=tpe.suggest, max_evals=100, trials=trials)\n",
    "\n",
    "print(\"Лучшие гиперпараметры и модель:\", best_params)"
   ]
  },
  {
   "cell_type": "markdown",
   "metadata": {},
   "source": [
    "Лучшие гиперпараметры и модель: {'model': 5, 'svr_C': 1.9970350315307233, 'svr_kernel': 1} при метрике nmse"
   ]
  },
  {
   "cell_type": "markdown",
   "metadata": {},
   "source": [
    "Лучшие гиперпараметры и модель: {'gb_learning_rate': 0.1649446580353066, 'gb_max_depth': 2, 'gb_n_estimators': 839, 'gb_subsample': 0.5040348698621966, 'model': 4} при метрике rmse спустя 31 минуту поиска"
   ]
  },
  {
   "cell_type": "markdown",
   "metadata": {},
   "source": [
    "Лучшие гиперпараметры и модель: {'gb_learning_rate': 0.1786689023119613, 'gb_max_depth': 2, 'gb_n_estimators': 608, 'gb_subsample': 0.5013566097870894, 'model': 4} при обновленном датасете за 34 минуты\n"
   ]
  },
  {
   "cell_type": "markdown",
   "metadata": {},
   "source": [
    "Лучшие гиперпараметры и модель: {'gb_learning_rate': 0.1976105559309828, 'gb_max_depth': 0, 'gb_n_estimators': 311, 'gb_subsample': 0.8322871730072593, 'model': 4} моя 4ая попытка на 40 минут поисков где я перед этим подправил данные"
   ]
  },
  {
   "cell_type": "code",
   "execution_count": null,
   "metadata": {},
   "outputs": [
    {
     "name": "stdout",
     "output_type": "stream",
     "text": [
      "Оценки кросс-валидации (RMSE): [-682376.55236947 -684164.67531221 -618949.83808112 -455317.43709286\n",
      " -480874.88216871]\n",
      "Среднее значение RMSE: -584336.6770048735\n"
     ]
    }
   ],
   "source": [
    "\n",
    "# Создание модели Support Vector Regression (SVR) с указанными гиперпараметрами\n",
    "svr_regressor = SVR(kernel='rbf', C=1.9970350315307233)  # Используем ядро 'rbf' и параметр C\n",
    "def rmse(y_true, y_pred):\n",
    "    return np.sqrt(mean_squared_error(y_true, y_pred))\n",
    "# Оценка производительности модели с помощью кросс-валидации\n",
    "\n",
    "rmse_scorer = make_scorer(rmse, greater_is_better=False)\n",
    "# Преобразование отрицательных значений MSE в положительные значения\n",
    "cv_scores = cross_val_score(svr_regressor, x, y, cv=5, scoring=rmse_scorer)\n",
    "\n",
    "# Вывод результатов кросс-валидации\n",
    "print(\"Оценки кросс-валидации (RMSE):\", cv_scores)\n",
    "print(\"Среднее значение RMSE:\", np.mean(cv_scores))"
   ]
  },
  {
   "cell_type": "code",
   "execution_count": null,
   "metadata": {},
   "outputs": [
    {
     "name": "stdout",
     "output_type": "stream",
     "text": [
      "Оценки кросс-валидации (RMSE): [-1026810.59160529  -836839.38502733  -524968.00460675  -560764.90542522\n",
      "  -513392.75914585]\n",
      "Среднее значение RMSE: -692555.1291620876\n"
     ]
    }
   ],
   "source": [
    "# Лучшие гиперпараметры для градиентного бустинга\n",
    "best_gb_params = {\n",
    "    'n_estimators': 839,\n",
    "    'learning_rate': 0.1649446580353066,\n",
    "    'max_depth': 2,\n",
    "    'subsample': 0.5040348698621966\n",
    "}\n",
    "\n",
    "# Создание модели градиентного бустинга с указанными гиперпараметрами\n",
    "gb_regressor = GradientBoostingRegressor(n_estimators=best_gb_params['n_estimators'],\n",
    "                                         learning_rate=best_gb_params['learning_rate'],\n",
    "                                         max_depth=best_gb_params['max_depth'],\n",
    "                                         subsample=best_gb_params['subsample'],\n",
    "                                         random_state=42)\n",
    "\n",
    "# Оценка производительности модели с помощью кросс-валидации\n",
    "def rmse(y_true, y_pred):\n",
    "    return np.sqrt(mean_squared_error(y_true, y_pred))\n",
    "\n",
    "rmse_scorer = make_scorer(rmse, greater_is_better=False)\n",
    "\n",
    "# Преобразование отрицательных значений MSE в положительные значения\n",
    "cv_scores = cross_val_score(gb_regressor, x, y, cv=5, scoring=rmse_scorer)\n",
    "\n",
    "# Вывод результатов кросс-валидации\n",
    "print(\"Оценки кросс-валидации (RMSE):\", cv_scores)\n",
    "print(\"Среднее значение RMSE:\", np.mean(cv_scores))"
   ]
  },
  {
   "cell_type": "code",
   "execution_count": null,
   "metadata": {},
   "outputs": [
    {
     "name": "stdout",
     "output_type": "stream",
     "text": [
      "Оценки кросс-валидации (RMSE): [-1009242.13713756  -788548.07418574  -596960.45330393  -538010.69070411\n",
      "  -505439.03005895]\n",
      "Среднее значение RMSE: -687640.0770780571\n"
     ]
    }
   ],
   "source": [
    "# Лучшие гиперпараметры для градиентного бустинга\n",
    "best_gb_params = {\n",
    "    'n_estimators': 311,\n",
    "    'learning_rate': 0.1976105559309828,\n",
    "    'max_depth': 1,\n",
    "    'subsample': 0.8322871730072593\n",
    "}\n",
    "\n",
    "# Создание модели градиентного бустинга с указанными гиперпараметрами\n",
    "gb_regressor = GradientBoostingRegressor(n_estimators=best_gb_params['n_estimators'],\n",
    "                                         learning_rate=best_gb_params['learning_rate'],\n",
    "                                         max_depth=best_gb_params['max_depth'],\n",
    "                                         subsample=best_gb_params['subsample'],\n",
    "                                         random_state=42)\n",
    "\n",
    "# Оценка производительности модели с помощью кросс-валидации\n",
    "def rmse(y_true, y_pred):\n",
    "    return np.sqrt(mean_squared_error(y_true, y_pred))\n",
    "\n",
    "rmse_scorer = make_scorer(rmse, greater_is_better=False)\n",
    "\n",
    "# Преобразование отрицательных значений MSE в положительные значения\n",
    "cv_scores = cross_val_score(gb_regressor, x, y, cv=5, scoring=rmse_scorer)\n",
    "\n",
    "# Вывод результатов кросс-валидации\n",
    "print(\"Оценки кросс-валидации (RMSE):\", cv_scores)\n",
    "print(\"Среднее значение RMSE:\", np.mean(cv_scores))"
   ]
  },
  {
   "cell_type": "markdown",
   "metadata": {},
   "source": [
    "Оценки кросс-валидации (RMSE): [-1009242.13713756  -788548.07418574  -596960.45330393  -538010.69070411\n",
    "  -505439.03005895]\n",
    "Среднее значение RMSE: -687640.0770780571 это лучшее значение что я смог получить,не знаю почему но даже подбром лушмх моделей и их параметров получилось так"
   ]
  },
  {
   "cell_type": "markdown",
   "metadata": {},
   "source": [
    "В итоге этого задания я изучил самые разные метрики оенки даже те о которых не слышал а также сам в удивление для себя вроде бы смог построить алгоритм по подбору моделе и их параметров вначале основывая на одной метрике NMSE ,после основываясь на метрике RMSE"
   ]
  },
  {
   "cell_type": "code",
   "execution_count": null,
   "metadata": {},
   "outputs": [],
   "source": [
    "import pickle\n",
    "\n",
    "# Сохранение модели в файл с помощью pickle\n",
    "with open('gb_regressor_model.pkl', 'wb') as f:\n",
    "    pickle.dump(gb_regressor, f)"
   ]
  },
  {
   "cell_type": "markdown",
   "metadata": {},
   "source": [
    "я сохранил модель gb_regressor_model"
   ]
  }
 ],
 "metadata": {
  "kernelspec": {
   "display_name": "Python 3",
   "language": "python",
   "name": "python3"
  },
  "language_info": {
   "codemirror_mode": {
    "name": "ipython",
    "version": 3
   },
   "file_extension": ".py",
   "mimetype": "text/x-python",
   "name": "python",
   "nbconvert_exporter": "python",
   "pygments_lexer": "ipython3",
   "version": "3.10.6"
  }
 },
 "nbformat": 4,
 "nbformat_minor": 2
}
