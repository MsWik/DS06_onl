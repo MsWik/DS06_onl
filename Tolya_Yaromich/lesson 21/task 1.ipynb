{
 "cells": [
  {
   "cell_type": "markdown",
   "metadata": {},
   "source": [
    "Работа с временными рядами.\n",
    "    \n",
    "Известно ежемесячное число смертей в результате несчастного случая в США с января 1973 по декабрь 1978, необходимо построить прогноз на следующие 2 года. Ожидаю в конце уидеть график.\n",
    "При выполнении работ напишите введение и вывод.Посторайтесь коментировать то что делаете. \n",
    "\n",
    "V1\n",
    "08.02.24\n",
    "Anatoly"
   ]
  },
  {
   "cell_type": "code",
   "execution_count": 54,
   "metadata": {},
   "outputs": [],
   "source": [
    "import numpy as np\n",
    "import pandas as pd\n",
    "\n",
    "\n",
    "file_path_test =\"C:/Users/qiarr/Desktop/task/lesson 21/accidental-deaths-in-usa-monthly.csv\"\n",
    "data = pd.read_csv(file_path_test, encoding='cp1251', )"
   ]
  },
  {
   "cell_type": "code",
   "execution_count": 55,
   "metadata": {},
   "outputs": [
    {
     "data": {
      "text/html": [
       "<div>\n",
       "<style scoped>\n",
       "    .dataframe tbody tr th:only-of-type {\n",
       "        vertical-align: middle;\n",
       "    }\n",
       "\n",
       "    .dataframe tbody tr th {\n",
       "        vertical-align: top;\n",
       "    }\n",
       "\n",
       "    .dataframe thead th {\n",
       "        text-align: right;\n",
       "    }\n",
       "</style>\n",
       "<table border=\"1\" class=\"dataframe\">\n",
       "  <thead>\n",
       "    <tr style=\"text-align: right;\">\n",
       "      <th></th>\n",
       "      <th>Month</th>\n",
       "      <th>Accidental deaths in USA: monthly, 1973 ? 1978</th>\n",
       "    </tr>\n",
       "  </thead>\n",
       "  <tbody>\n",
       "    <tr>\n",
       "      <th>0</th>\n",
       "      <td>1973-01</td>\n",
       "      <td>9007</td>\n",
       "    </tr>\n",
       "    <tr>\n",
       "      <th>1</th>\n",
       "      <td>1973-02</td>\n",
       "      <td>8106</td>\n",
       "    </tr>\n",
       "    <tr>\n",
       "      <th>2</th>\n",
       "      <td>1973-03</td>\n",
       "      <td>8928</td>\n",
       "    </tr>\n",
       "    <tr>\n",
       "      <th>3</th>\n",
       "      <td>1973-04</td>\n",
       "      <td>9137</td>\n",
       "    </tr>\n",
       "    <tr>\n",
       "      <th>4</th>\n",
       "      <td>1973-05</td>\n",
       "      <td>10017</td>\n",
       "    </tr>\n",
       "  </tbody>\n",
       "</table>\n",
       "</div>"
      ],
      "text/plain": [
       "     Month  Accidental deaths in USA: monthly, 1973 ? 1978\n",
       "0  1973-01                                            9007\n",
       "1  1973-02                                            8106\n",
       "2  1973-03                                            8928\n",
       "3  1973-04                                            9137\n",
       "4  1973-05                                           10017"
      ]
     },
     "execution_count": 55,
     "metadata": {},
     "output_type": "execute_result"
    }
   ],
   "source": [
    "data.head()"
   ]
  },
  {
   "cell_type": "code",
   "execution_count": 56,
   "metadata": {},
   "outputs": [
    {
     "name": "stdout",
     "output_type": "stream",
     "text": [
      "<class 'pandas.core.frame.DataFrame'>\n",
      "RangeIndex: 72 entries, 0 to 71\n",
      "Data columns (total 2 columns):\n",
      " #   Column                                          Non-Null Count  Dtype \n",
      "---  ------                                          --------------  ----- \n",
      " 0   Month                                           72 non-null     object\n",
      " 1   Accidental deaths in USA: monthly, 1973 ? 1978  72 non-null     int64 \n",
      "dtypes: int64(1), object(1)\n",
      "memory usage: 1.2+ KB\n"
     ]
    }
   ],
   "source": [
    "data.info()"
   ]
  },
  {
   "cell_type": "code",
   "execution_count": 57,
   "metadata": {},
   "outputs": [],
   "source": [
    "data['Date'] = pd.to_datetime(data['Month'], format='mixed')\n",
    "\n",
    "data['Month'] = data['Date'].dt.month.astype(dtype=np.float64)\n",
    "data['Year'] = data['Date'].dt.year.astype(dtype=np.float64)\n",
    "x = data[['Month', 'Year']]\n",
    "y = data[\"Accidental deaths in USA: monthly, 1973 ? 1978\"]"
   ]
  },
  {
   "cell_type": "code",
   "execution_count": 58,
   "metadata": {},
   "outputs": [
    {
     "data": {
      "text/html": [
       "<div>\n",
       "<style scoped>\n",
       "    .dataframe tbody tr th:only-of-type {\n",
       "        vertical-align: middle;\n",
       "    }\n",
       "\n",
       "    .dataframe tbody tr th {\n",
       "        vertical-align: top;\n",
       "    }\n",
       "\n",
       "    .dataframe thead th {\n",
       "        text-align: right;\n",
       "    }\n",
       "</style>\n",
       "<table border=\"1\" class=\"dataframe\">\n",
       "  <thead>\n",
       "    <tr style=\"text-align: right;\">\n",
       "      <th></th>\n",
       "      <th>Month</th>\n",
       "      <th>Accidental deaths in USA: monthly, 1973 ? 1978</th>\n",
       "      <th>Date</th>\n",
       "      <th>Year</th>\n",
       "    </tr>\n",
       "  </thead>\n",
       "  <tbody>\n",
       "    <tr>\n",
       "      <th>0</th>\n",
       "      <td>1.0</td>\n",
       "      <td>9007</td>\n",
       "      <td>1973-01-01</td>\n",
       "      <td>1973.0</td>\n",
       "    </tr>\n",
       "    <tr>\n",
       "      <th>1</th>\n",
       "      <td>2.0</td>\n",
       "      <td>8106</td>\n",
       "      <td>1973-02-01</td>\n",
       "      <td>1973.0</td>\n",
       "    </tr>\n",
       "    <tr>\n",
       "      <th>2</th>\n",
       "      <td>3.0</td>\n",
       "      <td>8928</td>\n",
       "      <td>1973-03-01</td>\n",
       "      <td>1973.0</td>\n",
       "    </tr>\n",
       "    <tr>\n",
       "      <th>3</th>\n",
       "      <td>4.0</td>\n",
       "      <td>9137</td>\n",
       "      <td>1973-04-01</td>\n",
       "      <td>1973.0</td>\n",
       "    </tr>\n",
       "    <tr>\n",
       "      <th>4</th>\n",
       "      <td>5.0</td>\n",
       "      <td>10017</td>\n",
       "      <td>1973-05-01</td>\n",
       "      <td>1973.0</td>\n",
       "    </tr>\n",
       "  </tbody>\n",
       "</table>\n",
       "</div>"
      ],
      "text/plain": [
       "   Month  Accidental deaths in USA: monthly, 1973 ? 1978       Date    Year\n",
       "0    1.0                                            9007 1973-01-01  1973.0\n",
       "1    2.0                                            8106 1973-02-01  1973.0\n",
       "2    3.0                                            8928 1973-03-01  1973.0\n",
       "3    4.0                                            9137 1973-04-01  1973.0\n",
       "4    5.0                                           10017 1973-05-01  1973.0"
      ]
     },
     "execution_count": 58,
     "metadata": {},
     "output_type": "execute_result"
    }
   ],
   "source": [
    "data.head()"
   ]
  },
  {
   "cell_type": "code",
   "execution_count": 59,
   "metadata": {},
   "outputs": [
    {
     "data": {
      "text/html": [
       "<div>\n",
       "<style scoped>\n",
       "    .dataframe tbody tr th:only-of-type {\n",
       "        vertical-align: middle;\n",
       "    }\n",
       "\n",
       "    .dataframe tbody tr th {\n",
       "        vertical-align: top;\n",
       "    }\n",
       "\n",
       "    .dataframe thead th {\n",
       "        text-align: right;\n",
       "    }\n",
       "</style>\n",
       "<table border=\"1\" class=\"dataframe\">\n",
       "  <thead>\n",
       "    <tr style=\"text-align: right;\">\n",
       "      <th></th>\n",
       "      <th>Month</th>\n",
       "      <th>Year</th>\n",
       "    </tr>\n",
       "  </thead>\n",
       "  <tbody>\n",
       "    <tr>\n",
       "      <th>0</th>\n",
       "      <td>1.0</td>\n",
       "      <td>1973.0</td>\n",
       "    </tr>\n",
       "    <tr>\n",
       "      <th>1</th>\n",
       "      <td>2.0</td>\n",
       "      <td>1973.0</td>\n",
       "    </tr>\n",
       "    <tr>\n",
       "      <th>2</th>\n",
       "      <td>3.0</td>\n",
       "      <td>1973.0</td>\n",
       "    </tr>\n",
       "    <tr>\n",
       "      <th>3</th>\n",
       "      <td>4.0</td>\n",
       "      <td>1973.0</td>\n",
       "    </tr>\n",
       "    <tr>\n",
       "      <th>4</th>\n",
       "      <td>5.0</td>\n",
       "      <td>1973.0</td>\n",
       "    </tr>\n",
       "  </tbody>\n",
       "</table>\n",
       "</div>"
      ],
      "text/plain": [
       "   Month    Year\n",
       "0    1.0  1973.0\n",
       "1    2.0  1973.0\n",
       "2    3.0  1973.0\n",
       "3    4.0  1973.0\n",
       "4    5.0  1973.0"
      ]
     },
     "execution_count": 59,
     "metadata": {},
     "output_type": "execute_result"
    }
   ],
   "source": [
    "x.head()\n"
   ]
  },
  {
   "cell_type": "code",
   "execution_count": 60,
   "metadata": {},
   "outputs": [
    {
     "data": {
      "text/plain": [
       "0     9007\n",
       "1     8106\n",
       "2     8928\n",
       "3     9137\n",
       "4    10017\n",
       "Name: Accidental deaths in USA: monthly, 1973 ? 1978, dtype: int64"
      ]
     },
     "execution_count": 60,
     "metadata": {},
     "output_type": "execute_result"
    }
   ],
   "source": [
    "y.head()"
   ]
  },
  {
   "cell_type": "code",
   "execution_count": 61,
   "metadata": {},
   "outputs": [],
   "source": [
    "from statsmodels.tsa.arima.model import ARIMA"
   ]
  },
  {
   "cell_type": "code",
   "execution_count": 62,
   "metadata": {},
   "outputs": [],
   "source": [
    "# Возьмем последние 10 значений для тестирования\n",
    "test_data = y[-10:]\n",
    "\n",
    "# Оставим остальные данные для обучения\n",
    "train_data = y[:-10]"
   ]
  },
  {
   "cell_type": "markdown",
   "metadata": {},
   "source": [
    "учитывая что даных в принипе не так много а как мы возьмем период в 10 месяцев"
   ]
  },
  {
   "cell_type": "code",
   "execution_count": 63,
   "metadata": {},
   "outputs": [],
   "source": [
    "model = ARIMA(train_data, order=(5,1,0)) # Подберите подходящие параметры (p,d,q) для вашего временного ряда\n",
    "model_fit = model.fit()\n",
    "\n",
    "# Прогнозирование\n",
    "forecast = model_fit.forecast(steps=10) # Прогноз для следующих 10 периодов\n"
   ]
  },
  {
   "cell_type": "code",
   "execution_count": 64,
   "metadata": {},
   "outputs": [
    {
     "name": "stdout",
     "output_type": "stream",
     "text": [
      "62    6915.704963\n",
      "63    6731.563893\n",
      "64    6986.742754\n",
      "65    6989.623176\n",
      "66    6927.383082\n",
      "67    6942.215903\n",
      "68    6879.595306\n",
      "69    6913.034119\n",
      "70    6913.207687\n",
      "71    6912.177023\n",
      "Name: predicted_mean, dtype: float64\n"
     ]
    }
   ],
   "source": [
    "print(forecast)"
   ]
  },
  {
   "cell_type": "code",
   "execution_count": 65,
   "metadata": {},
   "outputs": [
    {
     "data": {
      "text/plain": [
       "62     7791\n",
       "63     8129\n",
       "64     9115\n",
       "65     9434\n",
       "66    10484\n",
       "67     9827\n",
       "68     9110\n",
       "69     9070\n",
       "70     8633\n",
       "71     9240\n",
       "Name: Accidental deaths in USA: monthly, 1973 ? 1978, dtype: int64"
      ]
     },
     "execution_count": 65,
     "metadata": {},
     "output_type": "execute_result"
    }
   ],
   "source": [
    "test_data"
   ]
  },
  {
   "cell_type": "code",
   "execution_count": 66,
   "metadata": {},
   "outputs": [
    {
     "name": "stdout",
     "output_type": "stream",
     "text": [
      "MSE: 5219858.154648555\n"
     ]
    }
   ],
   "source": [
    "from sklearn.metrics import mean_squared_error, mean_absolute_error\n",
    "mse = mean_squared_error(test_data, forecast)\n",
    "print('MSE:', mse)"
   ]
  },
  {
   "cell_type": "code",
   "execution_count": 67,
   "metadata": {},
   "outputs": [
    {
     "name": "stdout",
     "output_type": "stream",
     "text": [
      "MAE: 2172.175209322529\n"
     ]
    }
   ],
   "source": [
    "mae = mean_absolute_error(test_data, forecast)\n",
    "print('MAE:', mae)\n"
   ]
  },
  {
   "cell_type": "markdown",
   "metadata": {},
   "source": [
    "метрики в данном случае получились уж слишуом большими"
   ]
  },
  {
   "cell_type": "code",
   "execution_count": 68,
   "metadata": {},
   "outputs": [
    {
     "name": "stdout",
     "output_type": "stream",
     "text": [
      "Performing stepwise search to minimize aic\n"
     ]
    },
    {
     "name": "stdout",
     "output_type": "stream",
     "text": [
      " ARIMA(1,1,1)(0,1,1)[12]             : AIC=716.458, Time=0.25 sec\n",
      " ARIMA(0,1,0)(0,1,0)[12]             : AIC=729.432, Time=0.01 sec\n",
      " ARIMA(1,1,0)(1,1,0)[12]             : AIC=718.958, Time=0.12 sec\n",
      " ARIMA(0,1,1)(0,1,1)[12]             : AIC=714.515, Time=0.20 sec\n",
      " ARIMA(0,1,1)(0,1,0)[12]             : AIC=722.833, Time=0.03 sec\n",
      " ARIMA(0,1,1)(1,1,1)[12]             : AIC=716.487, Time=0.31 sec\n",
      " ARIMA(0,1,1)(0,1,2)[12]             : AIC=716.471, Time=0.45 sec\n",
      " ARIMA(0,1,1)(1,1,0)[12]             : AIC=716.971, Time=0.11 sec\n",
      " ARIMA(0,1,1)(1,1,2)[12]             : AIC=inf, Time=0.65 sec\n",
      " ARIMA(0,1,0)(0,1,1)[12]             : AIC=inf, Time=0.07 sec\n",
      " ARIMA(0,1,2)(0,1,1)[12]             : AIC=716.444, Time=0.23 sec\n",
      " ARIMA(1,1,0)(0,1,1)[12]             : AIC=716.098, Time=0.15 sec\n",
      " ARIMA(1,1,2)(0,1,1)[12]             : AIC=inf, Time=0.37 sec\n",
      " ARIMA(0,1,1)(0,1,1)[12] intercept   : AIC=716.261, Time=0.33 sec\n",
      "\n",
      "Best model:  ARIMA(0,1,1)(0,1,1)[12]          \n",
      "Total fit time: 3.276 seconds\n",
      "62     7703.387961\n",
      "63     7937.326994\n",
      "64     8765.294120\n",
      "65     9163.448361\n",
      "66    10250.933747\n",
      "67     9249.466844\n",
      "68     8172.377941\n",
      "69     8610.895982\n",
      "70     8062.451867\n",
      "71     8489.095959\n",
      "dtype: float64\n"
     ]
    }
   ],
   "source": [
    "from pmdarima import auto_arima\n",
    "\n",
    "# Подбор оптимальных параметров\n",
    "model = auto_arima(train_data, start_p=1, start_q=1,\n",
    "                    max_p=3, max_q=3, m=12,\n",
    "                    start_P=0, seasonal=True,\n",
    "                    d=1, D=1, trace=True,\n",
    "                    error_action='ignore',  \n",
    "                    suppress_warnings=True, \n",
    "                    stepwise=True)\n",
    "\n",
    "# Обучение модели с найденными параметрами\n",
    "# Прогнозирование\n",
    "forecast1 = model.predict(n_periods=10)  # Прогноз для следующих 10 периодов\n",
    "\n",
    "print(forecast1)"
   ]
  },
  {
   "cell_type": "code",
   "execution_count": 69,
   "metadata": {},
   "outputs": [
    {
     "name": "stdout",
     "output_type": "stream",
     "text": [
      "MSE: 260706.49038660462\n",
      "MAE: 442.8320225021627\n"
     ]
    }
   ],
   "source": [
    "\n",
    "mse = mean_squared_error(test_data, forecast1)\n",
    "print('MSE:', mse)\n",
    "mae = mean_absolute_error(test_data, forecast1)\n",
    "print('MAE:', mae)"
   ]
  },
  {
   "cell_type": "markdown",
   "metadata": {},
   "source": [
    "MAE довольно мала так что результат более чем удовлетворительный"
   ]
  },
  {
   "cell_type": "markdown",
   "metadata": {},
   "source": [
    "Поиск настроек для ARIMA показал хорошие результаты ,меня заинтересовал способ найти лучшуу метрику MAE для данного датасета с помощью mamba поэтому возможно я обновлю задание позже с использованием данного способа "
   ]
  }
 ],
 "metadata": {
  "kernelspec": {
   "display_name": "Python 3",
   "language": "python",
   "name": "python3"
  },
  "language_info": {
   "codemirror_mode": {
    "name": "ipython",
    "version": 3
   },
   "file_extension": ".py",
   "mimetype": "text/x-python",
   "name": "python",
   "nbconvert_exporter": "python",
   "pygments_lexer": "ipython3",
   "version": "3.10.6"
  }
 },
 "nbformat": 4,
 "nbformat_minor": 2
}
