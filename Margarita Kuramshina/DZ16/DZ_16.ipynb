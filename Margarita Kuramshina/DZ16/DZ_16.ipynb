{
 "cells": [
  {
   "cell_type": "markdown",
   "id": "5d366693-d8a4-4280-8fee-b79a10ff9156",
   "metadata": {},
   "source": [
    "Margarita K.\n",
    "\n",
    "14.01.2024\n",
    "\n",
    "v 1"
   ]
  },
  {
   "cell_type": "markdown",
   "id": "95e7edce-3e17-4649-b052-5eabd18bf816",
   "metadata": {},
   "source": [
    "# ТЕКСТ ДОМАШНЕГО ЗАДАНИЯ:\n",
    "\n",
    "Уменшить размерность векторного представления слов текстуальных данных. Построить графики уменьшения размерности\n",
    "1. Загрузка текстового файла из корневого каталога.\r\n",
    "2. Обработка текстовых данных.\r\n",
    "3. Понижение размерности текстовых данных.\r\n",
    "4. Построить график объема информации. "
   ]
  },
  {
   "cell_type": "code",
   "execution_count": 3,
   "id": "e20b25e3-f1e5-4f42-959f-c93a6d08c423",
   "metadata": {},
   "outputs": [],
   "source": [
    "import numpy as np\n",
    "import pandas as pd\n",
    "\n",
    "pd.set_option('display.notebook_repr_html', True)\n",
    "pd.set_option('display.max_columns', 8)\n",
    "pd.set_option('display.max_rows', 10)\n",
    "pd.set_option('display.width', 80)\n",
    "\n",
    "import re\n",
    "import string\n",
    "from collections import Counter\n",
    "import gc\n",
    "\n",
    "import spacy \n",
    "from spacy.lang.en import English\n",
    "from spacy.lang.en.stop_words import STOP_WORDS\n",
    "\n",
    "from sklearn.feature_extraction.text import TfidfVectorizer\n",
    "from sklearn.decomposition import PCA\n",
    "from sklearn.preprocessing import scale\n",
    "\n",
    "from IPython.core.interactiveshell import InteractiveShell \n",
    "InteractiveShell.ast_node_interactivity = \"all\"\n",
    "\n",
    "import matplotlib.pyplot as plt\n",
    "%matplotlib inline"
   ]
  },
  {
   "cell_type": "code",
   "execution_count": 4,
   "id": "e04878f4-080f-444d-8533-be1f36f7c471",
   "metadata": {},
   "outputs": [],
   "source": [
    "nlp = spacy.load(\"en_core_web_lg\")"
   ]
  },
  {
   "cell_type": "code",
   "execution_count": 5,
   "id": "f970fd88-2708-4a0d-a32a-0682949763be",
   "metadata": {},
   "outputs": [],
   "source": [
    "def preproc(filename):\n",
    "    '''\n",
    "    Функция принимает название файла filename и возвращает:\n",
    "    - список слов после удаления пунктуации и стоп-слов, лемматизации;\n",
    "    - словарь уникальных слов (keys) и их частоту (values) с тексте.\n",
    "    '''    \n",
    "    with open(filename, encoding=\"ISO-8859-1\") as f:\n",
    "        text = f.read()\n",
    "    \n",
    "    stop_words = spacy.lang.en.stop_words.STOP_WORDS\n",
    "    punctuations = string.punctuation\n",
    "\n",
    "    doc = nlp(text)\n",
    "\n",
    "    text_lemm = [word.lemma_.lower().strip() if \n",
    "                 word.lemma_ != \"-PRON-\" else \n",
    "                 word.lower_ for word in doc] #if not pronoun lemmatized form of the word in lowercase with removed spacs from both sides, if pronoun word is converted lowercase\n",
    "    \n",
    "    text_clear = [word for word in text_lemm if \n",
    "                  word not in stop_words and \n",
    "                  word not in punctuations] #removing stop words and puntuation\n",
    "    \n",
    "    count_words = Counter(text_clear)  #counts occurrences of each unique word in text_clear\n",
    "    \n",
    "    print('Количество слов в тексте: '\n",
    "          '{}.'.format(len(text_clear)))\n",
    "    print('Количество уникальных слов в тексте: '\n",
    "          '{}.\\n'.format(len(count_words)))\n",
    "    \n",
    "    return text_clear, count_words"
   ]
  },
  {
   "cell_type": "code",
   "execution_count": 6,
   "id": "8efee9e5-d53a-4220-b7e9-378486c45b2d",
   "metadata": {},
   "outputs": [],
   "source": [
    "with open(\"Literature_review.txt\", encoding=\"ISO-8859-1\") as f:\n",
    "        text = f.read()\n",
    "doc = nlp(text)"
   ]
  },
  {
   "cell_type": "code",
   "execution_count": 7,
   "id": "4abe9967-e7ea-4047-bcf0-841c687690ff",
   "metadata": {},
   "outputs": [
    {
     "name": "stdout",
     "output_type": "stream",
     "text": [
      "Количество слов в тексте: 315.\n",
      "Количество уникальных слов в тексте: 207.\n",
      "\n"
     ]
    }
   ],
   "source": [
    "my_text, count_words = preproc('Literature_review.txt')"
   ]
  },
  {
   "cell_type": "code",
   "execution_count": 8,
   "id": "b63a4a85-5738-49c8-a4e6-5d4830345e27",
   "metadata": {},
   "outputs": [],
   "source": [
    "def get_word_vectors(words):\n",
    "    '''\n",
    "    Функция конвертирует список слов в их векторное представление\n",
    "    '''\n",
    "    ar = []\n",
    "    for i in words:\n",
    "        ar.append(nlp(i).vector)\n",
    "    return ar\n",
    "\n",
    "word_vector_list = get_word_vectors(my_text)"
   ]
  },
  {
   "cell_type": "code",
   "execution_count": 9,
   "id": "e7dfce99-492b-40e4-a982-4155b1eb5a6a",
   "metadata": {},
   "outputs": [
    {
     "data": {
      "text/plain": [
       "300"
      ]
     },
     "execution_count": 9,
     "metadata": {},
     "output_type": "execute_result"
    }
   ],
   "source": [
    "np.size(word_vector_list[0])"
   ]
  },
  {
   "cell_type": "code",
   "execution_count": 10,
   "id": "e2a03fde-ffae-4d79-a9b5-7725350fbccf",
   "metadata": {},
   "outputs": [],
   "source": [
    "words = np.array(word_vector_list) #creating numpy array from list"
   ]
  },
  {
   "cell_type": "code",
   "execution_count": 11,
   "id": "e2f948c5-add2-4c4a-8a06-3e9db2f453cb",
   "metadata": {},
   "outputs": [
    {
     "data": {
      "image/png": "[encoded data removed]",
      "text/plain": [
       "<Figure size 640x480 with 1 Axes>"
      ]
     },
     "metadata": {},
     "output_type": "display_data"
    }
   ],
   "source": [
    "pca = PCA().fit(words) #PCA on data matrix\n",
    "plt.xticks(np.arange(0, 300, 25)) #setting the rsnge for x-axis\n",
    "plt.grid(True) #display a grid on plot\n",
    "plt.plot(np.cumsum(pca.explained_variance_ratio_)) # create a scree plot of cumulative explained variance of the principal components from PCA\n",
    "plt.xlabel('number of components') #label for x-axis\n",
    "plt.ylabel('cumulative explained variance'); #label for y-axis"
   ]
  },
  {
   "cell_type": "markdown",
   "id": "c5667971-f572-434f-8b1a-ae35d4da1a15",
   "metadata": {},
   "source": [
    "100% of information can be explained using 150 components"
   ]
  }
 ],
 "metadata": {
  "kernelspec": {
   "display_name": "Python 3 (ipykernel)",
   "language": "python",
   "name": "python3"
  },
  "language_info": {
   "codemirror_mode": {
    "name": "ipython",
    "version": 3
   },
   "file_extension": ".py",
   "mimetype": "text/x-python",
   "name": "python",
   "nbconvert_exporter": "python",
   "pygments_lexer": "ipython3",
   "version": "3.11.5"
  }
 },
 "nbformat": 4,
 "nbformat_minor": 5
}
