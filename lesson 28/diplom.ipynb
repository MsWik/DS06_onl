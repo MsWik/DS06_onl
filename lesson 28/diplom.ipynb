{
 "cells": [
  {
   "cell_type": "code",
   "execution_count": 4,
   "metadata": {},
   "outputs": [
    {
     "name": "stdout",
     "output_type": "stream",
     "text": [
      "Cuda version: 2.16.1\n",
      "Num GPUs Available:  0\n"
     ]
    }
   ],
   "source": [
    "import tensorflow as tf\n",
    "import pandas as pd\n",
    "import pandas as pd\n",
    "from matplotlib import pyplot as plt\n",
    "import numpy as np\n",
    "from keras.utils import to_categorical\n",
    "\n",
    "from keras.utils import pad_sequences\n",
    "from keras import models\n",
    "from keras import Sequential\n",
    "from keras import layers\n",
    "from keras.callbacks import ModelCheckpoint\n",
    "from keras import optimizers\n",
    "from keras.metrics import AUC\n",
    "from keras.regularizers import L1\n",
    "import nltk\n",
    "from nltk.corpus import stopwords\n",
    "from nltk.stem import WordNetLemmatizer\n",
    "from bs4 import BeautifulSoup \n",
    "import re\n",
    "\n",
    "RANDOM_STATE = 42\n",
    "\n",
    "print('Cuda version: ' + tf.__version__)\n",
    "print(\"Num GPUs Available: \", len(tf.config.list_physical_devices('GPU')))"
   ]
  },
  {
   "cell_type": "code",
   "execution_count": 2,
   "metadata": {},
   "outputs": [
    {
     "data": {
      "text/plain": [
       "'2.16.1'"
      ]
     },
     "execution_count": 2,
     "metadata": {},
     "output_type": "execute_result"
    }
   ],
   "source": [
    "tf.__version__"
   ]
  },
  {
   "cell_type": "code",
   "execution_count": 3,
   "metadata": {},
   "outputs": [
    {
     "ename": "KeyboardInterrupt",
     "evalue": "",
     "output_type": "error",
     "traceback": [
      "\u001b[1;31m---------------------------------------------------------------------------\u001b[0m",
      "\u001b[1;31mKeyboardInterrupt\u001b[0m                         Traceback (most recent call last)",
      "Cell \u001b[1;32mIn[3], line 5\u001b[0m\n\u001b[0;32m      2\u001b[0m \u001b[38;5;28;01mimport\u001b[39;00m \u001b[38;5;21;01mstring\u001b[39;00m\n\u001b[0;32m      4\u001b[0m \u001b[38;5;66;03m# Открываем файл Excel\u001b[39;00m\n\u001b[1;32m----> 5\u001b[0m workbook \u001b[38;5;241m=\u001b[39m \u001b[43mopenpyxl\u001b[49m\u001b[38;5;241;43m.\u001b[39;49m\u001b[43mload_workbook\u001b[49m\u001b[43m(\u001b[49m\u001b[38;5;124;43m'\u001b[39;49m\u001b[38;5;124;43mdata.xlsx\u001b[39;49m\u001b[38;5;124;43m'\u001b[39;49m\u001b[43m)\u001b[49m\n\u001b[0;32m      7\u001b[0m \u001b[38;5;66;03m# Выбираем активный лист\u001b[39;00m\n\u001b[0;32m      8\u001b[0m sheet \u001b[38;5;241m=\u001b[39m workbook\u001b[38;5;241m.\u001b[39mactive\n",
      "File \u001b[1;32mc:\\Users\\anon\\AppData\\Local\\Programs\\Python\\Python310\\lib\\site-packages\\openpyxl\\reader\\excel.py:346\u001b[0m, in \u001b[0;36mload_workbook\u001b[1;34m(filename, read_only, keep_vba, data_only, keep_links, rich_text)\u001b[0m\n\u001b[0;32m    316\u001b[0m \u001b[38;5;250m\u001b[39m\u001b[38;5;124;03m\"\"\"Open the given filename and return the workbook\u001b[39;00m\n\u001b[0;32m    317\u001b[0m \n\u001b[0;32m    318\u001b[0m \u001b[38;5;124;03m:param filename: the path to open or a file-like object\u001b[39;00m\n\u001b[1;32m   (...)\u001b[0m\n\u001b[0;32m    342\u001b[0m \n\u001b[0;32m    343\u001b[0m \u001b[38;5;124;03m\"\"\"\u001b[39;00m\n\u001b[0;32m    344\u001b[0m reader \u001b[38;5;241m=\u001b[39m ExcelReader(filename, read_only, keep_vba,\n\u001b[0;32m    345\u001b[0m                      data_only, keep_links, rich_text)\n\u001b[1;32m--> 346\u001b[0m \u001b[43mreader\u001b[49m\u001b[38;5;241;43m.\u001b[39;49m\u001b[43mread\u001b[49m\u001b[43m(\u001b[49m\u001b[43m)\u001b[49m\n\u001b[0;32m    347\u001b[0m \u001b[38;5;28;01mreturn\u001b[39;00m reader\u001b[38;5;241m.\u001b[39mwb\n",
      "File \u001b[1;32mc:\\Users\\anon\\AppData\\Local\\Programs\\Python\\Python310\\lib\\site-packages\\openpyxl\\reader\\excel.py:301\u001b[0m, in \u001b[0;36mExcelReader.read\u001b[1;34m(self)\u001b[0m\n\u001b[0;32m    299\u001b[0m apply_stylesheet(\u001b[38;5;28mself\u001b[39m\u001b[38;5;241m.\u001b[39marchive, \u001b[38;5;28mself\u001b[39m\u001b[38;5;241m.\u001b[39mwb)\n\u001b[0;32m    300\u001b[0m action \u001b[38;5;241m=\u001b[39m \u001b[38;5;124m\"\u001b[39m\u001b[38;5;124mread worksheets\u001b[39m\u001b[38;5;124m\"\u001b[39m\n\u001b[1;32m--> 301\u001b[0m \u001b[38;5;28;43mself\u001b[39;49m\u001b[38;5;241;43m.\u001b[39;49m\u001b[43mread_worksheets\u001b[49m\u001b[43m(\u001b[49m\u001b[43m)\u001b[49m\n\u001b[0;32m    302\u001b[0m action \u001b[38;5;241m=\u001b[39m \u001b[38;5;124m\"\u001b[39m\u001b[38;5;124massign names\u001b[39m\u001b[38;5;124m\"\u001b[39m\n\u001b[0;32m    303\u001b[0m \u001b[38;5;28mself\u001b[39m\u001b[38;5;241m.\u001b[39mparser\u001b[38;5;241m.\u001b[39massign_names()\n",
      "File \u001b[1;32mc:\\Users\\anon\\AppData\\Local\\Programs\\Python\\Python310\\lib\\site-packages\\openpyxl\\reader\\excel.py:237\u001b[0m, in \u001b[0;36mExcelReader.read_worksheets\u001b[1;34m(self)\u001b[0m\n\u001b[0;32m    235\u001b[0m     ws\u001b[38;5;241m.\u001b[39m_rels \u001b[38;5;241m=\u001b[39m rels\n\u001b[0;32m    236\u001b[0m     ws_parser \u001b[38;5;241m=\u001b[39m WorksheetReader(ws, fh, \u001b[38;5;28mself\u001b[39m\u001b[38;5;241m.\u001b[39mshared_strings, \u001b[38;5;28mself\u001b[39m\u001b[38;5;241m.\u001b[39mdata_only, \u001b[38;5;28mself\u001b[39m\u001b[38;5;241m.\u001b[39mrich_text)\n\u001b[1;32m--> 237\u001b[0m     \u001b[43mws_parser\u001b[49m\u001b[38;5;241;43m.\u001b[39;49m\u001b[43mbind_all\u001b[49m\u001b[43m(\u001b[49m\u001b[43m)\u001b[49m\n\u001b[0;32m    239\u001b[0m \u001b[38;5;66;03m# assign any comments to cells\u001b[39;00m\n\u001b[0;32m    240\u001b[0m \u001b[38;5;28;01mfor\u001b[39;00m r \u001b[38;5;129;01min\u001b[39;00m rels\u001b[38;5;241m.\u001b[39mfind(COMMENTS_NS):\n",
      "File \u001b[1;32mc:\\Users\\anon\\AppData\\Local\\Programs\\Python\\Python310\\lib\\site-packages\\openpyxl\\worksheet\\_reader.py:465\u001b[0m, in \u001b[0;36mWorksheetReader.bind_all\u001b[1;34m(self)\u001b[0m\n\u001b[0;32m    464\u001b[0m \u001b[38;5;28;01mdef\u001b[39;00m \u001b[38;5;21mbind_all\u001b[39m(\u001b[38;5;28mself\u001b[39m):\n\u001b[1;32m--> 465\u001b[0m     \u001b[38;5;28;43mself\u001b[39;49m\u001b[38;5;241;43m.\u001b[39;49m\u001b[43mbind_cells\u001b[49m\u001b[43m(\u001b[49m\u001b[43m)\u001b[49m\n\u001b[0;32m    466\u001b[0m     \u001b[38;5;28mself\u001b[39m\u001b[38;5;241m.\u001b[39mbind_merged_cells()\n\u001b[0;32m    467\u001b[0m     \u001b[38;5;28mself\u001b[39m\u001b[38;5;241m.\u001b[39mbind_hyperlinks()\n",
      "File \u001b[1;32mc:\\Users\\anon\\AppData\\Local\\Programs\\Python\\Python310\\lib\\site-packages\\openpyxl\\worksheet\\_reader.py:368\u001b[0m, in \u001b[0;36mWorksheetReader.bind_cells\u001b[1;34m(self)\u001b[0m\n\u001b[0;32m    367\u001b[0m \u001b[38;5;28;01mdef\u001b[39;00m \u001b[38;5;21mbind_cells\u001b[39m(\u001b[38;5;28mself\u001b[39m):\n\u001b[1;32m--> 368\u001b[0m     \u001b[38;5;28;01mfor\u001b[39;00m idx, row \u001b[38;5;129;01min\u001b[39;00m \u001b[38;5;28mself\u001b[39m\u001b[38;5;241m.\u001b[39mparser\u001b[38;5;241m.\u001b[39mparse():\n\u001b[0;32m    369\u001b[0m         \u001b[38;5;28;01mfor\u001b[39;00m cell \u001b[38;5;129;01min\u001b[39;00m row:\n\u001b[0;32m    370\u001b[0m             style \u001b[38;5;241m=\u001b[39m \u001b[38;5;28mself\u001b[39m\u001b[38;5;241m.\u001b[39mws\u001b[38;5;241m.\u001b[39mparent\u001b[38;5;241m.\u001b[39m_cell_styles[cell[\u001b[38;5;124m'\u001b[39m\u001b[38;5;124mstyle_id\u001b[39m\u001b[38;5;124m'\u001b[39m]]\n",
      "File \u001b[1;32mc:\\Users\\anon\\AppData\\Local\\Programs\\Python\\Python310\\lib\\site-packages\\openpyxl\\worksheet\\_reader.py:156\u001b[0m, in \u001b[0;36mWorkSheetParser.parse\u001b[1;34m(self)\u001b[0m\n\u001b[0;32m    137\u001b[0m properties \u001b[38;5;241m=\u001b[39m {\n\u001b[0;32m    138\u001b[0m     PRINT_TAG: (\u001b[38;5;124m'\u001b[39m\u001b[38;5;124mprint_options\u001b[39m\u001b[38;5;124m'\u001b[39m, PrintOptions),\n\u001b[0;32m    139\u001b[0m     MARGINS_TAG: (\u001b[38;5;124m'\u001b[39m\u001b[38;5;124mpage_margins\u001b[39m\u001b[38;5;124m'\u001b[39m, PageMargins),\n\u001b[1;32m   (...)\u001b[0m\n\u001b[0;32m    151\u001b[0m \n\u001b[0;32m    152\u001b[0m }\n\u001b[0;32m    154\u001b[0m it \u001b[38;5;241m=\u001b[39m iterparse(\u001b[38;5;28mself\u001b[39m\u001b[38;5;241m.\u001b[39msource) \u001b[38;5;66;03m# add a finaliser to close the source when this becomes possible\u001b[39;00m\n\u001b[1;32m--> 156\u001b[0m \u001b[38;5;28;01mfor\u001b[39;00m _, element \u001b[38;5;129;01min\u001b[39;00m it:\n\u001b[0;32m    157\u001b[0m     tag_name \u001b[38;5;241m=\u001b[39m element\u001b[38;5;241m.\u001b[39mtag\n\u001b[0;32m    158\u001b[0m     \u001b[38;5;28;01mif\u001b[39;00m tag_name \u001b[38;5;129;01min\u001b[39;00m dispatcher:\n",
      "File \u001b[1;32mc:\\Users\\anon\\AppData\\Local\\Programs\\Python\\Python310\\lib\\xml\\etree\\ElementTree.py:1258\u001b[0m, in \u001b[0;36miterparse.<locals>.iterator\u001b[1;34m(source)\u001b[0m\n\u001b[0;32m   1256\u001b[0m     \u001b[38;5;28;01mif\u001b[39;00m \u001b[38;5;129;01mnot\u001b[39;00m data:\n\u001b[0;32m   1257\u001b[0m         \u001b[38;5;28;01mbreak\u001b[39;00m\n\u001b[1;32m-> 1258\u001b[0m     \u001b[43mpullparser\u001b[49m\u001b[38;5;241;43m.\u001b[39;49m\u001b[43mfeed\u001b[49m\u001b[43m(\u001b[49m\u001b[43mdata\u001b[49m\u001b[43m)\u001b[49m\n\u001b[0;32m   1259\u001b[0m root \u001b[38;5;241m=\u001b[39m pullparser\u001b[38;5;241m.\u001b[39m_close_and_return_root()\n\u001b[0;32m   1260\u001b[0m \u001b[38;5;28;01myield from\u001b[39;00m pullparser\u001b[38;5;241m.\u001b[39mread_events()\n",
      "File \u001b[1;32mc:\\Users\\anon\\AppData\\Local\\Programs\\Python\\Python310\\lib\\xml\\etree\\ElementTree.py:1296\u001b[0m, in \u001b[0;36mXMLPullParser.feed\u001b[1;34m(self, data)\u001b[0m\n\u001b[0;32m   1294\u001b[0m \u001b[38;5;28;01mif\u001b[39;00m data:\n\u001b[0;32m   1295\u001b[0m     \u001b[38;5;28;01mtry\u001b[39;00m:\n\u001b[1;32m-> 1296\u001b[0m         \u001b[38;5;28;43mself\u001b[39;49m\u001b[38;5;241;43m.\u001b[39;49m\u001b[43m_parser\u001b[49m\u001b[38;5;241;43m.\u001b[39;49m\u001b[43mfeed\u001b[49m\u001b[43m(\u001b[49m\u001b[43mdata\u001b[49m\u001b[43m)\u001b[49m\n\u001b[0;32m   1297\u001b[0m     \u001b[38;5;28;01mexcept\u001b[39;00m \u001b[38;5;167;01mSyntaxError\u001b[39;00m \u001b[38;5;28;01mas\u001b[39;00m exc:\n\u001b[0;32m   1298\u001b[0m         \u001b[38;5;28mself\u001b[39m\u001b[38;5;241m.\u001b[39m_events_queue\u001b[38;5;241m.\u001b[39mappend(exc)\n",
      "File \u001b[1;32mc:\\Users\\anon\\AppData\\Local\\Programs\\Python\\Python310\\lib\\xml\\etree\\ElementTree.py:1713\u001b[0m, in \u001b[0;36mXMLParser.feed\u001b[1;34m(self, data)\u001b[0m\n\u001b[0;32m   1711\u001b[0m \u001b[38;5;250m\u001b[39m\u001b[38;5;124;03m\"\"\"Feed encoded data to parser.\"\"\"\u001b[39;00m\n\u001b[0;32m   1712\u001b[0m \u001b[38;5;28;01mtry\u001b[39;00m:\n\u001b[1;32m-> 1713\u001b[0m     \u001b[38;5;28;43mself\u001b[39;49m\u001b[38;5;241;43m.\u001b[39;49m\u001b[43mparser\u001b[49m\u001b[38;5;241;43m.\u001b[39;49m\u001b[43mParse\u001b[49m\u001b[43m(\u001b[49m\u001b[43mdata\u001b[49m\u001b[43m,\u001b[49m\u001b[43m \u001b[49m\u001b[38;5;28;43;01mFalse\u001b[39;49;00m\u001b[43m)\u001b[49m\n\u001b[0;32m   1714\u001b[0m \u001b[38;5;28;01mexcept\u001b[39;00m \u001b[38;5;28mself\u001b[39m\u001b[38;5;241m.\u001b[39m_error \u001b[38;5;28;01mas\u001b[39;00m v:\n\u001b[0;32m   1715\u001b[0m     \u001b[38;5;28mself\u001b[39m\u001b[38;5;241m.\u001b[39m_raiseerror(v)\n",
      "File \u001b[1;32mD:\\a\\1\\s\\Modules\\pyexpat.c:416\u001b[0m, in \u001b[0;36mStartElement\u001b[1;34m()\u001b[0m\n",
      "File \u001b[1;32mc:\\Users\\anon\\AppData\\Local\\Programs\\Python\\Python310\\lib\\xml\\etree\\ElementTree.py:1648\u001b[0m, in \u001b[0;36mXMLParser._start\u001b[1;34m(self, tag, attr_list)\u001b[0m\n\u001b[0;32m   1646\u001b[0m tag \u001b[38;5;241m=\u001b[39m fixname(tag)\n\u001b[0;32m   1647\u001b[0m attrib \u001b[38;5;241m=\u001b[39m {}\n\u001b[1;32m-> 1648\u001b[0m \u001b[38;5;28;01mif\u001b[39;00m attr_list:\n\u001b[0;32m   1649\u001b[0m     \u001b[38;5;28;01mfor\u001b[39;00m i \u001b[38;5;129;01min\u001b[39;00m \u001b[38;5;28mrange\u001b[39m(\u001b[38;5;241m0\u001b[39m, \u001b[38;5;28mlen\u001b[39m(attr_list), \u001b[38;5;241m2\u001b[39m):\n\u001b[0;32m   1650\u001b[0m         attrib[fixname(attr_list[i])] \u001b[38;5;241m=\u001b[39m attr_list[i\u001b[38;5;241m+\u001b[39m\u001b[38;5;241m1\u001b[39m]\n",
      "\u001b[1;31mKeyboardInterrupt\u001b[0m: "
     ]
    }
   ],
   "source": [
    "import openpyxl\n",
    "import string\n",
    "\n",
    "# Открываем файл Excel\n",
    "workbook = openpyxl.load_workbook('data.xlsx')\n",
    "\n",
    "# Выбираем активный лист\n",
    "sheet = workbook.active\n",
    "\n",
    "# Проходимся по всем ячейкам в листе\n",
    "for row in sheet.iter_rows():\n",
    "    for cell in row:\n",
    "        # Проверяем, является ли значение ячейки строкой\n",
    "        if isinstance(cell.value, str):\n",
    "            # Удаляем знаки препинания из строки\n",
    "            cell.value = ''.join(char for char in cell.value if char not in string.punctuation)\n",
    "\n",
    "# Сохраняем изменения в файл\n",
    "workbook.save('your_updated_file.xlsx')\n"
   ]
  },
  {
   "cell_type": "code",
   "execution_count": null,
   "metadata": {},
   "outputs": [],
   "source": [
    "\n",
    "file_path_test =\"./data2.csv\"\n",
    "data_test = pd.read_csv(file_path_test, encoding='cp1251', )\n",
    "\n"
   ]
  },
  {
   "cell_type": "code",
   "execution_count": null,
   "metadata": {},
   "outputs": [
    {
     "data": {
      "text/html": [
       "<div>\n",
       "<style scoped>\n",
       "    .dataframe tbody tr th:only-of-type {\n",
       "        vertical-align: middle;\n",
       "    }\n",
       "\n",
       "    .dataframe tbody tr th {\n",
       "        vertical-align: top;\n",
       "    }\n",
       "\n",
       "    .dataframe thead th {\n",
       "        text-align: right;\n",
       "    }\n",
       "</style>\n",
       "<table border=\"1\" class=\"dataframe\">\n",
       "  <thead>\n",
       "    <tr style=\"text-align: right;\">\n",
       "      <th></th>\n",
       "      <th>output</th>\n",
       "    </tr>\n",
       "  </thead>\n",
       "  <tbody>\n",
       "    <tr>\n",
       "      <th>0</th>\n",
       "      <td>Конечно я хочу чтобы мир был лучше Но я верю ч...</td>\n",
       "    </tr>\n",
       "    <tr>\n",
       "      <th>1</th>\n",
       "      <td>Я не очень хорошо знаю Мальдивы но в среднем И...</td>\n",
       "    </tr>\n",
       "    <tr>\n",
       "      <th>2</th>\n",
       "      <td>Пахра — река Москвы и Московской области правы...</td>\n",
       "    </tr>\n",
       "    <tr>\n",
       "      <th>3</th>\n",
       "      <td>Так какой княжескийто Князейто было много</td>\n",
       "    </tr>\n",
       "    <tr>\n",
       "      <th>4</th>\n",
       "      <td>Да они очень активно делятся своей верой и поо...</td>\n",
       "    </tr>\n",
       "  </tbody>\n",
       "</table>\n",
       "</div>"
      ],
      "text/plain": [
       "                                              output\n",
       "0  Конечно я хочу чтобы мир был лучше Но я верю ч...\n",
       "1  Я не очень хорошо знаю Мальдивы но в среднем И...\n",
       "2  Пахра — река Москвы и Московской области правы...\n",
       "3          Так какой княжескийто Князейто было много\n",
       "4  Да они очень активно делятся своей верой и поо..."
      ]
     },
     "execution_count": 7,
     "metadata": {},
     "output_type": "execute_result"
    }
   ],
   "source": [
    "data_test.head()"
   ]
  },
  {
   "cell_type": "code",
   "execution_count": null,
   "metadata": {},
   "outputs": [
    {
     "name": "stdout",
     "output_type": "stream",
     "text": [
      "<class 'pandas.core.frame.DataFrame'>\n",
      "RangeIndex: 448473 entries, 0 to 448472\n",
      "Data columns (total 1 columns):\n",
      " #   Column  Non-Null Count   Dtype \n",
      "---  ------  --------------   ----- \n",
      " 0   output  448473 non-null  object\n",
      "dtypes: object(1)\n",
      "memory usage: 3.4+ MB\n"
     ]
    }
   ],
   "source": [
    "data_test.info()"
   ]
  },
  {
   "cell_type": "code",
   "execution_count": null,
   "metadata": {},
   "outputs": [
    {
     "name": "stdout",
     "output_type": "stream",
     "text": [
      "nan: output: False\n"
     ]
    }
   ],
   "source": [
    "\n",
    "for column in data_test.columns:\n",
    "   nan_finder = data_test[column].isna().any()\n",
    "   print(f\"nan: {column}: {nan_finder}\")\n",
    "# Данных много и невсем понятно есть ли данные с nan "
   ]
  },
  {
   "cell_type": "code",
   "execution_count": null,
   "metadata": {},
   "outputs": [],
   "source": [
    "import spacy\n",
    "\n",
    "# Загрузка модели языка\n",
    "nlp = spacy.load(\"ru_core_news_sm\")\n",
    "\n",
    "\n"
   ]
  },
  {
   "cell_type": "code",
   "execution_count": null,
   "metadata": {},
   "outputs": [],
   "source": [
    "# Функция для предобработки текста и векторизации\n",
    "def preprocess_text(text):\n",
    "    # Приведение к нижнему регистру и удаление пунктуации\n",
    "    doc = nlp(text.lower())\n",
    "    # Удаление стоп-слов и токенизация\n",
    "    tokens = [token.text for token in doc if not token.is_stop and not token.is_punct]\n",
    "    return tokens\n",
    "\n",
    "# Применение предобработки текста к каждой строке в датасете\n",
    "data_test['tokens'] = data_test['output'].apply(preprocess_text)"
   ]
  },
  {
   "cell_type": "code",
   "execution_count": null,
   "metadata": {},
   "outputs": [
    {
     "data": {
      "text/html": [
       "<div>\n",
       "<style scoped>\n",
       "    .dataframe tbody tr th:only-of-type {\n",
       "        vertical-align: middle;\n",
       "    }\n",
       "\n",
       "    .dataframe tbody tr th {\n",
       "        vertical-align: top;\n",
       "    }\n",
       "\n",
       "    .dataframe thead th {\n",
       "        text-align: right;\n",
       "    }\n",
       "</style>\n",
       "<table border=\"1\" class=\"dataframe\">\n",
       "  <thead>\n",
       "    <tr style=\"text-align: right;\">\n",
       "      <th></th>\n",
       "      <th>output</th>\n",
       "      <th>tokens</th>\n",
       "    </tr>\n",
       "  </thead>\n",
       "  <tbody>\n",
       "    <tr>\n",
       "      <th>0</th>\n",
       "      <td>Конечно я хочу чтобы мир был лучше Но я верю ч...</td>\n",
       "      <td>[мир, лучше, верю, путем, вдохновения, музыку,...</td>\n",
       "    </tr>\n",
       "    <tr>\n",
       "      <th>1</th>\n",
       "      <td>Я не очень хорошо знаю Мальдивы но в среднем И...</td>\n",
       "      <td>[знаю, мальдивы, среднем, индийский, океан, чи...</td>\n",
       "    </tr>\n",
       "    <tr>\n",
       "      <th>2</th>\n",
       "      <td>Пахра — река Москвы и Московской области правы...</td>\n",
       "      <td>[пахра, река, москвы, московской, области, пра...</td>\n",
       "    </tr>\n",
       "    <tr>\n",
       "      <th>3</th>\n",
       "      <td>Так какой княжескийто Князейто было много</td>\n",
       "      <td>[княжескийто, князейто]</td>\n",
       "    </tr>\n",
       "    <tr>\n",
       "      <th>4</th>\n",
       "      <td>Да они очень активно делятся своей верой и поо...</td>\n",
       "      <td>[активно, делятся, верой, поощряют, прихожан, ...</td>\n",
       "    </tr>\n",
       "    <tr>\n",
       "      <th>...</th>\n",
       "      <td>...</td>\n",
       "      <td>...</td>\n",
       "    </tr>\n",
       "    <tr>\n",
       "      <th>448468</th>\n",
       "      <td>Конечно это очень интересная тема Пирамиды в Г...</td>\n",
       "      <td>[интересная, тема, пирамиды, гизе, являются, и...</td>\n",
       "    </tr>\n",
       "    <tr>\n",
       "      <th>448469</th>\n",
       "      <td>Они уже забыли что их тело  священный храм а п...</td>\n",
       "      <td>[забыли, тело,  , священный, храм, пища,  , эн...</td>\n",
       "    </tr>\n",
       "    <tr>\n",
       "      <th>448470</th>\n",
       "      <td>Это не только поможет тебе открыть новые гастр...</td>\n",
       "      <td>[поможет, открыть, новые, гастрономические, го...</td>\n",
       "    </tr>\n",
       "    <tr>\n",
       "      <th>448471</th>\n",
       "      <td>Какую музыку вы любите</td>\n",
       "      <td>[какую, музыку, любите]</td>\n",
       "    </tr>\n",
       "    <tr>\n",
       "      <th>448472</th>\n",
       "      <td>да иногда нужно чтобы ктото подпустил немного ...</td>\n",
       "      <td>[ктото, подпустил, перца, отношения]</td>\n",
       "    </tr>\n",
       "  </tbody>\n",
       "</table>\n",
       "<p>448473 rows × 2 columns</p>\n",
       "</div>"
      ],
      "text/plain": [
       "                                                   output  \\\n",
       "0       Конечно я хочу чтобы мир был лучше Но я верю ч...   \n",
       "1       Я не очень хорошо знаю Мальдивы но в среднем И...   \n",
       "2       Пахра — река Москвы и Московской области правы...   \n",
       "3               Так какой княжескийто Князейто было много   \n",
       "4       Да они очень активно делятся своей верой и поо...   \n",
       "...                                                   ...   \n",
       "448468  Конечно это очень интересная тема Пирамиды в Г...   \n",
       "448469  Они уже забыли что их тело  священный храм а п...   \n",
       "448470  Это не только поможет тебе открыть новые гастр...   \n",
       "448471                             Какую музыку вы любите   \n",
       "448472  да иногда нужно чтобы ктото подпустил немного ...   \n",
       "\n",
       "                                                   tokens  \n",
       "0       [мир, лучше, верю, путем, вдохновения, музыку,...  \n",
       "1       [знаю, мальдивы, среднем, индийский, океан, чи...  \n",
       "2       [пахра, река, москвы, московской, области, пра...  \n",
       "3                                 [княжескийто, князейто]  \n",
       "4       [активно, делятся, верой, поощряют, прихожан, ...  \n",
       "...                                                   ...  \n",
       "448468  [интересная, тема, пирамиды, гизе, являются, и...  \n",
       "448469  [забыли, тело,  , священный, храм, пища,  , эн...  \n",
       "448470  [поможет, открыть, новые, гастрономические, го...  \n",
       "448471                            [какую, музыку, любите]  \n",
       "448472               [ктото, подпустил, перца, отношения]  \n",
       "\n",
       "[448473 rows x 2 columns]"
      ]
     },
     "execution_count": 9,
     "metadata": {},
     "output_type": "execute_result"
    }
   ],
   "source": [
    "data_test"
   ]
  },
  {
   "cell_type": "code",
   "execution_count": null,
   "metadata": {},
   "outputs": [
    {
     "ename": "NameError",
     "evalue": "name 'data_test' is not defined",
     "output_type": "error",
     "traceback": [
      "\u001b[1;31m---------------------------------------------------------------------------\u001b[0m",
      "\u001b[1;31mNameError\u001b[0m                                 Traceback (most recent call last)",
      "Cell \u001b[1;32mIn[5], line 1\u001b[0m\n\u001b[1;32m----> 1\u001b[0m \u001b[43mdata_test\u001b[49m\u001b[38;5;241m.\u001b[39mto_csv(\u001b[38;5;124m'\u001b[39m\u001b[38;5;124mdataset_token.csv\u001b[39m\u001b[38;5;124m'\u001b[39m, index\u001b[38;5;241m=\u001b[39m\u001b[38;5;28;01mFalse\u001b[39;00m)  \n",
      "\u001b[1;31mNameError\u001b[0m: name 'data_test' is not defined"
     ]
    }
   ],
   "source": [
    "data_test.to_csv('dataset_token.csv', index=False)  "
   ]
  },
  {
   "cell_type": "code",
   "execution_count": null,
   "metadata": {},
   "outputs": [],
   "source": [
    "import pandas as pd\n",
    "file_path_test =\"./dataset_token.csv\"\n",
    "data = pd.read_csv(file_path_test, encoding='utf-8')"
   ]
  },
  {
   "cell_type": "code",
   "execution_count": null,
   "metadata": {},
   "outputs": [
    {
     "data": {
      "text/html": [
       "<div>\n",
       "<style scoped>\n",
       "    .dataframe tbody tr th:only-of-type {\n",
       "        vertical-align: middle;\n",
       "    }\n",
       "\n",
       "    .dataframe tbody tr th {\n",
       "        vertical-align: top;\n",
       "    }\n",
       "\n",
       "    .dataframe thead th {\n",
       "        text-align: right;\n",
       "    }\n",
       "</style>\n",
       "<table border=\"1\" class=\"dataframe\">\n",
       "  <thead>\n",
       "    <tr style=\"text-align: right;\">\n",
       "      <th></th>\n",
       "      <th>output</th>\n",
       "      <th>tokens</th>\n",
       "    </tr>\n",
       "  </thead>\n",
       "  <tbody>\n",
       "    <tr>\n",
       "      <th>0</th>\n",
       "      <td>Конечно я хочу чтобы мир был лучше Но я верю ч...</td>\n",
       "      <td>['мир', 'лучше', 'верю', 'путем', 'вдохновения...</td>\n",
       "    </tr>\n",
       "    <tr>\n",
       "      <th>1</th>\n",
       "      <td>Я не очень хорошо знаю Мальдивы но в среднем И...</td>\n",
       "      <td>['знаю', 'мальдивы', 'среднем', 'индийский', '...</td>\n",
       "    </tr>\n",
       "    <tr>\n",
       "      <th>2</th>\n",
       "      <td>Пахра — река Москвы и Московской области правы...</td>\n",
       "      <td>['пахра', 'река', 'москвы', 'московской', 'обл...</td>\n",
       "    </tr>\n",
       "    <tr>\n",
       "      <th>3</th>\n",
       "      <td>Так какой княжескийто Князейто было много</td>\n",
       "      <td>['княжескийто', 'князейто']</td>\n",
       "    </tr>\n",
       "    <tr>\n",
       "      <th>4</th>\n",
       "      <td>Да они очень активно делятся своей верой и поо...</td>\n",
       "      <td>['активно', 'делятся', 'верой', 'поощряют', 'п...</td>\n",
       "    </tr>\n",
       "  </tbody>\n",
       "</table>\n",
       "</div>"
      ],
      "text/plain": [
       "                                              output  \\\n",
       "0  Конечно я хочу чтобы мир был лучше Но я верю ч...   \n",
       "1  Я не очень хорошо знаю Мальдивы но в среднем И...   \n",
       "2  Пахра — река Москвы и Московской области правы...   \n",
       "3          Так какой княжескийто Князейто было много   \n",
       "4  Да они очень активно делятся своей верой и поо...   \n",
       "\n",
       "                                              tokens  \n",
       "0  ['мир', 'лучше', 'верю', 'путем', 'вдохновения...  \n",
       "1  ['знаю', 'мальдивы', 'среднем', 'индийский', '...  \n",
       "2  ['пахра', 'река', 'москвы', 'московской', 'обл...  \n",
       "3                        ['княжескийто', 'князейто']  \n",
       "4  ['активно', 'делятся', 'верой', 'поощряют', 'п...  "
      ]
     },
     "execution_count": 5,
     "metadata": {},
     "output_type": "execute_result"
    }
   ],
   "source": [
    "data.head()"
   ]
  },
  {
   "cell_type": "code",
   "execution_count": null,
   "metadata": {},
   "outputs": [],
   "source": [
    "import pandas as pd\n",
    "import numpy as np\n",
    "from numpy.random import choice\n",
    "from tensorflow.keras.preprocessing.text import Tokenizer\n",
    "from concurrent.futures import ThreadPoolExecutor\n",
    "\n",
    "\n",
    "# Создание столбца с рандомными personality_types\n",
    "personality_types = [\"меланхолик\", \"сангвиник\", \"холерик\", \"флегматик\"]\n",
    "data['personality'] = np.random.choice(personality_types, size=len(data))\n",
    "\n",
    "# Функция для токенизации текста\n",
    "def tokenize_text(text):\n",
    "    tokenizer = Tokenizer(num_words=max_words, filters='!\"#$%&()*+,-./:;<=>?@[\\\\]^_`{|}~\\t\\n')\n",
    "    tokenizer.fit_on_texts([text])\n",
    "    sequence = tokenizer.texts_to_sequences([text])\n",
    "    return sequence[0]\n",
    "\n",
    "# Параметры для токенизации\n",
    "max_len = 50\n",
    "max_words = 10000\n",
    "\n",
    "# Обработка текста в нескольких потоках\n",
    "with ThreadPoolExecutor(max_workers=100) as executor:\n",
    "    sequences = list(executor.map(tokenize_text, data['output']))\n",
    "\n",
    "# Добавление токенизированных данных в датасет\n",
    "data['tokenized_reviews'] = sequences\n",
    "\n"
   ]
  },
  {
   "cell_type": "code",
   "execution_count": null,
   "metadata": {},
   "outputs": [
    {
     "data": {
      "text/html": [
       "<div>\n",
       "<style scoped>\n",
       "    .dataframe tbody tr th:only-of-type {\n",
       "        vertical-align: middle;\n",
       "    }\n",
       "\n",
       "    .dataframe tbody tr th {\n",
       "        vertical-align: top;\n",
       "    }\n",
       "\n",
       "    .dataframe thead th {\n",
       "        text-align: right;\n",
       "    }\n",
       "</style>\n",
       "<table border=\"1\" class=\"dataframe\">\n",
       "  <thead>\n",
       "    <tr style=\"text-align: right;\">\n",
       "      <th></th>\n",
       "      <th>output</th>\n",
       "      <th>tokens</th>\n",
       "      <th>personality</th>\n",
       "      <th>tokenized_reviews</th>\n",
       "    </tr>\n",
       "  </thead>\n",
       "  <tbody>\n",
       "    <tr>\n",
       "      <th>0</th>\n",
       "      <td>Конечно я хочу чтобы мир был лучше Но я верю ч...</td>\n",
       "      <td>['мир', 'лучше', 'верю', 'путем', 'вдохновения...</td>\n",
       "      <td>флегматик</td>\n",
       "      <td>[2, 1, 3, 4, 5, 6, 7, 8, 1, 9, 10, 11, 12, 13,...</td>\n",
       "    </tr>\n",
       "    <tr>\n",
       "      <th>1</th>\n",
       "      <td>Я не очень хорошо знаю Мальдивы но в среднем И...</td>\n",
       "      <td>['знаю', 'мальдивы', 'среднем', 'индийский', '...</td>\n",
       "      <td>флегматик</td>\n",
       "      <td>[2, 3, 1, 4, 5, 6, 7, 8, 9, 10, 11, 1, 12]</td>\n",
       "    </tr>\n",
       "    <tr>\n",
       "      <th>2</th>\n",
       "      <td>Пахра — река Москвы и Московской области правы...</td>\n",
       "      <td>['пахра', 'река', 'москвы', 'московской', 'обл...</td>\n",
       "      <td>сангвиник</td>\n",
       "      <td>[4, 2, 11, 24, 3, 12, 25, 26, 27, 28, 29, 13, ...</td>\n",
       "    </tr>\n",
       "    <tr>\n",
       "      <th>3</th>\n",
       "      <td>Так какой княжескийто Князейто было много</td>\n",
       "      <td>['княжескийто', 'князейто']</td>\n",
       "      <td>флегматик</td>\n",
       "      <td>[1, 2, 3, 4, 5, 6]</td>\n",
       "    </tr>\n",
       "    <tr>\n",
       "      <th>4</th>\n",
       "      <td>Да они очень активно делятся своей верой и поо...</td>\n",
       "      <td>['активно', 'делятся', 'верой', 'поощряют', 'п...</td>\n",
       "      <td>меланхолик</td>\n",
       "      <td>[9, 10, 2, 11, 12, 13, 14, 3, 15, 4, 16, 17, 5...</td>\n",
       "    </tr>\n",
       "    <tr>\n",
       "      <th>...</th>\n",
       "      <td>...</td>\n",
       "      <td>...</td>\n",
       "      <td>...</td>\n",
       "      <td>...</td>\n",
       "    </tr>\n",
       "    <tr>\n",
       "      <th>448468</th>\n",
       "      <td>Конечно это очень интересная тема Пирамиды в Г...</td>\n",
       "      <td>['интересная', 'тема', 'пирамиды', 'гизе', 'яв...</td>\n",
       "      <td>сангвиник</td>\n",
       "      <td>[11, 12, 13, 14, 15, 2, 1, 4, 5, 16, 3, 6, 17,...</td>\n",
       "    </tr>\n",
       "    <tr>\n",
       "      <th>448469</th>\n",
       "      <td>Они уже забыли что их тело  священный храм а п...</td>\n",
       "      <td>['забыли', 'тело', ' ', 'священный', 'храм', '...</td>\n",
       "      <td>флегматик</td>\n",
       "      <td>[1, 2, 3, 4, 5, 6, 7, 8, 9, 10, 11, 12, 13, 14...</td>\n",
       "    </tr>\n",
       "    <tr>\n",
       "      <th>448470</th>\n",
       "      <td>Это не только поможет тебе открыть новые гастр...</td>\n",
       "      <td>['поможет', 'открыть', 'новые', 'гастрономичес...</td>\n",
       "      <td>сангвиник</td>\n",
       "      <td>[2, 3, 4, 5, 6, 7, 8, 9, 10, 11, 12, 1, 13, 14...</td>\n",
       "    </tr>\n",
       "    <tr>\n",
       "      <th>448471</th>\n",
       "      <td>Какую музыку вы любите</td>\n",
       "      <td>['какую', 'музыку', 'любите']</td>\n",
       "      <td>сангвиник</td>\n",
       "      <td>[1, 2, 3, 4]</td>\n",
       "    </tr>\n",
       "    <tr>\n",
       "      <th>448472</th>\n",
       "      <td>да иногда нужно чтобы ктото подпустил немного ...</td>\n",
       "      <td>['ктото', 'подпустил', 'перца', 'отношения']</td>\n",
       "      <td>меланхолик</td>\n",
       "      <td>[1, 2, 3, 4, 5, 6, 7, 8, 9, 10]</td>\n",
       "    </tr>\n",
       "  </tbody>\n",
       "</table>\n",
       "<p>448473 rows × 4 columns</p>\n",
       "</div>"
      ],
      "text/plain": [
       "                                                   output  \\\n",
       "0       Конечно я хочу чтобы мир был лучше Но я верю ч...   \n",
       "1       Я не очень хорошо знаю Мальдивы но в среднем И...   \n",
       "2       Пахра — река Москвы и Московской области правы...   \n",
       "3               Так какой княжескийто Князейто было много   \n",
       "4       Да они очень активно делятся своей верой и поо...   \n",
       "...                                                   ...   \n",
       "448468  Конечно это очень интересная тема Пирамиды в Г...   \n",
       "448469  Они уже забыли что их тело  священный храм а п...   \n",
       "448470  Это не только поможет тебе открыть новые гастр...   \n",
       "448471                             Какую музыку вы любите   \n",
       "448472  да иногда нужно чтобы ктото подпустил немного ...   \n",
       "\n",
       "                                                   tokens personality  \\\n",
       "0       ['мир', 'лучше', 'верю', 'путем', 'вдохновения...   флегматик   \n",
       "1       ['знаю', 'мальдивы', 'среднем', 'индийский', '...   флегматик   \n",
       "2       ['пахра', 'река', 'москвы', 'московской', 'обл...   сангвиник   \n",
       "3                             ['княжескийто', 'князейто']   флегматик   \n",
       "4       ['активно', 'делятся', 'верой', 'поощряют', 'п...  меланхолик   \n",
       "...                                                   ...         ...   \n",
       "448468  ['интересная', 'тема', 'пирамиды', 'гизе', 'яв...   сангвиник   \n",
       "448469  ['забыли', 'тело', ' ', 'священный', 'храм', '...   флегматик   \n",
       "448470  ['поможет', 'открыть', 'новые', 'гастрономичес...   сангвиник   \n",
       "448471                      ['какую', 'музыку', 'любите']   сангвиник   \n",
       "448472       ['ктото', 'подпустил', 'перца', 'отношения']  меланхолик   \n",
       "\n",
       "                                        tokenized_reviews  \n",
       "0       [2, 1, 3, 4, 5, 6, 7, 8, 1, 9, 10, 11, 12, 13,...  \n",
       "1              [2, 3, 1, 4, 5, 6, 7, 8, 9, 10, 11, 1, 12]  \n",
       "2       [4, 2, 11, 24, 3, 12, 25, 26, 27, 28, 29, 13, ...  \n",
       "3                                      [1, 2, 3, 4, 5, 6]  \n",
       "4       [9, 10, 2, 11, 12, 13, 14, 3, 15, 4, 16, 17, 5...  \n",
       "...                                                   ...  \n",
       "448468  [11, 12, 13, 14, 15, 2, 1, 4, 5, 16, 3, 6, 17,...  \n",
       "448469  [1, 2, 3, 4, 5, 6, 7, 8, 9, 10, 11, 12, 13, 14...  \n",
       "448470  [2, 3, 4, 5, 6, 7, 8, 9, 10, 11, 12, 1, 13, 14...  \n",
       "448471                                       [1, 2, 3, 4]  \n",
       "448472                    [1, 2, 3, 4, 5, 6, 7, 8, 9, 10]  \n",
       "\n",
       "[448473 rows x 4 columns]"
      ]
     },
     "execution_count": 7,
     "metadata": {},
     "output_type": "execute_result"
    }
   ],
   "source": [
    "data"
   ]
  },
  {
   "cell_type": "code",
   "execution_count": null,
   "metadata": {},
   "outputs": [
    {
     "ename": "NameError",
     "evalue": "name 'data' is not defined",
     "output_type": "error",
     "traceback": [
      "\u001b[1;31m---------------------------------------------------------------------------\u001b[0m",
      "\u001b[1;31mNameError\u001b[0m                                 Traceback (most recent call last)",
      "Cell \u001b[1;32mIn[3], line 1\u001b[0m\n\u001b[1;32m----> 1\u001b[0m \u001b[43mdata\u001b[49m\u001b[38;5;241m.\u001b[39mto_csv(\u001b[38;5;124m'\u001b[39m\u001b[38;5;124mdataset_token_labels.csv\u001b[39m\u001b[38;5;124m'\u001b[39m, index\u001b[38;5;241m=\u001b[39m\u001b[38;5;28;01mFalse\u001b[39;00m)  \n",
      "\u001b[1;31mNameError\u001b[0m: name 'data' is not defined"
     ]
    }
   ],
   "source": [
    "data.to_csv('dataset_token_labels.csv', index=False)  "
   ]
  },
  {
   "cell_type": "code",
   "execution_count": null,
   "metadata": {},
   "outputs": [],
   "source": [
    "import pandas as pd\n",
    "file_path_test =\"./dataset_token_labels.csv\"\n",
    "data = pd.read_csv(file_path_test, encoding='utf-8')"
   ]
  },
  {
   "cell_type": "code",
   "execution_count": null,
   "metadata": {},
   "outputs": [
    {
     "name": "stdout",
     "output_type": "stream",
     "text": [
      "__________TRAIN__________\n",
      "Count of categories: 4\n",
      "Categories names: ['флегматик' 'сангвиник' 'меланхолик' 'холерик']\n",
      "Categories values counts:\n",
      "personality\n",
      "меланхолик    112443\n",
      "холерик       112238\n",
      "сангвиник     112090\n",
      "флегматик     111702\n",
      "Name: count, dtype: int64\n"
     ]
    }
   ],
   "source": [
    "print(\"__________TRAIN__________\")\n",
    "print(f\"Count of categories: {len(data['personality'].unique())}\")\n",
    "print(f\"Categories names: {data['personality'].unique()}\")\n",
    "print(f\"Categories values counts:\\n{data['personality'].value_counts()}\")\n"
   ]
  },
  {
   "cell_type": "code",
   "execution_count": null,
   "metadata": {},
   "outputs": [
    {
     "data": {
      "image/png": "[encoded data removed]",
      "text/plain": [
       "<Figure size 640x480 with 1 Axes>"
      ]
     },
     "metadata": {},
     "output_type": "display_data"
    }
   ],
   "source": [
    "plt.hist(data['personality'])\n",
    "plt.title(\"Train categories\")\n",
    "plt.show()\n",
    "\n"
   ]
  },
  {
   "cell_type": "code",
   "execution_count": null,
   "metadata": {},
   "outputs": [],
   "source": [
    "from sklearn.model_selection import train_test_split\n",
    "X_train = data_train.drop(\"SeriousDlqin2yrs\", axis=1)  # Удаляем столбец SeriousDlqin2yrs из X_train\n",
    "y_train = data_train[\"SeriousDlqin2yrs\"]  # Выбираем только столбец SeriousDlqin2yrs для y_train\n",
    "#X_test= data_test.drop(\"SeriousDlqin2yrs\", axis=1)\n",
    "\n",
    "X_train, X_test, y_train, y_test = train_test_split(X_train, y_train, test_size=0.2, random_state=42)"
   ]
  },
  {
   "cell_type": "code",
   "execution_count": null,
   "metadata": {},
   "outputs": [
    {
     "name": "stdout",
     "output_type": "stream",
     "text": [
      "<class 'pandas.core.frame.DataFrame'>\n",
      "Index: 120000 entries, 104025 to 121958\n",
      "Data columns (total 11 columns):\n",
      " #   Column                                Non-Null Count   Dtype  \n",
      "---  ------                                --------------   -----  \n",
      " 0   Unnamed: 0                            120000 non-null  int64  \n",
      " 1   RevolvingUtilizationOfUnsecuredLines  120000 non-null  float64\n",
      " 2   age                                   120000 non-null  int64  \n",
      " 3   NumberOfTime30-59DaysPastDueNotWorse  120000 non-null  int64  \n",
      " 4   DebtRatio                             120000 non-null  float64\n",
      " 5   MonthlyIncome                         120000 non-null  float64\n",
      " 6   NumberOfOpenCreditLinesAndLoans       120000 non-null  int64  \n",
      " 7   NumberOfTimes90DaysLate               120000 non-null  int64  \n",
      " 8   NumberRealEstateLoansOrLines          120000 non-null  int64  \n",
      " 9   NumberOfTime60-89DaysPastDueNotWorse  120000 non-null  int64  \n",
      " 10  NumberOfDependents                    120000 non-null  float64\n",
      "dtypes: float64(4), int64(7)\n",
      "memory usage: 11.0 MB\n"
     ]
    }
   ],
   "source": [
    "X_train.info()"
   ]
  },
  {
   "cell_type": "code",
   "execution_count": null,
   "metadata": {},
   "outputs": [
    {
     "name": "stdout",
     "output_type": "stream",
     "text": [
      "WARNING:tensorflow:Some variables could not be lifted out of a loaded function. Please run `sess.run(tf.get_collection(\"saved_model_initializers\"))`to restore these variables.\n"
     ]
    },
    {
     "name": "stderr",
     "output_type": "stream",
     "text": [
      "WARNING:tensorflow:Some variables could not be lifted out of a loaded function. Please run `sess.run(tf.get_collection(\"saved_model_initializers\"))`to restore these variables.\n"
     ]
    }
   ],
   "source": [
    "import tensorflow as tf\n",
    "import tensorflow_hub as hub\n",
    "\n",
    "# Загрузка модели ELMo\n",
    "elmo = hub.load(\"http://files.deeppavlov.ai/deeppavlov_data/elmo_ru-news_wmt11-16_1.5M_steps.tar.gz\")\n",
    "\n"
   ]
  },
  {
   "cell_type": "code",
   "execution_count": null,
   "metadata": {},
   "outputs": [],
   "source": [
    "# Установка обучаемости параметров модели\n",
    "elmo.trainable = True\n",
    "\n",
    "# Инициализация переменных\n",
    "tf.compat.v1.disable_eager_execution()  # Отключение eager execution\n",
    "sess = tf.compat.v1.Session()\n",
    "\n",
    "# Инициализация переменных\n",
    "sess.run(tf.compat.v1.global_variables_initializer())\n",
    "\n",
    "# Получение эмбеддингов\n",
    "inputs = [\"это предложение\", \"word\"]\n",
    "outputs = elmo.signatures[\"default\"](tf.constant(inputs))\n",
    "embeddings = outputs[\"elmo\"]\n",
    "x= sess.run(embeddings)\n"
   ]
  },
  {
   "cell_type": "code",
   "execution_count": null,
   "metadata": {},
   "outputs": [],
   "source": [
    "import torch\n",
    "from transformers import AutoTokenizer, AutoModel\n",
    "tokenizer = AutoTokenizer.from_pretrained(\"cointegrated/rubert-tiny\")\n",
    "model = AutoModel.from_pretrained(\"cointegrated/rubert-tiny\")\n",
    "# model.cuda()  # uncomment it if you have a GPU\n"
   ]
  },
  {
   "cell_type": "code",
   "execution_count": null,
   "metadata": {},
   "outputs": [
    {
     "name": "stdout",
     "output_type": "stream",
     "text": [
      "(312,)\n"
     ]
    }
   ],
   "source": [
    "\n",
    "def embed_bert_cls(text, model, tokenizer):\n",
    "    t = tokenizer(text, padding=True, truncation=True, return_tensors='pt')\n",
    "    with torch.no_grad():\n",
    "        model_output = model(**{k: v.to(model.device) for k, v in t.items()})\n",
    "    embeddings = model_output.last_hidden_state[:, 0, :]\n",
    "    embeddings = torch.nn.functional.normalize(embeddings)\n",
    "    return embeddings[0].cpu().numpy()\n",
    "\n",
    "print(embed_bert_cls('привет мир', model, tokenizer).shape)"
   ]
  },
  {
   "cell_type": "code",
   "execution_count": null,
   "metadata": {},
   "outputs": [
    {
     "data": {
      "text/html": [
       "<div>\n",
       "<style scoped>\n",
       "    .dataframe tbody tr th:only-of-type {\n",
       "        vertical-align: middle;\n",
       "    }\n",
       "\n",
       "    .dataframe tbody tr th {\n",
       "        vertical-align: top;\n",
       "    }\n",
       "\n",
       "    .dataframe thead th {\n",
       "        text-align: right;\n",
       "    }\n",
       "</style>\n",
       "<table border=\"1\" class=\"dataframe\">\n",
       "  <thead>\n",
       "    <tr style=\"text-align: right;\">\n",
       "      <th></th>\n",
       "      <th>output</th>\n",
       "      <th>tokens</th>\n",
       "      <th>personality</th>\n",
       "      <th>tokenized_reviews</th>\n",
       "    </tr>\n",
       "  </thead>\n",
       "  <tbody>\n",
       "    <tr>\n",
       "      <th>0</th>\n",
       "      <td>Конечно я хочу чтобы мир был лучше Но я верю ч...</td>\n",
       "      <td>['мир', 'лучше', 'верю', 'путем', 'вдохновения...</td>\n",
       "      <td>флегматик</td>\n",
       "      <td>[2, 1, 3, 4, 5, 6, 7, 8, 1, 9, 10, 11, 12, 13,...</td>\n",
       "    </tr>\n",
       "    <tr>\n",
       "      <th>1</th>\n",
       "      <td>Я не очень хорошо знаю Мальдивы но в среднем И...</td>\n",
       "      <td>['знаю', 'мальдивы', 'среднем', 'индийский', '...</td>\n",
       "      <td>флегматик</td>\n",
       "      <td>[2, 3, 1, 4, 5, 6, 7, 8, 9, 10, 11, 1, 12]</td>\n",
       "    </tr>\n",
       "    <tr>\n",
       "      <th>2</th>\n",
       "      <td>Пахра — река Москвы и Московской области правы...</td>\n",
       "      <td>['пахра', 'река', 'москвы', 'московской', 'обл...</td>\n",
       "      <td>сангвиник</td>\n",
       "      <td>[4, 2, 11, 24, 3, 12, 25, 26, 27, 28, 29, 13, ...</td>\n",
       "    </tr>\n",
       "    <tr>\n",
       "      <th>3</th>\n",
       "      <td>Так какой княжескийто Князейто было много</td>\n",
       "      <td>['княжескийто', 'князейто']</td>\n",
       "      <td>флегматик</td>\n",
       "      <td>[1, 2, 3, 4, 5, 6]</td>\n",
       "    </tr>\n",
       "    <tr>\n",
       "      <th>4</th>\n",
       "      <td>Да они очень активно делятся своей верой и поо...</td>\n",
       "      <td>['активно', 'делятся', 'верой', 'поощряют', 'п...</td>\n",
       "      <td>меланхолик</td>\n",
       "      <td>[9, 10, 2, 11, 12, 13, 14, 3, 15, 4, 16, 17, 5...</td>\n",
       "    </tr>\n",
       "  </tbody>\n",
       "</table>\n",
       "</div>"
      ],
      "text/plain": [
       "                                              output  \\\n",
       "0  Конечно я хочу чтобы мир был лучше Но я верю ч...   \n",
       "1  Я не очень хорошо знаю Мальдивы но в среднем И...   \n",
       "2  Пахра — река Москвы и Московской области правы...   \n",
       "3          Так какой княжескийто Князейто было много   \n",
       "4  Да они очень активно делятся своей верой и поо...   \n",
       "\n",
       "                                              tokens personality  \\\n",
       "0  ['мир', 'лучше', 'верю', 'путем', 'вдохновения...   флегматик   \n",
       "1  ['знаю', 'мальдивы', 'среднем', 'индийский', '...   флегматик   \n",
       "2  ['пахра', 'река', 'москвы', 'московской', 'обл...   сангвиник   \n",
       "3                        ['княжескийто', 'князейто']   флегматик   \n",
       "4  ['активно', 'делятся', 'верой', 'поощряют', 'п...  меланхолик   \n",
       "\n",
       "                                   tokenized_reviews  \n",
       "0  [2, 1, 3, 4, 5, 6, 7, 8, 1, 9, 10, 11, 12, 13,...  \n",
       "1         [2, 3, 1, 4, 5, 6, 7, 8, 9, 10, 11, 1, 12]  \n",
       "2  [4, 2, 11, 24, 3, 12, 25, 26, 27, 28, 29, 13, ...  \n",
       "3                                 [1, 2, 3, 4, 5, 6]  \n",
       "4  [9, 10, 2, 11, 12, 13, 14, 3, 15, 4, 16, 17, 5...  "
      ]
     },
     "execution_count": 8,
     "metadata": {},
     "output_type": "execute_result"
    }
   ],
   "source": [
    "\n",
    "file_path_test =\"./dataset_token_labels.csv\"\n",
    "data = pd.read_csv(file_path_test, encoding='utf-8')\n",
    "data.head()"
   ]
  },
  {
   "cell_type": "code",
   "execution_count": null,
   "metadata": {},
   "outputs": [
    {
     "data": {
      "application/vnd.jupyter.widget-view+json": {
       "model_id": "b633c771e3824f62adc3dde91a7baf44",
       "version_major": 2,
       "version_minor": 0
      },
      "text/plain": [
       "Map:   0%|          | 0/448473 [00:00<?, ? examples/s]"
      ]
     },
     "metadata": {},
     "output_type": "display_data"
    }
   ],
   "source": [
    "from datasets import load_dataset\n",
    "import pandas as pd\n",
    "\n",
    "import torch\n",
    "from transformers import AutoTokenizer, AutoModel\n",
    "tokenizer = AutoTokenizer.from_pretrained(\"cointegrated/rubert-tiny\")\n",
    "model = AutoModel.from_pretrained(\"cointegrated/rubert-tiny\")\n",
    "# model.cuda()  # uncomment it if you have a GPU\n",
    "\n",
    "file_path_test =\"./dataset_token_labels.csv\"\n",
    "data = pd.read_csv(file_path_test, encoding='utf-8')\n",
    "# Загрузка датасета\n",
    "from datasets import Dataset\n",
    "\n",
    "# Определение функции токенизации\n",
    "def tokenize_function(batch):\n",
    "    return tokenizer(batch[\"output\"], padding=\"max_length\", truncation=True)\n",
    "\n",
    "# Преобразование pandas DataFrame в объект Dataset\n",
    "dataset = Dataset.from_pandas(data)\n",
    "\n",
    "# Применение функции токенизации к датасету с использованием метода map и параметра batched=True\n",
    "tokenized_datasets = dataset.map(tokenize_function, batched=True)\n",
    "\n"
   ]
  },
  {
   "cell_type": "code",
   "execution_count": null,
   "metadata": {},
   "outputs": [
    {
     "data": {
      "text/html": [
       "<div>\n",
       "<style scoped>\n",
       "    .dataframe tbody tr th:only-of-type {\n",
       "        vertical-align: middle;\n",
       "    }\n",
       "\n",
       "    .dataframe tbody tr th {\n",
       "        vertical-align: top;\n",
       "    }\n",
       "\n",
       "    .dataframe thead th {\n",
       "        text-align: right;\n",
       "    }\n",
       "</style>\n",
       "<table border=\"1\" class=\"dataframe\">\n",
       "  <thead>\n",
       "    <tr style=\"text-align: right;\">\n",
       "      <th></th>\n",
       "      <th>output</th>\n",
       "      <th>tokens</th>\n",
       "      <th>personality</th>\n",
       "      <th>tokenized_reviews</th>\n",
       "      <th>input_ids</th>\n",
       "      <th>token_type_ids</th>\n",
       "      <th>attention_mask</th>\n",
       "    </tr>\n",
       "  </thead>\n",
       "  <tbody>\n",
       "    <tr>\n",
       "      <th>0</th>\n",
       "      <td>Конечно я хочу чтобы мир был лучше Но я верю ч...</td>\n",
       "      <td>['мир', 'лучше', 'верю', 'путем', 'вдохновения...</td>\n",
       "      <td>флегматик</td>\n",
       "      <td>[2, 1, 3, 4, 5, 6, 7, 8, 1, 9, 10, 11, 12, 13,...</td>\n",
       "      <td>[2, 290, 13199, 3312, 343, 333, 26704, 3771, 9...</td>\n",
       "      <td>[0, 0, 0, 0, 0, 0, 0, 0, 0, 0, 0, 0, 0, 0, 0, ...</td>\n",
       "      <td>[1, 1, 1, 1, 1, 1, 1, 1, 1, 1, 1, 1, 1, 1, 1, ...</td>\n",
       "    </tr>\n",
       "    <tr>\n",
       "      <th>1</th>\n",
       "      <td>Я не очень хорошо знаю Мальдивы но в среднем И...</td>\n",
       "      <td>['знаю', 'мальдивы', 'среднем', 'индийский', '...</td>\n",
       "      <td>флегматик</td>\n",
       "      <td>[2, 3, 1, 4, 5, 6, 7, 8, 9, 10, 11, 1, 12]</td>\n",
       "      <td>[2, 311, 769, 6003, 14105, 319, 794, 920, 292,...</td>\n",
       "      <td>[0, 0, 0, 0, 0, 0, 0, 0, 0, 0, 0, 0, 0, 0, 0, ...</td>\n",
       "      <td>[1, 1, 1, 1, 1, 1, 1, 1, 1, 1, 1, 1, 1, 1, 1, ...</td>\n",
       "    </tr>\n",
       "    <tr>\n",
       "      <th>2</th>\n",
       "      <td>Пахра — река Москвы и Московской области правы...</td>\n",
       "      <td>['пахра', 'река', 'москвы', 'московской', 'обл...</td>\n",
       "      <td>сангвиник</td>\n",
       "      <td>[4, 2, 11, 24, 3, 12, 25, 26, 27, 28, 29, 13, ...</td>\n",
       "      <td>[2, 14892, 753, 1232, 1, 5278, 10510, 320, 936...</td>\n",
       "      <td>[0, 0, 0, 0, 0, 0, 0, 0, 0, 0, 0, 0, 0, 0, 0, ...</td>\n",
       "      <td>[1, 1, 1, 1, 1, 1, 1, 1, 1, 1, 1, 1, 1, 1, 1, ...</td>\n",
       "    </tr>\n",
       "    <tr>\n",
       "      <th>3</th>\n",
       "      <td>Так какой княжескийто Князейто было много</td>\n",
       "      <td>['княжескийто', 'князейто']</td>\n",
       "      <td>флегматик</td>\n",
       "      <td>[1, 2, 3, 4, 5, 6]</td>\n",
       "      <td>[2, 5849, 22933, 15105, 776, 3881, 1439, 1026,...</td>\n",
       "      <td>[0, 0, 0, 0, 0, 0, 0, 0, 0, 0, 0, 0, 0, 0, 0, ...</td>\n",
       "      <td>[1, 1, 1, 1, 1, 1, 1, 1, 1, 1, 1, 1, 1, 1, 0, ...</td>\n",
       "    </tr>\n",
       "    <tr>\n",
       "      <th>4</th>\n",
       "      <td>Да они очень активно делятся своей верой и поо...</td>\n",
       "      <td>['активно', 'делятся', 'верой', 'поощряют', 'п...</td>\n",
       "      <td>меланхолик</td>\n",
       "      <td>[9, 10, 2, 11, 12, 13, 14, 3, 15, 4, 16, 17, 5...</td>\n",
       "      <td>[2, 9672, 3057, 6003, 10365, 4614, 14422, 4182...</td>\n",
       "      <td>[0, 0, 0, 0, 0, 0, 0, 0, 0, 0, 0, 0, 0, 0, 0, ...</td>\n",
       "      <td>[1, 1, 1, 1, 1, 1, 1, 1, 1, 1, 1, 1, 1, 1, 1, ...</td>\n",
       "    </tr>\n",
       "  </tbody>\n",
       "</table>\n",
       "</div>"
      ],
      "text/plain": [
       "                                              output  \\\n",
       "0  Конечно я хочу чтобы мир был лучше Но я верю ч...   \n",
       "1  Я не очень хорошо знаю Мальдивы но в среднем И...   \n",
       "2  Пахра — река Москвы и Московской области правы...   \n",
       "3          Так какой княжескийто Князейто было много   \n",
       "4  Да они очень активно делятся своей верой и поо...   \n",
       "\n",
       "                                              tokens personality  \\\n",
       "0  ['мир', 'лучше', 'верю', 'путем', 'вдохновения...   флегматик   \n",
       "1  ['знаю', 'мальдивы', 'среднем', 'индийский', '...   флегматик   \n",
       "2  ['пахра', 'река', 'москвы', 'московской', 'обл...   сангвиник   \n",
       "3                        ['княжескийто', 'князейто']   флегматик   \n",
       "4  ['активно', 'делятся', 'верой', 'поощряют', 'п...  меланхолик   \n",
       "\n",
       "                                   tokenized_reviews  \\\n",
       "0  [2, 1, 3, 4, 5, 6, 7, 8, 1, 9, 10, 11, 12, 13,...   \n",
       "1         [2, 3, 1, 4, 5, 6, 7, 8, 9, 10, 11, 1, 12]   \n",
       "2  [4, 2, 11, 24, 3, 12, 25, 26, 27, 28, 29, 13, ...   \n",
       "3                                 [1, 2, 3, 4, 5, 6]   \n",
       "4  [9, 10, 2, 11, 12, 13, 14, 3, 15, 4, 16, 17, 5...   \n",
       "\n",
       "                                           input_ids  \\\n",
       "0  [2, 290, 13199, 3312, 343, 333, 26704, 3771, 9...   \n",
       "1  [2, 311, 769, 6003, 14105, 319, 794, 920, 292,...   \n",
       "2  [2, 14892, 753, 1232, 1, 5278, 10510, 320, 936...   \n",
       "3  [2, 5849, 22933, 15105, 776, 3881, 1439, 1026,...   \n",
       "4  [2, 9672, 3057, 6003, 10365, 4614, 14422, 4182...   \n",
       "\n",
       "                                      token_type_ids  \\\n",
       "0  [0, 0, 0, 0, 0, 0, 0, 0, 0, 0, 0, 0, 0, 0, 0, ...   \n",
       "1  [0, 0, 0, 0, 0, 0, 0, 0, 0, 0, 0, 0, 0, 0, 0, ...   \n",
       "2  [0, 0, 0, 0, 0, 0, 0, 0, 0, 0, 0, 0, 0, 0, 0, ...   \n",
       "3  [0, 0, 0, 0, 0, 0, 0, 0, 0, 0, 0, 0, 0, 0, 0, ...   \n",
       "4  [0, 0, 0, 0, 0, 0, 0, 0, 0, 0, 0, 0, 0, 0, 0, ...   \n",
       "\n",
       "                                      attention_mask  \n",
       "0  [1, 1, 1, 1, 1, 1, 1, 1, 1, 1, 1, 1, 1, 1, 1, ...  \n",
       "1  [1, 1, 1, 1, 1, 1, 1, 1, 1, 1, 1, 1, 1, 1, 1, ...  \n",
       "2  [1, 1, 1, 1, 1, 1, 1, 1, 1, 1, 1, 1, 1, 1, 1, ...  \n",
       "3  [1, 1, 1, 1, 1, 1, 1, 1, 1, 1, 1, 1, 1, 1, 0, ...  \n",
       "4  [1, 1, 1, 1, 1, 1, 1, 1, 1, 1, 1, 1, 1, 1, 1, ...  "
      ]
     },
     "execution_count": 6,
     "metadata": {},
     "output_type": "execute_result"
    }
   ],
   "source": [
    "tokenized_data_pd = tokenized_datasets.to_pandas()\n",
    "tokenized_data_pd.head()"
   ]
  },
  {
   "cell_type": "code",
   "execution_count": null,
   "metadata": {},
   "outputs": [
    {
     "data": {
      "application/vnd.jupyter.widget-view+json": {
       "model_id": "ea05fa050acf4837aec492765904d7c8",
       "version_major": 2,
       "version_minor": 0
      },
      "text/plain": [
       "Creating CSV from Arrow format:   0%|          | 0/449 [00:00<?, ?ba/s]"
      ]
     },
     "metadata": {},
     "output_type": "display_data"
    },
    {
     "data": {
      "text/plain": [
       "2780010180"
      ]
     },
     "execution_count": 7,
     "metadata": {},
     "output_type": "execute_result"
    }
   ],
   "source": [
    "tokenized_datasets.to_csv('dataset_tokenizashion.csv', index=False) "
   ]
  },
  {
   "cell_type": "code",
   "execution_count": null,
   "metadata": {},
   "outputs": [],
   "source": [
    "file_path_test =\"./dataset_token_labels.csv\"\n",
    "tokenized_datasets = pd.read_csv(file_path_test, encoding='utf-8')\n",
    "tokenized_datasets.drop(columns=['tokenized_reviews', 'tokens'], inplace=True)"
   ]
  },
  {
   "cell_type": "code",
   "execution_count": null,
   "metadata": {},
   "outputs": [],
   "source": [
    "from sklearn.model_selection import train_test_split\n",
    "\n",
    "# Разделение датасета на обучающий и временный наборы (80% на обучение, 20% на остальное)\n",
    "train_data, temp_data = train_test_split(tokenized_datasets, test_size=0.2, random_state=42)\n",
    "\n",
    "# Затем разделите временный набор на тестовый и валидационный наборы (по 50% от остаточных данных)\n",
    "test_data, validation_data = train_test_split(temp_data, test_size=0.5, random_state=42)\n",
    "\n",
    "# Теперь у вас есть train_data (обучающий набор), test_data (тестовый набор) и validation_data (валидационный\n",
    "\n"
   ]
  },
  {
   "cell_type": "code",
   "execution_count": null,
   "metadata": {},
   "outputs": [],
   "source": [
    "from transformers import Trainer, TrainingArguments\n",
    "\n",
    "training_args = TrainingArguments(\n",
    "    \"output_dir\",  # Путь для сохранения модели и результатов обучения\n",
    "    num_train_epochs=3,\n",
    "    per_device_train_batch_size=8,\n",
    "    per_device_eval_batch_size=8,\n",
    "    evaluation_strategy=\"epoch\",\n",
    "    logging_dir=\"logs\",\n",
    ")\n",
    "\n",
    "trainer = Trainer(\n",
    "    model=model,\n",
    "    args=training_args,\n",
    "    train_dataset=train_dataset,\n",
    "    eval_dataset=eval_dataset,\n",
    ")\n",
    "\n",
    "trainer.train()\n"
   ]
  },
  {
   "cell_type": "code",
   "execution_count": null,
   "metadata": {},
   "outputs": [
    {
     "data": {
      "text/plain": [
       "1024"
      ]
     },
     "execution_count": 40,
     "metadata": {},
     "output_type": "execute_result"
    }
   ],
   "source": [
    "from transformers import AutoModelForSequenceClassification\n",
    "\n",
    "model = AutoModelForSequenceClassification.from_pretrained(\"название_предобученной_модели\", num_labels=num_labels)\n",
    "\n",
    "\n",
    "from transformers import TrainingArguments\n",
    "\n",
    "training_args = TrainingArguments(\n",
    "    output_dir=\"путь_к_директории_для_сохранения_чекпоинтов\",\n",
    "    num_train_epochs=num_epochs,\n",
    "    per_device_train_batch_size=batch_size,\n",
    "    logging_dir=\"путь_к_директории_для_логирования\",\n",
    ")\n",
    "\n",
    "\n",
    "\n",
    "import numpy as np\n",
    "\n",
    "def compute_metrics(eval_pred):\n",
    "    logits, labels = eval_pred\n",
    "    predictions = np.argmax(logits, axis=-1)\n",
    "    return {\"accuracy\": (predictions == labels).mean()}\n",
    "\n",
    "\n",
    "\n",
    "from transformers import Trainer\n",
    "\n",
    "trainer = Trainer(\n",
    "    model=model,\n",
    "    args=training_args,\n",
    "    train_dataset=train_dataset,\n",
    "    eval_dataset=eval_dataset,\n",
    "    compute_metrics=compute_metrics,\n",
    ")\n"
   ]
  },
  {
   "cell_type": "code",
   "execution_count": null,
   "metadata": {},
   "outputs": [],
   "source": [
    "trainer.train()\n"
   ]
  },
  {
   "cell_type": "markdown",
   "metadata": {},
   "source": [
    "----"
   ]
  },
  {
   "cell_type": "code",
   "execution_count": 5,
   "metadata": {},
   "outputs": [],
   "source": [
    "file_path_test =\"./dataset_token_labels.csv\"\n",
    "tokenized_datasets = pd.read_csv(file_path_test, encoding='utf-8')\n",
    "tokenized_datasets.drop(columns=['tokenized_reviews', 'tokens'], inplace=True)\n",
    "\n",
    "import torch\n",
    "from transformers import AutoTokenizer, AutoModel\n",
    "token = AutoTokenizer.from_pretrained(\"cointegrated/rubert-tiny\")\n",
    "model = AutoModel.from_pretrained(\"cointegrated/rubert-tiny\")"
   ]
  },
  {
   "cell_type": "code",
   "execution_count": 6,
   "metadata": {},
   "outputs": [
    {
     "data": {
      "text/html": [
       "<div>\n",
       "<style scoped>\n",
       "    .dataframe tbody tr th:only-of-type {\n",
       "        vertical-align: middle;\n",
       "    }\n",
       "\n",
       "    .dataframe tbody tr th {\n",
       "        vertical-align: top;\n",
       "    }\n",
       "\n",
       "    .dataframe thead th {\n",
       "        text-align: right;\n",
       "    }\n",
       "</style>\n",
       "<table border=\"1\" class=\"dataframe\">\n",
       "  <thead>\n",
       "    <tr style=\"text-align: right;\">\n",
       "      <th></th>\n",
       "      <th>output</th>\n",
       "      <th>personality</th>\n",
       "    </tr>\n",
       "  </thead>\n",
       "  <tbody>\n",
       "    <tr>\n",
       "      <th>0</th>\n",
       "      <td>Конечно я хочу чтобы мир был лучше Но я верю ч...</td>\n",
       "      <td>флегматик</td>\n",
       "    </tr>\n",
       "    <tr>\n",
       "      <th>1</th>\n",
       "      <td>Я не очень хорошо знаю Мальдивы но в среднем И...</td>\n",
       "      <td>флегматик</td>\n",
       "    </tr>\n",
       "    <tr>\n",
       "      <th>2</th>\n",
       "      <td>Пахра — река Москвы и Московской области правы...</td>\n",
       "      <td>сангвиник</td>\n",
       "    </tr>\n",
       "    <tr>\n",
       "      <th>3</th>\n",
       "      <td>Так какой княжескийто Князейто было много</td>\n",
       "      <td>флегматик</td>\n",
       "    </tr>\n",
       "    <tr>\n",
       "      <th>4</th>\n",
       "      <td>Да они очень активно делятся своей верой и поо...</td>\n",
       "      <td>меланхолик</td>\n",
       "    </tr>\n",
       "    <tr>\n",
       "      <th>...</th>\n",
       "      <td>...</td>\n",
       "      <td>...</td>\n",
       "    </tr>\n",
       "    <tr>\n",
       "      <th>448468</th>\n",
       "      <td>Конечно это очень интересная тема Пирамиды в Г...</td>\n",
       "      <td>сангвиник</td>\n",
       "    </tr>\n",
       "    <tr>\n",
       "      <th>448469</th>\n",
       "      <td>Они уже забыли что их тело  священный храм а п...</td>\n",
       "      <td>флегматик</td>\n",
       "    </tr>\n",
       "    <tr>\n",
       "      <th>448470</th>\n",
       "      <td>Это не только поможет тебе открыть новые гастр...</td>\n",
       "      <td>сангвиник</td>\n",
       "    </tr>\n",
       "    <tr>\n",
       "      <th>448471</th>\n",
       "      <td>Какую музыку вы любите</td>\n",
       "      <td>сангвиник</td>\n",
       "    </tr>\n",
       "    <tr>\n",
       "      <th>448472</th>\n",
       "      <td>да иногда нужно чтобы ктото подпустил немного ...</td>\n",
       "      <td>меланхолик</td>\n",
       "    </tr>\n",
       "  </tbody>\n",
       "</table>\n",
       "<p>448473 rows × 2 columns</p>\n",
       "</div>"
      ],
      "text/plain": [
       "                                                   output personality\n",
       "0       Конечно я хочу чтобы мир был лучше Но я верю ч...   флегматик\n",
       "1       Я не очень хорошо знаю Мальдивы но в среднем И...   флегматик\n",
       "2       Пахра — река Москвы и Московской области правы...   сангвиник\n",
       "3               Так какой княжескийто Князейто было много   флегматик\n",
       "4       Да они очень активно делятся своей верой и поо...  меланхолик\n",
       "...                                                   ...         ...\n",
       "448468  Конечно это очень интересная тема Пирамиды в Г...   сангвиник\n",
       "448469  Они уже забыли что их тело  священный храм а п...   флегматик\n",
       "448470  Это не только поможет тебе открыть новые гастр...   сангвиник\n",
       "448471                             Какую музыку вы любите   сангвиник\n",
       "448472  да иногда нужно чтобы ктото подпустил немного ...  меланхолик\n",
       "\n",
       "[448473 rows x 2 columns]"
      ]
     },
     "execution_count": 6,
     "metadata": {},
     "output_type": "execute_result"
    }
   ],
   "source": [
    "tokenized_datasets"
   ]
  },
  {
   "cell_type": "code",
   "execution_count": 7,
   "metadata": {},
   "outputs": [],
   "source": [
    "STOPWORDS  = stopwords.words('english') + ['im']\n",
    "STOPWORDS.remove('not')\n",
    "STOPWORDS.remove('no')\n",
    "\n",
    "lemmatizer = WordNetLemmatizer()\n",
    "\n",
    "#### Функция очистки и лемматизации текста\n",
    "def clean_text(text):\n",
    "  #очистить текст от тегов html и привести к нижнему регистру\n",
    "  text = BeautifulSoup(text).get_text().lower()\n",
    "\n",
    "  #очистить текст от ссылок html\n",
    "  #text = re.sub(r\"(?:\\@|http?\\://|https?\\://|www)\\S+\", \"\", text)\n",
    "\n",
    "  #очистить текст от всех символов кроме букв латинского алфавита\n",
    "  #text = re.sub(\"[^a-z]\", \" \", text)\n",
    "\n",
    "  #разбить текст на слова\n",
    "  #text_words = text.split()\n",
    "\n",
    "  #выполнить лематизацию текста и удалить стоп-слова\n",
    "  #result_words = [lemmatizer.lemmatize(word) for word in text_words if not word in STOPWORDS]\n",
    "    \n",
    "  return text"
   ]
  },
  {
   "cell_type": "code",
   "execution_count": 8,
   "metadata": {},
   "outputs": [],
   "source": [
    "tokenized_datasets['output'] = tokenized_datasets['output'].apply(lambda x: clean_text(x))"
   ]
  },
  {
   "cell_type": "code",
   "execution_count": 9,
   "metadata": {},
   "outputs": [
    {
     "data": {
      "text/html": [
       "<div>\n",
       "<style scoped>\n",
       "    .dataframe tbody tr th:only-of-type {\n",
       "        vertical-align: middle;\n",
       "    }\n",
       "\n",
       "    .dataframe tbody tr th {\n",
       "        vertical-align: top;\n",
       "    }\n",
       "\n",
       "    .dataframe thead th {\n",
       "        text-align: right;\n",
       "    }\n",
       "</style>\n",
       "<table border=\"1\" class=\"dataframe\">\n",
       "  <thead>\n",
       "    <tr style=\"text-align: right;\">\n",
       "      <th></th>\n",
       "      <th>output</th>\n",
       "      <th>personality</th>\n",
       "    </tr>\n",
       "  </thead>\n",
       "  <tbody>\n",
       "    <tr>\n",
       "      <th>0</th>\n",
       "      <td>конечно я хочу чтобы мир был лучше но я верю ч...</td>\n",
       "      <td>флегматик</td>\n",
       "    </tr>\n",
       "    <tr>\n",
       "      <th>1</th>\n",
       "      <td>я не очень хорошо знаю мальдивы но в среднем и...</td>\n",
       "      <td>флегматик</td>\n",
       "    </tr>\n",
       "    <tr>\n",
       "      <th>2</th>\n",
       "      <td>пахра — река москвы и московской области правы...</td>\n",
       "      <td>сангвиник</td>\n",
       "    </tr>\n",
       "    <tr>\n",
       "      <th>3</th>\n",
       "      <td>так какой княжескийто князейто было много</td>\n",
       "      <td>флегматик</td>\n",
       "    </tr>\n",
       "    <tr>\n",
       "      <th>4</th>\n",
       "      <td>да они очень активно делятся своей верой и поо...</td>\n",
       "      <td>меланхолик</td>\n",
       "    </tr>\n",
       "    <tr>\n",
       "      <th>...</th>\n",
       "      <td>...</td>\n",
       "      <td>...</td>\n",
       "    </tr>\n",
       "    <tr>\n",
       "      <th>448468</th>\n",
       "      <td>конечно это очень интересная тема пирамиды в г...</td>\n",
       "      <td>сангвиник</td>\n",
       "    </tr>\n",
       "    <tr>\n",
       "      <th>448469</th>\n",
       "      <td>они уже забыли что их тело  священный храм а п...</td>\n",
       "      <td>флегматик</td>\n",
       "    </tr>\n",
       "    <tr>\n",
       "      <th>448470</th>\n",
       "      <td>это не только поможет тебе открыть новые гастр...</td>\n",
       "      <td>сангвиник</td>\n",
       "    </tr>\n",
       "    <tr>\n",
       "      <th>448471</th>\n",
       "      <td>какую музыку вы любите</td>\n",
       "      <td>сангвиник</td>\n",
       "    </tr>\n",
       "    <tr>\n",
       "      <th>448472</th>\n",
       "      <td>да иногда нужно чтобы ктото подпустил немного ...</td>\n",
       "      <td>меланхолик</td>\n",
       "    </tr>\n",
       "  </tbody>\n",
       "</table>\n",
       "<p>448473 rows × 2 columns</p>\n",
       "</div>"
      ],
      "text/plain": [
       "                                                   output personality\n",
       "0       конечно я хочу чтобы мир был лучше но я верю ч...   флегматик\n",
       "1       я не очень хорошо знаю мальдивы но в среднем и...   флегматик\n",
       "2       пахра — река москвы и московской области правы...   сангвиник\n",
       "3               так какой княжескийто князейто было много   флегматик\n",
       "4       да они очень активно делятся своей верой и поо...  меланхолик\n",
       "...                                                   ...         ...\n",
       "448468  конечно это очень интересная тема пирамиды в г...   сангвиник\n",
       "448469  они уже забыли что их тело  священный храм а п...   флегматик\n",
       "448470  это не только поможет тебе открыть новые гастр...   сангвиник\n",
       "448471                             какую музыку вы любите   сангвиник\n",
       "448472  да иногда нужно чтобы ктото подпустил немного ...  меланхолик\n",
       "\n",
       "[448473 rows x 2 columns]"
      ]
     },
     "execution_count": 9,
     "metadata": {},
     "output_type": "execute_result"
    }
   ],
   "source": [
    "tokenized_datasets"
   ]
  },
  {
   "cell_type": "code",
   "execution_count": 10,
   "metadata": {},
   "outputs": [],
   "source": [
    "from sklearn.preprocessing import LabelEncoder\n",
    "labeles = LabelEncoder()\n",
    "labels = labeles.fit_transform(tokenized_datasets['personality'])"
   ]
  },
  {
   "cell_type": "code",
   "execution_count": 11,
   "metadata": {},
   "outputs": [],
   "source": [
    "from sklearn.model_selection import train_test_split\n",
    "id2label = {\n",
    "   0:'флегматик', 1:'меланхолик', 2:'сангвиник', 3:'холерик'\n",
    "}\n",
    "label2id = {\n",
    "    0:'флегматик', 1:'меланхолик', 2:'сангвиник', 3:'холерик'\n",
    "}\n",
    "\n",
    "\n",
    "X_train, X_test, y_train, y_test = train_test_split(tokenized_datasets['output'], labels, test_size=0.2, random_state=42)"
   ]
  },
  {
   "cell_type": "code",
   "execution_count": 12,
   "metadata": {},
   "outputs": [],
   "source": [
    "from datasets import Dataset\n",
    "\n",
    "import pandas as pd\n",
    "data = pd.DataFrame({'text': X_train, 'label': y_train})\n",
    "data_test = pd.DataFrame({'text': X_test, 'label': y_test})\n",
    "\n",
    "\n",
    "dataset_train = Dataset.from_pandas(data)\n",
    "dataset_test = Dataset.from_pandas(data_test)"
   ]
  },
  {
   "cell_type": "code",
   "execution_count": 13,
   "metadata": {},
   "outputs": [],
   "source": [
    "class TokenizerWrapper:\n",
    "    def __init__(self, tokenizer):\n",
    "        self.tokenizer = tokenizer\n",
    "    \n",
    "    def tokenize_function(self, examples):\n",
    "        return self.tokenizer(\n",
    "            examples[\"text\"],\n",
    "            padding=\"max_length\",\n",
    "            max_length=128,#128\n",
    "            truncation=True,\n",
    "        )"
   ]
  },
  {
   "cell_type": "code",
   "execution_count": 14,
   "metadata": {},
   "outputs": [],
   "source": [
    "tokenizer_wrapper = TokenizerWrapper(token)"
   ]
  },
  {
   "cell_type": "code",
   "execution_count": 15,
   "metadata": {},
   "outputs": [],
   "source": [
    "BATCH_SIZE = 32\n",
    "NUM_PROCS = 32\n",
    "LR = 0.00005\n",
    "EPOCHS = 10"
   ]
  },
  {
   "cell_type": "code",
   "execution_count": 16,
   "metadata": {},
   "outputs": [],
   "source": [
    "from sklearn.utils.class_weight import compute_class_weight\n",
    "classes = np.unique(labels)\n",
    "class_weights = compute_class_weight('balanced', classes=classes, y=labels)\n",
    "class_weights = torch.tensor(class_weights)\n"
   ]
  },
  {
   "cell_type": "code",
   "execution_count": 17,
   "metadata": {},
   "outputs": [
    {
     "data": {
      "application/vnd.jupyter.widget-view+json": {
       "model_id": "09ba1ca5d2904796b3930f4812fbce91",
       "version_major": 2,
       "version_minor": 0
      },
      "text/plain": [
       "Map:   0%|          | 0/358778 [00:00<?, ? examples/s]"
      ]
     },
     "metadata": {},
     "output_type": "display_data"
    }
   ],
   "source": [
    "tokenized_train = dataset_train.map(\n",
    "    tokenizer_wrapper.tokenize_function, \n",
    "    batched=True,\n",
    "    batch_size=BATCH_SIZE,\n",
    "    num_proc=1\n",
    ")\n"
   ]
  },
  {
   "cell_type": "code",
   "execution_count": 18,
   "metadata": {},
   "outputs": [
    {
     "data": {
      "application/vnd.jupyter.widget-view+json": {
       "model_id": "91faf3825f9948ad8a5fd9dbf607bb34",
       "version_major": 2,
       "version_minor": 0
      },
      "text/plain": [
       "Map:   0%|          | 0/89695 [00:00<?, ? examples/s]"
      ]
     },
     "metadata": {},
     "output_type": "display_data"
    }
   ],
   "source": [
    "tokenized_test = dataset_test.map(\n",
    "    tokenizer_wrapper.tokenize_function, \n",
    "    batched=True,\n",
    "    batch_size=BATCH_SIZE,\n",
    "    num_proc=1\n",
    ")"
   ]
  },
  {
   "cell_type": "code",
   "execution_count": 19,
   "metadata": {},
   "outputs": [],
   "source": [
    "from datasets import load_dataset\n",
    "from transformers import (\n",
    "    AutoTokenizer, \n",
    "    DataCollatorWithPadding,\n",
    "    AutoModelForSequenceClassification, \n",
    "    TrainingArguments, \n",
    "    Trainer,\n",
    "    pipeline\n",
    ")\n",
    "import numpy as np"
   ]
  },
  {
   "cell_type": "code",
   "execution_count": 20,
   "metadata": {},
   "outputs": [
    {
     "name": "stderr",
     "output_type": "stream",
     "text": [
      "Some weights of BertForSequenceClassification were not initialized from the model checkpoint at google/bert_uncased_L-2_H-128_A-2 and are newly initialized: ['classifier.bias', 'classifier.weight']\n",
      "You should probably TRAIN this model on a down-stream task to be able to use it for predictions and inference.\n"
     ]
    }
   ],
   "source": [
    "import evaluate\n",
    "accuracy = evaluate.load('accuracy')\n",
    "\n",
    "\n",
    "def compute_metrics(eval_pred):\n",
    "    predictions, labels = eval_pred\n",
    "    predictions = np.argmax(predictions, axis=1)\n",
    "    return accuracy.compute(predictions=predictions, references=labels)\n",
    "\n",
    "\n",
    "model = AutoModelForSequenceClassification.from_pretrained(\n",
    "    \"google/bert_uncased_L-2_H-128_A-2\",#\"google/mobilebert-uncased\",  \"google/bert_uncased_L-2_H-128_A-2\"\n",
    "    num_labels=4, \n",
    "    id2label=id2label, \n",
    "    label2id=label2id\n",
    ")\n",
    "\n"
   ]
  },
  {
   "cell_type": "code",
   "execution_count": 21,
   "metadata": {},
   "outputs": [
    {
     "name": "stdout",
     "output_type": "stream",
     "text": [
      "4,386,436 total parameters.\n",
      "4,386,436 training parameters.\n"
     ]
    }
   ],
   "source": [
    "\n",
    "\n",
    "total_params = sum(p.numel() for p in model.parameters())\n",
    "print(f\"{total_params:,} total parameters.\")\n",
    "total_trainable_params = sum(\n",
    "    p.numel() for p in model.parameters() if p.requires_grad)\n",
    "print(f\"{total_trainable_params:,} training parameters.\")\n",
    "\n",
    "\n",
    "\n",
    "batch_size = 16\n",
    "training_args = TrainingArguments(\n",
    "    output_dir=\"bert_uncased_L-2_H-128_A-2\",\n",
    "    learning_rate=2e-4,\n",
    "    per_device_train_batch_size=batch_size,\n",
    "    per_device_eval_batch_size=batch_size,\n",
    "    num_train_epochs=10,\n",
    "    weight_decay=0.01,\n",
    "    evaluation_strategy=\"epoch\",\n",
    "    save_strategy=\"epoch\",\n",
    "    load_best_model_at_end=True,\n",
    "    #fp16=True\n",
    ")\n",
    "\n",
    "\n"
   ]
  },
  {
   "cell_type": "code",
   "execution_count": 22,
   "metadata": {},
   "outputs": [],
   "source": [
    "class_weights = class_weights.to(torch.float)\n"
   ]
  },
  {
   "cell_type": "code",
   "execution_count": 23,
   "metadata": {},
   "outputs": [],
   "source": [
    "\n",
    "import torch.nn.functional as F\n",
    "class_weights=class_weights.to(\"cuda\")\n",
    "class CustomTrainer(Trainer):\n",
    "    def compute_loss(self, model, inputs, return_outputs=False):\n",
    "        labels = inputs.pop(\"labels\")\n",
    "        outputs = model(**inputs)\n",
    "        logits = outputs.logits\n",
    "        loss = F.cross_entropy(logits, labels, weight=class_weights)\n",
    "        return (loss, outputs) if return_outputs else loss\n",
    "    \n",
    "\n",
    "\n",
    "\n",
    "\n"
   ]
  },
  {
   "cell_type": "code",
   "execution_count": 24,
   "metadata": {},
   "outputs": [],
   "source": [
    "data_collator = DataCollatorWithPadding(tokenizer=token)"
   ]
  },
  {
   "cell_type": "code",
   "execution_count": 25,
   "metadata": {},
   "outputs": [
    {
     "name": "stderr",
     "output_type": "stream",
     "text": [
      "c:\\Users\\anon\\AppData\\Local\\Programs\\Python\\Python310\\lib\\site-packages\\accelerate\\accelerator.py:436: FutureWarning: Passing the following arguments to `Accelerator` is deprecated and will be removed in version 1.0 of Accelerate: dict_keys(['dispatch_batches', 'split_batches', 'even_batches', 'use_seedable_sampler']). Please pass an `accelerate.DataLoaderConfiguration` instead: \n",
      "dataloader_config = DataLoaderConfiguration(dispatch_batches=None, split_batches=False, even_batches=True, use_seedable_sampler=True)\n",
      "  warnings.warn(\n"
     ]
    }
   ],
   "source": [
    "trainer = CustomTrainer(\n",
    "    model=model,\n",
    "    args=training_args,\n",
    "    train_dataset=tokenized_train,\n",
    "    eval_dataset=tokenized_test,\n",
    "    tokenizer=token,\n",
    "    data_collator=data_collator,\n",
    "    compute_metrics=compute_metrics,\n",
    ")\n"
   ]
  },
  {
   "cell_type": "code",
   "execution_count": 26,
   "metadata": {},
   "outputs": [
    {
     "data": {
      "application/vnd.jupyter.widget-view+json": {
       "model_id": "64f33d4411114540872ce79ba6898376",
       "version_major": 2,
       "version_minor": 0
      },
      "text/plain": [
       "  0%|          | 0/224240 [00:00<?, ?it/s]"
      ]
     },
     "metadata": {},
     "output_type": "display_data"
    },
    {
     "name": "stdout",
     "output_type": "stream",
     "text": [
      "{'loss': 1.3915, 'grad_norm': 1.211311936378479, 'learning_rate': 0.0001995540492329647, 'epoch': 0.02}\n",
      "{'loss': 1.3906, 'grad_norm': 1.9153090715408325, 'learning_rate': 0.00019910809846592937, 'epoch': 0.04}\n",
      "{'loss': 1.3919, 'grad_norm': 1.8487228155136108, 'learning_rate': 0.00019866214769889405, 'epoch': 0.07}\n",
      "{'loss': 1.3905, 'grad_norm': 2.150355100631714, 'learning_rate': 0.00019821619693185873, 'epoch': 0.09}\n",
      "{'loss': 1.3903, 'grad_norm': 2.256033420562744, 'learning_rate': 0.00019777024616482341, 'epoch': 0.11}\n",
      "{'loss': 1.3899, 'grad_norm': 1.7838871479034424, 'learning_rate': 0.0001973242953977881, 'epoch': 0.13}\n",
      "{'loss': 1.3899, 'grad_norm': 2.3615686893463135, 'learning_rate': 0.00019687834463075278, 'epoch': 0.16}\n",
      "{'loss': 1.3884, 'grad_norm': 1.781658411026001, 'learning_rate': 0.00019643239386371746, 'epoch': 0.18}\n",
      "{'loss': 1.3899, 'grad_norm': 1.2165708541870117, 'learning_rate': 0.00019598644309668214, 'epoch': 0.2}\n",
      "{'loss': 1.3903, 'grad_norm': 1.6550554037094116, 'learning_rate': 0.00019554049232964682, 'epoch': 0.22}\n",
      "{'loss': 1.3898, 'grad_norm': 2.4738450050354004, 'learning_rate': 0.0001950945415626115, 'epoch': 0.25}\n",
      "{'loss': 1.3881, 'grad_norm': 2.589444160461426, 'learning_rate': 0.00019464859079557618, 'epoch': 0.27}\n",
      "{'loss': 1.3894, 'grad_norm': 2.044186592102051, 'learning_rate': 0.00019420264002854086, 'epoch': 0.29}\n",
      "{'loss': 1.3898, 'grad_norm': 1.4013335704803467, 'learning_rate': 0.00019375668926150554, 'epoch': 0.31}\n",
      "{'loss': 1.389, 'grad_norm': 2.7750375270843506, 'learning_rate': 0.00019331073849447022, 'epoch': 0.33}\n",
      "{'loss': 1.3886, 'grad_norm': 2.284881830215454, 'learning_rate': 0.0001928647877274349, 'epoch': 0.36}\n",
      "{'loss': 1.3884, 'grad_norm': 3.358900785446167, 'learning_rate': 0.00019241883696039959, 'epoch': 0.38}\n",
      "{'loss': 1.3888, 'grad_norm': 1.838642954826355, 'learning_rate': 0.00019197288619336427, 'epoch': 0.4}\n",
      "{'loss': 1.3888, 'grad_norm': 0.9070344567298889, 'learning_rate': 0.00019152693542632895, 'epoch': 0.42}\n",
      "{'loss': 1.3891, 'grad_norm': 2.1613783836364746, 'learning_rate': 0.00019108098465929363, 'epoch': 0.45}\n",
      "{'loss': 1.3883, 'grad_norm': 1.3478367328643799, 'learning_rate': 0.0001906350338922583, 'epoch': 0.47}\n",
      "{'loss': 1.3881, 'grad_norm': 1.013608694076538, 'learning_rate': 0.000190189083125223, 'epoch': 0.49}\n",
      "{'loss': 1.3896, 'grad_norm': 1.4162273406982422, 'learning_rate': 0.00018974313235818765, 'epoch': 0.51}\n",
      "{'loss': 1.3891, 'grad_norm': 1.5739376544952393, 'learning_rate': 0.00018929718159115235, 'epoch': 0.54}\n",
      "{'loss': 1.3886, 'grad_norm': 1.4288734197616577, 'learning_rate': 0.000188851230824117, 'epoch': 0.56}\n",
      "{'loss': 1.3888, 'grad_norm': 1.2070062160491943, 'learning_rate': 0.00018840528005708172, 'epoch': 0.58}\n",
      "{'loss': 1.3888, 'grad_norm': 0.8877134323120117, 'learning_rate': 0.00018795932929004637, 'epoch': 0.6}\n",
      "{'loss': 1.3886, 'grad_norm': 0.7387275695800781, 'learning_rate': 0.00018751337852301108, 'epoch': 0.62}\n",
      "{'loss': 1.3874, 'grad_norm': 1.301287293434143, 'learning_rate': 0.00018706742775597573, 'epoch': 0.65}\n",
      "{'loss': 1.3879, 'grad_norm': 1.1858491897583008, 'learning_rate': 0.00018662147698894044, 'epoch': 0.67}\n",
      "{'loss': 1.388, 'grad_norm': 1.0396400690078735, 'learning_rate': 0.0001861755262219051, 'epoch': 0.69}\n",
      "{'loss': 1.3883, 'grad_norm': 1.706617832183838, 'learning_rate': 0.0001857295754548698, 'epoch': 0.71}\n",
      "{'loss': 1.3879, 'grad_norm': 1.8525995016098022, 'learning_rate': 0.00018528362468783445, 'epoch': 0.74}\n",
      "{'loss': 1.3877, 'grad_norm': 1.5309503078460693, 'learning_rate': 0.00018483767392079916, 'epoch': 0.76}\n",
      "{'loss': 1.3872, 'grad_norm': 1.4309104681015015, 'learning_rate': 0.00018439172315376382, 'epoch': 0.78}\n",
      "{'loss': 1.3877, 'grad_norm': 1.4538156986236572, 'learning_rate': 0.00018394577238672852, 'epoch': 0.8}\n",
      "{'loss': 1.3875, 'grad_norm': 1.4052962064743042, 'learning_rate': 0.00018349982161969318, 'epoch': 0.83}\n",
      "{'loss': 1.3878, 'grad_norm': 0.9158495664596558, 'learning_rate': 0.0001830538708526579, 'epoch': 0.85}\n",
      "{'loss': 1.388, 'grad_norm': 1.0139976739883423, 'learning_rate': 0.00018260792008562254, 'epoch': 0.87}\n",
      "{'loss': 1.3878, 'grad_norm': 1.2800897359848022, 'learning_rate': 0.00018216196931858725, 'epoch': 0.89}\n",
      "{'loss': 1.3876, 'grad_norm': 1.6444461345672607, 'learning_rate': 0.0001817160185515519, 'epoch': 0.91}\n",
      "{'loss': 1.3878, 'grad_norm': 1.5680774450302124, 'learning_rate': 0.0001812700677845166, 'epoch': 0.94}\n",
      "{'loss': 1.3874, 'grad_norm': 1.0183377265930176, 'learning_rate': 0.00018082411701748126, 'epoch': 0.96}\n",
      "{'loss': 1.3874, 'grad_norm': 1.224737524986267, 'learning_rate': 0.00018037816625044597, 'epoch': 0.98}\n"
     ]
    },
    {
     "data": {
      "application/vnd.jupyter.widget-view+json": {
       "model_id": "a0fa30aa48ce4197894983f75adbc4e5",
       "version_major": 2,
       "version_minor": 0
      },
      "text/plain": [
       "  0%|          | 0/5606 [00:00<?, ?it/s]"
      ]
     },
     "metadata": {},
     "output_type": "display_data"
    },
    {
     "name": "stdout",
     "output_type": "stream",
     "text": [
      "{'eval_loss': 1.3881062269210815, 'eval_accuracy': 0.2499693405429511, 'eval_runtime': 55.9803, 'eval_samples_per_second': 1602.26, 'eval_steps_per_second': 100.142, 'epoch': 1.0}\n",
      "{'loss': 1.3876, 'grad_norm': 1.3870922327041626, 'learning_rate': 0.00017993221548341063, 'epoch': 1.0}\n",
      "{'loss': 1.3871, 'grad_norm': 0.958770751953125, 'learning_rate': 0.00017948626471637533, 'epoch': 1.03}\n",
      "{'loss': 1.3875, 'grad_norm': 1.663558006286621, 'learning_rate': 0.00017904031394934, 'epoch': 1.05}\n",
      "{'loss': 1.3874, 'grad_norm': 0.9129471778869629, 'learning_rate': 0.0001785943631823047, 'epoch': 1.07}\n",
      "{'loss': 1.3878, 'grad_norm': 1.2051888704299927, 'learning_rate': 0.00017814841241526935, 'epoch': 1.09}\n",
      "{'loss': 1.3871, 'grad_norm': 0.7623627185821533, 'learning_rate': 0.00017770246164823406, 'epoch': 1.11}\n",
      "{'loss': 1.3872, 'grad_norm': 0.8182543516159058, 'learning_rate': 0.0001772565108811987, 'epoch': 1.14}\n",
      "{'loss': 1.3866, 'grad_norm': 0.9335556626319885, 'learning_rate': 0.00017681056011416342, 'epoch': 1.16}\n",
      "{'loss': 1.3877, 'grad_norm': 0.9888570308685303, 'learning_rate': 0.00017636460934712807, 'epoch': 1.18}\n",
      "{'loss': 1.3872, 'grad_norm': 1.1811058521270752, 'learning_rate': 0.00017591865858009278, 'epoch': 1.2}\n",
      "{'loss': 1.3866, 'grad_norm': 1.3016358613967896, 'learning_rate': 0.00017547270781305744, 'epoch': 1.23}\n",
      "{'loss': 1.3878, 'grad_norm': 0.6483514308929443, 'learning_rate': 0.00017502675704602214, 'epoch': 1.25}\n",
      "{'loss': 1.3875, 'grad_norm': 0.9948078393936157, 'learning_rate': 0.0001745808062789868, 'epoch': 1.27}\n",
      "{'loss': 1.3872, 'grad_norm': 0.8014098405838013, 'learning_rate': 0.00017413485551195148, 'epoch': 1.29}\n",
      "{'loss': 1.3874, 'grad_norm': 1.26448392868042, 'learning_rate': 0.00017368890474491616, 'epoch': 1.32}\n",
      "{'loss': 1.3867, 'grad_norm': 1.2182843685150146, 'learning_rate': 0.00017324295397788084, 'epoch': 1.34}\n",
      "{'loss': 1.3871, 'grad_norm': 1.1402212381362915, 'learning_rate': 0.00017279700321084552, 'epoch': 1.36}\n",
      "{'loss': 1.3875, 'grad_norm': 0.8139013648033142, 'learning_rate': 0.0001723510524438102, 'epoch': 1.38}\n",
      "{'loss': 1.3871, 'grad_norm': 0.8056206107139587, 'learning_rate': 0.00017190510167677488, 'epoch': 1.4}\n",
      "{'loss': 1.3868, 'grad_norm': 0.8956503868103027, 'learning_rate': 0.00017145915090973957, 'epoch': 1.43}\n",
      "{'loss': 1.3869, 'grad_norm': 1.1133954524993896, 'learning_rate': 0.00017101320014270425, 'epoch': 1.45}\n",
      "{'loss': 1.3874, 'grad_norm': 0.5976104736328125, 'learning_rate': 0.00017056724937566893, 'epoch': 1.47}\n",
      "{'loss': 1.3872, 'grad_norm': 0.5855846405029297, 'learning_rate': 0.0001701212986086336, 'epoch': 1.49}\n",
      "{'loss': 1.387, 'grad_norm': 0.6527656316757202, 'learning_rate': 0.0001696753478415983, 'epoch': 1.52}\n",
      "{'loss': 1.3869, 'grad_norm': 0.7570788860321045, 'learning_rate': 0.00016922939707456297, 'epoch': 1.54}\n",
      "{'loss': 1.3868, 'grad_norm': 0.5621137619018555, 'learning_rate': 0.00016878344630752765, 'epoch': 1.56}\n",
      "{'loss': 1.3866, 'grad_norm': 0.9428493976593018, 'learning_rate': 0.00016833749554049233, 'epoch': 1.58}\n",
      "{'loss': 1.3868, 'grad_norm': 0.6793164014816284, 'learning_rate': 0.000167891544773457, 'epoch': 1.61}\n",
      "{'loss': 1.3872, 'grad_norm': 0.672710657119751, 'learning_rate': 0.0001674455940064217, 'epoch': 1.63}\n",
      "{'loss': 1.3868, 'grad_norm': 0.5301489233970642, 'learning_rate': 0.00016699964323938638, 'epoch': 1.65}\n",
      "{'loss': 1.387, 'grad_norm': 0.5845987796783447, 'learning_rate': 0.00016655369247235106, 'epoch': 1.67}\n",
      "{'loss': 1.3869, 'grad_norm': 0.706667959690094, 'learning_rate': 0.00016610774170531574, 'epoch': 1.69}\n",
      "{'loss': 1.387, 'grad_norm': 0.7968438267707825, 'learning_rate': 0.00016566179093828042, 'epoch': 1.72}\n",
      "{'loss': 1.3877, 'grad_norm': 0.6289492845535278, 'learning_rate': 0.0001652158401712451, 'epoch': 1.74}\n",
      "{'loss': 1.3866, 'grad_norm': 1.0514304637908936, 'learning_rate': 0.00016476988940420978, 'epoch': 1.76}\n",
      "{'loss': 1.3869, 'grad_norm': 0.7895550727844238, 'learning_rate': 0.00016432393863717446, 'epoch': 1.78}\n",
      "{'loss': 1.3869, 'grad_norm': 0.6469622254371643, 'learning_rate': 0.00016387798787013914, 'epoch': 1.81}\n",
      "{'loss': 1.3869, 'grad_norm': 1.078824520111084, 'learning_rate': 0.00016343203710310382, 'epoch': 1.83}\n",
      "{'loss': 1.3869, 'grad_norm': 0.6506538987159729, 'learning_rate': 0.0001629860863360685, 'epoch': 1.85}\n",
      "{'loss': 1.3872, 'grad_norm': 0.6828661561012268, 'learning_rate': 0.00016254013556903318, 'epoch': 1.87}\n",
      "{'loss': 1.3866, 'grad_norm': 0.8049163222312927, 'learning_rate': 0.00016209418480199787, 'epoch': 1.9}\n",
      "{'loss': 1.3874, 'grad_norm': 0.6654953956604004, 'learning_rate': 0.00016164823403496255, 'epoch': 1.92}\n",
      "{'loss': 1.3867, 'grad_norm': 0.6245007514953613, 'learning_rate': 0.00016120228326792723, 'epoch': 1.94}\n",
      "{'loss': 1.3867, 'grad_norm': 0.6138967871665955, 'learning_rate': 0.0001607563325008919, 'epoch': 1.96}\n",
      "{'loss': 1.387, 'grad_norm': 0.7211949825286865, 'learning_rate': 0.0001603103817338566, 'epoch': 1.98}\n"
     ]
    },
    {
     "data": {
      "application/vnd.jupyter.widget-view+json": {
       "model_id": "6e41d540956747f48324e0e100b18979",
       "version_major": 2,
       "version_minor": 0
      },
      "text/plain": [
       "  0%|          | 0/5606 [00:00<?, ?it/s]"
      ]
     },
     "metadata": {},
     "output_type": "display_data"
    },
    {
     "name": "stdout",
     "output_type": "stream",
     "text": [
      "{'eval_loss': 1.386330246925354, 'eval_accuracy': 0.2499693405429511, 'eval_runtime': 54.973, 'eval_samples_per_second': 1631.618, 'eval_steps_per_second': 101.977, 'epoch': 2.0}\n",
      "{'loss': 1.3869, 'grad_norm': 0.774156928062439, 'learning_rate': 0.00015986443096682127, 'epoch': 2.01}\n",
      "{'loss': 1.3867, 'grad_norm': 0.8452780842781067, 'learning_rate': 0.00015941848019978595, 'epoch': 2.03}\n",
      "{'loss': 1.3864, 'grad_norm': 0.5903506875038147, 'learning_rate': 0.00015897252943275063, 'epoch': 2.05}\n",
      "{'loss': 1.3868, 'grad_norm': 0.5762022137641907, 'learning_rate': 0.00015852657866571531, 'epoch': 2.07}\n",
      "{'loss': 1.3865, 'grad_norm': 0.7186887860298157, 'learning_rate': 0.00015808062789868, 'epoch': 2.1}\n",
      "{'loss': 1.3867, 'grad_norm': 0.6974509358406067, 'learning_rate': 0.00015763467713164468, 'epoch': 2.12}\n",
      "{'loss': 1.387, 'grad_norm': 0.6667967438697815, 'learning_rate': 0.00015718872636460936, 'epoch': 2.14}\n",
      "{'loss': 1.3868, 'grad_norm': 0.6854256391525269, 'learning_rate': 0.00015674277559757404, 'epoch': 2.16}\n",
      "{'loss': 1.3869, 'grad_norm': 0.6728296875953674, 'learning_rate': 0.00015629682483053872, 'epoch': 2.19}\n",
      "{'loss': 1.3869, 'grad_norm': 0.607789158821106, 'learning_rate': 0.0001558508740635034, 'epoch': 2.21}\n",
      "{'loss': 1.3866, 'grad_norm': 0.544410765171051, 'learning_rate': 0.00015540492329646808, 'epoch': 2.23}\n",
      "{'loss': 1.3869, 'grad_norm': 0.7916480898857117, 'learning_rate': 0.00015495897252943276, 'epoch': 2.25}\n",
      "{'loss': 1.3868, 'grad_norm': 0.44386008381843567, 'learning_rate': 0.00015451302176239744, 'epoch': 2.27}\n",
      "{'loss': 1.3867, 'grad_norm': 0.5958929061889648, 'learning_rate': 0.00015406707099536212, 'epoch': 2.3}\n",
      "{'loss': 1.3868, 'grad_norm': 0.5631076693534851, 'learning_rate': 0.0001536211202283268, 'epoch': 2.32}\n",
      "{'loss': 1.3867, 'grad_norm': 0.6367926001548767, 'learning_rate': 0.00015317516946129149, 'epoch': 2.34}\n",
      "{'loss': 1.3869, 'grad_norm': 0.5265067219734192, 'learning_rate': 0.00015272921869425617, 'epoch': 2.36}\n",
      "{'loss': 1.3871, 'grad_norm': 1.5269780158996582, 'learning_rate': 0.00015228326792722085, 'epoch': 2.39}\n",
      "{'loss': 1.3875, 'grad_norm': 0.5679543018341064, 'learning_rate': 0.00015183731716018553, 'epoch': 2.41}\n",
      "{'loss': 1.3866, 'grad_norm': 0.5361019968986511, 'learning_rate': 0.0001513913663931502, 'epoch': 2.43}\n",
      "{'loss': 1.3871, 'grad_norm': 0.4737161099910736, 'learning_rate': 0.0001509454156261149, 'epoch': 2.45}\n",
      "{'loss': 1.3867, 'grad_norm': 0.6061607003211975, 'learning_rate': 0.00015049946485907957, 'epoch': 2.48}\n",
      "{'loss': 1.3865, 'grad_norm': 0.6302081346511841, 'learning_rate': 0.00015005351409204425, 'epoch': 2.5}\n",
      "{'loss': 1.3867, 'grad_norm': 0.6291019320487976, 'learning_rate': 0.00014960756332500893, 'epoch': 2.52}\n",
      "{'loss': 1.3868, 'grad_norm': 0.44030827283859253, 'learning_rate': 0.00014916161255797361, 'epoch': 2.54}\n",
      "{'loss': 1.387, 'grad_norm': 0.4882467985153198, 'learning_rate': 0.00014871566179093827, 'epoch': 2.56}\n",
      "{'loss': 1.3867, 'grad_norm': 0.6236128211021423, 'learning_rate': 0.00014826971102390298, 'epoch': 2.59}\n",
      "{'loss': 1.3866, 'grad_norm': 0.46711084246635437, 'learning_rate': 0.00014782376025686763, 'epoch': 2.61}\n",
      "{'loss': 1.3869, 'grad_norm': 0.609117865562439, 'learning_rate': 0.00014737780948983234, 'epoch': 2.63}\n",
      "{'loss': 1.3866, 'grad_norm': 0.57405024766922, 'learning_rate': 0.000146931858722797, 'epoch': 2.65}\n",
      "{'loss': 1.3869, 'grad_norm': 0.5558421015739441, 'learning_rate': 0.0001464859079557617, 'epoch': 2.68}\n",
      "{'loss': 1.3868, 'grad_norm': 0.6944085359573364, 'learning_rate': 0.00014603995718872635, 'epoch': 2.7}\n",
      "{'loss': 1.3867, 'grad_norm': 0.4663815498352051, 'learning_rate': 0.00014559400642169106, 'epoch': 2.72}\n",
      "{'loss': 1.3868, 'grad_norm': 0.5144463777542114, 'learning_rate': 0.00014514805565465572, 'epoch': 2.74}\n",
      "{'loss': 1.3868, 'grad_norm': 0.5723128318786621, 'learning_rate': 0.00014470210488762042, 'epoch': 2.76}\n",
      "{'loss': 1.3868, 'grad_norm': 0.6453391313552856, 'learning_rate': 0.00014425615412058508, 'epoch': 2.79}\n",
      "{'loss': 1.3868, 'grad_norm': 0.5377064943313599, 'learning_rate': 0.00014381020335354979, 'epoch': 2.81}\n",
      "{'loss': 1.3868, 'grad_norm': 0.5098094940185547, 'learning_rate': 0.00014336425258651444, 'epoch': 2.83}\n",
      "{'loss': 1.3865, 'grad_norm': 0.4475134015083313, 'learning_rate': 0.00014291830181947915, 'epoch': 2.85}\n",
      "{'loss': 1.3867, 'grad_norm': 0.6086958050727844, 'learning_rate': 0.0001424723510524438, 'epoch': 2.88}\n",
      "{'loss': 1.387, 'grad_norm': 0.4408928155899048, 'learning_rate': 0.0001420264002854085, 'epoch': 2.9}\n",
      "{'loss': 1.3864, 'grad_norm': 0.5251852869987488, 'learning_rate': 0.00014158044951837316, 'epoch': 2.92}\n",
      "{'loss': 1.3868, 'grad_norm': 0.42123398184776306, 'learning_rate': 0.00014113449875133787, 'epoch': 2.94}\n",
      "{'loss': 1.3864, 'grad_norm': 0.6141193509101868, 'learning_rate': 0.00014068854798430253, 'epoch': 2.97}\n",
      "{'loss': 1.3868, 'grad_norm': 0.5389850735664368, 'learning_rate': 0.00014024259721726723, 'epoch': 2.99}\n"
     ]
    },
    {
     "data": {
      "application/vnd.jupyter.widget-view+json": {
       "model_id": "75db4da24afc4a5bb37463338d7f85cf",
       "version_major": 2,
       "version_minor": 0
      },
      "text/plain": [
       "  0%|          | 0/5606 [00:00<?, ?it/s]"
      ]
     },
     "metadata": {},
     "output_type": "display_data"
    },
    {
     "name": "stdout",
     "output_type": "stream",
     "text": [
      "{'eval_loss': 1.3863738775253296, 'eval_accuracy': 0.25005853169072967, 'eval_runtime': 54.9808, 'eval_samples_per_second': 1631.387, 'eval_steps_per_second': 101.963, 'epoch': 3.0}\n",
      "{'loss': 1.3869, 'grad_norm': 0.5881686210632324, 'learning_rate': 0.0001397966464502319, 'epoch': 3.01}\n",
      "{'loss': 1.3866, 'grad_norm': 0.6547052264213562, 'learning_rate': 0.0001393506956831966, 'epoch': 3.03}\n",
      "{'loss': 1.3866, 'grad_norm': 0.543296754360199, 'learning_rate': 0.00013890474491616125, 'epoch': 3.05}\n",
      "{'loss': 1.3871, 'grad_norm': 0.4506433308124542, 'learning_rate': 0.00013845879414912596, 'epoch': 3.08}\n",
      "{'loss': 1.3868, 'grad_norm': 0.6988069415092468, 'learning_rate': 0.0001380128433820906, 'epoch': 3.1}\n",
      "{'loss': 1.3868, 'grad_norm': 0.6926823854446411, 'learning_rate': 0.00013756689261505532, 'epoch': 3.12}\n",
      "{'loss': 1.3868, 'grad_norm': 0.5356084108352661, 'learning_rate': 0.00013712094184801997, 'epoch': 3.14}\n",
      "{'loss': 1.3867, 'grad_norm': 0.41961613297462463, 'learning_rate': 0.00013667499108098468, 'epoch': 3.17}\n",
      "{'loss': 1.3863, 'grad_norm': 0.5170135498046875, 'learning_rate': 0.00013622904031394934, 'epoch': 3.19}\n",
      "{'loss': 1.3872, 'grad_norm': 0.5439456105232239, 'learning_rate': 0.00013578308954691404, 'epoch': 3.21}\n",
      "{'loss': 1.3866, 'grad_norm': 0.6732057929039001, 'learning_rate': 0.0001353371387798787, 'epoch': 3.23}\n",
      "{'loss': 1.3867, 'grad_norm': 0.40161001682281494, 'learning_rate': 0.0001348911880128434, 'epoch': 3.26}\n",
      "{'loss': 1.3867, 'grad_norm': 0.47338518500328064, 'learning_rate': 0.00013444523724580806, 'epoch': 3.28}\n",
      "{'loss': 1.3869, 'grad_norm': 0.6564192771911621, 'learning_rate': 0.00013399928647877277, 'epoch': 3.3}\n",
      "{'loss': 1.3864, 'grad_norm': 0.4701411724090576, 'learning_rate': 0.00013355333571173742, 'epoch': 3.32}\n",
      "{'loss': 1.3868, 'grad_norm': 0.8058095574378967, 'learning_rate': 0.00013310738494470213, 'epoch': 3.34}\n",
      "{'loss': 1.3864, 'grad_norm': 0.4945647120475769, 'learning_rate': 0.00013266143417766678, 'epoch': 3.37}\n",
      "{'loss': 1.3866, 'grad_norm': 0.32523027062416077, 'learning_rate': 0.0001322154834106315, 'epoch': 3.39}\n",
      "{'loss': 1.3866, 'grad_norm': 0.6441526412963867, 'learning_rate': 0.00013176953264359615, 'epoch': 3.41}\n",
      "{'loss': 1.3866, 'grad_norm': 0.4100080728530884, 'learning_rate': 0.00013132358187656085, 'epoch': 3.43}\n",
      "{'loss': 1.3867, 'grad_norm': 0.6242527961730957, 'learning_rate': 0.0001308776311095255, 'epoch': 3.46}\n",
      "{'loss': 1.3865, 'grad_norm': 0.485114723443985, 'learning_rate': 0.00013043168034249022, 'epoch': 3.48}\n",
      "{'loss': 1.387, 'grad_norm': 0.4452534317970276, 'learning_rate': 0.00012998572957545487, 'epoch': 3.5}\n",
      "{'loss': 1.3867, 'grad_norm': 0.44918328523635864, 'learning_rate': 0.00012953977880841958, 'epoch': 3.52}\n",
      "{'loss': 1.3866, 'grad_norm': 0.6265751719474792, 'learning_rate': 0.00012909382804138423, 'epoch': 3.55}\n",
      "{'loss': 1.3866, 'grad_norm': 0.5547675490379333, 'learning_rate': 0.00012864787727434894, 'epoch': 3.57}\n",
      "{'loss': 1.3863, 'grad_norm': 0.6053570508956909, 'learning_rate': 0.0001282019265073136, 'epoch': 3.59}\n",
      "{'loss': 1.3866, 'grad_norm': 0.7585222721099854, 'learning_rate': 0.0001277559757402783, 'epoch': 3.61}\n",
      "{'loss': 1.3864, 'grad_norm': 0.4849773049354553, 'learning_rate': 0.00012731002497324296, 'epoch': 3.63}\n",
      "{'loss': 1.3868, 'grad_norm': 0.45076021552085876, 'learning_rate': 0.00012686407420620766, 'epoch': 3.66}\n",
      "{'loss': 1.3864, 'grad_norm': 0.44936078786849976, 'learning_rate': 0.00012641812343917232, 'epoch': 3.68}\n",
      "{'loss': 1.3867, 'grad_norm': 0.6604551672935486, 'learning_rate': 0.00012597217267213703, 'epoch': 3.7}\n",
      "{'loss': 1.3867, 'grad_norm': 0.7743856906890869, 'learning_rate': 0.00012552622190510168, 'epoch': 3.72}\n",
      "{'loss': 1.3861, 'grad_norm': 0.7254349589347839, 'learning_rate': 0.0001250802711380664, 'epoch': 3.75}\n",
      "{'loss': 1.3867, 'grad_norm': 0.5260162353515625, 'learning_rate': 0.00012463432037103104, 'epoch': 3.77}\n",
      "{'loss': 1.3867, 'grad_norm': 0.5931088328361511, 'learning_rate': 0.00012418836960399575, 'epoch': 3.79}\n",
      "{'loss': 1.3865, 'grad_norm': 0.47768256068229675, 'learning_rate': 0.0001237424188369604, 'epoch': 3.81}\n",
      "{'loss': 1.3866, 'grad_norm': 0.48778674006462097, 'learning_rate': 0.00012329646806992508, 'epoch': 3.84}\n",
      "{'loss': 1.3868, 'grad_norm': 0.5458720326423645, 'learning_rate': 0.00012285051730288976, 'epoch': 3.86}\n",
      "{'loss': 1.3866, 'grad_norm': 0.4971030652523041, 'learning_rate': 0.00012240456653585445, 'epoch': 3.88}\n",
      "{'loss': 1.3866, 'grad_norm': 0.5837183594703674, 'learning_rate': 0.00012195861576881913, 'epoch': 3.9}\n",
      "{'loss': 1.3867, 'grad_norm': 0.5645799040794373, 'learning_rate': 0.0001215126650017838, 'epoch': 3.92}\n",
      "{'loss': 1.3866, 'grad_norm': 0.5611656904220581, 'learning_rate': 0.00012106671423474849, 'epoch': 3.95}\n",
      "{'loss': 1.3866, 'grad_norm': 0.5103632211685181, 'learning_rate': 0.00012062076346771316, 'epoch': 3.97}\n",
      "{'loss': 1.3867, 'grad_norm': 0.4947371482849121, 'learning_rate': 0.00012017481270067785, 'epoch': 3.99}\n"
     ]
    },
    {
     "data": {
      "application/vnd.jupyter.widget-view+json": {
       "model_id": "b9da952ab5ab41e6999cf31b53fb92aa",
       "version_major": 2,
       "version_minor": 0
      },
      "text/plain": [
       "  0%|          | 0/5606 [00:00<?, ?it/s]"
      ]
     },
     "metadata": {},
     "output_type": "display_data"
    },
    {
     "name": "stdout",
     "output_type": "stream",
     "text": [
      "{'eval_loss': 1.386454463005066, 'eval_accuracy': 0.2499693405429511, 'eval_runtime': 54.9424, 'eval_samples_per_second': 1632.528, 'eval_steps_per_second': 102.034, 'epoch': 4.0}\n",
      "{'loss': 1.3865, 'grad_norm': 0.5964686274528503, 'learning_rate': 0.00011972886193364252, 'epoch': 4.01}\n",
      "{'loss': 1.3868, 'grad_norm': 0.46423110365867615, 'learning_rate': 0.00011928291116660721, 'epoch': 4.04}\n",
      "{'loss': 1.3866, 'grad_norm': 0.44209975004196167, 'learning_rate': 0.00011883696039957188, 'epoch': 4.06}\n",
      "{'loss': 1.3865, 'grad_norm': 0.39730894565582275, 'learning_rate': 0.00011839100963253657, 'epoch': 4.08}\n",
      "{'loss': 1.3866, 'grad_norm': 0.3808248043060303, 'learning_rate': 0.00011794505886550124, 'epoch': 4.1}\n",
      "{'loss': 1.3867, 'grad_norm': 0.5077800154685974, 'learning_rate': 0.00011749910809846594, 'epoch': 4.13}\n",
      "{'loss': 1.3864, 'grad_norm': 0.8229114413261414, 'learning_rate': 0.0001170531573314306, 'epoch': 4.15}\n",
      "{'loss': 1.3866, 'grad_norm': 0.4920678734779358, 'learning_rate': 0.0001166072065643953, 'epoch': 4.17}\n",
      "{'loss': 1.3868, 'grad_norm': 0.44636350870132446, 'learning_rate': 0.00011616125579735997, 'epoch': 4.19}\n",
      "{'loss': 1.3867, 'grad_norm': 0.5021815299987793, 'learning_rate': 0.00011571530503032466, 'epoch': 4.21}\n",
      "{'loss': 1.3864, 'grad_norm': 0.385435551404953, 'learning_rate': 0.00011526935426328933, 'epoch': 4.24}\n",
      "{'loss': 1.3868, 'grad_norm': 0.336849182844162, 'learning_rate': 0.00011482340349625402, 'epoch': 4.26}\n",
      "{'loss': 1.3867, 'grad_norm': 0.45023831725120544, 'learning_rate': 0.00011437745272921869, 'epoch': 4.28}\n",
      "{'loss': 1.3867, 'grad_norm': 0.3599763810634613, 'learning_rate': 0.00011393150196218338, 'epoch': 4.3}\n",
      "{'loss': 1.3865, 'grad_norm': 0.48182088136672974, 'learning_rate': 0.00011348555119514805, 'epoch': 4.33}\n",
      "{'loss': 1.3865, 'grad_norm': 0.4111604392528534, 'learning_rate': 0.00011303960042811275, 'epoch': 4.35}\n",
      "{'loss': 1.3865, 'grad_norm': 0.4263148903846741, 'learning_rate': 0.00011259364966107741, 'epoch': 4.37}\n",
      "{'loss': 1.3867, 'grad_norm': 0.39430034160614014, 'learning_rate': 0.00011214769889404211, 'epoch': 4.39}\n",
      "{'loss': 1.3866, 'grad_norm': 0.4356619715690613, 'learning_rate': 0.00011170174812700678, 'epoch': 4.41}\n",
      "{'loss': 1.3863, 'grad_norm': 0.5670480132102966, 'learning_rate': 0.00011125579735997147, 'epoch': 4.44}\n",
      "{'loss': 1.3867, 'grad_norm': 0.5794445276260376, 'learning_rate': 0.00011080984659293614, 'epoch': 4.46}\n",
      "{'loss': 1.3865, 'grad_norm': 0.3905307352542877, 'learning_rate': 0.00011036389582590083, 'epoch': 4.48}\n",
      "{'loss': 1.3866, 'grad_norm': 0.36224469542503357, 'learning_rate': 0.0001099179450588655, 'epoch': 4.5}\n",
      "{'loss': 1.3866, 'grad_norm': 0.5373005270957947, 'learning_rate': 0.0001094719942918302, 'epoch': 4.53}\n",
      "{'loss': 1.3865, 'grad_norm': 0.4573187828063965, 'learning_rate': 0.00010902604352479486, 'epoch': 4.55}\n",
      "{'loss': 1.3868, 'grad_norm': 0.37919169664382935, 'learning_rate': 0.00010858009275775956, 'epoch': 4.57}\n",
      "{'loss': 1.3866, 'grad_norm': 0.46909552812576294, 'learning_rate': 0.00010813414199072422, 'epoch': 4.59}\n",
      "{'loss': 1.3867, 'grad_norm': 0.6154193878173828, 'learning_rate': 0.00010768819122368892, 'epoch': 4.62}\n",
      "{'loss': 1.3867, 'grad_norm': 0.28978756070137024, 'learning_rate': 0.00010724224045665359, 'epoch': 4.64}\n",
      "{'loss': 1.3865, 'grad_norm': 0.4587506651878357, 'learning_rate': 0.00010679628968961828, 'epoch': 4.66}\n",
      "{'loss': 1.3862, 'grad_norm': 0.43179836869239807, 'learning_rate': 0.00010635033892258295, 'epoch': 4.68}\n",
      "{'loss': 1.3864, 'grad_norm': 0.4065225422382355, 'learning_rate': 0.00010590438815554764, 'epoch': 4.7}\n",
      "{'loss': 1.3864, 'grad_norm': 0.47560855746269226, 'learning_rate': 0.00010545843738851231, 'epoch': 4.73}\n",
      "{'loss': 1.3866, 'grad_norm': 0.44088226556777954, 'learning_rate': 0.000105012486621477, 'epoch': 4.75}\n",
      "{'loss': 1.3866, 'grad_norm': 0.5015408992767334, 'learning_rate': 0.00010456653585444167, 'epoch': 4.77}\n",
      "{'loss': 1.3866, 'grad_norm': 0.38700684905052185, 'learning_rate': 0.00010412058508740637, 'epoch': 4.79}\n",
      "{'loss': 1.3863, 'grad_norm': 0.4912272095680237, 'learning_rate': 0.00010367463432037103, 'epoch': 4.82}\n",
      "{'loss': 1.3864, 'grad_norm': 0.5143394470214844, 'learning_rate': 0.00010322868355333573, 'epoch': 4.84}\n",
      "{'loss': 1.3867, 'grad_norm': 0.5028528571128845, 'learning_rate': 0.0001027827327863004, 'epoch': 4.86}\n",
      "{'loss': 1.3865, 'grad_norm': 0.3694279193878174, 'learning_rate': 0.00010233678201926509, 'epoch': 4.88}\n",
      "{'loss': 1.3865, 'grad_norm': 0.4066323935985565, 'learning_rate': 0.00010189083125222976, 'epoch': 4.91}\n",
      "{'loss': 1.3864, 'grad_norm': 0.7003305554389954, 'learning_rate': 0.00010144488048519445, 'epoch': 4.93}\n",
      "{'loss': 1.3864, 'grad_norm': 0.31673529744148254, 'learning_rate': 0.00010099892971815912, 'epoch': 4.95}\n",
      "{'loss': 1.3863, 'grad_norm': 0.45518630743026733, 'learning_rate': 0.00010055297895112381, 'epoch': 4.97}\n",
      "{'loss': 1.3866, 'grad_norm': 0.5433775782585144, 'learning_rate': 0.00010010702818408848, 'epoch': 4.99}\n"
     ]
    },
    {
     "data": {
      "application/vnd.jupyter.widget-view+json": {
       "model_id": "117c67fe02ea45e8a12312d1a9237137",
       "version_major": 2,
       "version_minor": 0
      },
      "text/plain": [
       "  0%|          | 0/5606 [00:00<?, ?it/s]"
      ]
     },
     "metadata": {},
     "output_type": "display_data"
    },
    {
     "name": "stdout",
     "output_type": "stream",
     "text": [
      "{'eval_loss': 1.386456847190857, 'eval_accuracy': 0.2499693405429511, 'eval_runtime': 56.0434, 'eval_samples_per_second': 1600.455, 'eval_steps_per_second': 100.03, 'epoch': 5.0}\n",
      "{'loss': 1.3868, 'grad_norm': 0.42785927653312683, 'learning_rate': 9.966107741705316e-05, 'epoch': 5.02}\n",
      "{'loss': 1.3864, 'grad_norm': 0.4335012137889862, 'learning_rate': 9.921512665001784e-05, 'epoch': 5.04}\n",
      "{'loss': 1.3865, 'grad_norm': 0.4729599952697754, 'learning_rate': 9.876917588298252e-05, 'epoch': 5.06}\n",
      "{'loss': 1.3864, 'grad_norm': 0.4161396324634552, 'learning_rate': 9.83232251159472e-05, 'epoch': 5.08}\n",
      "{'loss': 1.3866, 'grad_norm': 0.44964930415153503, 'learning_rate': 9.787727434891189e-05, 'epoch': 5.11}\n",
      "{'loss': 1.3865, 'grad_norm': 0.5446223616600037, 'learning_rate': 9.743132358187657e-05, 'epoch': 5.13}\n",
      "{'loss': 1.3864, 'grad_norm': 0.3919900953769684, 'learning_rate': 9.698537281484125e-05, 'epoch': 5.15}\n",
      "{'loss': 1.3866, 'grad_norm': 0.33465373516082764, 'learning_rate': 9.653942204780593e-05, 'epoch': 5.17}\n",
      "{'loss': 1.3867, 'grad_norm': 0.6106257438659668, 'learning_rate': 9.609347128077061e-05, 'epoch': 5.2}\n",
      "{'loss': 1.3867, 'grad_norm': 0.4384988248348236, 'learning_rate': 9.564752051373529e-05, 'epoch': 5.22}\n",
      "{'loss': 1.3865, 'grad_norm': 0.30633777379989624, 'learning_rate': 9.520156974669997e-05, 'epoch': 5.24}\n",
      "{'loss': 1.3866, 'grad_norm': 0.4379929304122925, 'learning_rate': 9.475561897966465e-05, 'epoch': 5.26}\n",
      "{'loss': 1.3863, 'grad_norm': 0.347988486289978, 'learning_rate': 9.430966821262933e-05, 'epoch': 5.28}\n",
      "{'loss': 1.3865, 'grad_norm': 0.5381212830543518, 'learning_rate': 9.386371744559402e-05, 'epoch': 5.31}\n",
      "{'loss': 1.3866, 'grad_norm': 0.5050742030143738, 'learning_rate': 9.34177666785587e-05, 'epoch': 5.33}\n",
      "{'loss': 1.3865, 'grad_norm': 0.3807554841041565, 'learning_rate': 9.297181591152338e-05, 'epoch': 5.35}\n",
      "{'loss': 1.3865, 'grad_norm': 0.33198460936546326, 'learning_rate': 9.252586514448806e-05, 'epoch': 5.37}\n",
      "{'loss': 1.3865, 'grad_norm': 0.3835121989250183, 'learning_rate': 9.207991437745274e-05, 'epoch': 5.4}\n",
      "{'loss': 1.3866, 'grad_norm': 0.3406127393245697, 'learning_rate': 9.163396361041742e-05, 'epoch': 5.42}\n",
      "{'loss': 1.3864, 'grad_norm': 0.3864671587944031, 'learning_rate': 9.11880128433821e-05, 'epoch': 5.44}\n",
      "{'loss': 1.3863, 'grad_norm': 0.4030616879463196, 'learning_rate': 9.074206207634678e-05, 'epoch': 5.46}\n",
      "{'loss': 1.3867, 'grad_norm': 0.3201392590999603, 'learning_rate': 9.029611130931146e-05, 'epoch': 5.49}\n",
      "{'loss': 1.3865, 'grad_norm': 0.5627798438072205, 'learning_rate': 8.985016054227614e-05, 'epoch': 5.51}\n",
      "{'loss': 1.3863, 'grad_norm': 0.5611079931259155, 'learning_rate': 8.940420977524082e-05, 'epoch': 5.53}\n",
      "{'loss': 1.3865, 'grad_norm': 0.41625818610191345, 'learning_rate': 8.89582590082055e-05, 'epoch': 5.55}\n",
      "{'loss': 1.3864, 'grad_norm': 0.5375924110412598, 'learning_rate': 8.851230824117019e-05, 'epoch': 5.57}\n",
      "{'loss': 1.3865, 'grad_norm': 0.3292076587677002, 'learning_rate': 8.806635747413487e-05, 'epoch': 5.6}\n",
      "{'loss': 1.3865, 'grad_norm': 0.4213399589061737, 'learning_rate': 8.762040670709955e-05, 'epoch': 5.62}\n",
      "{'loss': 1.3863, 'grad_norm': 0.354178249835968, 'learning_rate': 8.717445594006423e-05, 'epoch': 5.64}\n",
      "{'loss': 1.3866, 'grad_norm': 0.36881116032600403, 'learning_rate': 8.672850517302891e-05, 'epoch': 5.66}\n",
      "{'loss': 1.3867, 'grad_norm': 0.5030547380447388, 'learning_rate': 8.628255440599359e-05, 'epoch': 5.69}\n",
      "{'loss': 1.3865, 'grad_norm': 0.3138520419597626, 'learning_rate': 8.583660363895827e-05, 'epoch': 5.71}\n",
      "{'loss': 1.3863, 'grad_norm': 0.3469100296497345, 'learning_rate': 8.539065287192295e-05, 'epoch': 5.73}\n",
      "{'loss': 1.3866, 'grad_norm': 0.38901421427726746, 'learning_rate': 8.494470210488762e-05, 'epoch': 5.75}\n",
      "{'loss': 1.3865, 'grad_norm': 0.3185061812400818, 'learning_rate': 8.44987513378523e-05, 'epoch': 5.78}\n",
      "{'loss': 1.3865, 'grad_norm': 0.3344295918941498, 'learning_rate': 8.405280057081698e-05, 'epoch': 5.8}\n",
      "{'loss': 1.3862, 'grad_norm': 0.5120536088943481, 'learning_rate': 8.360684980378166e-05, 'epoch': 5.82}\n",
      "{'loss': 1.3864, 'grad_norm': 0.5714184641838074, 'learning_rate': 8.316089903674635e-05, 'epoch': 5.84}\n",
      "{'loss': 1.3865, 'grad_norm': 0.39228400588035583, 'learning_rate': 8.271494826971103e-05, 'epoch': 5.86}\n",
      "{'loss': 1.3868, 'grad_norm': 0.5298256874084473, 'learning_rate': 8.226899750267571e-05, 'epoch': 5.89}\n",
      "{'loss': 1.3863, 'grad_norm': 0.49573996663093567, 'learning_rate': 8.182304673564039e-05, 'epoch': 5.91}\n",
      "{'loss': 1.3866, 'grad_norm': 0.3574663996696472, 'learning_rate': 8.137709596860507e-05, 'epoch': 5.93}\n",
      "{'loss': 1.3865, 'grad_norm': 0.3539237976074219, 'learning_rate': 8.093114520156975e-05, 'epoch': 5.95}\n",
      "{'loss': 1.3864, 'grad_norm': 0.65229332447052, 'learning_rate': 8.048519443453443e-05, 'epoch': 5.98}\n",
      "{'loss': 1.3865, 'grad_norm': 0.40137743949890137, 'learning_rate': 8.003924366749911e-05, 'epoch': 6.0}\n"
     ]
    },
    {
     "data": {
      "application/vnd.jupyter.widget-view+json": {
       "model_id": "bead2eb0827a4707b96032370ae01611",
       "version_major": 2,
       "version_minor": 0
      },
      "text/plain": [
       "  0%|          | 0/5606 [00:00<?, ?it/s]"
      ]
     },
     "metadata": {},
     "output_type": "display_data"
    },
    {
     "name": "stdout",
     "output_type": "stream",
     "text": [
      "{'eval_loss': 1.3862980604171753, 'eval_accuracy': 0.25005853169072967, 'eval_runtime': 54.8336, 'eval_samples_per_second': 1635.767, 'eval_steps_per_second': 102.237, 'epoch': 6.0}\n",
      "{'loss': 1.3864, 'grad_norm': 0.3658311069011688, 'learning_rate': 7.959329290046379e-05, 'epoch': 6.02}\n",
      "{'loss': 1.3868, 'grad_norm': 0.4505120515823364, 'learning_rate': 7.914734213342847e-05, 'epoch': 6.04}\n",
      "{'loss': 1.3866, 'grad_norm': 0.3263239860534668, 'learning_rate': 7.870139136639315e-05, 'epoch': 6.06}\n",
      "{'loss': 1.3864, 'grad_norm': 0.3523302674293518, 'learning_rate': 7.825544059935784e-05, 'epoch': 6.09}\n",
      "{'loss': 1.3865, 'grad_norm': 0.40178096294403076, 'learning_rate': 7.780948983232252e-05, 'epoch': 6.11}\n",
      "{'loss': 1.3865, 'grad_norm': 0.3024914562702179, 'learning_rate': 7.73635390652872e-05, 'epoch': 6.13}\n",
      "{'loss': 1.3865, 'grad_norm': 0.5024065375328064, 'learning_rate': 7.691758829825188e-05, 'epoch': 6.15}\n",
      "{'loss': 1.3862, 'grad_norm': 0.3639470636844635, 'learning_rate': 7.647163753121656e-05, 'epoch': 6.18}\n",
      "{'loss': 1.3866, 'grad_norm': 0.38512787222862244, 'learning_rate': 7.602568676418124e-05, 'epoch': 6.2}\n",
      "{'loss': 1.3864, 'grad_norm': 0.38990259170532227, 'learning_rate': 7.557973599714592e-05, 'epoch': 6.22}\n",
      "{'loss': 1.3866, 'grad_norm': 0.4505574107170105, 'learning_rate': 7.51337852301106e-05, 'epoch': 6.24}\n",
      "{'loss': 1.3865, 'grad_norm': 0.3553401827812195, 'learning_rate': 7.468783446307528e-05, 'epoch': 6.27}\n",
      "{'loss': 1.3864, 'grad_norm': 0.4551798403263092, 'learning_rate': 7.424188369603996e-05, 'epoch': 6.29}\n",
      "{'loss': 1.3864, 'grad_norm': 0.435654878616333, 'learning_rate': 7.379593292900465e-05, 'epoch': 6.31}\n",
      "{'loss': 1.3865, 'grad_norm': 0.42794135212898254, 'learning_rate': 7.334998216196933e-05, 'epoch': 6.33}\n",
      "{'loss': 1.3863, 'grad_norm': 0.3510022759437561, 'learning_rate': 7.290403139493401e-05, 'epoch': 6.35}\n",
      "{'loss': 1.3861, 'grad_norm': 0.30905571579933167, 'learning_rate': 7.245808062789869e-05, 'epoch': 6.38}\n",
      "{'loss': 1.3865, 'grad_norm': 0.4415976107120514, 'learning_rate': 7.201212986086337e-05, 'epoch': 6.4}\n",
      "{'loss': 1.3865, 'grad_norm': 0.3958112597465515, 'learning_rate': 7.156617909382805e-05, 'epoch': 6.42}\n",
      "{'loss': 1.3863, 'grad_norm': 0.44981294870376587, 'learning_rate': 7.112022832679273e-05, 'epoch': 6.44}\n",
      "{'loss': 1.3861, 'grad_norm': 0.3558526635169983, 'learning_rate': 7.067427755975741e-05, 'epoch': 6.47}\n",
      "{'loss': 1.3866, 'grad_norm': 0.37458592653274536, 'learning_rate': 7.02283267927221e-05, 'epoch': 6.49}\n",
      "{'loss': 1.3866, 'grad_norm': 0.3627317547798157, 'learning_rate': 6.978237602568677e-05, 'epoch': 6.51}\n",
      "{'loss': 1.3866, 'grad_norm': 0.32687270641326904, 'learning_rate': 6.933642525865146e-05, 'epoch': 6.53}\n",
      "{'loss': 1.3864, 'grad_norm': 0.3462381958961487, 'learning_rate': 6.889047449161614e-05, 'epoch': 6.56}\n",
      "{'loss': 1.3864, 'grad_norm': 0.35852575302124023, 'learning_rate': 6.844452372458082e-05, 'epoch': 6.58}\n",
      "{'loss': 1.3863, 'grad_norm': 0.44936275482177734, 'learning_rate': 6.79985729575455e-05, 'epoch': 6.6}\n",
      "{'loss': 1.3866, 'grad_norm': 0.36710289120674133, 'learning_rate': 6.755262219051018e-05, 'epoch': 6.62}\n",
      "{'loss': 1.3864, 'grad_norm': 0.3138178288936615, 'learning_rate': 6.710667142347486e-05, 'epoch': 6.64}\n",
      "{'loss': 1.3863, 'grad_norm': 0.4112907946109772, 'learning_rate': 6.666072065643954e-05, 'epoch': 6.67}\n",
      "{'loss': 1.3861, 'grad_norm': 0.5195578932762146, 'learning_rate': 6.621476988940422e-05, 'epoch': 6.69}\n",
      "{'loss': 1.3867, 'grad_norm': 0.31275466084480286, 'learning_rate': 6.57688191223689e-05, 'epoch': 6.71}\n",
      "{'loss': 1.3867, 'grad_norm': 0.35132652521133423, 'learning_rate': 6.532286835533357e-05, 'epoch': 6.73}\n",
      "{'loss': 1.3865, 'grad_norm': 0.6711974143981934, 'learning_rate': 6.487691758829825e-05, 'epoch': 6.76}\n",
      "{'loss': 1.3863, 'grad_norm': 0.37459132075309753, 'learning_rate': 6.443096682126293e-05, 'epoch': 6.78}\n",
      "{'loss': 1.3864, 'grad_norm': 0.7195878624916077, 'learning_rate': 6.398501605422761e-05, 'epoch': 6.8}\n",
      "{'loss': 1.3865, 'grad_norm': 0.3328445851802826, 'learning_rate': 6.35390652871923e-05, 'epoch': 6.82}\n",
      "{'loss': 1.3864, 'grad_norm': 0.36020612716674805, 'learning_rate': 6.309311452015698e-05, 'epoch': 6.85}\n",
      "{'loss': 1.3863, 'grad_norm': 0.33891168236732483, 'learning_rate': 6.264716375312166e-05, 'epoch': 6.87}\n",
      "{'loss': 1.3865, 'grad_norm': 0.3351339101791382, 'learning_rate': 6.220121298608634e-05, 'epoch': 6.89}\n",
      "{'loss': 1.3865, 'grad_norm': 0.47255972027778625, 'learning_rate': 6.175526221905102e-05, 'epoch': 6.91}\n",
      "{'loss': 1.3864, 'grad_norm': 0.36689263582229614, 'learning_rate': 6.13093114520157e-05, 'epoch': 6.93}\n",
      "{'loss': 1.3865, 'grad_norm': 0.3310486972332001, 'learning_rate': 6.086336068498039e-05, 'epoch': 6.96}\n",
      "{'loss': 1.3864, 'grad_norm': 0.3983374834060669, 'learning_rate': 6.041740991794507e-05, 'epoch': 6.98}\n"
     ]
    },
    {
     "data": {
      "application/vnd.jupyter.widget-view+json": {
       "model_id": "797606f4cc1f44b1b75aacf8d39cd629",
       "version_major": 2,
       "version_minor": 0
      },
      "text/plain": [
       "  0%|          | 0/5606 [00:00<?, ?it/s]"
      ]
     },
     "metadata": {},
     "output_type": "display_data"
    },
    {
     "name": "stdout",
     "output_type": "stream",
     "text": [
      "{'eval_loss': 1.3864017724990845, 'eval_accuracy': 0.25035955181448244, 'eval_runtime': 54.9649, 'eval_samples_per_second': 1631.861, 'eval_steps_per_second': 101.992, 'epoch': 7.0}\n",
      "{'loss': 1.3863, 'grad_norm': 0.562050998210907, 'learning_rate': 5.997145915090975e-05, 'epoch': 7.0}\n",
      "{'loss': 1.3863, 'grad_norm': 0.5365480184555054, 'learning_rate': 5.952550838387442e-05, 'epoch': 7.02}\n",
      "{'loss': 1.3864, 'grad_norm': 0.4149349629878998, 'learning_rate': 5.90795576168391e-05, 'epoch': 7.05}\n",
      "{'loss': 1.3866, 'grad_norm': 0.44617360830307007, 'learning_rate': 5.863360684980378e-05, 'epoch': 7.07}\n",
      "{'loss': 1.3863, 'grad_norm': 0.3934263288974762, 'learning_rate': 5.818765608276846e-05, 'epoch': 7.09}\n",
      "{'loss': 1.3864, 'grad_norm': 0.4084547162055969, 'learning_rate': 5.774170531573314e-05, 'epoch': 7.11}\n",
      "{'loss': 1.3862, 'grad_norm': 0.6097967028617859, 'learning_rate': 5.729575454869782e-05, 'epoch': 7.14}\n",
      "{'loss': 1.3864, 'grad_norm': 0.4408062994480133, 'learning_rate': 5.68498037816625e-05, 'epoch': 7.16}\n",
      "{'loss': 1.3864, 'grad_norm': 0.3487129509449005, 'learning_rate': 5.6403853014627184e-05, 'epoch': 7.18}\n",
      "{'loss': 1.3865, 'grad_norm': 0.5112406611442566, 'learning_rate': 5.5957902247591865e-05, 'epoch': 7.2}\n",
      "{'loss': 1.3866, 'grad_norm': 0.3654186725616455, 'learning_rate': 5.5511951480556545e-05, 'epoch': 7.22}\n",
      "{'loss': 1.3865, 'grad_norm': 0.34722545742988586, 'learning_rate': 5.5066000713521226e-05, 'epoch': 7.25}\n",
      "{'loss': 1.3865, 'grad_norm': 0.28915297985076904, 'learning_rate': 5.462004994648591e-05, 'epoch': 7.27}\n",
      "{'loss': 1.3863, 'grad_norm': 0.4130323529243469, 'learning_rate': 5.417409917945059e-05, 'epoch': 7.29}\n",
      "{'loss': 1.3864, 'grad_norm': 0.40538737177848816, 'learning_rate': 5.372814841241527e-05, 'epoch': 7.31}\n",
      "{'loss': 1.3863, 'grad_norm': 0.5995019674301147, 'learning_rate': 5.328219764537995e-05, 'epoch': 7.34}\n",
      "{'loss': 1.3863, 'grad_norm': 0.2886025011539459, 'learning_rate': 5.283624687834463e-05, 'epoch': 7.36}\n",
      "{'loss': 1.3863, 'grad_norm': 0.46320459246635437, 'learning_rate': 5.239029611130931e-05, 'epoch': 7.38}\n",
      "{'loss': 1.3866, 'grad_norm': 0.24195943772792816, 'learning_rate': 5.194434534427399e-05, 'epoch': 7.4}\n",
      "{'loss': 1.3865, 'grad_norm': 0.3089878559112549, 'learning_rate': 5.1498394577238674e-05, 'epoch': 7.43}\n",
      "{'loss': 1.3864, 'grad_norm': 0.2703234553337097, 'learning_rate': 5.1052443810203355e-05, 'epoch': 7.45}\n",
      "{'loss': 1.3864, 'grad_norm': 0.32352399826049805, 'learning_rate': 5.0606493043168036e-05, 'epoch': 7.47}\n",
      "{'loss': 1.3865, 'grad_norm': 0.42146041989326477, 'learning_rate': 5.016054227613272e-05, 'epoch': 7.49}\n",
      "{'loss': 1.3863, 'grad_norm': 0.24502317607402802, 'learning_rate': 4.97145915090974e-05, 'epoch': 7.51}\n",
      "{'loss': 1.3863, 'grad_norm': 0.35095876455307007, 'learning_rate': 4.926864074206208e-05, 'epoch': 7.54}\n",
      "{'loss': 1.3864, 'grad_norm': 0.371838241815567, 'learning_rate': 4.882268997502676e-05, 'epoch': 7.56}\n",
      "{'loss': 1.3865, 'grad_norm': 0.359603613615036, 'learning_rate': 4.837673920799144e-05, 'epoch': 7.58}\n",
      "{'loss': 1.3863, 'grad_norm': 0.3879197835922241, 'learning_rate': 4.793078844095612e-05, 'epoch': 7.6}\n",
      "{'loss': 1.3863, 'grad_norm': 0.31464648246765137, 'learning_rate': 4.74848376739208e-05, 'epoch': 7.63}\n",
      "{'loss': 1.3865, 'grad_norm': 0.43178674578666687, 'learning_rate': 4.7038886906885484e-05, 'epoch': 7.65}\n",
      "{'loss': 1.3861, 'grad_norm': 0.45783987641334534, 'learning_rate': 4.6592936139850165e-05, 'epoch': 7.67}\n",
      "{'loss': 1.3865, 'grad_norm': 0.3589111268520355, 'learning_rate': 4.6146985372814846e-05, 'epoch': 7.69}\n",
      "{'loss': 1.3866, 'grad_norm': 0.30231550335884094, 'learning_rate': 4.570103460577953e-05, 'epoch': 7.71}\n",
      "{'loss': 1.3865, 'grad_norm': 0.34734421968460083, 'learning_rate': 4.525508383874421e-05, 'epoch': 7.74}\n",
      "{'loss': 1.3863, 'grad_norm': 0.313941091299057, 'learning_rate': 4.480913307170889e-05, 'epoch': 7.76}\n",
      "{'loss': 1.3863, 'grad_norm': 0.2816852927207947, 'learning_rate': 4.436318230467357e-05, 'epoch': 7.78}\n",
      "{'loss': 1.3865, 'grad_norm': 0.39147067070007324, 'learning_rate': 4.391723153763825e-05, 'epoch': 7.8}\n",
      "{'loss': 1.3866, 'grad_norm': 0.39914727210998535, 'learning_rate': 4.347128077060293e-05, 'epoch': 7.83}\n",
      "{'loss': 1.3865, 'grad_norm': 0.4527651369571686, 'learning_rate': 4.302533000356761e-05, 'epoch': 7.85}\n",
      "{'loss': 1.3865, 'grad_norm': 0.33276209235191345, 'learning_rate': 4.2579379236532294e-05, 'epoch': 7.87}\n",
      "{'loss': 1.3863, 'grad_norm': 0.28878945112228394, 'learning_rate': 4.2133428469496975e-05, 'epoch': 7.89}\n",
      "{'loss': 1.3864, 'grad_norm': 0.2849484980106354, 'learning_rate': 4.1687477702461656e-05, 'epoch': 7.92}\n",
      "{'loss': 1.3865, 'grad_norm': 0.41207945346832275, 'learning_rate': 4.124152693542633e-05, 'epoch': 7.94}\n",
      "{'loss': 1.3864, 'grad_norm': 0.350453644990921, 'learning_rate': 4.079557616839101e-05, 'epoch': 7.96}\n",
      "{'loss': 1.3862, 'grad_norm': 0.7670720815658569, 'learning_rate': 4.034962540135569e-05, 'epoch': 7.98}\n"
     ]
    },
    {
     "data": {
      "application/vnd.jupyter.widget-view+json": {
       "model_id": "fce1a60ac5984bad8a9f690c98b437d0",
       "version_major": 2,
       "version_minor": 0
      },
      "text/plain": [
       "  0%|          | 0/5606 [00:00<?, ?it/s]"
      ]
     },
     "metadata": {},
     "output_type": "display_data"
    },
    {
     "name": "stdout",
     "output_type": "stream",
     "text": [
      "{'eval_loss': 1.386383295059204, 'eval_accuracy': 0.24961257595183678, 'eval_runtime': 55.1848, 'eval_samples_per_second': 1625.356, 'eval_steps_per_second': 101.586, 'epoch': 8.0}\n",
      "{'loss': 1.3864, 'grad_norm': 0.340594083070755, 'learning_rate': 3.990367463432037e-05, 'epoch': 8.0}\n",
      "{'loss': 1.3865, 'grad_norm': 0.31533151865005493, 'learning_rate': 3.9457723867285054e-05, 'epoch': 8.03}\n",
      "{'loss': 1.3864, 'grad_norm': 0.3149881064891815, 'learning_rate': 3.9011773100249735e-05, 'epoch': 8.05}\n",
      "{'loss': 1.3865, 'grad_norm': 0.347040057182312, 'learning_rate': 3.8565822333214416e-05, 'epoch': 8.07}\n",
      "{'loss': 1.386, 'grad_norm': 0.330790251493454, 'learning_rate': 3.81198715661791e-05, 'epoch': 8.09}\n",
      "{'loss': 1.3863, 'grad_norm': 0.5143473148345947, 'learning_rate': 3.767392079914378e-05, 'epoch': 8.12}\n",
      "{'loss': 1.3864, 'grad_norm': 0.30482399463653564, 'learning_rate': 3.722797003210846e-05, 'epoch': 8.14}\n",
      "{'loss': 1.3864, 'grad_norm': 0.3981519639492035, 'learning_rate': 3.678201926507314e-05, 'epoch': 8.16}\n",
      "{'loss': 1.3859, 'grad_norm': 0.3765757083892822, 'learning_rate': 3.6336068498037814e-05, 'epoch': 8.18}\n",
      "{'loss': 1.3861, 'grad_norm': 0.3684364855289459, 'learning_rate': 3.5890117731002495e-05, 'epoch': 8.21}\n",
      "{'loss': 1.3865, 'grad_norm': 0.3481972813606262, 'learning_rate': 3.5444166963967176e-05, 'epoch': 8.23}\n",
      "{'loss': 1.3863, 'grad_norm': 0.2912202477455139, 'learning_rate': 3.499821619693186e-05, 'epoch': 8.25}\n",
      "{'loss': 1.3863, 'grad_norm': 0.41132184863090515, 'learning_rate': 3.455226542989654e-05, 'epoch': 8.27}\n",
      "{'loss': 1.3864, 'grad_norm': 0.38336315751075745, 'learning_rate': 3.410631466286122e-05, 'epoch': 8.29}\n",
      "{'loss': 1.3863, 'grad_norm': 0.35674548149108887, 'learning_rate': 3.36603638958259e-05, 'epoch': 8.32}\n",
      "{'loss': 1.3865, 'grad_norm': 0.4603824317455292, 'learning_rate': 3.321441312879058e-05, 'epoch': 8.34}\n",
      "{'loss': 1.3865, 'grad_norm': 0.43407997488975525, 'learning_rate': 3.276846236175526e-05, 'epoch': 8.36}\n",
      "{'loss': 1.3863, 'grad_norm': 0.4025743901729584, 'learning_rate': 3.232251159471994e-05, 'epoch': 8.38}\n",
      "{'loss': 1.3862, 'grad_norm': 0.30790555477142334, 'learning_rate': 3.1876560827684624e-05, 'epoch': 8.41}\n",
      "{'loss': 1.3866, 'grad_norm': 0.3833017945289612, 'learning_rate': 3.1430610060649305e-05, 'epoch': 8.43}\n",
      "{'loss': 1.3863, 'grad_norm': 0.28697800636291504, 'learning_rate': 3.0984659293613986e-05, 'epoch': 8.45}\n",
      "{'loss': 1.3866, 'grad_norm': 0.28251197934150696, 'learning_rate': 3.053870852657867e-05, 'epoch': 8.47}\n",
      "{'loss': 1.3864, 'grad_norm': 0.33076006174087524, 'learning_rate': 3.009275775954335e-05, 'epoch': 8.5}\n",
      "{'loss': 1.3864, 'grad_norm': 0.2932951748371124, 'learning_rate': 2.9646806992508032e-05, 'epoch': 8.52}\n",
      "{'loss': 1.3862, 'grad_norm': 0.4091532230377197, 'learning_rate': 2.920085622547271e-05, 'epoch': 8.54}\n",
      "{'loss': 1.386, 'grad_norm': 0.4105454087257385, 'learning_rate': 2.875490545843739e-05, 'epoch': 8.56}\n",
      "{'loss': 1.3864, 'grad_norm': 0.2872770130634308, 'learning_rate': 2.8308954691402072e-05, 'epoch': 8.58}\n",
      "{'loss': 1.3864, 'grad_norm': 0.29560548067092896, 'learning_rate': 2.7863003924366753e-05, 'epoch': 8.61}\n",
      "{'loss': 1.3862, 'grad_norm': 0.4227977693080902, 'learning_rate': 2.741705315733143e-05, 'epoch': 8.63}\n",
      "{'loss': 1.3863, 'grad_norm': 0.45698609948158264, 'learning_rate': 2.697110239029611e-05, 'epoch': 8.65}\n",
      "{'loss': 1.3864, 'grad_norm': 0.45270779728889465, 'learning_rate': 2.6525151623260792e-05, 'epoch': 8.67}\n",
      "{'loss': 1.3864, 'grad_norm': 0.37460392713546753, 'learning_rate': 2.6079200856225473e-05, 'epoch': 8.7}\n",
      "{'loss': 1.386, 'grad_norm': 0.48789501190185547, 'learning_rate': 2.5633250089190154e-05, 'epoch': 8.72}\n",
      "{'loss': 1.3865, 'grad_norm': 0.34119126200675964, 'learning_rate': 2.5187299322154835e-05, 'epoch': 8.74}\n",
      "{'loss': 1.3863, 'grad_norm': 0.35265612602233887, 'learning_rate': 2.4741348555119516e-05, 'epoch': 8.76}\n",
      "{'loss': 1.3865, 'grad_norm': 0.48778849840164185, 'learning_rate': 2.4295397788084194e-05, 'epoch': 8.79}\n",
      "{'loss': 1.3863, 'grad_norm': 0.3508073389530182, 'learning_rate': 2.3849447021048875e-05, 'epoch': 8.81}\n",
      "{'loss': 1.3863, 'grad_norm': 0.2341092824935913, 'learning_rate': 2.3403496254013556e-05, 'epoch': 8.83}\n",
      "{'loss': 1.3861, 'grad_norm': 0.43873822689056396, 'learning_rate': 2.2957545486978237e-05, 'epoch': 8.85}\n",
      "{'loss': 1.3863, 'grad_norm': 0.47360968589782715, 'learning_rate': 2.2511594719942918e-05, 'epoch': 8.87}\n",
      "{'loss': 1.3864, 'grad_norm': 0.3340936005115509, 'learning_rate': 2.20656439529076e-05, 'epoch': 8.9}\n",
      "{'loss': 1.3865, 'grad_norm': 0.5092275738716125, 'learning_rate': 2.161969318587228e-05, 'epoch': 8.92}\n",
      "{'loss': 1.3863, 'grad_norm': 0.2531570792198181, 'learning_rate': 2.117374241883696e-05, 'epoch': 8.94}\n",
      "{'loss': 1.3864, 'grad_norm': 0.433983713388443, 'learning_rate': 2.072779165180164e-05, 'epoch': 8.96}\n",
      "{'loss': 1.3863, 'grad_norm': 0.28666284680366516, 'learning_rate': 2.0281840884766323e-05, 'epoch': 8.99}\n"
     ]
    },
    {
     "data": {
      "application/vnd.jupyter.widget-view+json": {
       "model_id": "7c4efc9af9cc4ff8b22b2452c6d7de2f",
       "version_major": 2,
       "version_minor": 0
      },
      "text/plain": [
       "  0%|          | 0/5606 [00:00<?, ?it/s]"
      ]
     },
     "metadata": {},
     "output_type": "display_data"
    },
    {
     "name": "stdout",
     "output_type": "stream",
     "text": [
      "{'eval_loss': 1.386304259300232, 'eval_accuracy': 0.24961257595183678, 'eval_runtime': 55.1986, 'eval_samples_per_second': 1624.952, 'eval_steps_per_second': 101.561, 'epoch': 9.0}\n",
      "{'loss': 1.3864, 'grad_norm': 0.3009043335914612, 'learning_rate': 1.9835890117731004e-05, 'epoch': 9.01}\n",
      "{'loss': 1.3864, 'grad_norm': 0.3983422517776489, 'learning_rate': 1.9389939350695685e-05, 'epoch': 9.03}\n",
      "{'loss': 1.3863, 'grad_norm': 0.2768724262714386, 'learning_rate': 1.8943988583660366e-05, 'epoch': 9.05}\n",
      "{'loss': 1.3863, 'grad_norm': 0.47840163111686707, 'learning_rate': 1.8498037816625046e-05, 'epoch': 9.08}\n",
      "{'loss': 1.3863, 'grad_norm': 0.29182231426239014, 'learning_rate': 1.8052087049589724e-05, 'epoch': 9.1}\n",
      "{'loss': 1.3862, 'grad_norm': 0.34754934906959534, 'learning_rate': 1.7606136282554405e-05, 'epoch': 9.12}\n",
      "{'loss': 1.3865, 'grad_norm': 0.31682607531547546, 'learning_rate': 1.7160185515519086e-05, 'epoch': 9.14}\n",
      "{'loss': 1.3863, 'grad_norm': 0.2479284554719925, 'learning_rate': 1.6714234748483767e-05, 'epoch': 9.16}\n",
      "{'loss': 1.3862, 'grad_norm': 0.26789191365242004, 'learning_rate': 1.6268283981448448e-05, 'epoch': 9.19}\n",
      "{'loss': 1.3862, 'grad_norm': 0.2944924533367157, 'learning_rate': 1.582233321441313e-05, 'epoch': 9.21}\n",
      "{'loss': 1.3861, 'grad_norm': 0.4918726086616516, 'learning_rate': 1.537638244737781e-05, 'epoch': 9.23}\n",
      "{'loss': 1.3864, 'grad_norm': 0.4046750068664551, 'learning_rate': 1.4930431680342491e-05, 'epoch': 9.25}\n",
      "{'loss': 1.3863, 'grad_norm': 0.33682936429977417, 'learning_rate': 1.4484480913307172e-05, 'epoch': 9.28}\n",
      "{'loss': 1.3864, 'grad_norm': 0.3738498389720917, 'learning_rate': 1.4038530146271853e-05, 'epoch': 9.3}\n",
      "{'loss': 1.3864, 'grad_norm': 0.27114635705947876, 'learning_rate': 1.3592579379236534e-05, 'epoch': 9.32}\n",
      "{'loss': 1.3864, 'grad_norm': 0.23263779282569885, 'learning_rate': 1.3146628612201215e-05, 'epoch': 9.34}\n",
      "{'loss': 1.3862, 'grad_norm': 0.41357627511024475, 'learning_rate': 1.2700677845165896e-05, 'epoch': 9.36}\n",
      "{'loss': 1.3865, 'grad_norm': 0.22163188457489014, 'learning_rate': 1.2254727078130575e-05, 'epoch': 9.39}\n",
      "{'loss': 1.3862, 'grad_norm': 0.37793639302253723, 'learning_rate': 1.1808776311095256e-05, 'epoch': 9.41}\n",
      "{'loss': 1.3864, 'grad_norm': 0.2854970097541809, 'learning_rate': 1.1362825544059937e-05, 'epoch': 9.43}\n",
      "{'loss': 1.3863, 'grad_norm': 0.38139796257019043, 'learning_rate': 1.0916874777024618e-05, 'epoch': 9.45}\n",
      "{'loss': 1.3863, 'grad_norm': 0.3096004128456116, 'learning_rate': 1.0470924009989299e-05, 'epoch': 9.48}\n",
      "{'loss': 1.3863, 'grad_norm': 0.41424667835235596, 'learning_rate': 1.0024973242953978e-05, 'epoch': 9.5}\n",
      "{'loss': 1.3865, 'grad_norm': 0.434626966714859, 'learning_rate': 9.57902247591866e-06, 'epoch': 9.52}\n",
      "{'loss': 1.3864, 'grad_norm': 0.34626197814941406, 'learning_rate': 9.13307170888334e-06, 'epoch': 9.54}\n",
      "{'loss': 1.3862, 'grad_norm': 0.3142397701740265, 'learning_rate': 8.68712094184802e-06, 'epoch': 9.57}\n",
      "{'loss': 1.3864, 'grad_norm': 0.45942896604537964, 'learning_rate': 8.2411701748127e-06, 'epoch': 9.59}\n",
      "{'loss': 1.3864, 'grad_norm': 0.34470346570014954, 'learning_rate': 7.795219407777382e-06, 'epoch': 9.61}\n",
      "{'loss': 1.3864, 'grad_norm': 0.5111139416694641, 'learning_rate': 7.349268640742063e-06, 'epoch': 9.63}\n",
      "{'loss': 1.3862, 'grad_norm': 0.4133462607860565, 'learning_rate': 6.903317873706743e-06, 'epoch': 9.65}\n",
      "{'loss': 1.3864, 'grad_norm': 0.31385913491249084, 'learning_rate': 6.457367106671424e-06, 'epoch': 9.68}\n",
      "{'loss': 1.3863, 'grad_norm': 0.27980902791023254, 'learning_rate': 6.011416339636105e-06, 'epoch': 9.7}\n",
      "{'loss': 1.3862, 'grad_norm': 0.27386119961738586, 'learning_rate': 5.565465572600785e-06, 'epoch': 9.72}\n",
      "{'loss': 1.3864, 'grad_norm': 0.3466699421405792, 'learning_rate': 5.119514805565466e-06, 'epoch': 9.74}\n",
      "{'loss': 1.3863, 'grad_norm': 0.3316975235939026, 'learning_rate': 4.673564038530146e-06, 'epoch': 9.77}\n",
      "{'loss': 1.3862, 'grad_norm': 0.3596501052379608, 'learning_rate': 4.227613271494827e-06, 'epoch': 9.79}\n",
      "{'loss': 1.3863, 'grad_norm': 1.0132750272750854, 'learning_rate': 3.781662504459508e-06, 'epoch': 9.81}\n",
      "{'loss': 1.3863, 'grad_norm': 0.2937851548194885, 'learning_rate': 3.335711737424189e-06, 'epoch': 9.83}\n",
      "{'loss': 1.3864, 'grad_norm': 0.3936171531677246, 'learning_rate': 2.8897609703888694e-06, 'epoch': 9.86}\n",
      "{'loss': 1.3864, 'grad_norm': 0.28648534417152405, 'learning_rate': 2.44381020335355e-06, 'epoch': 9.88}\n",
      "{'loss': 1.3863, 'grad_norm': 0.2661018371582031, 'learning_rate': 1.997859436318231e-06, 'epoch': 9.9}\n",
      "{'loss': 1.3863, 'grad_norm': 0.4433278739452362, 'learning_rate': 1.5519086692829112e-06, 'epoch': 9.92}\n",
      "{'loss': 1.3863, 'grad_norm': 0.3159811198711395, 'learning_rate': 1.105957902247592e-06, 'epoch': 9.94}\n",
      "{'loss': 1.3863, 'grad_norm': 0.42262113094329834, 'learning_rate': 6.600071352122726e-07, 'epoch': 9.97}\n",
      "{'loss': 1.3864, 'grad_norm': 0.3472418189048767, 'learning_rate': 2.1405636817695326e-07, 'epoch': 9.99}\n"
     ]
    },
    {
     "data": {
      "application/vnd.jupyter.widget-view+json": {
       "model_id": "725c8f92ed134e7d882c140dff3b0127",
       "version_major": 2,
       "version_minor": 0
      },
      "text/plain": [
       "  0%|          | 0/5606 [00:00<?, ?it/s]"
      ]
     },
     "metadata": {},
     "output_type": "display_data"
    },
    {
     "name": "stdout",
     "output_type": "stream",
     "text": [
      "{'eval_loss': 1.3863000869750977, 'eval_accuracy': 0.25035955181448244, 'eval_runtime': 54.8768, 'eval_samples_per_second': 1634.478, 'eval_steps_per_second': 102.156, 'epoch': 10.0}\n",
      "{'train_runtime': 14090.1045, 'train_samples_per_second': 254.631, 'train_steps_per_second': 15.915, 'train_loss': 1.3867816420142411, 'epoch': 10.0}\n"
     ]
    }
   ],
   "source": [
    "history = trainer.train()"
   ]
  },
  {
   "cell_type": "code",
   "execution_count": 43,
   "metadata": {},
   "outputs": [
    {
     "ename": "AttributeError",
     "evalue": "'TrainOutput' object has no attribute 'save_model'",
     "output_type": "error",
     "traceback": [
      "\u001b[1;31m---------------------------------------------------------------------------\u001b[0m",
      "\u001b[1;31mAttributeError\u001b[0m                            Traceback (most recent call last)",
      "Cell \u001b[1;32mIn[43], line 5\u001b[0m\n\u001b[0;32m      1\u001b[0m PATH \u001b[38;5;241m=\u001b[39m \u001b[38;5;124m\"\u001b[39m\u001b[38;5;124mdip1.pth\u001b[39m\u001b[38;5;124m\"\u001b[39m\n\u001b[0;32m      3\u001b[0m \u001b[38;5;66;03m# Сохранение всей модели\u001b[39;00m\n\u001b[1;32m----> 5\u001b[0m \u001b[43mhistory\u001b[49m\u001b[38;5;241;43m.\u001b[39;49m\u001b[43msave_model\u001b[49m(PATH)\n",
      "\u001b[1;31mAttributeError\u001b[0m: 'TrainOutput' object has no attribute 'save_model'"
     ]
    }
   ],
   "source": [
    "PATH = \"model4.pth\"\n",
    "\n",
    "# Сохранение всей модели\n",
    "\n",
    "trainer.save_model(PATH)\n",
    "\n"
   ]
  },
  {
   "cell_type": "code",
   "execution_count": 42,
   "metadata": {},
   "outputs": [
    {
     "data": {
      "text/plain": [
       "BertForSequenceClassification(\n",
       "  (bert): BertModel(\n",
       "    (embeddings): BertEmbeddings(\n",
       "      (word_embeddings): Embedding(30522, 128, padding_idx=0)\n",
       "      (position_embeddings): Embedding(512, 128)\n",
       "      (token_type_embeddings): Embedding(2, 128)\n",
       "      (LayerNorm): LayerNorm((128,), eps=1e-12, elementwise_affine=True)\n",
       "      (dropout): Dropout(p=0.1, inplace=False)\n",
       "    )\n",
       "    (encoder): BertEncoder(\n",
       "      (layer): ModuleList(\n",
       "        (0-1): 2 x BertLayer(\n",
       "          (attention): BertAttention(\n",
       "            (self): BertSelfAttention(\n",
       "              (query): Linear(in_features=128, out_features=128, bias=True)\n",
       "              (key): Linear(in_features=128, out_features=128, bias=True)\n",
       "              (value): Linear(in_features=128, out_features=128, bias=True)\n",
       "              (dropout): Dropout(p=0.1, inplace=False)\n",
       "            )\n",
       "            (output): BertSelfOutput(\n",
       "              (dense): Linear(in_features=128, out_features=128, bias=True)\n",
       "              (LayerNorm): LayerNorm((128,), eps=1e-12, elementwise_affine=True)\n",
       "              (dropout): Dropout(p=0.1, inplace=False)\n",
       "            )\n",
       "          )\n",
       "          (intermediate): BertIntermediate(\n",
       "            (dense): Linear(in_features=128, out_features=512, bias=True)\n",
       "            (intermediate_act_fn): GELUActivation()\n",
       "          )\n",
       "          (output): BertOutput(\n",
       "            (dense): Linear(in_features=512, out_features=128, bias=True)\n",
       "            (LayerNorm): LayerNorm((128,), eps=1e-12, elementwise_affine=True)\n",
       "            (dropout): Dropout(p=0.1, inplace=False)\n",
       "          )\n",
       "        )\n",
       "      )\n",
       "    )\n",
       "    (pooler): BertPooler(\n",
       "      (dense): Linear(in_features=128, out_features=128, bias=True)\n",
       "      (activation): Tanh()\n",
       "    )\n",
       "  )\n",
       "  (dropout): Dropout(p=0.1, inplace=False)\n",
       "  (classifier): Linear(in_features=128, out_features=4, bias=True)\n",
       ")"
      ]
     },
     "execution_count": 42,
     "metadata": {},
     "output_type": "execute_result"
    }
   ],
   "source": [
    "from transformers import AutoModelForSequenceClassification\n",
    "\n",
    "# Загрузка модели с помощью AutoModelForSequenceClassification\n",
    "model = AutoModelForSequenceClassification.from_pretrained(PATH)\n",
    "\n",
    "# Убедитесь, что модель находится в режиме evaluation\n",
    "model.eval()"
   ]
  }
 ],
 "metadata": {
  "kernelspec": {
   "display_name": "Python 3",
   "language": "python",
   "name": "python3"
  },
  "language_info": {
   "codemirror_mode": {
    "name": "ipython",
    "version": 3
   },
   "file_extension": ".py",
   "mimetype": "text/x-python",
   "name": "python",
   "nbconvert_exporter": "python",
   "pygments_lexer": "ipython3",
   "version": "3.10.11"
  },
  "vscode": {
   "interpreter": {
    "hash": "22f30260a2b4101620faa352ff4158c8c03486483c8393b76c92b58694587b7e"
   }
  }
 },
 "nbformat": 4,
 "nbformat_minor": 2
}
